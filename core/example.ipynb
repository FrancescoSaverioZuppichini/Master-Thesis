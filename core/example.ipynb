{
 "cells": [
  {
   "cell_type": "markdown",
   "metadata": {},
   "source": [
    "# Traversability Simulation\n",
    "## Stucture\n",
    "\n",
    "```\n",
    ".\n",
    "├── agent\n",
    "│   ├── Agent.py\n",
    "│   ├── callbacks\n",
    "│   │   ├── AgentCallback.py\n",
    "│   │   └── RosBagSaver.py\n",
    "│   ├── __init__.py\n",
    "│   └── RospyAgent.py\n",
    "├── data\n",
    "├── docker\n",
    "├── docker-compose.yml\n",
    "├── env\n",
    "│   ├── conditions\n",
    "│   │   ├── __init__.py\n",
    "│   │   └── __pycache__\n",
    "│   ├── __init__.py\n",
    "    ├── krock\n",
    "│   │   ├── Krock.py\n",
    "│   │   ├── KrockWebotsEnv.py\n",
    "│   ├── __pycache__\n",
    "│   │   └── __init__.cpython-36.pyc\n",
    "│   └── webots\n",
    "│       ├── utils.py\n",
    "│       ├── WebotsEnv.py\n",
    "│       └── WebotsWorld.py\n",
    "├── example.ipynb\n",
    "├── gym.ipynb\n",
    "├── __init__.py\n",
    "├── log\n",
    "├── main.py\n",
    "├── maps\n",
    "├── notebooks\n",
    "│   ├── test.bag\n",
    "│   └── Visualisation.ipynb\n",
    "├── parser.py\n",
    "├── protocols\n",
    "├── README.md\n",
    "├── requirements.txt\n",
    "├── start.sh\n",
    "└── utils\n",
    "    ├── History.py\n",
    "    └── webots2ros\n",
    "        ├── Supervisor.py\n",
    "\n",
    "```"
   ]
  },
  {
   "cell_type": "markdown",
   "metadata": {},
   "source": [
    "## Webots + Krock\n",
    "![alt text](https://raw.githubusercontent.com/FrancescoSaverioZuppichini/Master-Thesis/gym/resources/images/krock.jpg\")\n",
    "\n",
    "In order to run the Krock robot using Webots we provide a [gym](https://gym.openai.com/) env. If you know gym, then you are good to go. It follows a **basic example** (API could change)"
   ]
  },
  {
   "cell_type": "code",
   "execution_count": 1,
   "metadata": {
    "scrolled": true
   },
   "outputs": [
    {
     "name": "stdout",
     "output_type": "stream",
     "text": [
      "/home/francesco/Documents/Master-Thesis/core/env/webots/krock/krock2_ros/worlds/holes2.wbt\n",
      "Initial observations:\n",
      "{'sensors': {'front_cam': None,\n",
      "             'orientation': {'w': -2.5216734395810323,\n",
      "                             'x': 7.173338268206636e-05,\n",
      "                             'y': 0.9999999971706306,\n",
      "                             'z': 2.2650841092634077e-05},\n",
      "             'position': {'x': 2.6889421226713575,\n",
      "                          'y': -3.6807569913877285,\n",
      "                          'z': 0.4942669181354657}}}\n",
      "{'sensors': {'front_cam': None,\n",
      "             'orientation': {'w': -2.5221118243535807,\n",
      "                             'x': -6.216395821302278e-05,\n",
      "                             'y': 0.9999998443585398,\n",
      "                             'z': -0.0005544533690916926},\n",
      "             'position': {'x': 2.688969389807841,\n",
      "                          'y': -3.680806709380935,\n",
      "                          'z': 0.41071718924640893}}}\n",
      "{'sensors': {'front_cam': None,\n",
      "             'orientation': {'w': -2.5222632242264305,\n",
      "                             'x': -0.00010453976102288602,\n",
      "                             'y': 0.9999997090386967,\n",
      "                             'z': -0.0007556414231024095},\n",
      "             'position': {'x': 2.6889786473884834,\n",
      "                          'y': -3.680823559224554,\n",
      "                          'z': 0.22099154491008136}}}\n",
      "{'sensors': {'front_cam': None,\n",
      "             'orientation': {'w': -2.5246690210191307,\n",
      "                             'x': -0.01998966581487207,\n",
      "                             'y': 0.9983781592037247,\n",
      "                             'z': -0.05330538889823146},\n",
      "             'position': {'x': 2.686942088492735,\n",
      "                          'y': -3.6849640372591432,\n",
      "                          'z': 0.09675941465553667}}}\n",
      "{'sensors': {'front_cam': None,\n",
      "             'orientation': {'w': -2.45960213543958,\n",
      "                             'x': 0.040100387540562325,\n",
      "                             'y': 0.9988347822223073,\n",
      "                             'z': -0.026852127327504777},\n",
      "             'position': {'x': 2.6946672435346857,\n",
      "                          'y': -3.6839983735802946,\n",
      "                          'z': 0.12806075368077635}}}\n",
      "{'sensors': {'front_cam': None,\n",
      "             'orientation': {'w': -2.422118340713101,\n",
      "                             'x': 0.02062454205754777,\n",
      "                             'y': 0.9997159190376184,\n",
      "                             'z': -0.011946107637501115},\n",
      "             'position': {'x': 2.700782403463701,\n",
      "                          'y': -3.6642346606928355,\n",
      "                          'z': 0.11168675119111833}}}\n",
      "{'sensors': {'front_cam': None,\n",
      "             'orientation': {'w': -2.482109513773996,\n",
      "                             'x': 0.029171162724129247,\n",
      "                             'y': 0.999394851506375,\n",
      "                             'z': -0.01894661045868331},\n",
      "             'position': {'x': 2.6862832298421084,\n",
      "                          'y': -3.6498115198681136,\n",
      "                          'z': 0.11735236393141552}}}\n",
      "{'sensors': {'front_cam': None,\n",
      "             'orientation': {'w': -2.5606671614852474,\n",
      "                             'x': 0.05581791039823515,\n",
      "                             'y': 0.9968540883236492,\n",
      "                             'z': -0.056269774046113656},\n",
      "             'position': {'x': 2.6663638762781834,\n",
      "                          'y': -3.63949120232523,\n",
      "                          'z': 0.13412147731199597}}}\n",
      "{'sensors': {'front_cam': None,\n",
      "             'orientation': {'w': -2.630402314211892,\n",
      "                             'x': 0.07689464271770177,\n",
      "                             'y': 0.9928626772014469,\n",
      "                             'z': -0.0911642371859302},\n",
      "             'position': {'x': 2.643157255406566,\n",
      "                          'y': -3.6287962197320063,\n",
      "                          'z': 0.15399790907386124}}}\n",
      "{'sensors': {'front_cam': None,\n",
      "             'orientation': {'w': -2.6522828384862724,\n",
      "                             'x': 0.07803264188794486,\n",
      "                             'y': 0.9924371820609784,\n",
      "                             'z': -0.09475941358436074},\n",
      "             'position': {'x': 2.616361962158913,\n",
      "                          'y': -3.608854676005785,\n",
      "                          'z': 0.1639654437895951}}}\n",
      "{'sensors': {'front_cam': None,\n",
      "             'orientation': {'w': -2.614123145869313,\n",
      "                             'x': 0.06773068857210611,\n",
      "                             'y': 0.9966333948996201,\n",
      "                             'z': -0.04619989173587166},\n",
      "             'position': {'x': 2.594805684236837,\n",
      "                          'y': -3.5753300846198055,\n",
      "                          'z': 0.1459537393451532}}}\n",
      "{'sensors': {'front_cam': None,\n",
      "             'orientation': {'w': -2.5546783496395156,\n",
      "                             'x': -0.007110707657123482,\n",
      "                             'y': 0.9999691952280958,\n",
      "                             'z': 0.0033236172296499996},\n",
      "             'position': {'x': 2.562989017878421,\n",
      "                          'y': -3.5424219249384468,\n",
      "                          'z': 0.10322108105425297}}}\n",
      "{'sensors': {'front_cam': None,\n",
      "             'orientation': {'w': -2.522254079474316,\n",
      "                             'x': 0.011010768202541387,\n",
      "                             'y': 0.9998726273624503,\n",
      "                             'z': -0.011553875319584971},\n",
      "             'position': {'x': 2.5503005059704735,\n",
      "                          'y': -3.533331785848343,\n",
      "                          'z': 0.10357543852418848}}}\n",
      "{'sensors': {'front_cam': None,\n",
      "             'orientation': {'w': -2.4348709380110596,\n",
      "                             'x': 0.05026215990504604,\n",
      "                             'y': 0.9987349135496714,\n",
      "                             'z': -0.0015125272263622383},\n",
      "             'position': {'x': 2.5316367700712794,\n",
      "                          'y': -3.513195737808182,\n",
      "                          'z': 0.11817909113708046}}}\n",
      "{'sensors': {'front_cam': None,\n",
      "             'orientation': {'w': -2.3610251074292377,\n",
      "                             'x': 0.0866214145296255,\n",
      "                             'y': 0.9961702037106713,\n",
      "                             'z': 0.011901923538925396},\n",
      "             'position': {'x': 2.5100567123384905,\n",
      "                          'y': -3.4925151447033267,\n",
      "                          'z': 0.13519241472137797}}}\n",
      "{'sensors': {'front_cam': None,\n",
      "             'orientation': {'w': -2.32704310984917,\n",
      "                             'x': 0.09276904896810208,\n",
      "                             'y': 0.9955657017861356,\n",
      "                             'z': 0.015583227542231255},\n",
      "             'position': {'x': 2.484102248104814,\n",
      "                          'y': -3.4723581171946107,\n",
      "                          'z': 0.14399989540925726}}}\n",
      "{'sensors': {'front_cam': None,\n",
      "             'orientation': {'w': -2.344341934928126,\n",
      "                             'x': 0.041749974330040907,\n",
      "                             'y': 0.9991250794851043,\n",
      "                             'z': -0.0024525878831877968},\n",
      "             'position': {'x': 2.443529778870629,\n",
      "                          'y': -3.4556379342596495,\n",
      "                          'z': 0.12856843869950638}}}\n",
      "{'sensors': {'front_cam': None,\n",
      "             'orientation': {'w': -2.3848552795625544,\n",
      "                             'x': 0.002289283266331482,\n",
      "                             'y': 0.999994457010146,\n",
      "                             'z': -0.002417670595811275},\n",
      "             'position': {'x': 2.4129019006285954,\n",
      "                          'y': -3.4401567446571875,\n",
      "                          'z': 0.10859198609209063}}}\n",
      "{'sensors': {'front_cam': None,\n",
      "             'orientation': {'w': -2.4497396249727683,\n",
      "                             'x': 0.014104076325239374,\n",
      "                             'y': 0.9998974793133222,\n",
      "                             'z': -0.002471010699342286},\n",
      "             'position': {'x': 2.3955850907228387,\n",
      "                          'y': -3.423388159630578,\n",
      "                          'z': 0.11086397564294194}}}\n",
      "{'sensors': {'front_cam': None,\n",
      "             'orientation': {'w': -2.540425539158775,\n",
      "                             'x': 0.02332196427273216,\n",
      "                             'y': 0.9995841359930276,\n",
      "                             'z': -0.01695998388955644},\n",
      "             'position': {'x': 2.3696367394694056,\n",
      "                          'y': -3.4037067989049414,\n",
      "                          'z': 0.11911170442742816}}}\n",
      "{'sensors': {'front_cam': None,\n",
      "             'orientation': {'w': -2.627210313709653,\n",
      "                             'x': 0.025605260992475204,\n",
      "                             'y': 0.9994015436397665,\n",
      "                             'z': -0.0232577982612147},\n",
      "             'position': {'x': 2.341073881750029,\n",
      "                          'y': -3.3836258403804553,\n",
      "                          'z': 0.124872655693099}}}\n"
     ]
    },
    {
     "name": "stdout",
     "output_type": "stream",
     "text": [
      "{'sensors': {'front_cam': None,\n",
      "             'orientation': {'w': -2.68214440160477,\n",
      "                             'x': 0.012073799951991097,\n",
      "                             'y': 0.9999082181547343,\n",
      "                             'z': -0.006146431594297},\n",
      "             'position': {'x': 2.3083462067411276,\n",
      "                          'y': -3.3570657815394678,\n",
      "                          'z': 0.12006390887250948}}}\n",
      "{'sensors': {'front_cam': None,\n",
      "             'orientation': {'w': -2.671702136437405,\n",
      "                             'x': -0.011375831098151538,\n",
      "                             'y': 0.9997040910464141,\n",
      "                             'z': 0.021501646725058745},\n",
      "             'position': {'x': 2.2843681835849727,\n",
      "                          'y': -3.3294284664613865,\n",
      "                          'z': 0.10721098535533376}}}\n",
      "{'sensors': {'front_cam': None,\n",
      "             'orientation': {'w': -2.6173130217910114,\n",
      "                             'x': -0.005118571790742075,\n",
      "                             'y': 0.9999171709347624,\n",
      "                             'z': 0.011808958152367332},\n",
      "             'position': {'x': 2.2692695785751438,\n",
      "                          'y': -3.3131618299093835,\n",
      "                          'z': 0.10950778191037137}}}\n",
      "{'sensors': {'front_cam': None,\n",
      "             'orientation': {'w': -2.5630404239915188,\n",
      "                             'x': -0.008699408791617859,\n",
      "                             'y': 0.999948660513162,\n",
      "                             'z': -0.0051958276154330275},\n",
      "             'position': {'x': 2.2457955731780217,\n",
      "                          'y': -3.308196542314005,\n",
      "                          'z': 0.10446079690445878}}}\n",
      "{'sensors': {'front_cam': None,\n",
      "             'orientation': {'w': -2.477127400103437,\n",
      "                             'x': 0.012951646454236476,\n",
      "                             'y': 0.9999145587996184,\n",
      "                             'z': 0.0017691677955779589},\n",
      "             'position': {'x': 2.218881459873234,\n",
      "                          'y': -3.2897563040036393,\n",
      "                          'z': 0.11282100490349649}}}\n"
     ]
    },
    {
     "data": {
      "text/plain": [
       "({'sensors': {'position': {'x': 2.2028649318189197,\n",
       "    'y': -3.2719038864493566,\n",
       "    'z': 0.12060022390564128},\n",
       "   'orientation': {'x': 0.03263725754272792,\n",
       "    'y': 0.9994309209404891,\n",
       "    'z': 0.008523126664270998,\n",
       "    'w': -2.4154291941539587},\n",
       "   'front_cam': None}},\n",
       " 0,\n",
       " False,\n",
       " {})"
      ]
     },
     "execution_count": 1,
     "metadata": {},
     "output_type": "execute_result"
    }
   ],
   "source": [
    "import rospy\n",
    "import pprint\n",
    "\n",
    "from env.webots.krock import Krock, KrockWebotsEnv\n",
    "\n",
    "WORLD_PATH = '/home/francesco/Documents/Master-Thesis/core/env/webots/krock/krock2_ros/worlds/holes2.wbt'\n",
    "EPISODES = 25\n",
    "\n",
    "rospy.init_node(\"traversability_simulation\")\n",
    "# create our env\n",
    "env = KrockWebotsEnv.from_file(WORLD_PATH)\n",
    "# spawn the robot at a random location\n",
    "init_obs = env.reset()\n",
    "\n",
    "print('Initial observations:')\n",
    "pprint.pprint(init_obs)\n",
    "\n",
    "for _ in range(EPISODES):\n",
    "#   go forward for a while\n",
    "    obs, r, done, _ = env.step(env.GO_FORWARD)\n",
    "    pprint.pprint(obs)\n",
    "    if done: break\n",
    "        \n",
    "env.step(env.STOP)"
   ]
  },
  {
   "cell_type": "markdown",
   "metadata": {},
   "source": [
    "`KrockWebotsEnv` implements `WebotsEnv` that is a generic env for Webots. "
   ]
  },
  {
   "cell_type": "markdown",
   "metadata": {},
   "source": [
    "Due to gym interface we can explore the action space and the observation space easily"
   ]
  },
  {
   "cell_type": "code",
   "execution_count": 2,
   "metadata": {
    "scrolled": false
   },
   "outputs": [
    {
     "name": "stdout",
     "output_type": "stream",
     "text": [
      "Dict(frontal_freq:Box(), lateral_freq:Box())\n",
      "Dict(sensors:Dict(front_cam:Tuple(Box(600, 800, 3), Box(600, 800, 3)), orientation:Dict(w:Box(1,), x:Box(1,), y:Box(1,), z:Box(1,)), position:Dict(x:Box(1,), y:Box(1,), z:Box(1,))))\n"
     ]
    }
   ],
   "source": [
    "print(env.action_space)\n",
    "print(env.observation_space)"
   ]
  },
  {
   "cell_type": "markdown",
   "metadata": {},
   "source": [
    "Perfect a random action is even esier"
   ]
  },
  {
   "cell_type": "code",
   "execution_count": 10,
   "metadata": {},
   "outputs": [
    {
     "data": {
      "text/plain": [
       "({'sensors': {'position': {'x': 2.2800753279422543,\n",
       "    'y': -3.031360041337963,\n",
       "    'z': 0.10485295775513392},\n",
       "   'orientation': {'x': -0.0032172121360495897,\n",
       "    'y': 0.9994733477624561,\n",
       "    'z': 0.03229050415493334,\n",
       "    'w': -1.9883613196437562},\n",
       "   'front_cam': None}},\n",
       " 0,\n",
       " False,\n",
       " {})"
      ]
     },
     "execution_count": 10,
     "metadata": {},
     "output_type": "execute_result"
    }
   ],
   "source": [
    "obs, r, done, _ = env.step(env.action_space.sample())\n",
    "env.step(env.STOP)"
   ]
  },
  {
   "cell_type": "markdown",
   "metadata": {},
   "source": [
    "If the camera throttle node is activated, `rosrun topic_tools throttle messages /krock/front_camera/image 30` calling `env.render()` will popup a window with the images from the krock's camera"
   ]
  },
  {
   "cell_type": "markdown",
   "metadata": {},
   "source": [
    "## Agent\n",
    "\n",
    "The `Agent` class describes something that interacts with the enviroment. It provides a nice interface to adopt.\n",
    "\n",
    "### Usage"
   ]
  },
  {
   "cell_type": "code",
   "execution_count": 3,
   "metadata": {},
   "outputs": [],
   "source": [
    "from agent import Agent\n",
    "\n",
    "class DummyAgent(Agent):\n",
    "    def act(self, env, *args, **kwargs):\n",
    "        print('I am moving!')\n",
    "    \n",
    "a = DummyAgent()\n",
    "a()"
   ]
  },
  {
   "cell_type": "markdown",
   "metadata": {},
   "source": [
    "#### Lifecycle\n",
    "\n",
    "The agent lifecyle is the following"
   ]
  },
  {
   "cell_type": "code",
   "execution_count": 4,
   "metadata": {
    "scrolled": false
   },
   "outputs": [
    {
     "name": "stdout",
     "output_type": "stream",
     "text": [
      "I am moving!\n"
     ]
    }
   ],
   "source": [
    "a() # init\n",
    "a.act(env) # do something\n",
    "a.die(env) # RIP, clean up (e.g store stuff empty the state)"
   ]
  },
  {
   "cell_type": "markdown",
   "metadata": {},
   "source": [
    "You need to first create the agent class and then call it to correctly initialise everything. You can think of it like a *lazy* loader."
   ]
  },
  {
   "cell_type": "markdown",
   "metadata": {},
   "source": [
    "### ROS\n",
    "A `Rospy` agent is already implemented and can be found at `agent.RospyAgent`. It adds two methods to the basic `Agent`: `init_publishers` and `init_subscribers`. They must be overrided to initialise the subscribers and listeners\n"
   ]
  },
  {
   "cell_type": "code",
   "execution_count": 5,
   "metadata": {},
   "outputs": [
    {
     "name": "stdout",
     "output_type": "stream",
     "text": [
      "{'pose': <rospy.topics.Subscriber object at 0x7fea4095ab00>}\n",
      "{'joy': <rospy.topics.Publisher object at 0x7fea54def400>}\n"
     ]
    }
   ],
   "source": [
    "from agent import RospyAgent\n",
    "from geometry_msgs.msg import PoseStamped\n",
    "from sensor_msgs.msg import Joy\n",
    "\n",
    "class MyRospyAgent(RospyAgent):\n",
    "    def init_publishers(self):\n",
    "        return {\n",
    "            'joy': rospy.Publisher('/joy', Joy, queue_size=1),\n",
    "        }\n",
    "\n",
    "    def init_subscribers(self):\n",
    "        return { 'pose': \n",
    "                rospy.Subscriber('/pose', PoseStamped, self.callback_pose)\n",
    "               }\n",
    "\n",
    "    def callback_pose(self, data):\n",
    "        # this will triggers the `on_state_change` method in all callbacks\n",
    "        self.state['pose'] = data\n",
    "\n",
    "a = MyRospyAgent()\n",
    "a()\n",
    "print(a.subscribers)\n",
    "print(a.publishers)"
   ]
  },
  {
   "cell_type": "markdown",
   "metadata": {},
   "source": [
    "### Callbacks\n",
    "`Agent` implements the protocol `Callbackable` protocol. A callback can be\n",
    "added by calling the `add_callback` or `add_callbacks`. \n",
    "\n",
    "The following interface expose the callback methods for `Agent`:\n",
    "\n",
    "```python\n",
    "class AgentCallback():\n",
    "    def on_state_change(self, agent, key, value):\n",
    "        pass\n",
    "\n",
    "    def on_shut_down(self):\n",
    "        pass\n",
    "```"
   ]
  },
  {
   "cell_type": "code",
   "execution_count": 6,
   "metadata": {},
   "outputs": [],
   "source": [
    "from agent.callbacks import AgentCallback\n",
    "\n",
    "class MyCallback(AgentCallback):\n",
    "    def on_state_change(self, agent, key, value):\n",
    "        print(key, value)"
   ]
  },
  {
   "cell_type": "markdown",
   "metadata": {},
   "source": [
    "Each `Agent` has a `state` that is just a `dict` . Every time it is changed it triggers the `on_state_change` event. This is usefull\n",
    "to record stuff."
   ]
  },
  {
   "cell_type": "code",
   "execution_count": 7,
   "metadata": {
    "scrolled": true
   },
   "outputs": [
    {
     "name": "stdout",
     "output_type": "stream",
     "text": [
      "foo foo\n"
     ]
    }
   ],
   "source": [
    "a = DummyAgent()\n",
    "a.add_callback(MyCallback())\n",
    "a()\n",
    "\n",
    "a.state['foo'] = 'foo'"
   ]
  },
  {
   "cell_type": "markdown",
   "metadata": {},
   "source": [
    "#### RosBagSaver\n",
    "\n",
    "A callback to store the topics of an agent into bags file is implemented"
   ]
  },
  {
   "cell_type": "code",
   "execution_count": 8,
   "metadata": {},
   "outputs": [],
   "source": [
    "from agent.callbacks import RosBagSaver\n",
    "\n",
    "a = MyRospyAgent()\n",
    "a.add_callbacks([RosBagSaver(save_dir='/temp/data', topics=['pose'])])\n",
    "a()"
   ]
  },
  {
   "cell_type": "markdown",
   "metadata": {},
   "source": [
    "The files will be stored everytime `agent.die()` il called. A new thread is always spawned to avoid blocking"
   ]
  },
  {
   "cell_type": "code",
   "execution_count": null,
   "metadata": {},
   "outputs": [],
   "source": []
  }
 ],
 "metadata": {
  "kernelspec": {
   "display_name": "Python 3",
   "language": "python",
   "name": "python3"
  },
  "language_info": {
   "codemirror_mode": {
    "name": "ipython",
    "version": 3
   },
   "file_extension": ".py",
   "mimetype": "text/x-python",
   "name": "python",
   "nbconvert_exporter": "python",
   "pygments_lexer": "ipython3",
   "version": "3.6.6"
  }
 },
 "nbformat": 4,
 "nbformat_minor": 2
}
