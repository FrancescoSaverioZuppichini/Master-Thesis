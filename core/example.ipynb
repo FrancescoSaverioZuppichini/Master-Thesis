{
 "cells": [
  {
   "cell_type": "markdown",
   "metadata": {},
   "source": [
    "# Traversability Simulation\n",
    "## Stucture\n",
    "\n",
    "```\n",
    ".\n",
    "├── agent # Agent package\n",
    "├── data\n",
    "├── docker\n",
    "│   ├── Dockerfile\n",
    "│   ├── Dockerfile-roscore\n",
    "│   ├── Dockerfile-webots\n",
    "│   └── nvidia-docker.sh\n",
    "├── docker-compose.yml\n",
    "├── filename2map.csv\n",
    "├── gym.ipynb\n",
    "├── main.py\n",
    "├── maps\n",
    "├── notebooks # useful notebooks\n",
    "├── parser.py\n",
    "├── protocols # shared Protocols\n",
    "├── __pycache__\n",
    "│   └── parser.cpython-36.pyc\n",
    "├── README.md\n",
    "├── requirements.txt\n",
    "├── simulation # Simulation package\n",
    "├── start.sh\n",
    "├── test.py\n",
    "├── utils\n",
    "│   ├── History.py\n",
    "│   ├── __init__.py\n",
    "│   ├── __pycache__\n",
    "│   │   ├── History.cpython-36.pyc\n",
    "│   │   └── __init__.cpython-36.pyc\n",
    "│   └── webots2ros\n",
    "│       ├── __init__.py\n",
    "│       ├── __pycache__\n",
    "│       ├── README.md\n",
    "│       ├── Supervisor.py\n",
    "│       └── test.py\n",
    "├── webots\n",
    "│   ├── __init__.py\n",
    "│   ├── krock # Agent and Env for krock + webots\n",
    "│   ├── map_generation\n",
    "│   ├── utils.py\n",
    "│   └── WebotsWorld.py\n",
    "└── world # World package\n",
    "```"
   ]
  },
  {
   "cell_type": "markdown",
   "metadata": {},
   "source": [
    "## Webots + Krock"
   ]
  },
  {
   "cell_type": "code",
   "execution_count": null,
   "metadata": {},
   "outputs": [],
   "source": []
  }
 ],
 "metadata": {
  "kernelspec": {
   "display_name": "Python 3",
   "language": "python",
   "name": "python3"
  },
  "language_info": {
   "codemirror_mode": {
    "name": "ipython",
    "version": 3
   },
   "file_extension": ".py",
   "mimetype": "text/x-python",
   "name": "python",
   "nbconvert_exporter": "python",
   "pygments_lexer": "ipython3",
   "version": "3.6.6"
  }
 },
 "nbformat": 4,
 "nbformat_minor": 2
}
