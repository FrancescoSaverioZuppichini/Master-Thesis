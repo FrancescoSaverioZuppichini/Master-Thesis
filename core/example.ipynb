{
 "cells": [
  {
   "cell_type": "markdown",
   "metadata": {},
   "source": [
    "# Traversability Simulation\n",
    "## Stucture\n",
    "\n",
    "```\n",
    ".\n",
    "├── agent\n",
    "│   ├── Agent.py\n",
    "│   ├── callbacks\n",
    "│   │   ├── AgentCallback.py\n",
    "│   │   └── RosBagSaver.py\n",
    "│   ├── __init__.py\n",
    "│   └── RospyAgent.py\n",
    "├── data\n",
    "├── docker\n",
    "├── docker-compose.yml\n",
    "├── env\n",
    "│   ├── conditions\n",
    "│   │   ├── __init__.py\n",
    "│   │   └── __pycache__\n",
    "│   ├── __init__.py\n",
    "    ├── krock\n",
    "│   │   ├── Krock.py\n",
    "│   │   ├── KrockWebotsEnv.py\n",
    "│   ├── __pycache__\n",
    "│   │   └── __init__.cpython-36.pyc\n",
    "│   └── webots\n",
    "│       ├── utils.py\n",
    "│       ├── WebotsEnv.py\n",
    "│       └── WebotsWorld.py\n",
    "├── example.ipynb\n",
    "├── gym.ipynb\n",
    "├── __init__.py\n",
    "├── log\n",
    "├── main.py\n",
    "├── maps\n",
    "├── notebooks\n",
    "│   ├── test.bag\n",
    "│   └── Visualisation.ipynb\n",
    "├── parser.py\n",
    "├── protocols\n",
    "├── README.md\n",
    "├── requirements.txt\n",
    "├── start.sh\n",
    "└── utils\n",
    "    ├── History.py\n",
    "    └── webots2ros\n",
    "        ├── Supervisor.py\n",
    "\n",
    "```"
   ]
  },
  {
   "cell_type": "markdown",
   "metadata": {},
   "source": [
    "A notebook version of this file can be found in `example.ipynb`"
   ]
  },
  {
   "cell_type": "markdown",
   "metadata": {},
   "source": [
    "## Webots + Krock\n",
    "![alt text](https://raw.githubusercontent.com/FrancescoSaverioZuppichini/Master-Thesis/gym/resources/images/krock.jpg\")\n",
    "\n",
    "In order to run the Krock robot using Webots we provide a [gym](https://gym.openai.com/) env. If you know gym, then you are good to go. It follows a **basic example** (API could change)"
   ]
  },
  {
   "cell_type": "code",
   "execution_count": 4,
   "metadata": {
    "scrolled": true
   },
   "outputs": [
    {
     "name": "stdout",
     "output_type": "stream",
     "text": [
      "/home/francesco/Documents/Master-Thesis/core/env/webots/krock/krock2_ros/worlds/bars1.wbt\n",
      "Initial observations:\n",
      "{'sensors': {'front_cam': None,\n",
      "             'orientation': {'w': -0.6042967846662058,\n",
      "                             'x': -0.019396150177004034,\n",
      "                             'y': 0.9990429938527383,\n",
      "                             'z': -0.039203134977556564},\n",
      "             'position': {'x': 2.478409671128138,\n",
      "                          'y': 1.8115926214261309,\n",
      "                          'z': 0.49422176509154214}}}\n"
     ]
    },
    {
     "data": {
      "text/plain": [
       "({'sensors': {'position': {'x': 2.4789003861146,\n",
       "    'y': 1.811126550074068,\n",
       "    'z': 0.43121029420712076},\n",
       "   'orientation': {'x': -0.04028196616147307,\n",
       "    'y': 0.9967375122064915,\n",
       "    'z': -0.06994065314665203,\n",
       "    'w': -0.5193889768347444},\n",
       "   'front_cam': None}},\n",
       " 0,\n",
       " False,\n",
       " {})"
      ]
     },
     "execution_count": 4,
     "metadata": {},
     "output_type": "execute_result"
    }
   ],
   "source": [
    "import rospy\n",
    "import pprint\n",
    "\n",
    "from env.webots.krock import Krock, KrockWebotsEnv\n",
    "\n",
    "WORLD_PATH = '/home/francesco/Documents/Master-Thesis/core/env/webots/krock/krock2_ros/worlds/bars1.wbt'\n",
    "N_STEPS = 4\n",
    "\n",
    "rospy.init_node(\"traversability_simulation\")\n",
    "# create our env\n",
    "env = KrockWebotsEnv.from_file(WORLD_PATH)\n",
    "# spawn the robot at a random location\n",
    "init_obs = env.reset()\n",
    "\n",
    "print('Initial observations:')\n",
    "pprint.pprint(init_obs)\n",
    "\n",
    "for _ in range(N_STEPS):\n",
    "#   go forward for a while\n",
    "    obs, r, done, _ = env.step(env.GO_FORWARD)\n",
    "    pprint.pprint(obs)\n",
    "    if done: break\n",
    "        \n",
    "env.step(env.STOP)"
   ]
  },
  {
   "cell_type": "markdown",
   "metadata": {},
   "source": [
    "`KrockWebotsEnv` implements `WebotsEnv` that is a generic env for Webots. "
   ]
  },
  {
   "cell_type": "markdown",
   "metadata": {},
   "source": [
    "Due to gym interface we can explore the action space and the observation space easily"
   ]
  },
  {
   "cell_type": "code",
   "execution_count": 2,
   "metadata": {
    "scrolled": false
   },
   "outputs": [
    {
     "name": "stdout",
     "output_type": "stream",
     "text": [
      "Dict(frontal_freq:Box(), lateral_freq:Box())\n",
      "Dict(sensors:Dict(front_cam:Tuple(Box(600, 800, 3), Box(600, 800, 3)), orientation:Dict(w:Box(1,), x:Box(1,), y:Box(1,), z:Box(1,)), position:Dict(x:Box(1,), y:Box(1,), z:Box(1,))))\n"
     ]
    }
   ],
   "source": [
    "print(env.action_space)\n",
    "print(env.observation_space)"
   ]
  },
  {
   "cell_type": "markdown",
   "metadata": {},
   "source": [
    "Perfect a random action is even esier"
   ]
  },
  {
   "cell_type": "code",
   "execution_count": 3,
   "metadata": {},
   "outputs": [
    {
     "data": {
      "text/plain": [
       "({'sensors': {'position': {'x': -1.9234729057365247,\n",
       "    'y': 4.912669606466581,\n",
       "    'z': 0.1105117153319196},\n",
       "   'orientation': {'x': 0.00740726304258441,\n",
       "    'y': 0.9999563198444479,\n",
       "    'z': 0.005700075207048437,\n",
       "    'w': -2.071732998847759},\n",
       "   'front_cam': None}},\n",
       " 0,\n",
       " False,\n",
       " {})"
      ]
     },
     "execution_count": 3,
     "metadata": {},
     "output_type": "execute_result"
    }
   ],
   "source": [
    "obs, r, done, _ = env.step(env.action_space.sample())\n",
    "env.step(env.STOP)"
   ]
  },
  {
   "cell_type": "markdown",
   "metadata": {},
   "source": [
    "If the camera throttle node is activated, `rosrun topic_tools throttle messages /krock/front_camera/image 30` calling `env.render()` will popup a window with the images from the krock's camera"
   ]
  },
  {
   "cell_type": "markdown",
   "metadata": {},
   "source": [
    "## Agent\n",
    "\n",
    "The `Agent` class describes something that interacts with the enviroment. It provides a nice interface to adopt.\n",
    "\n",
    "### Usage"
   ]
  },
  {
   "cell_type": "code",
   "execution_count": 4,
   "metadata": {},
   "outputs": [],
   "source": [
    "from agent import Agent\n",
    "\n",
    "class DummyAgent(Agent):\n",
    "    def act(self, env, *args, **kwargs):\n",
    "        print('I am moving!')\n",
    "    \n",
    "a = DummyAgent()\n",
    "a()"
   ]
  },
  {
   "cell_type": "markdown",
   "metadata": {},
   "source": [
    "#### Lifecycle\n",
    "\n",
    "The agent lifecyle is the following"
   ]
  },
  {
   "cell_type": "code",
   "execution_count": 5,
   "metadata": {
    "scrolled": false
   },
   "outputs": [
    {
     "name": "stdout",
     "output_type": "stream",
     "text": [
      "I am moving!\n"
     ]
    }
   ],
   "source": [
    "a() # init\n",
    "a.act(env) # do something\n",
    "a.die(env) # RIP, clean up (e.g store stuff empty the state)"
   ]
  },
  {
   "cell_type": "markdown",
   "metadata": {},
   "source": [
    "You need to first create the agent class and then call it to correctly initialise everything. You can think of it like a *lazy* loader."
   ]
  },
  {
   "cell_type": "markdown",
   "metadata": {},
   "source": [
    "### ROS\n",
    "A `Rospy` agent is already implemented and can be found at `agent.RospyAgent`. It adds two methods to the basic `Agent`: `init_publishers` and `init_subscribers`. They must be overrided to initialise the subscribers and listeners\n"
   ]
  },
  {
   "cell_type": "code",
   "execution_count": 6,
   "metadata": {},
   "outputs": [
    {
     "name": "stdout",
     "output_type": "stream",
     "text": [
      "{'pose': <rospy.topics.Subscriber object at 0x7f514c7fcc50>}\n",
      "{'joy': <rospy.topics.Publisher object at 0x7f514c7fcef0>}\n"
     ]
    }
   ],
   "source": [
    "from agent import RospyAgent\n",
    "from geometry_msgs.msg import PoseStamped\n",
    "from sensor_msgs.msg import Joy\n",
    "\n",
    "class MyRospyAgent(RospyAgent):\n",
    "    def init_publishers(self):\n",
    "        return {\n",
    "            'joy': rospy.Publisher('/joy', Joy, queue_size=1),\n",
    "        }\n",
    "\n",
    "    def init_subscribers(self):\n",
    "        return { 'pose': \n",
    "                rospy.Subscriber('/pose', PoseStamped, self.callback_pose)\n",
    "               }\n",
    "\n",
    "    def callback_pose(self, data):\n",
    "        # this will triggers the `on_state_change` method in all callbacks\n",
    "        self.state['pose'] = data\n",
    "\n",
    "a = MyRospyAgent()\n",
    "a()\n",
    "print(a.subscribers)\n",
    "print(a.publishers)"
   ]
  },
  {
   "cell_type": "markdown",
   "metadata": {},
   "source": [
    "### Callbacks\n",
    "`Agent` implements the protocol `Callbackable` protocol. A callback can be\n",
    "added by calling the `add_callback` or `add_callbacks`. \n",
    "\n",
    "The following interface expose the callback methods for `Agent`:\n",
    "\n",
    "```python\n",
    "class AgentCallback():\n",
    "    def on_state_change(self, agent, key, value):\n",
    "        pass\n",
    "\n",
    "    def on_shut_down(self):\n",
    "        pass\n",
    "```"
   ]
  },
  {
   "cell_type": "code",
   "execution_count": 7,
   "metadata": {},
   "outputs": [],
   "source": [
    "from agent.callbacks import AgentCallback\n",
    "\n",
    "class MyCallback(AgentCallback):\n",
    "    def on_state_change(self, agent, key, value):\n",
    "        print(key, value)"
   ]
  },
  {
   "cell_type": "markdown",
   "metadata": {},
   "source": [
    "Each `Agent` has a `state` that is just a `dict` . Every time it is changed it triggers the `on_state_change` event. This is usefull\n",
    "to record stuff."
   ]
  },
  {
   "cell_type": "code",
   "execution_count": 8,
   "metadata": {
    "scrolled": true
   },
   "outputs": [
    {
     "name": "stdout",
     "output_type": "stream",
     "text": [
      "foo foo\n"
     ]
    }
   ],
   "source": [
    "a = DummyAgent()\n",
    "a.add_callback(MyCallback())\n",
    "a()\n",
    "\n",
    "a.state['foo'] = 'foo'"
   ]
  },
  {
   "cell_type": "markdown",
   "metadata": {},
   "source": [
    "#### RosBagSaver\n",
    "\n",
    "A callback to store the topics of an agent into bags file is implemented"
   ]
  },
  {
   "cell_type": "code",
   "execution_count": 9,
   "metadata": {},
   "outputs": [],
   "source": [
    "from agent.callbacks import RosBagSaver\n",
    "\n",
    "a = MyRospyAgent()\n",
    "a.add_callbacks([RosBagSaver(save_dir='/temp/data', topics=['pose'])])\n",
    "a()"
   ]
  },
  {
   "cell_type": "markdown",
   "metadata": {},
   "source": [
    "The files will be stored everytime `agent.die()` il called. A new thread is always spawned to avoid blocking"
   ]
  },
  {
   "cell_type": "code",
   "execution_count": null,
   "metadata": {},
   "outputs": [],
   "source": []
  }
 ],
 "metadata": {
  "kernelspec": {
   "display_name": "Python 3",
   "language": "python",
   "name": "python3"
  },
  "language_info": {
   "codemirror_mode": {
    "name": "ipython",
    "version": 3
   },
   "file_extension": ".py",
   "mimetype": "text/x-python",
   "name": "python",
   "nbconvert_exporter": "python",
   "pygments_lexer": "ipython3",
   "version": "3.6.6"
  }
 },
 "nbformat": 4,
 "nbformat_minor": 2
}
