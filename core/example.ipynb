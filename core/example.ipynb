{
 "cells": [
  {
   "cell_type": "markdown",
   "metadata": {},
   "source": [
    "# Traversability Simulation\n",
    "## Stucture\n",
    "\n",
    "```\n",
    ".\n",
    "├── agent # Agent package\n",
    "├── data\n",
    "├── docker\n",
    "│   ├── Dockerfile\n",
    "│   ├── Dockerfile-roscore\n",
    "│   ├── Dockerfile-webots\n",
    "│   └── nvidia-docker.sh\n",
    "├── docker-compose.yml\n",
    "├── filename2map.csv\n",
    "├── gym.ipynb\n",
    "├── main.py\n",
    "├── maps\n",
    "├── notebooks # useful notebooks\n",
    "├── parser.py\n",
    "├── protocols # shared Protocols\n",
    "├── __pycache__\n",
    "│   └── parser.cpython-36.pyc\n",
    "├── README.md\n",
    "├── requirements.txt\n",
    "├── simulation # Simulation package\n",
    "├── start.sh\n",
    "├── test.py\n",
    "├── utils\n",
    "│   ├── History.py\n",
    "│   ├── __init__.py\n",
    "│   ├── __pycache__\n",
    "│   │   ├── History.cpython-36.pyc\n",
    "│   │   └── __init__.cpython-36.pyc\n",
    "│   └── webots2ros\n",
    "│       ├── __init__.py\n",
    "│       ├── __pycache__\n",
    "│       ├── README.md\n",
    "│       ├── Supervisor.py\n",
    "│       └── test.py\n",
    "├── webots\n",
    "│   ├── __init__.py\n",
    "│   ├── krock # Agent and Env for krock + webots\n",
    "│   ├── map_generation\n",
    "│   ├── utils.py\n",
    "│   └── WebotsWorld.py\n",
    "└── world # World package\n",
    "```"
   ]
  },
  {
   "cell_type": "markdown",
   "metadata": {},
   "source": [
    "## Webots + Krock\n",
    "![alt text](https://raw.githubusercontent.com/FrancescoSaverioZuppichini/Master-Thesis/gym/resources/images/krock.jpg\")\n",
    "\n",
    "In order to run the Krock robot using Webots we provide a [gym](https://gym.openai.com/) env. If you know gym, then you are good to do. It follows a **basic example** (API could change)"
   ]
  },
  {
   "cell_type": "code",
   "execution_count": 19,
   "metadata": {
    "scrolled": true
   },
   "outputs": [
    {
     "name": "stdout",
     "output_type": "stream",
     "text": [
      "/home/francesco/Documents/Master-Thesis/core/webots/krock/krock2_ros/worlds/holes2.wbt\n"
     ]
    },
    {
     "name": "stderr",
     "output_type": "stream",
     "text": [
      "[WARN] [1542396677.743687]: /krock/supervisor/get_self transport error completing service call: unable to receive data from sender, check sender's logs for details\n"
     ]
    },
    {
     "name": "stdout",
     "output_type": "stream",
     "text": [
      "Initial observations:\n",
      "{'sensors': {'front_cam': None,\n",
      "             'orientation': {'w': -0.41029170833578366,\n",
      "                             'x': 0.5913878435814885,\n",
      "                             'y': 0.44728050649657597,\n",
      "                             'z': 0.6709698703907674},\n",
      "             'position': {'x': 5.006386148428594,\n",
      "                          'y': -4.619462922813117,\n",
      "                          'z': 1.0746239881091906}}}\n",
      "{'sensors': {'front_cam': None,\n",
      "             'orientation': {'w': 0.9940487797760903,\n",
      "                             'x': -0.009098581458505336,\n",
      "                             'y': 0.9999526176725474,\n",
      "                             'z': -0.0034609572754965134},\n",
      "             'position': {'x': 5.0040842186708385,\n",
      "                          'y': -4.619508880238725,\n",
      "                          'z': 1.1116198026671276}}}\n",
      "{'sensors': {'front_cam': None,\n",
      "             'orientation': {'w': 1.0574748998589119,\n",
      "                             'x': -0.006729483837493061,\n",
      "                             'y': 0.9999770198966891,\n",
      "                             'z': 0.0008208080274051523},\n",
      "             'position': {'x': 5.00245961016569,\n",
      "                          'y': -4.621486267499022,\n",
      "                          'z': 1.0729934542862398}}}\n",
      "{'sensors': {'front_cam': None,\n",
      "             'orientation': {'w': 1.036773672202458,\n",
      "                             'x': -0.0262994124965899,\n",
      "                             'y': 0.9996343751469301,\n",
      "                             'z': 0.0062814749017268785},\n",
      "             'position': {'x': 5.001330674481807,\n",
      "                          'y': -4.625329438224179,\n",
      "                          'z': 0.9342896658320303}}}\n",
      "{'sensors': {'front_cam': None,\n",
      "             'orientation': {'w': 0.9663195224003561,\n",
      "                             'x': -0.04156178830332564,\n",
      "                             'y': 0.9990417613806036,\n",
      "                             'z': 0.01371775384568075},\n",
      "             'position': {'x': 5.001313721081686,\n",
      "                          'y': -4.626764785011683,\n",
      "                          'z': 0.7193267541294632}}}\n",
      "{'sensors': {'front_cam': None,\n",
      "             'orientation': {'w': 0.9397751058070896,\n",
      "                             'x': 0.009135179872888711,\n",
      "                             'y': 0.9999419531589174,\n",
      "                             'z': 0.005713037845072025},\n",
      "             'position': {'x': 4.9988486115060535,\n",
      "                          'y': -4.622308635008721,\n",
      "                          'z': 0.54897486206026}}}\n",
      "{'sensors': {'front_cam': None,\n",
      "             'orientation': {'w': 0.8416887991748572,\n",
      "                             'x': 0.09887164066224009,\n",
      "                             'y': 0.9929385868517293,\n",
      "                             'z': 0.06555426312336501},\n",
      "             'position': {'x': 5.014039196558612,\n",
      "                          'y': -4.628329504116732,\n",
      "                          'z': 0.6072062780026696}}}\n",
      "{'sensors': {'front_cam': None,\n",
      "             'orientation': {'w': 0.785603228587989,\n",
      "                             'x': 0.15836386833918145,\n",
      "                             'y': 0.982639617950686,\n",
      "                             'z': 0.09664505387437289},\n",
      "             'position': {'x': 5.030231067460329,\n",
      "                          'y': -4.649051321444154,\n",
      "                          'z': 0.6363792619752531}}}\n",
      "{'sensors': {'front_cam': None,\n",
      "             'orientation': {'w': 0.7839874993854178,\n",
      "                             'x': 0.09302760056067082,\n",
      "                             'y': 0.9934851340345395,\n",
      "                             'z': 0.06582669660781407},\n",
      "             'position': {'x': 5.046468183222234,\n",
      "                          'y': -4.678531508704825,\n",
      "                          'z': 0.6342851001330487}}}\n",
      "{'sensors': {'front_cam': None,\n",
      "             'orientation': {'w': 0.8228495952307365,\n",
      "                             'x': -0.023312418233750885,\n",
      "                             'y': 0.9990770503076506,\n",
      "                             'z': -0.036077398806718154},\n",
      "             'position': {'x': 5.065571108044977,\n",
      "                          'y': -4.713342594871914,\n",
      "                          'z': 0.6043682731961489}}}\n",
      "{'sensors': {'front_cam': None,\n",
      "             'orientation': {'w': 0.8711647653679591,\n",
      "                             'x': 0.008468510239450004,\n",
      "                             'y': 0.9998552324572199,\n",
      "                             'z': -0.014757996552484163},\n",
      "             'position': {'x': 5.078177150135695,\n",
      "                          'y': -4.729819304372614,\n",
      "                          'z': 0.6046691496479759}}}\n",
      "{'sensors': {'front_cam': None,\n",
      "             'orientation': {'w': 0.9581015840533129,\n",
      "                             'x': -0.0013712790161844596,\n",
      "                             'y': 0.9992800628109572,\n",
      "                             'z': 0.03791405626399207},\n",
      "             'position': {'x': 5.095537576613188,\n",
      "                          'y': -4.753484563155892,\n",
      "                          'z': 0.614334037831633}}}\n",
      "{'sensors': {'front_cam': None,\n",
      "             'orientation': {'w': 1.0486016245675835,\n",
      "                             'x': -0.013647596385610439,\n",
      "                             'y': 0.9952947895350471,\n",
      "                             'z': 0.09592718612198405},\n",
      "             'position': {'x': 5.110886124993626,\n",
      "                          'y': -4.779717771709197,\n",
      "                          'z': 0.6276260651482495}}}\n",
      "{'sensors': {'front_cam': None,\n",
      "             'orientation': {'w': 1.1081426688775051,\n",
      "                             'x': -0.020718090258594776,\n",
      "                             'y': 0.9929186409232985,\n",
      "                             'z': 0.11697578058327499},\n",
      "             'position': {'x': 5.127553720060071,\n",
      "                          'y': -4.807959516836716,\n",
      "                          'z': 0.6371092187544717}}}\n",
      "{'sensors': {'front_cam': None,\n",
      "             'orientation': {'w': 1.111894430210627,\n",
      "                             'x': -0.01249990569591689,\n",
      "                             'y': 0.9976681305577171,\n",
      "                             'z': 0.06709734441140862},\n",
      "             'position': {'x': 5.152898043376956,\n",
      "                          'y': -4.8347187944247185,\n",
      "                          'z': 0.6303409806807945}}}\n",
      "{'sensors': {'front_cam': None,\n",
      "             'orientation': {'w': 1.0732375092065196,\n",
      "                             'x': 0.012968332522550148,\n",
      "                             'y': 0.9950623257197283,\n",
      "                             'z': -0.09840117013953668},\n",
      "             'position': {'x': 5.189801441534507,\n",
      "                          'y': -4.859004089714088,\n",
      "                          'z': 0.5896328087630002}}}\n",
      "{'sensors': {'front_cam': None,\n",
      "             'orientation': {'w': 0.997950638865872,\n",
      "                             'x': 0.006314311739032999,\n",
      "                             'y': 0.9820762742392729,\n",
      "                             'z': -0.18837813313537893},\n",
      "             'position': {'x': 5.216514742531058,\n",
      "                          'y': -4.875989299517571,\n",
      "                          'z': 0.5610357326644161}}}\n",
      "{'sensors': {'front_cam': None,\n",
      "             'orientation': {'w': 0.9248725532657684,\n",
      "                             'x': 0.003538862722919974,\n",
      "                             'y': 0.9692521428327965,\n",
      "                             'z': -0.2460442237986099},\n",
      "             'position': {'x': 5.219962179256627,\n",
      "                          'y': -4.889342499801841,\n",
      "                          'z': 0.5407188586702868}}}\n",
      "{'sensors': {'front_cam': None,\n",
      "             'orientation': {'w': 0.8171557908024327,\n",
      "                             'x': -0.0014344195747711282,\n",
      "                             'y': 0.9732994712045253,\n",
      "                             'z': -0.22953448933324863},\n",
      "             'position': {'x': 5.209429156468352,\n",
      "                          'y': -4.890404582596872,\n",
      "                          'z': 0.5401438022769118}}}\n",
      "{'sensors': {'front_cam': None,\n",
      "             'orientation': {'w': 0.6632671943411921,\n",
      "                             'x': -0.021818993362025998,\n",
      "                             'y': 0.9704266471828619,\n",
      "                             'z': -0.24040809879473088},\n",
      "             'position': {'x': 5.195908693781535,\n",
      "                          'y': -4.88298283500931,\n",
      "                          'z': 0.5407657190167635}}}\n",
      "{'sensors': {'front_cam': None,\n",
      "             'orientation': {'w': 0.5392614624149339,\n",
      "                             'x': -0.0987024127840611,\n",
      "                             'y': 0.9564800568018726,\n",
      "                             'z': -0.27459740466889243},\n",
      "             'position': {'x': 5.186459253318373,\n",
      "                          'y': -4.869867099734108,\n",
      "                          'z': 0.5445588541081773}}}\n"
     ]
    },
    {
     "name": "stdout",
     "output_type": "stream",
     "text": [
      "{'sensors': {'front_cam': None,\n",
      "             'orientation': {'w': 0.5213441845953157,\n",
      "                             'x': -0.3057361234848099,\n",
      "                             'y': 0.9181735476115229,\n",
      "                             'z': -0.2519578521557753},\n",
      "             'position': {'x': 5.190662566730865,\n",
      "                          'y': -4.87714722009238,\n",
      "                          'z': 0.5547716082690978}}}\n",
      "{'sensors': {'front_cam': None,\n",
      "             'orientation': {'w': 0.5682263374432178,\n",
      "                             'x': -0.30761295259384136,\n",
      "                             'y': 0.9220995169249036,\n",
      "                             'z': -0.2347482742926104},\n",
      "             'position': {'x': 5.201012197472762,\n",
      "                          'y': -4.894953651364779,\n",
      "                          'z': 0.5539834415777914}}}\n",
      "{'sensors': {'front_cam': None,\n",
      "             'orientation': {'w': 0.6202631644104558,\n",
      "                             'x': -0.2229840413602415,\n",
      "                             'y': 0.9483343095993422,\n",
      "                             'z': -0.22569925683394074},\n",
      "             'position': {'x': 5.20991249712614,\n",
      "                          'y': -4.894411404207706,\n",
      "                          'z': 0.5496285349685616}}}\n",
      "{'sensors': {'front_cam': None,\n",
      "             'orientation': {'w': 0.6945467704529907,\n",
      "                             'x': -0.1546076548696213,\n",
      "                             'y': 0.9710097871759104,\n",
      "                             'z': -0.18230871143285843},\n",
      "             'position': {'x': 5.218441674334079,\n",
      "                          'y': -4.892479715959922,\n",
      "                          'z': 0.5456347617114571}}}\n",
      "{'sensors': {'front_cam': None,\n",
      "             'orientation': {'w': 0.8323458111832541,\n",
      "                             'x': -0.14033998560769506,\n",
      "                             'y': 0.9811503805432038,\n",
      "                             'z': -0.13284810574320643},\n",
      "             'position': {'x': 5.224813898024961,\n",
      "                          'y': -4.8943655116091715,\n",
      "                          'z': 0.5448540848562591}}}\n"
     ]
    },
    {
     "data": {
      "text/plain": [
       "({'sensors': {'position': {'x': 5.2343035533096565,\n",
       "    'y': -4.903382543795653,\n",
       "    'z': 0.5498337806879715},\n",
       "   'orientation': {'x': -0.09913444972125952,\n",
       "    'y': 0.9860037340986153,\n",
       "    'z': -0.1340484883243747,\n",
       "    'w': 0.9071585393686104},\n",
       "   'front_cam': None}},\n",
       " 0,\n",
       " False,\n",
       " {})"
      ]
     },
     "execution_count": 19,
     "metadata": {},
     "output_type": "execute_result"
    },
    {
     "name": "stdout",
     "output_type": "stream",
     "text": [
      "shutdown request: new node registered with same name\n"
     ]
    }
   ],
   "source": [
    "import rospy\n",
    "import pprint\n",
    "\n",
    "from webots.krock import Krock, KrockWebotsEnv\n",
    "from webots import WebotsWorld\n",
    "\n",
    "from simulation.conditions import *\n",
    "\n",
    "WORLD_PATH = '/home/francesco/Documents/Master-Thesis/core/webots/krock/krock2_ros/worlds/holes2.wbt'\n",
    "EPISODES = 25\n",
    "\n",
    "rospy.init_node(\"traversability_simulation\")\n",
    "\n",
    "world = WebotsWorld.from_file(WORLD_PATH)\n",
    "krock = Krock()\n",
    "# call world and krock to initialise them\n",
    "world()\n",
    "krock()\n",
    "# at this point under the hood the world file was imported, loader and all the ros subs and pubs are initialized\n",
    "env = KrockWebotsEnv.from_file(WORLD_PATH, should_stop=IfOneFalseOf([IsInside(), IsNotStuck(n_last=50)]))\n",
    "# spawn the robot at a random location\n",
    "init_obs = env.reset()\n",
    "\n",
    "print('Initial observations:')\n",
    "pprint.pprint(init_obs)\n",
    "\n",
    "for _ in range(EPISODES):\n",
    "#   go forward for a while\n",
    "    obs, r, done, _ = env.step(env.GO_FORWARD)\n",
    "    pprint.pprint(obs)\n",
    "    if done: break\n",
    "        \n",
    "env.step(env.STOP)"
   ]
  },
  {
   "cell_type": "markdown",
   "metadata": {},
   "source": [
    "Basically the enviroment needs to know two things: `World` and `Agent`. "
   ]
  },
  {
   "cell_type": "markdown",
   "metadata": {},
   "source": [
    "`KrockWebotsEnv` implements `WebotsEnv` that is a generic env for Webots"
   ]
  },
  {
   "cell_type": "markdown",
   "metadata": {},
   "source": [
    "## Agent\n",
    "\n",
    "The `Agent` class describes something that interacts to the enviroment. It provides a nice interface to adopt\n",
    "\n",
    "### Usage"
   ]
  },
  {
   "cell_type": "code",
   "execution_count": 5,
   "metadata": {},
   "outputs": [],
   "source": [
    "from agent import Agent\n",
    "\n",
    "class DummyAgent(Agent):\n",
    "    def act(self, env, *args, **kwargs):\n",
    "        print('I am moving!')\n",
    "\n",
    "a = DummyAgent()\n",
    "a()"
   ]
  },
  {
   "cell_type": "markdown",
   "metadata": {},
   "source": [
    "You need to first create the agent class and then call it to correctly initialise everything. You can think of it like a *lazy* loader."
   ]
  },
  {
   "cell_type": "markdown",
   "metadata": {},
   "source": [
    "### ROS\n",
    "A `Rospy` agent is already implemented and can be found at `agent.RospyAgent`. It adds two methods to the basic `Agent`: `init_publishers` and `init_subscribers`. They must be overrided to initialise the subscribers and listeners\n"
   ]
  },
  {
   "cell_type": "code",
   "execution_count": 11,
   "metadata": {},
   "outputs": [
    {
     "name": "stdout",
     "output_type": "stream",
     "text": [
      "{'pose': <rospy.topics.Subscriber object at 0x7f25056d8828>}\n",
      "{'joy': <rospy.topics.Publisher object at 0x7f25056d8dd8>}\n"
     ]
    }
   ],
   "source": [
    "from agent import RospyAgent\n",
    "from geometry_msgs.msg import PoseStamped\n",
    "from sensor_msgs.msg import Joy\n",
    "\n",
    "class MyRospyAgent(RospyAgent):\n",
    "    def init_publishers(self):\n",
    "        return {\n",
    "            'joy': rospy.Publisher('/joy', Joy, queue_size=1),\n",
    "        }\n",
    "\n",
    "    def init_subscribers(self):\n",
    "        return { 'pose': \n",
    "                rospy.Subscriber('/pose', PoseStamped, self.callback_pose)\n",
    "               }\n",
    "\n",
    "    def callback_pose(self, data):\n",
    "        # this will triggers the `on_state_change` method in all callbacks\n",
    "        self.state['pose'] = data\n",
    "\n",
    "a = MyRospyAgent()\n",
    "a()\n",
    "print(a.subscribers)\n",
    "print(a.publishers)"
   ]
  },
  {
   "cell_type": "markdown",
   "metadata": {},
   "source": [
    "### Callbacks\n",
    "`Agent` implements the protocol `Callbackable` protocol. A callback can be\n",
    "added by calling the `add_callback` or `add_callbacks`. \n",
    "\n",
    "The following interface expose the callback methods for `Agent`:\n",
    "\n",
    "```python\n",
    "class AgentCallback():\n",
    "    def on_state_change(self, agent, key, value):\n",
    "        pass\n",
    "\n",
    "    def on_shut_down(self):\n",
    "        pass\n",
    "```"
   ]
  },
  {
   "cell_type": "code",
   "execution_count": 17,
   "metadata": {},
   "outputs": [],
   "source": [
    "from agent.callbacks import AgentCallback\n",
    "\n",
    "class MyCallback(AgentCallback):\n",
    "    def on_state_change(self, agent, key, value):\n",
    "        print(key, value)"
   ]
  },
  {
   "cell_type": "markdown",
   "metadata": {},
   "source": [
    "Each `Agent` has a `state` that is just a `dict` . Every time it is changed it triggers the `on_state_change` event. This is usefull\n",
    "to record stuff."
   ]
  },
  {
   "cell_type": "code",
   "execution_count": 18,
   "metadata": {
    "scrolled": true
   },
   "outputs": [
    {
     "name": "stdout",
     "output_type": "stream",
     "text": [
      "foo foo\n"
     ]
    }
   ],
   "source": [
    "a = DummyAgent()\n",
    "a.add_callback(MyCallback())\n",
    "a()\n",
    "\n",
    "a.state['foo'] = 'foo'"
   ]
  }
 ],
 "metadata": {
  "kernelspec": {
   "display_name": "Python 3",
   "language": "python",
   "name": "python3"
  },
  "language_info": {
   "codemirror_mode": {
    "name": "ipython",
    "version": 3
   },
   "file_extension": ".py",
   "mimetype": "text/x-python",
   "name": "python",
   "nbconvert_exporter": "python",
   "pygments_lexer": "ipython3",
   "version": "3.6.6"
  }
 },
 "nbformat": 4,
 "nbformat_minor": 2
}
