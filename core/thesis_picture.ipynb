{
 "cells": [
  {
   "cell_type": "markdown",
   "metadata": {},
   "source": [
    "# Thesis pictures\n",
    "This notebooks contains the code used to produced most of the report images"
   ]
  },
  {
   "cell_type": "code",
   "execution_count": 2,
   "metadata": {},
   "outputs": [],
   "source": [
    "%reload_ext autoreload\n",
    "%autoreload 2\n",
    "\n",
    "import cv2\n",
    "import matplotlib\n",
    "import pandas as pd\n",
    "import matplotlib.pyplot as plt\n",
    "import seaborn as sns\n",
    "import glob\n",
    "\n",
    "from os import path\n",
    "from utilities.patches import *\n",
    "from utilities.postprocessing.handlers.functional import read_image\n",
    "\n",
    "from jupyterthemes import jtplot\n",
    "jtplot.reset()\n",
    "\n",
    "plt.style.use(['science', 'ieee'])\n",
    "# matplotlib.rcParams['figure.figsize'] = (5,4)\n",
    "get_ipython().config.get('IPKernelApp', {})['parent_appname'] = \"\"\n",
    "\n",
    "def hmshow(hm, save_path=None):\n",
    "    fig = plt.figure(dpi=800)\n",
    "    plt.tight_layout()\n",
    "    sns.heatmap(hm, cmap=plt.cm.viridis, vmin=0, vmax=1)\n",
    "    plt.show()\n",
    "    if save_path is not None: fig.savefig(save_path, bbox_inches='tight')\n",
    "    return fig\n",
    "def hm_name_from_path(hm):\n",
    "    return path.basename(hm)\n",
    "\n",
    "def figsave(fig, out_path, ax=None):\n",
    "    if ax is not None:\n",
    "        ax.view_init(elev=20, azim=125)\n",
    "\n",
    "        ax.tick_params(axis = 'both', which = 'major', labelsize = 4, pad=0)\n",
    "        ax.tick_params(axis = 'both', which = 'minor', labelsize = 4, pad=0)\n",
    "#     plt.show()\n",
    "    fig.savefig(out_path, bbox_inches='tight', transparent=True)"
   ]
  },
  {
   "cell_type": "markdown",
   "metadata": {},
   "source": [
    "## Height maps pictures"
   ]
  },
  {
   "cell_type": "markdown",
   "metadata": {},
   "source": [
    "## 2D"
   ]
  },
  {
   "cell_type": "code",
   "execution_count": 2,
   "metadata": {},
   "outputs": [],
   "source": [
    "hms = glob.glob('./maps/new-train/*.png')"
   ]
  },
  {
   "cell_type": "code",
   "execution_count": null,
   "metadata": {},
   "outputs": [],
   "source": [
    "out_dir = '/home/francesco/Documents/Master-Thesis/papers/Thesis/img/hm/'\n",
    "name2path = {hm_name_from_path(hm) : hm for hm in hms}\n",
    "\n",
    "hmshow(hmread(hms[0]) / 255, '{}/{}'.format(out_dir, hm_name_from_path(hms[0])))\n",
    "for hm in hms:\n",
    "    hmshow(hmread(hm) / 255, '{}/{}'.format(out_dir, hm_name_from_path(hm)))\n",
    "    "
   ]
  },
  {
   "cell_type": "markdown",
   "metadata": {},
   "source": [
    "## 3D"
   ]
  },
  {
   "cell_type": "code",
   "execution_count": 3,
   "metadata": {},
   "outputs": [],
   "source": [
    "def store_3d(p, outdir, *args, **kwargs):\n",
    "    p.plot3d_mayavi(0.02, '{}/hm3d/{}'.format(out_dir, hm_name_from_path(hm)), borders=False, *args, **kwargs)\n",
    "    p.plot3d_mayavi(0.02, '{}/hm3d_borders/{}'.format(out_dir, hm_name_from_path(hm)), borders=True, *args, **kwargs)\n",
    "    p.plot3d_mayavi(0.02, '{}/hm3d_viridis/{}'.format(out_dir, hm_name_from_path(hm)), borders=True, colormap='viridis', mesh=True, *args, **kwargs)\n",
    "    del p"
   ]
  },
  {
   "cell_type": "code",
   "execution_count": 4,
   "metadata": {
    "scrolled": true
   },
   "outputs": [
    {
     "name": "stdout",
     "output_type": "stream",
     "text": [
      "Warning: the range of your scalar values differs by more than a factor 100 than the range of the grid values and you did not specify a warp_scale. You could try warp_scale=\"auto\".\n",
      "Warning: the range of your scalar values differs by more than a factor 100 than the range of the grid values and you did not specify a warp_scale. You could try warp_scale=\"auto\".\n",
      "Warning: the range of your scalar values differs by more than a factor 100 than the range of the grid values and you did not specify a warp_scale. You could try warp_scale=\"auto\".\n",
      "Warning: the range of your scalar values differs by more than a factor 100 than the range of the grid values and you did not specify a warp_scale. You could try warp_scale=\"auto\".\n",
      "Warning: the range of your scalar values differs by more than a factor 100 than the range of the grid values and you did not specify a warp_scale. You could try warp_scale=\"auto\".\n",
      "Warning: the range of your scalar values differs by more than a factor 100 than the range of the grid values and you did not specify a warp_scale. You could try warp_scale=\"auto\".\n",
      "Warning: the range of your scalar values differs by more than a factor 100 than the range of the grid values and you did not specify a warp_scale. You could try warp_scale=\"auto\".\n",
      "Warning: the range of your scalar values differs by more than a factor 100 than the range of the grid values and you did not specify a warp_scale. You could try warp_scale=\"auto\".\n",
      "Warning: the range of your scalar values differs by more than a factor 100 than the range of the grid values and you did not specify a warp_scale. You could try warp_scale=\"auto\".\n",
      "Warning: the range of your scalar values differs by more than a factor 100 than the range of the grid values and you did not specify a warp_scale. You could try warp_scale=\"auto\".\n",
      "Warning: the range of your scalar values differs by more than a factor 100 than the range of the grid values and you did not specify a warp_scale. You could try warp_scale=\"auto\".\n",
      "Warning: the range of your scalar values differs by more than a factor 100 than the range of the grid values and you did not specify a warp_scale. You could try warp_scale=\"auto\".\n",
      "Warning: the range of your scalar values differs by more than a factor 100 than the range of the grid values and you did not specify a warp_scale. You could try warp_scale=\"auto\".\n",
      "Warning: the range of your scalar values differs by more than a factor 100 than the range of the grid values and you did not specify a warp_scale. You could try warp_scale=\"auto\".\n",
      "Warning: the range of your scalar values differs by more than a factor 100 than the range of the grid values and you did not specify a warp_scale. You could try warp_scale=\"auto\".\n",
      "Warning: the range of your scalar values differs by more than a factor 100 than the range of the grid values and you did not specify a warp_scale. You could try warp_scale=\"auto\".\n",
      "Warning: the range of your scalar values differs by more than a factor 100 than the range of the grid values and you did not specify a warp_scale. You could try warp_scale=\"auto\".\n",
      "Warning: the range of your scalar values differs by more than a factor 100 than the range of the grid values and you did not specify a warp_scale. You could try warp_scale=\"auto\".\n",
      "Warning: the range of your scalar values differs by more than a factor 100 than the range of the grid values and you did not specify a warp_scale. You could try warp_scale=\"auto\".\n",
      "Warning: the range of your scalar values differs by more than a factor 100 than the range of the grid values and you did not specify a warp_scale. You could try warp_scale=\"auto\".\n",
      "Warning: the range of your scalar values differs by more than a factor 100 than the range of the grid values and you did not specify a warp_scale. You could try warp_scale=\"auto\".\n",
      "Warning: the range of your scalar values differs by more than a factor 100 than the range of the grid values and you did not specify a warp_scale. You could try warp_scale=\"auto\".\n",
      "Warning: the range of your scalar values differs by more than a factor 100 than the range of the grid values and you did not specify a warp_scale. You could try warp_scale=\"auto\".\n",
      "Warning: the range of your scalar values differs by more than a factor 100 than the range of the grid values and you did not specify a warp_scale. You could try warp_scale=\"auto\".\n",
      "Warning: the range of your scalar values differs by more than a factor 100 than the range of the grid values and you did not specify a warp_scale. You could try warp_scale=\"auto\".\n",
      "Warning: the range of your scalar values differs by more than a factor 100 than the range of the grid values and you did not specify a warp_scale. You could try warp_scale=\"auto\".\n",
      "Warning: the range of your scalar values differs by more than a factor 100 than the range of the grid values and you did not specify a warp_scale. You could try warp_scale=\"auto\".\n",
      "Warning: the range of your scalar values differs by more than a factor 100 than the range of the grid values and you did not specify a warp_scale. You could try warp_scale=\"auto\".\n",
      "Warning: the range of your scalar values differs by more than a factor 100 than the range of the grid values and you did not specify a warp_scale. You could try warp_scale=\"auto\".\n",
      "Warning: the range of your scalar values differs by more than a factor 100 than the range of the grid values and you did not specify a warp_scale. You could try warp_scale=\"auto\".\n",
      "Warning: the range of your scalar values differs by more than a factor 100 than the range of the grid values and you did not specify a warp_scale. You could try warp_scale=\"auto\".\n",
      "Warning: the range of your scalar values differs by more than a factor 100 than the range of the grid values and you did not specify a warp_scale. You could try warp_scale=\"auto\".\n",
      "Warning: the range of your scalar values differs by more than a factor 100 than the range of the grid values and you did not specify a warp_scale. You could try warp_scale=\"auto\".\n",
      "Warning: the range of your scalar values differs by more than a factor 100 than the range of the grid values and you did not specify a warp_scale. You could try warp_scale=\"auto\".\n",
      "Warning: the range of your scalar values differs by more than a factor 100 than the range of the grid values and you did not specify a warp_scale. You could try warp_scale=\"auto\".\n",
      "Warning: the range of your scalar values differs by more than a factor 100 than the range of the grid values and you did not specify a warp_scale. You could try warp_scale=\"auto\".\n",
      "Warning: the range of your scalar values differs by more than a factor 100 than the range of the grid values and you did not specify a warp_scale. You could try warp_scale=\"auto\".\n",
      "Warning: the range of your scalar values differs by more than a factor 100 than the range of the grid values and you did not specify a warp_scale. You could try warp_scale=\"auto\".\n",
      "Warning: the range of your scalar values differs by more than a factor 100 than the range of the grid values and you did not specify a warp_scale. You could try warp_scale=\"auto\".\n",
      "Warning: the range of your scalar values differs by more than a factor 100 than the range of the grid values and you did not specify a warp_scale. You could try warp_scale=\"auto\".\n",
      "Warning: the range of your scalar values differs by more than a factor 100 than the range of the grid values and you did not specify a warp_scale. You could try warp_scale=\"auto\".\n",
      "Warning: the range of your scalar values differs by more than a factor 100 than the range of the grid values and you did not specify a warp_scale. You could try warp_scale=\"auto\".\n",
      "Warning: the range of your scalar values differs by more than a factor 100 than the range of the grid values and you did not specify a warp_scale. You could try warp_scale=\"auto\".\n",
      "Warning: the range of your scalar values differs by more than a factor 100 than the range of the grid values and you did not specify a warp_scale. You could try warp_scale=\"auto\".\n",
      "Warning: the range of your scalar values differs by more than a factor 100 than the range of the grid values and you did not specify a warp_scale. You could try warp_scale=\"auto\".\n",
      "Warning: the range of your scalar values differs by more than a factor 100 than the range of the grid values and you did not specify a warp_scale. You could try warp_scale=\"auto\".\n"
     ]
    },
    {
     "name": "stdout",
     "output_type": "stream",
     "text": [
      "Warning: the range of your scalar values differs by more than a factor 100 than the range of the grid values and you did not specify a warp_scale. You could try warp_scale=\"auto\".\n",
      "Warning: the range of your scalar values differs by more than a factor 100 than the range of the grid values and you did not specify a warp_scale. You could try warp_scale=\"auto\".\n",
      "Warning: the range of your scalar values differs by more than a factor 100 than the range of the grid values and you did not specify a warp_scale. You could try warp_scale=\"auto\".\n",
      "Warning: the range of your scalar values differs by more than a factor 100 than the range of the grid values and you did not specify a warp_scale. You could try warp_scale=\"auto\".\n",
      "Warning: the range of your scalar values differs by more than a factor 100 than the range of the grid values and you did not specify a warp_scale. You could try warp_scale=\"auto\".\n",
      "Warning: the range of your scalar values differs by more than a factor 100 than the range of the grid values and you did not specify a warp_scale. You could try warp_scale=\"auto\".\n",
      "Warning: the range of your scalar values differs by more than a factor 100 than the range of the grid values and you did not specify a warp_scale. You could try warp_scale=\"auto\".\n",
      "Warning: the range of your scalar values differs by more than a factor 100 than the range of the grid values and you did not specify a warp_scale. You could try warp_scale=\"auto\".\n",
      "Warning: the range of your scalar values differs by more than a factor 100 than the range of the grid values and you did not specify a warp_scale. You could try warp_scale=\"auto\".\n",
      "Warning: the range of your scalar values differs by more than a factor 100 than the range of the grid values and you did not specify a warp_scale. You could try warp_scale=\"auto\".\n",
      "Warning: the range of your scalar values differs by more than a factor 100 than the range of the grid values and you did not specify a warp_scale. You could try warp_scale=\"auto\".\n",
      "Warning: the range of your scalar values differs by more than a factor 100 than the range of the grid values and you did not specify a warp_scale. You could try warp_scale=\"auto\".\n",
      "Warning: the range of your scalar values differs by more than a factor 100 than the range of the grid values and you did not specify a warp_scale. You could try warp_scale=\"auto\".\n",
      "Warning: the range of your scalar values differs by more than a factor 100 than the range of the grid values and you did not specify a warp_scale. You could try warp_scale=\"auto\".\n",
      "Warning: the range of your scalar values differs by more than a factor 100 than the range of the grid values and you did not specify a warp_scale. You could try warp_scale=\"auto\".\n",
      "Warning: the range of your scalar values differs by more than a factor 100 than the range of the grid values and you did not specify a warp_scale. You could try warp_scale=\"auto\".\n",
      "Warning: the range of your scalar values differs by more than a factor 100 than the range of the grid values and you did not specify a warp_scale. You could try warp_scale=\"auto\".\n",
      "Warning: the range of your scalar values differs by more than a factor 100 than the range of the grid values and you did not specify a warp_scale. You could try warp_scale=\"auto\".\n",
      "Warning: the range of your scalar values differs by more than a factor 100 than the range of the grid values and you did not specify a warp_scale. You could try warp_scale=\"auto\".\n",
      "Warning: the range of your scalar values differs by more than a factor 100 than the range of the grid values and you did not specify a warp_scale. You could try warp_scale=\"auto\".\n",
      "Warning: the range of your scalar values differs by more than a factor 100 than the range of the grid values and you did not specify a warp_scale. You could try warp_scale=\"auto\".\n",
      "Warning: the range of your scalar values differs by more than a factor 100 than the range of the grid values and you did not specify a warp_scale. You could try warp_scale=\"auto\".\n",
      "Warning: the range of your scalar values differs by more than a factor 100 than the range of the grid values and you did not specify a warp_scale. You could try warp_scale=\"auto\".\n",
      "Warning: the range of your scalar values differs by more than a factor 100 than the range of the grid values and you did not specify a warp_scale. You could try warp_scale=\"auto\".\n",
      "Warning: the range of your scalar values differs by more than a factor 100 than the range of the grid values and you did not specify a warp_scale. You could try warp_scale=\"auto\".\n",
      "Warning: the range of your scalar values differs by more than a factor 100 than the range of the grid values and you did not specify a warp_scale. You could try warp_scale=\"auto\".\n",
      "Warning: the range of your scalar values differs by more than a factor 100 than the range of the grid values and you did not specify a warp_scale. You could try warp_scale=\"auto\".\n",
      "Warning: the range of your scalar values differs by more than a factor 100 than the range of the grid values and you did not specify a warp_scale. You could try warp_scale=\"auto\".\n",
      "Warning: the range of your scalar values differs by more than a factor 100 than the range of the grid values and you did not specify a warp_scale. You could try warp_scale=\"auto\".\n",
      "Warning: the range of your scalar values differs by more than a factor 100 than the range of the grid values and you did not specify a warp_scale. You could try warp_scale=\"auto\".\n",
      "Warning: the range of your scalar values differs by more than a factor 100 than the range of the grid values and you did not specify a warp_scale. You could try warp_scale=\"auto\".\n",
      "Warning: the range of your scalar values differs by more than a factor 100 than the range of the grid values and you did not specify a warp_scale. You could try warp_scale=\"auto\".\n",
      "Warning: the range of your scalar values differs by more than a factor 100 than the range of the grid values and you did not specify a warp_scale. You could try warp_scale=\"auto\".\n",
      "Warning: the range of your scalar values differs by more than a factor 100 than the range of the grid values and you did not specify a warp_scale. You could try warp_scale=\"auto\".\n",
      "Warning: the range of your scalar values differs by more than a factor 100 than the range of the grid values and you did not specify a warp_scale. You could try warp_scale=\"auto\".\n",
      "Warning: the range of your scalar values differs by more than a factor 100 than the range of the grid values and you did not specify a warp_scale. You could try warp_scale=\"auto\".\n"
     ]
    }
   ],
   "source": [
    "from utilities.postprocessing.handlers.functional import read_image\n",
    "out_dir = '/home/francesco/Documents/Master-Thesis/papers/Thesis/img/'\n",
    "for hm in hms:\n",
    "    p = Patch.from_path(hm)\n",
    "    store_3d(p, out_dir,  distance=27)\n"
   ]
  },
  {
   "cell_type": "markdown",
   "metadata": {},
   "source": [
    "### viridis"
   ]
  },
  {
   "cell_type": "markdown",
   "metadata": {},
   "source": [
    "## Quarry"
   ]
  },
  {
   "cell_type": "code",
   "execution_count": 5,
   "metadata": {
    "scrolled": true
   },
   "outputs": [
    {
     "name": "stdout",
     "output_type": "stream",
     "text": [
      "Warning: the range of your scalar values differs by more than a factor 100 than the range of the grid values and you did not specify a warp_scale. You could try warp_scale=\"auto\".\n",
      "Warning: the range of your scalar values differs by more than a factor 100 than the range of the grid values and you did not specify a warp_scale. You could try warp_scale=\"auto\".\n"
     ]
    }
   ],
   "source": [
    "hm = './maps/test/querry-big-10.png'\n",
    "im = read_image(hm).astype(np.float32) / 255\n",
    "\n",
    "p = Patch.from_hm(im * 10)\n",
    "\n",
    "store_3d(p, out_dir, distance=85)\n",
    "# p.plot3d_mayavi(0.02, size=(2000, 2000), azimuth=45, elevation=45, distance=85, save_path='{}/{}'.format(out_dir, hm_name_from_path(hm)))\n"
   ]
  },
  {
   "cell_type": "markdown",
   "metadata": {},
   "source": [
    "# Data aug"
   ]
  },
  {
   "cell_type": "code",
   "execution_count": 8,
   "metadata": {},
   "outputs": [],
   "source": [
    "out_dir = '/home/francesco/Documents/Master-Thesis/papers/Thesis/img/data-aug/'"
   ]
  },
  {
   "cell_type": "markdown",
   "metadata": {},
   "source": [
    "## Center patch\n"
   ]
  },
  {
   "cell_type": "code",
   "execution_count": 9,
   "metadata": {},
   "outputs": [
    {
     "name": "stderr",
     "output_type": "stream",
     "text": [
      "/home/francesco/.local/lib/python3.6/site-packages/requests/__init__.py:91: RequestsDependencyWarning: urllib3 (1.25.2) or chardet (3.0.4) doesn't match a supported version!\n",
      "  RequestsDependencyWarning)\n"
     ]
    }
   ],
   "source": [
    "from utilities.patches import *\n",
    "from estimators.data.transformations import *\n",
    "class SquareInTheMiddlePatch(Patch, Mayavi3dPlottable):\n",
    "    def make(self, size=4, *args, **kwargs):\n",
    "#         here we can access the .hm filled with zeros\n",
    "        self.hm[self.shape[0] // 2 - size : self.shape[0] // 2 + size, self.shape[1] // 2 - size: self.shape[0] // 2 + size] = 1\n",
    "        return self.hm\n",
    "    \n",
    "center_p = SquareInTheMiddlePatch((100,100))(size=25)"
   ]
  },
  {
   "cell_type": "code",
   "execution_count": 33,
   "metadata": {},
   "outputs": [],
   "source": [
    "center_p = SquareInTheMiddlePatch((100,100))(size=25)\n",
    "# fig = center_p.plot2d()\n",
    "\n",
    "# figsave(fig, out_dir +'/2d/square-middle.png', None)\n",
    "# center_p.plot3d_mayavi(0.02, size=(500, 500), mesh=True,  distance=5,\n",
    "#                         # colormap='viridis',\n",
    "#                         azimuth=0,\n",
    "#                         save_path= out_dir +'/3d/square-middle-mayavi.png',\n",
    "#                        )\n"
   ]
  },
  {
   "cell_type": "code",
   "execution_count": 20,
   "metadata": {
    "scrolled": false
   },
   "outputs": [
    {
     "data": {
      "text/plain": [
       "<mayavi.core.scene.Scene at 0x7f469be03e60>"
      ]
     },
     "execution_count": 20,
     "metadata": {},
     "output_type": "execute_result"
    }
   ],
   "source": [
    "transform = CenterAndScalePatch()\n",
    "\n",
    "center_p_tr = transform(center_p.hm)\n",
    "center_p_tr = Patch.from_hm(center_p_tr)\n",
    "\n",
    "center_p_tr.plot3d_mayavi(0.02, size=(500, 500), mesh=True,  distance=5,\n",
    "                        # colormap='viridis',\n",
    "                        azimuth=0,\n",
    "                        save_path= out_dir +'/3d/square-middle-center-mayavi.png',\n",
    "                       )\n",
    "\n",
    "# fig = center_p_tr.plot2d()\n",
    "# figsave(fig, out_dir +'/2d/square-middle-center.png', None)\n"
   ]
  },
  {
   "cell_type": "markdown",
   "metadata": {},
   "source": [
    "## Data-aug"
   ]
  },
  {
   "cell_type": "markdown",
   "metadata": {},
   "source": [
    "### Simplex noise"
   ]
  },
  {
   "cell_type": "code",
   "execution_count": 21,
   "metadata": {},
   "outputs": [
    {
     "name": "stderr",
     "output_type": "stream",
     "text": [
      "100%|██████████| 5/5 [00:00<00:00, 19.11it/s]\n"
     ]
    }
   ],
   "source": [
    "random_simplex_noise = RandomSimplexNoise((100,100), n=5)"
   ]
  },
  {
   "cell_type": "code",
   "execution_count": 22,
   "metadata": {},
   "outputs": [],
   "source": [
    "flat_path = Patch((513,513))"
   ]
  },
  {
   "cell_type": "code",
   "execution_count": 23,
   "metadata": {},
   "outputs": [],
   "source": [
    "center_p_simplex = Patch.from_hm(im2simplex(flat_path.hm.copy(), feature_size=5, scale=8))"
   ]
  },
  {
   "cell_type": "code",
   "execution_count": 26,
   "metadata": {
    "scrolled": true
   },
   "outputs": [
    {
     "name": "stdout",
     "output_type": "stream",
     "text": [
      "Warning: the range of your scalar values differs by more than a factor 100 than the range of the grid values and you did not specify a warp_scale. You could try warp_scale=\"auto\".\n",
      "Warning: the range of your scalar values differs by more than a factor 100 than the range of the grid values and you did not specify a warp_scale. You could try warp_scale=\"auto\".\n",
      "Warning: the range of your scalar values differs by more than a factor 100 than the range of the grid values and you did not specify a warp_scale. You could try warp_scale=\"auto\".\n",
      "Warning: the range of your scalar values differs by more than a factor 100 than the range of the grid values and you did not specify a warp_scale. You could try warp_scale=\"auto\".\n"
     ]
    }
   ],
   "source": [
    "for i in range(1,5):\n",
    "    center_p_simplex = MyPatch.from_hm(im2simplex(flat_path.hm.copy(), feature_size=10 * (i + 1), scale=8))\n",
    "#     fig, ax = center_p_simplex.plot3d(rstride=1, cstride=1)\n",
    "#     figsave(fig out_dir + '/3d/simplex{}.png'.format(i), ax)\n",
    "    fig = center_p_simplex.plot3d_mayavi(0.02, out_dir + '/3d/simplex{}.png'.format(i))\n",
    "    \n",
    "\n",
    "#     fig = plt.gcf()\n",
    "#     figsave(fig, out_dir + '/3d/simplex{}.png'.format(i), ax)\n"
   ]
  },
  {
   "cell_type": "markdown",
   "metadata": {},
   "source": [
    "### Dropout"
   ]
  },
  {
   "cell_type": "code",
   "execution_count": 34,
   "metadata": {
    "scrolled": false
   },
   "outputs": [
    {
     "data": {
      "text/plain": [
       "<mayavi.core.scene.Scene at 0x7f46f3ff0fc0>"
      ]
     },
     "execution_count": 34,
     "metadata": {},
     "output_type": "execute_result"
    }
   ],
   "source": [
    "# wall_p = WallPatch((100,100), size=8)()\n",
    "wall_p = center_p\n",
    "wall_p_dp = Patch.from_hm(iaa.Dropout(p=(0.05, 0.1)).augment_image(center_p.hm))\n",
    "\n",
    "fig = wall_p_dp.plot2d()\n",
    "figsave(fig, out_dir + '/2d/center-dropout.png')\n",
    "\n",
    "wall_p_dp.plot3d_mayavi(0.02, size=(500, 500), mesh=True,  distance=5,\n",
    "                        # colormap='viridis',\n",
    "                        azimuth=0,\n",
    "                        save_path= out_dir +'/3d/center-dropout-mayavi.png',\n",
    "                       )\n"
   ]
  },
  {
   "cell_type": "markdown",
   "metadata": {},
   "source": [
    "### Croase Dropout"
   ]
  },
  {
   "cell_type": "code",
   "execution_count": null,
   "metadata": {
    "scrolled": false
   },
   "outputs": [],
   "source": [
    "# wall_p = WallPatch((100,100), size=8)()\n",
    "wall_p_dp = Patch.from_hm(iaa.CoarseDropout((0.02, 0.1),size_percent=(0.6, 0.8)).augment_image(wall_p.hm))\n",
    "\n",
    "fig = wall_p_dp.plot2d()\n",
    "plt.show()\n",
    "figsave(fig, out_dir + '/2d/center-coarse-dropout.png')\n",
    "\n",
    "wall_p_dp.plot3d_mayavi(0.02, size=(500, 500), mesh=True,  distance=5,\n",
    "                        # colormap='viridis',\n",
    "                        azimuth=0,\n",
    "                        save_path= out_dir +'/3d/center-coarse-dropout-mayavi.png',\n",
    "                       )\n"
   ]
  },
  {
   "cell_type": "code",
   "execution_count": 37,
   "metadata": {
    "scrolled": true
   },
   "outputs": [
    {
     "data": {
      "image/png": "[encoded data removed]",
      "text/plain": [
       "<Figure size 1980x1500 with 2 Axes>"
      ]
     },
     "metadata": {},
     "output_type": "display_data"
    },
    {
     "data": {
      "text/plain": [
       "<mayavi.core.scene.Scene at 0x7f460ac8d990>"
      ]
     },
     "execution_count": 37,
     "metadata": {},
     "output_type": "execute_result"
    }
   ],
   "source": [
    "x = Patch.from_hm(im2simplex(center_p.hm.copy(), feature_size=25, scale=10))\n",
    "fig = x.plot2d()\n",
    "plt.show()\n",
    "figsave(fig, out_dir + '/2d/center-simplex.png')\n",
    "\n",
    "\n",
    "x.plot3d_mayavi(0.02, size=(500, 500), mesh=True,  distance=5,\n",
    "                        # colormap='viridis',\n",
    "                        azimuth=0,\n",
    "                        save_path= out_dir +'/3d/center-simplex.png',\n",
    "                       )\n"
   ]
  },
  {
   "cell_type": "code",
   "execution_count": null,
   "metadata": {},
   "outputs": [],
   "source": [
    "x = iaa.Dropout(p=(0.05, 0.1)).augment_image(center_p.hm)\n",
    "x = iaa.CoarseDropout((0.02, 0.1),size_percent=(0.6, 0.8)).augment_image(x)\n",
    "\n",
    "x = Patch.from_hm(im2simplex(center_p.hm.copy(), feature_size=25, scale=10))\n",
    "fig = x.plot2d()\n",
    "plt.show()\n",
    "figsave(fig, out_dir + '/2d/center-simplex.png')\n",
    "\n",
    "\n",
    "x.plot3d_mayavi(0.02, size=(500, 500), mesh=True,  distance=5,\n",
    "                        # colormap='viridis',\n",
    "                        azimuth=0,\n",
    "                        save_path= out_dir +'/3d/center-simplex.png',\n",
    "                       )\n"
   ]
  },
  {
   "cell_type": "code",
   "execution_count": null,
   "metadata": {},
   "outputs": [],
   "source": [
    "x = RampPatch((100,100))()\n",
    "\n",
    "fig = x.plot2d()\n",
    "figsave(fig, out_dir + '/2d/ramp.png')\n",
    "\n",
    "x = iaa.Dropout(p=(0.05, 0.1)).augment_image(x.hm)\n",
    "x = iaa.CoarseDropout((0.02, 0.1),size_percent=(0.6, 0.8)).augment_image(x)\n",
    "x = im2simplex(x.copy(), scale=8)\n",
    "\n",
    "x = Patch.from_hm(x)\n",
    "\n",
    "fig = x.plot2d()\n",
    "# x.plot3d()\n",
    "\n",
    "figsave(fig, out_dir + '/2d/ramp-aug.png')"
   ]
  },
  {
   "cell_type": "markdown",
   "metadata": {},
   "source": [
    "## Spawn"
   ]
  },
  {
   "cell_type": "code",
   "execution_count": null,
   "metadata": {},
   "outputs": [],
   "source": [
    "out_dir = '/home/francesco/Documents/Master-Thesis/papers/Thesis/img/3/spawn/'"
   ]
  },
  {
   "cell_type": "code",
   "execution_count": null,
   "metadata": {},
   "outputs": [],
   "source": [
    "from simulation.env.spawn import FlatGroundSpawnStrategy"
   ]
  },
  {
   "cell_type": "code",
   "execution_count": null,
   "metadata": {},
   "outputs": [],
   "source": [
    "spawn_strat = FlatGroundSpawnStrategy('./maps/train/bars1.png')"
   ]
  },
  {
   "cell_type": "code",
   "execution_count": null,
   "metadata": {
    "scrolled": true
   },
   "outputs": [],
   "source": [
    "flat_pos = spawn_strat.find_spawn_points(40)\n",
    "fig = spawn_strat.show_spawn_pos(flat_pos)\n",
    "figsave(fig, out_dir + '/flat-spawn-10.png')"
   ]
  },
  {
   "cell_type": "code",
   "execution_count": null,
   "metadata": {},
   "outputs": [],
   "source": [
    "spawn_pos = spawn_strat.reduce_positions_by_clustering(flat_pos, 20)\n",
    "fig = spawn_strat.show_spawn_pos(spawn_pos)\n",
    "figsave(fig, out_dir + '/spawn-10.png')"
   ]
  },
  {
   "cell_type": "code",
   "execution_count": 2,
   "metadata": {},
   "outputs": [],
   "source": [
    "import glob"
   ]
  },
  {
   "cell_type": "code",
   "execution_count": 10,
   "metadata": {},
   "outputs": [],
   "source": [
    "def make_subfigure(img_path, make_caption, size):\n",
    "     return \"\\begin{{subfigure}}[b]{{}\\textwidth}\\includegraphics[width=\\linewidth]{{}}\\end{{subfigure}}\".format(size, img_path)\n"
   ]
  },
  {
   "cell_type": "markdown",
   "metadata": {},
   "source": [
    "## Generate latex for quarry patches"
   ]
  },
  {
   "cell_type": "code",
   "execution_count": 36,
   "metadata": {
    "scrolled": false
   },
   "outputs": [
    {
     "name": "stdout",
     "output_type": "stream",
     "text": [
      "\\begin{figure}\n",
      "\\centering\n",
      "\\begin{subfigure}[b]{0.19\\textwidth}\n",
      "\\includegraphics[width=\\linewidth]{../img/5/quarry/all/best/35-patch-3d-majavi-colormap-0.png}\n",
      "\\caption{$35$cm}\n",
      "\\end{subfigure}\n",
      "\\begin{subfigure}[b]{0.19\\textwidth}\n",
      "\\includegraphics[width=\\linewidth]{../img/5/quarry/all/best/38-patch-3d-majavi-colormap-1.png}\n",
      "\\caption{$38$cm}\n",
      "\\end{subfigure}\n",
      "\\begin{subfigure}[b]{0.19\\textwidth}\n",
      "\\includegraphics[width=\\linewidth]{../img/5/quarry/all/best/44-patch-3d-majavi-colormap-2.png}\n",
      "\\caption{$44$cm}\n",
      "\\end{subfigure}\n",
      "\\begin{subfigure}[b]{0.19\\textwidth}\n",
      "\\includegraphics[width=\\linewidth]{../img/5/quarry/all/best/45-patch-3d-majavi-colormap-3.png}\n",
      "\\caption{$45$cm}\n",
      "\\end{subfigure}\n",
      "\\begin{subfigure}[b]{0.19\\textwidth}\n",
      "\\includegraphics[width=\\linewidth]{../img/5/quarry/all/best/49-patch-3d-majavi-colormap-4.png}\n",
      "\\caption{$49$cm}\n",
      "\\end{subfigure}\n",
      "\\begin{subfigure}[b]{0.19\\textwidth}\n",
      "\\includegraphics[width=\\linewidth]{../img/5/quarry/all/best/51-patch-3d-majavi-colormap-5.png}\n",
      "\\caption{$51$cm}\n",
      "\\end{subfigure}\n",
      "\\begin{subfigure}[b]{0.19\\textwidth}\n",
      "\\includegraphics[width=\\linewidth]{../img/5/quarry/all/best/65-patch-3d-majavi-colormap-6.png}\n",
      "\\caption{$65$cm}\n",
      "\\end{subfigure}\n",
      "\\begin{subfigure}[b]{0.19\\textwidth}\n",
      "\\includegraphics[width=\\linewidth]{../img/5/quarry/all/best/67-patch-3d-majavi-colormap-7.png}\n",
      "\\caption{$67$cm}\n",
      "\\end{subfigure}\n",
      "\\begin{subfigure}[b]{0.19\\textwidth}\n",
      "\\includegraphics[width=\\linewidth]{../img/5/quarry/all/best/67-patch-3d-majavi-colormap-8.png}\n",
      "\\caption{$67$cm}\n",
      "\\end{subfigure}\n",
      "\\begin{subfigure}[b]{0.19\\textwidth}\n",
      "\\includegraphics[width=\\linewidth]{../img/5/quarry/all/best/72-patch-3d-majavi-colormap-9.png}\n",
      "\\caption{$72$cm}\n",
      "\\end{subfigure}\n",
      "\\end{figure}\n"
     ]
    }
   ],
   "source": [
    "import glob\n",
    "ps = sorted(glob.glob('/home/francesco/Documents/Master-Thesis/papers/Thesis/img/5/quarry/all/best/*.png'))\n",
    "from os import path\n",
    "\n",
    "base_dir = '../img/5/quarry/all/best/'\n",
    "size =0.19\n",
    "\n",
    "print('\\\\begin{figure}')\n",
    "print('\\\\centering')\n",
    "for s in ps:\n",
    "    print('\\\\begin{{subfigure}}[b]{{{}\\\\textwidth}}'.format(size))\n",
    "    print('\\\\includegraphics[width=\\linewidth]{{{}}}'.format(base_dir + path.basename(s)))\n",
    "    print('\\\\caption{{${}$cm}}'.format(path.basename(s)[0:2]))\n",
    "    print('\\\\end{subfigure}')\n",
    "    \n",
    "print('\\\\end{figure}')\n"
   ]
  },
  {
   "cell_type": "code",
   "execution_count": 27,
   "metadata": {
    "scrolled": false
   },
   "outputs": [],
   "source": [
    "import glob\n",
    "\n",
    "class PatchesLatexFigure():\n",
    "    def __init__(self, images_paths, advancements):\n",
    "        self.images_paths = images_paths\n",
    "        self.advancements = advancements\n",
    "    def __call__(self, base_dir, total=None, rows=1, label=None):\n",
    "    #     ps.reverse()\n",
    "        from os import path\n",
    "\n",
    "        base_dir = base_dir\n",
    "        size = 0.96  / total * rows\n",
    "        skip_every = 1 if total is None else len(self.images_paths) // 20\n",
    "#         print('[INFO] skipping every = {}'.format(skip_every))\n",
    "        ps = self.images_paths[::skip_every]\n",
    "        advs = self.advancements[::skip_every]\n",
    "        print('\\\\begin{figure}[H]')\n",
    "        print('\\\\centering')\n",
    "        for i, s in enumerate(ps):\n",
    "            print('\\\\begin{{subfigure}}[b]{{{:.3f}\\\\linewidth}}'.format(size))\n",
    "            print('\\\\includegraphics[width=\\linewidth]{{{}}}'.format(base_dir + path.basename(s)))\n",
    "            if self.advancements:\n",
    "                print('\\\\caption{{{:.2f}cm}}'.format(advs[i]))\n",
    "                if label is not None: print('\\\\label{{fig : {}-{}}}'.format(label, i))\n",
    "\n",
    "            print('\\\\end{subfigure}')\n",
    "        \n",
    "        if label is not None: print('\\\\label{{fig : {}}}'.format(label))\n",
    "        print('\\\\end{figure}')\n",
    "        \n",
    "    @classmethod\n",
    "    def from_meta_path(cls, meta_path):\n",
    "        meta = pd.read_csv(meta_path)\n",
    "        return cls.from_meta(meta)\n",
    "        \n",
    "    @classmethod\n",
    "    def from_meta(cls, meta):\n",
    "        meta = meta.sort_values('advancement')\n",
    "        return cls(list(meta['images']), list(meta['advancement']))\n",
    "        \n",
    "\n",
    "\n",
    "# ps = sorted(glob.glob('/home/francesco/Documents/Master-Thesis/papers/Thesis/img/5/custom_patches/walls_front/all/*.png'))\n",
    "# make_figure_from_paths(ps[::5])"
   ]
  },
  {
   "cell_type": "markdown",
   "metadata": {},
   "source": [
    "### Quarry best"
   ]
  },
  {
   "cell_type": "code",
   "execution_count": 29,
   "metadata": {
    "scrolled": false
   },
   "outputs": [
    {
     "name": "stdout",
     "output_type": "stream",
     "text": [
      "\\begin{figure}[H]\n",
      "\\centering\n",
      "\\begin{subfigure}[b]{0.192\\linewidth}\n",
      "\\includegraphics[width=\\linewidth]{../img/5/quarry/best/20-patch-3d-majavi-colormap-0.png}\n",
      "\\caption{0.20cm}\n",
      "\\label{fig : quarry-best-0}\n",
      "\\end{subfigure}\n",
      "\\begin{subfigure}[b]{0.192\\linewidth}\n",
      "\\includegraphics[width=\\linewidth]{../img/5/quarry/best/25-patch-3d-majavi-colormap-10.png}\n",
      "\\caption{0.26cm}\n",
      "\\label{fig : quarry-best-1}\n",
      "\\end{subfigure}\n",
      "\\begin{subfigure}[b]{0.192\\linewidth}\n",
      "\\includegraphics[width=\\linewidth]{../img/5/quarry/best/30-patch-3d-majavi-colormap-20.png}\n",
      "\\caption{0.30cm}\n",
      "\\label{fig : quarry-best-2}\n",
      "\\end{subfigure}\n",
      "\\begin{subfigure}[b]{0.192\\linewidth}\n",
      "\\includegraphics[width=\\linewidth]{../img/5/quarry/best/34-patch-3d-majavi-colormap-30.png}\n",
      "\\caption{0.35cm}\n",
      "\\label{fig : quarry-best-3}\n",
      "\\end{subfigure}\n",
      "\\begin{subfigure}[b]{0.192\\linewidth}\n",
      "\\includegraphics[width=\\linewidth]{../img/5/quarry/best/38-patch-3d-majavi-colormap-40.png}\n",
      "\\caption{0.38cm}\n",
      "\\label{fig : quarry-best-4}\n",
      "\\end{subfigure}\n",
      "\\begin{subfigure}[b]{0.192\\linewidth}\n",
      "\\includegraphics[width=\\linewidth]{../img/5/quarry/best/41-patch-3d-majavi-colormap-50.png}\n",
      "\\caption{0.41cm}\n",
      "\\label{fig : quarry-best-5}\n",
      "\\end{subfigure}\n",
      "\\begin{subfigure}[b]{0.192\\linewidth}\n",
      "\\includegraphics[width=\\linewidth]{../img/5/quarry/best/44-patch-3d-majavi-colormap-60.png}\n",
      "\\caption{0.44cm}\n",
      "\\label{fig : quarry-best-6}\n",
      "\\end{subfigure}\n",
      "\\begin{subfigure}[b]{0.192\\linewidth}\n",
      "\\includegraphics[width=\\linewidth]{../img/5/quarry/best/46-patch-3d-majavi-colormap-70.png}\n",
      "\\caption{0.47cm}\n",
      "\\label{fig : quarry-best-7}\n",
      "\\end{subfigure}\n",
      "\\begin{subfigure}[b]{0.192\\linewidth}\n",
      "\\includegraphics[width=\\linewidth]{../img/5/quarry/best/49-patch-3d-majavi-colormap-80.png}\n",
      "\\caption{0.49cm}\n",
      "\\label{fig : quarry-best-8}\n",
      "\\end{subfigure}\n",
      "\\begin{subfigure}[b]{0.192\\linewidth}\n",
      "\\includegraphics[width=\\linewidth]{../img/5/quarry/best/51-patch-3d-majavi-colormap-90.png}\n",
      "\\caption{0.52cm}\n",
      "\\label{fig : quarry-best-9}\n",
      "\\end{subfigure}\n",
      "\\begin{subfigure}[b]{0.192\\linewidth}\n",
      "\\includegraphics[width=\\linewidth]{../img/5/quarry/best/54-patch-3d-majavi-colormap-100.png}\n",
      "\\caption{0.54cm}\n",
      "\\label{fig : quarry-best-10}\n",
      "\\end{subfigure}\n",
      "\\begin{subfigure}[b]{0.192\\linewidth}\n",
      "\\includegraphics[width=\\linewidth]{../img/5/quarry/best/56-patch-3d-majavi-colormap-110.png}\n",
      "\\caption{0.57cm}\n",
      "\\label{fig : quarry-best-11}\n",
      "\\end{subfigure}\n",
      "\\begin{subfigure}[b]{0.192\\linewidth}\n",
      "\\includegraphics[width=\\linewidth]{../img/5/quarry/best/58-patch-3d-majavi-colormap-120.png}\n",
      "\\caption{0.59cm}\n",
      "\\label{fig : quarry-best-12}\n",
      "\\end{subfigure}\n",
      "\\begin{subfigure}[b]{0.192\\linewidth}\n",
      "\\includegraphics[width=\\linewidth]{../img/5/quarry/best/60-patch-3d-majavi-colormap-130.png}\n",
      "\\caption{0.60cm}\n",
      "\\label{fig : quarry-best-13}\n",
      "\\end{subfigure}\n",
      "\\begin{subfigure}[b]{0.192\\linewidth}\n",
      "\\includegraphics[width=\\linewidth]{../img/5/quarry/best/62-patch-3d-majavi-colormap-140.png}\n",
      "\\caption{0.62cm}\n",
      "\\label{fig : quarry-best-14}\n",
      "\\end{subfigure}\n",
      "\\begin{subfigure}[b]{0.192\\linewidth}\n",
      "\\includegraphics[width=\\linewidth]{../img/5/quarry/best/63-patch-3d-majavi-colormap-150.png}\n",
      "\\caption{0.64cm}\n",
      "\\label{fig : quarry-best-15}\n",
      "\\end{subfigure}\n",
      "\\begin{subfigure}[b]{0.192\\linewidth}\n",
      "\\includegraphics[width=\\linewidth]{../img/5/quarry/best/65-patch-3d-majavi-colormap-160.png}\n",
      "\\caption{0.66cm}\n",
      "\\label{fig : quarry-best-16}\n",
      "\\end{subfigure}\n",
      "\\begin{subfigure}[b]{0.192\\linewidth}\n",
      "\\includegraphics[width=\\linewidth]{../img/5/quarry/best/67-patch-3d-majavi-colormap-170.png}\n",
      "\\caption{0.67cm}\n",
      "\\label{fig : quarry-best-17}\n",
      "\\end{subfigure}\n",
      "\\begin{subfigure}[b]{0.192\\linewidth}\n",
      "\\includegraphics[width=\\linewidth]{../img/5/quarry/best/68-patch-3d-majavi-colormap-180.png}\n",
      "\\caption{0.68cm}\n",
      "\\label{fig : quarry-best-18}\n",
      "\\end{subfigure}\n",
      "\\begin{subfigure}[b]{0.192\\linewidth}\n",
      "\\includegraphics[width=\\linewidth]{../img/5/quarry/best/70-patch-3d-majavi-colormap-190.png}\n",
      "\\caption{0.70cm}\n",
      "\\label{fig : quarry-best-19}\n",
      "\\end{subfigure}\n",
      "\\label{fig : quarry-best}\n",
      "\\end{figure}\n"
     ]
    }
   ],
   "source": [
    "fig = PatchesLatexFigure.from_meta_path('/home/francesco/Documents/Master-Thesis/papers/Thesis/img/5/quarry/best/meta.csv')\n",
    "fig('../img/5/quarry/best/', total=20, rows=4, label='quarry-best')"
   ]
  },
  {
   "cell_type": "code",
   "execution_count": 24,
   "metadata": {},
   "outputs": [
    {
     "name": "stdout",
     "output_type": "stream",
     "text": [
      "\\begin{figure}[H]\n",
      "\\centering\n",
      "\\begin{subfigure}[b]{0.192\\linewidth}\n",
      "\\includegraphics[width=\\linewidth]{../img/5/quarry/worst/-35-patch-3d-majavi-colormap-0.png}\n",
      "\\caption{-0.36cm}\n",
      "\\end{subfigure}\n",
      "\\begin{subfigure}[b]{0.192\\linewidth}\n",
      "\\includegraphics[width=\\linewidth]{../img/5/quarry/worst/-7-patch-3d-majavi-colormap-10.png}\n",
      "\\caption{-0.08cm}\n",
      "\\end{subfigure}\n",
      "\\begin{subfigure}[b]{0.192\\linewidth}\n",
      "\\includegraphics[width=\\linewidth]{../img/5/quarry/worst/-4-patch-3d-majavi-colormap-20.png}\n",
      "\\caption{-0.05cm}\n",
      "\\end{subfigure}\n",
      "\\begin{subfigure}[b]{0.192\\linewidth}\n",
      "\\includegraphics[width=\\linewidth]{../img/5/quarry/worst/-3-patch-3d-majavi-colormap-30.png}\n",
      "\\caption{-0.03cm}\n",
      "\\end{subfigure}\n",
      "\\begin{subfigure}[b]{0.192\\linewidth}\n",
      "\\includegraphics[width=\\linewidth]{../img/5/quarry/worst/-2-patch-3d-majavi-colormap-40.png}\n",
      "\\caption{-0.02cm}\n",
      "\\end{subfigure}\n",
      "\\begin{subfigure}[b]{0.192\\linewidth}\n",
      "\\includegraphics[width=\\linewidth]{../img/5/quarry/worst/-1-patch-3d-majavi-colormap-50.png}\n",
      "\\caption{-0.01cm}\n",
      "\\end{subfigure}\n",
      "\\begin{subfigure}[b]{0.192\\linewidth}\n",
      "\\includegraphics[width=\\linewidth]{../img/5/quarry/worst/00-patch-3d-majavi-colormap-60.png}\n",
      "\\caption{-0.01cm}\n",
      "\\end{subfigure}\n",
      "\\begin{subfigure}[b]{0.192\\linewidth}\n",
      "\\includegraphics[width=\\linewidth]{../img/5/quarry/worst/00-patch-3d-majavi-colormap-70.png}\n",
      "\\caption{0.00cm}\n",
      "\\end{subfigure}\n",
      "\\begin{subfigure}[b]{0.192\\linewidth}\n",
      "\\includegraphics[width=\\linewidth]{../img/5/quarry/worst/00-patch-3d-majavi-colormap-80.png}\n",
      "\\caption{0.01cm}\n",
      "\\end{subfigure}\n",
      "\\begin{subfigure}[b]{0.192\\linewidth}\n",
      "\\includegraphics[width=\\linewidth]{../img/5/quarry/worst/01-patch-3d-majavi-colormap-90.png}\n",
      "\\caption{0.02cm}\n",
      "\\end{subfigure}\n",
      "\\begin{subfigure}[b]{0.192\\linewidth}\n",
      "\\includegraphics[width=\\linewidth]{../img/5/quarry/worst/02-patch-3d-majavi-colormap-100.png}\n",
      "\\caption{0.02cm}\n",
      "\\end{subfigure}\n",
      "\\begin{subfigure}[b]{0.192\\linewidth}\n",
      "\\includegraphics[width=\\linewidth]{../img/5/quarry/worst/03-patch-3d-majavi-colormap-110.png}\n",
      "\\caption{0.03cm}\n",
      "\\end{subfigure}\n",
      "\\begin{subfigure}[b]{0.192\\linewidth}\n",
      "\\includegraphics[width=\\linewidth]{../img/5/quarry/worst/04-patch-3d-majavi-colormap-120.png}\n",
      "\\caption{0.05cm}\n",
      "\\end{subfigure}\n",
      "\\begin{subfigure}[b]{0.192\\linewidth}\n",
      "\\includegraphics[width=\\linewidth]{../img/5/quarry/worst/06-patch-3d-majavi-colormap-130.png}\n",
      "\\caption{0.06cm}\n",
      "\\end{subfigure}\n",
      "\\begin{subfigure}[b]{0.192\\linewidth}\n",
      "\\includegraphics[width=\\linewidth]{../img/5/quarry/worst/07-patch-3d-majavi-colormap-140.png}\n",
      "\\caption{0.08cm}\n",
      "\\end{subfigure}\n",
      "\\begin{subfigure}[b]{0.192\\linewidth}\n",
      "\\includegraphics[width=\\linewidth]{../img/5/quarry/worst/09-patch-3d-majavi-colormap-150.png}\n",
      "\\caption{0.10cm}\n",
      "\\end{subfigure}\n",
      "\\begin{subfigure}[b]{0.192\\linewidth}\n",
      "\\includegraphics[width=\\linewidth]{../img/5/quarry/worst/11-patch-3d-majavi-colormap-160.png}\n",
      "\\caption{0.11cm}\n",
      "\\end{subfigure}\n",
      "\\begin{subfigure}[b]{0.192\\linewidth}\n",
      "\\includegraphics[width=\\linewidth]{../img/5/quarry/worst/13-patch-3d-majavi-colormap-170.png}\n",
      "\\caption{0.13cm}\n",
      "\\end{subfigure}\n",
      "\\begin{subfigure}[b]{0.192\\linewidth}\n",
      "\\includegraphics[width=\\linewidth]{../img/5/quarry/worst/15-patch-3d-majavi-colormap-180.png}\n",
      "\\caption{0.15cm}\n",
      "\\end{subfigure}\n",
      "\\begin{subfigure}[b]{0.192\\linewidth}\n",
      "\\includegraphics[width=\\linewidth]{../img/5/quarry/worst/17-patch-3d-majavi-colormap-190.png}\n",
      "\\caption{0.17cm}\n",
      "\\end{subfigure}\n",
      "\\begin{subfigure}[b]{0.192\\linewidth}\n",
      "\\includegraphics[width=\\linewidth]{../img/5/quarry/worst/19-patch-3d-majavi-colormap-200.png}\n",
      "\\caption{0.20cm}\n",
      "\\end{subfigure}\n",
      "\\end{figure}\n"
     ]
    }
   ],
   "source": [
    "fig = PatchesLatexFigure.from_meta_path('/home/francesco/Documents/Master-Thesis/papers/Thesis/img/5/quarry/worst/meta.csv')\n",
    "fig('../img/5/quarry/worst/', total=20, rows=4)"
   ]
  },
  {
   "cell_type": "code",
   "execution_count": 25,
   "metadata": {},
   "outputs": [
    {
     "name": "stdout",
     "output_type": "stream",
     "text": [
      "\\begin{figure}[H]\n",
      "\\centering\n",
      "\\begin{subfigure}[b]{0.192\\linewidth}\n",
      "\\includegraphics[width=\\linewidth]{../img/5/quarry/false_negative/-14-patch-3d-majavi-colormap-0.png}\n",
      "\\caption{-0.14cm}\n",
      "\\end{subfigure}\n",
      "\\begin{subfigure}[b]{0.192\\linewidth}\n",
      "\\includegraphics[width=\\linewidth]{../img/5/quarry/false_negative/-6-patch-3d-majavi-colormap-10.png}\n",
      "\\caption{-0.07cm}\n",
      "\\end{subfigure}\n",
      "\\begin{subfigure}[b]{0.192\\linewidth}\n",
      "\\includegraphics[width=\\linewidth]{../img/5/quarry/false_negative/-4-patch-3d-majavi-colormap-20.png}\n",
      "\\caption{-0.05cm}\n",
      "\\end{subfigure}\n",
      "\\begin{subfigure}[b]{0.192\\linewidth}\n",
      "\\includegraphics[width=\\linewidth]{../img/5/quarry/false_negative/-2-patch-3d-majavi-colormap-30.png}\n",
      "\\caption{-0.02cm}\n",
      "\\end{subfigure}\n",
      "\\begin{subfigure}[b]{0.192\\linewidth}\n",
      "\\includegraphics[width=\\linewidth]{../img/5/quarry/false_negative/00-patch-3d-majavi-colormap-40.png}\n",
      "\\caption{-0.00cm}\n",
      "\\end{subfigure}\n",
      "\\begin{subfigure}[b]{0.192\\linewidth}\n",
      "\\includegraphics[width=\\linewidth]{../img/5/quarry/false_negative/01-patch-3d-majavi-colormap-50.png}\n",
      "\\caption{0.01cm}\n",
      "\\end{subfigure}\n",
      "\\begin{subfigure}[b]{0.192\\linewidth}\n",
      "\\includegraphics[width=\\linewidth]{../img/5/quarry/false_negative/02-patch-3d-majavi-colormap-60.png}\n",
      "\\caption{0.03cm}\n",
      "\\end{subfigure}\n",
      "\\begin{subfigure}[b]{0.192\\linewidth}\n",
      "\\includegraphics[width=\\linewidth]{../img/5/quarry/false_negative/04-patch-3d-majavi-colormap-70.png}\n",
      "\\caption{0.04cm}\n",
      "\\end{subfigure}\n",
      "\\begin{subfigure}[b]{0.192\\linewidth}\n",
      "\\includegraphics[width=\\linewidth]{../img/5/quarry/false_negative/05-patch-3d-majavi-colormap-80.png}\n",
      "\\caption{0.06cm}\n",
      "\\end{subfigure}\n",
      "\\begin{subfigure}[b]{0.192\\linewidth}\n",
      "\\includegraphics[width=\\linewidth]{../img/5/quarry/false_negative/06-patch-3d-majavi-colormap-90.png}\n",
      "\\caption{0.07cm}\n",
      "\\end{subfigure}\n",
      "\\begin{subfigure}[b]{0.192\\linewidth}\n",
      "\\includegraphics[width=\\linewidth]{../img/5/quarry/false_negative/08-patch-3d-majavi-colormap-100.png}\n",
      "\\caption{0.08cm}\n",
      "\\end{subfigure}\n",
      "\\begin{subfigure}[b]{0.192\\linewidth}\n",
      "\\includegraphics[width=\\linewidth]{../img/5/quarry/false_negative/09-patch-3d-majavi-colormap-110.png}\n",
      "\\caption{0.09cm}\n",
      "\\end{subfigure}\n",
      "\\begin{subfigure}[b]{0.192\\linewidth}\n",
      "\\includegraphics[width=\\linewidth]{../img/5/quarry/false_negative/10-patch-3d-majavi-colormap-120.png}\n",
      "\\caption{0.11cm}\n",
      "\\end{subfigure}\n",
      "\\begin{subfigure}[b]{0.192\\linewidth}\n",
      "\\includegraphics[width=\\linewidth]{../img/5/quarry/false_negative/11-patch-3d-majavi-colormap-130.png}\n",
      "\\caption{0.12cm}\n",
      "\\end{subfigure}\n",
      "\\begin{subfigure}[b]{0.192\\linewidth}\n",
      "\\includegraphics[width=\\linewidth]{../img/5/quarry/false_negative/12-patch-3d-majavi-colormap-140.png}\n",
      "\\caption{0.13cm}\n",
      "\\end{subfigure}\n",
      "\\begin{subfigure}[b]{0.192\\linewidth}\n",
      "\\includegraphics[width=\\linewidth]{../img/5/quarry/false_negative/14-patch-3d-majavi-colormap-150.png}\n",
      "\\caption{0.14cm}\n",
      "\\end{subfigure}\n",
      "\\begin{subfigure}[b]{0.192\\linewidth}\n",
      "\\includegraphics[width=\\linewidth]{../img/5/quarry/false_negative/15-patch-3d-majavi-colormap-160.png}\n",
      "\\caption{0.15cm}\n",
      "\\end{subfigure}\n",
      "\\begin{subfigure}[b]{0.192\\linewidth}\n",
      "\\includegraphics[width=\\linewidth]{../img/5/quarry/false_negative/16-patch-3d-majavi-colormap-170.png}\n",
      "\\caption{0.17cm}\n",
      "\\end{subfigure}\n",
      "\\begin{subfigure}[b]{0.192\\linewidth}\n",
      "\\includegraphics[width=\\linewidth]{../img/5/quarry/false_negative/17-patch-3d-majavi-colormap-180.png}\n",
      "\\caption{0.18cm}\n",
      "\\end{subfigure}\n",
      "\\begin{subfigure}[b]{0.192\\linewidth}\n",
      "\\includegraphics[width=\\linewidth]{../img/5/quarry/false_negative/18-patch-3d-majavi-colormap-190.png}\n",
      "\\caption{0.18cm}\n",
      "\\end{subfigure}\n",
      "\\begin{subfigure}[b]{0.192\\linewidth}\n",
      "\\includegraphics[width=\\linewidth]{../img/5/quarry/false_negative/19-patch-3d-majavi-colormap-200.png}\n",
      "\\caption{0.19cm}\n",
      "\\end{subfigure}\n",
      "\\end{figure}\n"
     ]
    }
   ],
   "source": [
    "fig = PatchesLatexFigure.from_meta_path('/home/francesco/Documents/Master-Thesis/papers/Thesis/img/5/quarry/false_negative/meta.csv')\n",
    "fig('../img/5/quarry/false_negative/', total=20, rows=4)"
   ]
  },
  {
   "cell_type": "code",
   "execution_count": 26,
   "metadata": {},
   "outputs": [
    {
     "name": "stdout",
     "output_type": "stream",
     "text": [
      "\\begin{figure}[H]\n",
      "\\centering\n",
      "\\begin{subfigure}[b]{0.192\\linewidth}\n",
      "\\includegraphics[width=\\linewidth]{../img/5/quarry/false_positive/20-patch-3d-majavi-colormap-0.png}\n",
      "\\caption{0.20cm}\n",
      "\\end{subfigure}\n",
      "\\begin{subfigure}[b]{0.192\\linewidth}\n",
      "\\includegraphics[width=\\linewidth]{../img/5/quarry/false_positive/20-patch-3d-majavi-colormap-12.png}\n",
      "\\caption{0.21cm}\n",
      "\\end{subfigure}\n",
      "\\begin{subfigure}[b]{0.192\\linewidth}\n",
      "\\includegraphics[width=\\linewidth]{../img/5/quarry/false_positive/22-patch-3d-majavi-colormap-24.png}\n",
      "\\caption{0.22cm}\n",
      "\\end{subfigure}\n",
      "\\begin{subfigure}[b]{0.192\\linewidth}\n",
      "\\includegraphics[width=\\linewidth]{../img/5/quarry/false_positive/23-patch-3d-majavi-colormap-36.png}\n",
      "\\caption{0.23cm}\n",
      "\\end{subfigure}\n",
      "\\begin{subfigure}[b]{0.192\\linewidth}\n",
      "\\includegraphics[width=\\linewidth]{../img/5/quarry/false_positive/24-patch-3d-majavi-colormap-48.png}\n",
      "\\caption{0.24cm}\n",
      "\\end{subfigure}\n",
      "\\begin{subfigure}[b]{0.192\\linewidth}\n",
      "\\includegraphics[width=\\linewidth]{../img/5/quarry/false_positive/25-patch-3d-majavi-colormap-60.png}\n",
      "\\caption{0.25cm}\n",
      "\\end{subfigure}\n",
      "\\begin{subfigure}[b]{0.192\\linewidth}\n",
      "\\includegraphics[width=\\linewidth]{../img/5/quarry/false_positive/25-patch-3d-majavi-colormap-72.png}\n",
      "\\caption{0.26cm}\n",
      "\\end{subfigure}\n",
      "\\begin{subfigure}[b]{0.192\\linewidth}\n",
      "\\includegraphics[width=\\linewidth]{../img/5/quarry/false_positive/26-patch-3d-majavi-colormap-84.png}\n",
      "\\caption{0.27cm}\n",
      "\\end{subfigure}\n",
      "\\begin{subfigure}[b]{0.192\\linewidth}\n",
      "\\includegraphics[width=\\linewidth]{../img/5/quarry/false_positive/27-patch-3d-majavi-colormap-96.png}\n",
      "\\caption{0.27cm}\n",
      "\\end{subfigure}\n",
      "\\begin{subfigure}[b]{0.192\\linewidth}\n",
      "\\includegraphics[width=\\linewidth]{../img/5/quarry/false_positive/27-patch-3d-majavi-colormap-108.png}\n",
      "\\caption{0.28cm}\n",
      "\\end{subfigure}\n",
      "\\begin{subfigure}[b]{0.192\\linewidth}\n",
      "\\includegraphics[width=\\linewidth]{../img/5/quarry/false_positive/29-patch-3d-majavi-colormap-120.png}\n",
      "\\caption{0.29cm}\n",
      "\\end{subfigure}\n",
      "\\begin{subfigure}[b]{0.192\\linewidth}\n",
      "\\includegraphics[width=\\linewidth]{../img/5/quarry/false_positive/30-patch-3d-majavi-colormap-132.png}\n",
      "\\caption{0.30cm}\n",
      "\\end{subfigure}\n",
      "\\begin{subfigure}[b]{0.192\\linewidth}\n",
      "\\includegraphics[width=\\linewidth]{../img/5/quarry/false_positive/31-patch-3d-majavi-colormap-144.png}\n",
      "\\caption{0.32cm}\n",
      "\\end{subfigure}\n",
      "\\begin{subfigure}[b]{0.192\\linewidth}\n",
      "\\includegraphics[width=\\linewidth]{../img/5/quarry/false_positive/33-patch-3d-majavi-colormap-156.png}\n",
      "\\caption{0.34cm}\n",
      "\\end{subfigure}\n",
      "\\begin{subfigure}[b]{0.192\\linewidth}\n",
      "\\includegraphics[width=\\linewidth]{../img/5/quarry/false_positive/35-patch-3d-majavi-colormap-168.png}\n",
      "\\caption{0.35cm}\n",
      "\\end{subfigure}\n",
      "\\begin{subfigure}[b]{0.192\\linewidth}\n",
      "\\includegraphics[width=\\linewidth]{../img/5/quarry/false_positive/36-patch-3d-majavi-colormap-180.png}\n",
      "\\caption{0.36cm}\n",
      "\\end{subfigure}\n",
      "\\begin{subfigure}[b]{0.192\\linewidth}\n",
      "\\includegraphics[width=\\linewidth]{../img/5/quarry/false_positive/38-patch-3d-majavi-colormap-192.png}\n",
      "\\caption{0.39cm}\n",
      "\\end{subfigure}\n",
      "\\begin{subfigure}[b]{0.192\\linewidth}\n",
      "\\includegraphics[width=\\linewidth]{../img/5/quarry/false_positive/41-patch-3d-majavi-colormap-204.png}\n",
      "\\caption{0.41cm}\n",
      "\\end{subfigure}\n",
      "\\begin{subfigure}[b]{0.192\\linewidth}\n",
      "\\includegraphics[width=\\linewidth]{../img/5/quarry/false_positive/46-patch-3d-majavi-colormap-216.png}\n",
      "\\caption{0.46cm}\n",
      "\\end{subfigure}\n",
      "\\begin{subfigure}[b]{0.192\\linewidth}\n",
      "\\includegraphics[width=\\linewidth]{../img/5/quarry/false_positive/51-patch-3d-majavi-colormap-228.png}\n",
      "\\caption{0.52cm}\n",
      "\\end{subfigure}\n",
      "\\begin{subfigure}[b]{0.192\\linewidth}\n",
      "\\includegraphics[width=\\linewidth]{../img/5/quarry/false_positive/61-patch-3d-majavi-colormap-240.png}\n",
      "\\caption{0.62cm}\n",
      "\\end{subfigure}\n",
      "\\end{figure}\n"
     ]
    }
   ],
   "source": [
    "fig = PatchesLatexFigure.from_meta_path('/home/francesco/Documents/Master-Thesis/papers/Thesis/img/5/quarry/false_positive/meta.csv')\n",
    "fig('../img/5/quarry/false_positive/', total=20, rows=4)"
   ]
  },
  {
   "cell_type": "code",
   "execution_count": null,
   "metadata": {},
   "outputs": [],
   "source": [
    "fig = PatchesLatexFigure.from_meta_path('/home/francesco/Documents/Master-Thesis/papers/Thesis/img/5/quarry/worst/meta.csv')\n",
    "fig('../img/5/quarry/worst/', total=20, rows=5)"
   ]
  },
  {
   "cell_type": "markdown",
   "metadata": {},
   "source": [
    "## Image from above\n",
    "use in section 2"
   ]
  },
  {
   "cell_type": "code",
   "execution_count": 12,
   "metadata": {},
   "outputs": [
    {
     "name": "stdout",
     "output_type": "stream",
     "text": [
      "Warning: the range of your scalar values differs by more than a factor 100 than the range of the grid values and you did not specify a warp_scale. You could try warp_scale=\"auto\".\n",
      "<mayavi.modules.surface.Surface object at 0x7f8770154990> None\n"
     ]
    },
    {
     "data": {
      "text/plain": [
       "<mayavi.core.scene.Scene at 0x7f87707ae780>"
      ]
     },
     "execution_count": 12,
     "metadata": {},
     "output_type": "execute_result"
    }
   ],
   "source": [
    "hm = '/home/francesco/Documents/Master-Thesis/core/maps/new-train/bumps0.png'\n",
    "im = read_image(hm).astype(np.float32) / 255\n",
    "\n",
    "p = Patch.from_hm(im)\n",
    "p.plot3d_mayavi(0.02, size=(1000, 1000), azimuth=0, elevation=0, distance=20, save_path='/home/francesco/Desktop/bumps0_above.png')\n"
   ]
  },
  {
   "cell_type": "code",
   "execution_count": 7,
   "metadata": {},
   "outputs": [],
   "source": [
    "class MyPatch(Patch):\n",
    "\n",
    "    @classmethod\n",
    "    def from_df(cls, df, how_many, patches_dir):\n",
    "        skip = len(df) // how_many\n",
    "        patches = []\n",
    "        for idx, row in df[::skip].iterrows():\n",
    "            fig = plt.figure()\n",
    "            p = cls.from_path(patches_dir + '/' + row['images'])\n",
    "            p.row = row\n",
    "            patches.append(p)\n",
    "        return patches\n"
   ]
  },
  {
   "cell_type": "markdown",
   "metadata": {},
   "source": [
    "## Crop"
   ]
  },
  {
   "cell_type": "code",
   "execution_count": null,
   "metadata": {},
   "outputs": [],
   "source": [
    "patches_dir = '/media/francesco/saetta/krock-dataset/crop/100/patches'\n",
    "df = pd.read_csv('/media/francesco/saetta/krock-dataset/crop/100/csvs/test.csv')\n",
    "patches = MyPatch.from_df(df, 1, patches_dir)\n",
    "for i, p in enumerate(patches):\n",
    "    # p.plot2d().savefig('{}/2d/{}-{}.png'.format(out_dir, i, p.row['advancement']))\n",
    "    p.plot3d_mayavi(0.02, size=(500, 500), mesh=True,  distance=3.5,\n",
    "                    # colormap='viridis',\n",
    "                    azimuth=0,\n",
    "                    save_path='{}/{}-.png'.format('/home/francesco/Documents/Master-Thesis/papers/Thesis/img/3/crop/', i),\n",
    "                    vmax=1)"
   ]
  }
 ],
 "metadata": {
  "kernelspec": {
   "display_name": "Python 3",
   "language": "python",
   "name": "python3"
  },
  "language_info": {
   "codemirror_mode": {
    "name": "ipython",
    "version": 3
   },
   "file_extension": ".py",
   "mimetype": "text/x-python",
   "name": "python",
   "nbconvert_exporter": "python",
   "pygments_lexer": "ipython3",
   "version": "3.6.7"
  }
 },
 "nbformat": 4,
 "nbformat_minor": 2
}
