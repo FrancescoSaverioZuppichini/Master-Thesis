{
 "cells": [
  {
   "cell_type": "code",
   "execution_count": 4,
   "metadata": {},
   "outputs": [],
   "source": [
    "%reload_ext autoreload\n",
    "%autoreload 2\n",
    "\n",
    "import cv2\n",
    "import matplotlib\n",
    "import pandas as pd\n",
    "import matplotlib.pyplot as plt\n",
    "import seaborn as sns\n",
    "import glob\n",
    "\n",
    "from os import path\n",
    "from utilities.patches import *\n",
    "\n",
    "\n",
    "from jupyterthemes import jtplot\n",
    "jtplot.reset()\n",
    "\n",
    "plt.style.use(['science', 'ieee'])\n",
    "# matplotlib.rcParams['figure.figsize'] = (5,4)\n",
    "get_ipython().config.get('IPKernelApp', {})['parent_appname'] = \"\"\n",
    "\n",
    "def figsave(fig, out_path, ax=None):\n",
    "    if ax is not None:\n",
    "        ax.view_init(elev=20, azim=125)\n",
    "\n",
    "        ax.tick_params(axis = 'both', which = 'major', labelsize = 4, pad=0)\n",
    "        ax.tick_params(axis = 'both', which = 'minor', labelsize = 4, pad=0)\n",
    "#     plt.show()\n",
    "    fig.savefig(out_path, bbox_inches='tight', transparent=True)"
   ]
  },
  {
   "cell_type": "markdown",
   "metadata": {},
   "source": [
    "## Height maps pictures"
   ]
  },
  {
   "cell_type": "code",
   "execution_count": 10,
   "metadata": {},
   "outputs": [],
   "source": [
    "def hmshow(hm, save_path=None):\n",
    "    fig = plt.figure(dpi=800)\n",
    "    plt.tight_layout()\n",
    "    sns.heatmap(hm, cmap=plt.cm.viridis, vmin=0, vmax=1)\n",
    "#     plt.axis('off')\n",
    "    plt.show()\n",
    "    if save_path is not None: fig.savefig(save_path, bbox_inches='tight')\n",
    "    return fig\n",
    "\n",
    "def hmread(path):\n",
    "    hm = cv2.imread(path)\n",
    "    hm = cv2.cvtColor(hm, cv2.COLOR_BGR2GRAY)\n",
    "    return hm\n",
    "\n",
    "def hm_name_from_path(hm):\n",
    "    return path.basename(hm)"
   ]
  },
  {
   "cell_type": "code",
   "execution_count": 3,
   "metadata": {},
   "outputs": [],
   "source": [
    "out_dir = '/home/francesco/Documents/Master-Thesis/papers/Thesis/img/hm/'"
   ]
  },
  {
   "cell_type": "code",
   "execution_count": 5,
   "metadata": {},
   "outputs": [],
   "source": [
    "hms = glob.glob('./maps/new-train/*.png')"
   ]
  },
  {
   "cell_type": "code",
   "execution_count": 5,
   "metadata": {},
   "outputs": [],
   "source": [
    "name2path = {hm_name_from_path(hm) : hm for hm in hms}"
   ]
  },
  {
   "cell_type": "code",
   "execution_count": null,
   "metadata": {
    "scrolled": true
   },
   "outputs": [],
   "source": [
    "hmshow(hmread(hms[0]) / 255, '{}/{}'.format(out_dir, hm_name_from_path(hms[0])))\n",
    "for hm in hms:\n",
    "    hmshow(hmread(hm) / 255, '{}/{}'.format(out_dir, hm_name_from_path(hm)))"
   ]
  },
  {
   "cell_type": "code",
   "execution_count": 14,
   "metadata": {},
   "outputs": [],
   "source": [
    "import mayavi.mlab as mlab\n",
    "\n",
    "class Mayavi3dPlottable():\n",
    "\n",
    "    def plot3d_mayavi(self, pixelsize, save_path=None, size=(1000, 1000)):\n",
    "        fig = mlab.figure(size=size)\n",
    "\n",
    "        fig.scene.background = (1, 1, 1)\n",
    "\n",
    "        y, x = np.meshgrid(np.arange(self.hm.shape[0]) * pixelsize, np.arange(self.hm.shape[1]) * pixelsize)\n",
    "        \n",
    "        s = mlab.surf(x, y, self.hm, color=(1.0,1.0,1.0))\n",
    "    \n",
    "        s.actor.property.interpolation = 'phong'\n",
    "        s.actor.property.specular = 0.0\n",
    "        s.actor.property.specular_power = 10\n",
    "        s.actor.property.ambient_color = (1,1,1)\n",
    "        s.actor.property.diffuse_color = (0.7,0.7,0.7)\n",
    "        s.actor.property.color = (0.7,0.7,0.7)\n",
    "        s.actor.property.ambient = 0.02\n",
    "    \n",
    "#         s = mlab.mesh(x, y, self.hm, colormap='viridis')\n",
    "\n",
    "#         s.actor.property.interpolation = 'phong'\n",
    "#         s.actor.property.specular = 0.0\n",
    "#         s.actor.property.specular_power = 10\n",
    "#         s.actor.property.ambient_color = (1, 1, 1)\n",
    "#         s.actor.property.diffuse_color = (0.7, 0.7, 0.7)\n",
    "#         s.actor.property.color = (0.7, 0.7, 0.7)\n",
    "#         s.actor.property.ambient = 0.02\n",
    "        mlab.view(azimuth=45, elevation=45, distance=25)\n",
    "\n",
    "        if save_path:\n",
    "            mlab.savefig(save_path)\n",
    "            \n",
    "        return fig\n",
    "    \n",
    "class MyPatch(Patch, Mayavi3dPlottable):\n",
    "    pass"
   ]
  },
  {
   "cell_type": "code",
   "execution_count": 15,
   "metadata": {
    "scrolled": true
   },
   "outputs": [
    {
     "name": "stdout",
     "output_type": "stream",
     "text": [
      "Warning: the range of your scalar values differs by more than a factor 100 than the range of the grid values and you did not specify a warp_scale. You could try warp_scale=\"auto\".\n",
      "Warning: the range of your scalar values differs by more than a factor 100 than the range of the grid values and you did not specify a warp_scale. You could try warp_scale=\"auto\".\n",
      "Warning: the range of your scalar values differs by more than a factor 100 than the range of the grid values and you did not specify a warp_scale. You could try warp_scale=\"auto\".\n",
      "Warning: the range of your scalar values differs by more than a factor 100 than the range of the grid values and you did not specify a warp_scale. You could try warp_scale=\"auto\".\n",
      "Warning: the range of your scalar values differs by more than a factor 100 than the range of the grid values and you did not specify a warp_scale. You could try warp_scale=\"auto\".\n",
      "Warning: the range of your scalar values differs by more than a factor 100 than the range of the grid values and you did not specify a warp_scale. You could try warp_scale=\"auto\".\n",
      "Warning: the range of your scalar values differs by more than a factor 100 than the range of the grid values and you did not specify a warp_scale. You could try warp_scale=\"auto\".\n",
      "Warning: the range of your scalar values differs by more than a factor 100 than the range of the grid values and you did not specify a warp_scale. You could try warp_scale=\"auto\".\n",
      "Warning: the range of your scalar values differs by more than a factor 100 than the range of the grid values and you did not specify a warp_scale. You could try warp_scale=\"auto\".\n",
      "Warning: the range of your scalar values differs by more than a factor 100 than the range of the grid values and you did not specify a warp_scale. You could try warp_scale=\"auto\".\n",
      "Warning: the range of your scalar values differs by more than a factor 100 than the range of the grid values and you did not specify a warp_scale. You could try warp_scale=\"auto\".\n",
      "Warning: the range of your scalar values differs by more than a factor 100 than the range of the grid values and you did not specify a warp_scale. You could try warp_scale=\"auto\".\n",
      "Warning: the range of your scalar values differs by more than a factor 100 than the range of the grid values and you did not specify a warp_scale. You could try warp_scale=\"auto\".\n",
      "Warning: the range of your scalar values differs by more than a factor 100 than the range of the grid values and you did not specify a warp_scale. You could try warp_scale=\"auto\".\n",
      "Warning: the range of your scalar values differs by more than a factor 100 than the range of the grid values and you did not specify a warp_scale. You could try warp_scale=\"auto\".\n",
      "Warning: the range of your scalar values differs by more than a factor 100 than the range of the grid values and you did not specify a warp_scale. You could try warp_scale=\"auto\".\n",
      "Warning: the range of your scalar values differs by more than a factor 100 than the range of the grid values and you did not specify a warp_scale. You could try warp_scale=\"auto\".\n",
      "Warning: the range of your scalar values differs by more than a factor 100 than the range of the grid values and you did not specify a warp_scale. You could try warp_scale=\"auto\".\n",
      "Warning: the range of your scalar values differs by more than a factor 100 than the range of the grid values and you did not specify a warp_scale. You could try warp_scale=\"auto\".\n",
      "Warning: the range of your scalar values differs by more than a factor 100 than the range of the grid values and you did not specify a warp_scale. You could try warp_scale=\"auto\".\n",
      "Warning: the range of your scalar values differs by more than a factor 100 than the range of the grid values and you did not specify a warp_scale. You could try warp_scale=\"auto\".\n",
      "Warning: the range of your scalar values differs by more than a factor 100 than the range of the grid values and you did not specify a warp_scale. You could try warp_scale=\"auto\".\n",
      "Warning: the range of your scalar values differs by more than a factor 100 than the range of the grid values and you did not specify a warp_scale. You could try warp_scale=\"auto\".\n",
      "Warning: the range of your scalar values differs by more than a factor 100 than the range of the grid values and you did not specify a warp_scale. You could try warp_scale=\"auto\".\n",
      "Warning: the range of your scalar values differs by more than a factor 100 than the range of the grid values and you did not specify a warp_scale. You could try warp_scale=\"auto\".\n",
      "Warning: the range of your scalar values differs by more than a factor 100 than the range of the grid values and you did not specify a warp_scale. You could try warp_scale=\"auto\".\n",
      "Warning: the range of your scalar values differs by more than a factor 100 than the range of the grid values and you did not specify a warp_scale. You could try warp_scale=\"auto\".\n",
      "Warning: the range of your scalar values differs by more than a factor 100 than the range of the grid values and you did not specify a warp_scale. You could try warp_scale=\"auto\".\n",
      "Warning: the range of your scalar values differs by more than a factor 100 than the range of the grid values and you did not specify a warp_scale. You could try warp_scale=\"auto\".\n",
      "Warning: the range of your scalar values differs by more than a factor 100 than the range of the grid values and you did not specify a warp_scale. You could try warp_scale=\"auto\".\n",
      "Warning: the range of your scalar values differs by more than a factor 100 than the range of the grid values and you did not specify a warp_scale. You could try warp_scale=\"auto\".\n",
      "Warning: the range of your scalar values differs by more than a factor 100 than the range of the grid values and you did not specify a warp_scale. You could try warp_scale=\"auto\".\n",
      "Warning: the range of your scalar values differs by more than a factor 100 than the range of the grid values and you did not specify a warp_scale. You could try warp_scale=\"auto\".\n",
      "Warning: the range of your scalar values differs by more than a factor 100 than the range of the grid values and you did not specify a warp_scale. You could try warp_scale=\"auto\".\n",
      "Warning: the range of your scalar values differs by more than a factor 100 than the range of the grid values and you did not specify a warp_scale. You could try warp_scale=\"auto\".\n",
      "Warning: the range of your scalar values differs by more than a factor 100 than the range of the grid values and you did not specify a warp_scale. You could try warp_scale=\"auto\".\n",
      "Warning: the range of your scalar values differs by more than a factor 100 than the range of the grid values and you did not specify a warp_scale. You could try warp_scale=\"auto\".\n",
      "Warning: the range of your scalar values differs by more than a factor 100 than the range of the grid values and you did not specify a warp_scale. You could try warp_scale=\"auto\".\n"
     ]
    }
   ],
   "source": [
    "from utilities.postprocessing.handlers.functional import read_image\n",
    "out_dir = '/home/francesco/Documents/Master-Thesis/papers/Thesis/img/hm3d/'\n",
    "for hm in hms:\n",
    "    im = read_image(hm).astype(np.float32) / 255\n",
    "    p = MyPatch.from_hm(im)\n",
    "    p.plot3d_mayavi(0.02, '{}/{}'.format(out_dir, hm_name_from_path(hm)))\n",
    "    "
   ]
  },
  {
   "cell_type": "code",
   "execution_count": null,
   "metadata": {
    "scrolled": true
   },
   "outputs": [],
   "source": [
    "# matplotlib.rcParams['figure.figsize'] = (5,4)\n",
    "# matplotlib.rcParams['font.size'] = 6\n",
    "\n",
    "for hm in hms:\n",
    "    fig, ax = Patch.from_hm(hmread(hm) / 255).plot3d(title='', colorbar=True, rstride=1, cstride=1)\n",
    "#     ax.set_aspect(0.5)\n",
    "#     ax.set_zlim(0, 1)\n",
    "    ax.view_init(elev=40, azim=-45)\n",
    "    ax.tick_params(axis = 'both', which = 'major', labelsize = 4, pad=0)\n",
    "    ax.tick_params(axis = 'both', which = 'minor', labelsize = 4, pad=0)\n",
    "    plt.show()\n",
    "\n",
    "    fig.savefig('{}/{}'.format(out_dir, hm_name_from_path(hm)),  bbox_inches = \"tight\", transparent=True)\n",
    "    "
   ]
  },
  {
   "cell_type": "code",
   "execution_count": null,
   "metadata": {},
   "outputs": [],
   "source": [
    "??matplotlib.axes.Axes.tick_params"
   ]
  },
  {
   "cell_type": "code",
   "execution_count": null,
   "metadata": {},
   "outputs": [],
   "source": []
  },
  {
   "cell_type": "code",
   "execution_count": null,
   "metadata": {},
   "outputs": [],
   "source": [
    "hm_slope = './maps/train/slope_rocks1.png'"
   ]
  },
  {
   "cell_type": "code",
   "execution_count": null,
   "metadata": {},
   "outputs": [],
   "source": [
    "hm = './maps/test/querry-big-10.png'\n"
   ]
  },
  {
   "cell_type": "code",
   "execution_count": 22,
   "metadata": {
    "scrolled": false
   },
   "outputs": [
    {
     "data": {
      "text/plain": [
       "<mayavi.core.scene.Scene at 0x7f1cb38f16d0>"
      ]
     },
     "execution_count": 22,
     "metadata": {},
     "output_type": "execute_result"
    }
   ],
   "source": [
    "hm = './maps/test/querry-big-10.png'\n",
    "im = (read_image(hm).astype(np.float32) / 255) * 10\n",
    "\n",
    "p = MyPatch.from_hm(im)\n",
    "p.plot3d_mayavi(0.02, '{}/{}'.format(out_dir, hm_name_from_path(hm)))"
   ]
  },
  {
   "cell_type": "markdown",
   "metadata": {},
   "source": [
    "## Patch pictures\n",
    "### store the patch and map position for some simulations"
   ]
  },
  {
   "cell_type": "code",
   "execution_count": null,
   "metadata": {
    "scrolled": false
   },
   "outputs": [],
   "source": [
    "# %matplotlib notebook\n",
    "matplotlib.rcParams['figure.figsize'] = (8,8)\n",
    "fig = plt.figure()\n",
    "height_factor = 3\n",
    "fig, ax = Patch.from_hm((hmread(hm) / 255)).plot3d(title='', dpi=800,  colorbar=False)\n",
    "ax.view_init(elev=20, azim=125)\n",
    "\n",
    "ax.tick_params(axis = 'both', which = 'major', labelsize = 4, pad=0)\n",
    "ax.tick_params(axis = 'both', which = 'minor', labelsize = 4, pad=0)\n",
    "plt.show()\n",
    "fig.savefig('{}/{}'.format(out_dir, hm_name_from_path(hm)), bbox_inches='tight', transparent=True)"
   ]
  },
  {
   "cell_type": "code",
   "execution_count": null,
   "metadata": {},
   "outputs": [],
   "source": [
    "from utilities.visualisation import *\n",
    "from utilities.postprocessing.utils import KrockPatchExtractStrategy"
   ]
  },
  {
   "cell_type": "markdown",
   "metadata": {},
   "source": [
    "### from the wall map"
   ]
  },
  {
   "cell_type": "code",
   "execution_count": null,
   "metadata": {},
   "outputs": [],
   "source": []
  },
  {
   "cell_type": "code",
   "execution_count": null,
   "metadata": {
    "scrolled": true
   },
   "outputs": [],
   "source": [
    "df_base_dir = '/media/francesco/saetta/krock-dataset/train/csvs_patches/'\n",
    "meta = pd.read_csv('/media/francesco/saetta/krock-dataset/train/bags/meta.csv')\n",
    "meta = meta[meta['map'] == 'bars1']\n",
    "hm_dir = '/media/francesco/saetta/krock-dataset/train/patches/'"
   ]
  },
  {
   "cell_type": "code",
   "execution_count": null,
   "metadata": {},
   "outputs": [],
   "source": [
    "df = pd.read_csv('{}/{}.csv'.format(df_base_dir, meta['filename'].iloc[0]))\n",
    "# for some reason map name is missing\n",
    "df['map_name'] = 'bars1'\n",
    "hm = hmread('./maps/train/bars1.png')"
   ]
  },
  {
   "cell_type": "code",
   "execution_count": null,
   "metadata": {},
   "outputs": [],
   "source": [
    "df_vis = PatchesAndDataframeVisualization(df,hm, patch_extractor=KrockPatchExtractStrategy)"
   ]
  },
  {
   "cell_type": "code",
   "execution_count": null,
   "metadata": {},
   "outputs": [],
   "source": [
    "%matplotlib notebook\n",
    "df_vis.show_patches_on_the_map(df=df_vis.df[0:4], compress=False)"
   ]
  },
  {
   "cell_type": "markdown",
   "metadata": {},
   "source": [
    "# Data aug"
   ]
  },
  {
   "cell_type": "code",
   "execution_count": null,
   "metadata": {},
   "outputs": [],
   "source": [
    "out_dir = '/home/francesco/Documents/Master-Thesis/papers/Thesis/img/data-aug/'"
   ]
  },
  {
   "cell_type": "code",
   "execution_count": null,
   "metadata": {},
   "outputs": [],
   "source": [
    "from estimators.data.transformations import *"
   ]
  },
  {
   "cell_type": "code",
   "execution_count": null,
   "metadata": {},
   "outputs": [],
   "source": [
    "from utilities.patches import *\n",
    "\n",
    "class SquareInTheMiddlePatch(Patch):\n",
    "    def make(self, size=4, *args, **kwargs):\n",
    "#         here we can access the .hm filled with zeros\n",
    "        self.hm[self.shape[0] // 2 - size : self.shape[0] // 2 + size, self.shape[1] // 2 - size: self.shape[0] // 2 + size] = 1\n",
    "        return self.hm"
   ]
  },
  {
   "cell_type": "markdown",
   "metadata": {},
   "source": [
    "## Center patch\n"
   ]
  },
  {
   "cell_type": "code",
   "execution_count": null,
   "metadata": {},
   "outputs": [],
   "source": [
    "center_p = SquareInTheMiddlePatch((100,100))(size=25)\n"
   ]
  },
  {
   "cell_type": "code",
   "execution_count": null,
   "metadata": {},
   "outputs": [],
   "source": [
    "center_p = SquareInTheMiddlePatch((100,100))(size=25)\n",
    "\n",
    "fig, ax = center_p.plot3d(rstride=1, cstride=1)\n",
    "\n",
    "figsave(fig, out_dir +'/3d/square-middle.png', ax)\n",
    "\n",
    "fig = center_p.plot2d()\n",
    "figsave(fig, out_dir +'/2d/square-middle.png', None)\n"
   ]
  },
  {
   "cell_type": "code",
   "execution_count": null,
   "metadata": {
    "scrolled": false
   },
   "outputs": [],
   "source": [
    "transform = CenterAndScalePatch()\n",
    "\n",
    "center_p_tr = transform(center_p.hm)\n",
    "center_p_tr = Patch.from_hm(center_p_tr)\n",
    "\n",
    "fig, ax = center_p_tr.plot3d(rstride=1, cstride=1)\n",
    "\n",
    "figsave(fig, out_dir +'/3d/square-middle-center.png', ax)\n",
    "\n",
    "fig = center_p_tr.plot2d()\n",
    "figsave(fig, out_dir +'/2d/square-middle-center.png', None)\n",
    "# plt.show()"
   ]
  },
  {
   "cell_type": "markdown",
   "metadata": {},
   "source": [
    "## Data-aug"
   ]
  },
  {
   "cell_type": "markdown",
   "metadata": {},
   "source": [
    "### Simplex noise"
   ]
  },
  {
   "cell_type": "code",
   "execution_count": null,
   "metadata": {},
   "outputs": [],
   "source": [
    "random_simplex_noise = RandomSimplexNoise((100,100), n=5)"
   ]
  },
  {
   "cell_type": "code",
   "execution_count": null,
   "metadata": {},
   "outputs": [],
   "source": [
    "flat_path = Patch((100,100))"
   ]
  },
  {
   "cell_type": "code",
   "execution_count": null,
   "metadata": {},
   "outputs": [],
   "source": [
    "center_p_simplex = Patch.from_hm(im2simplex(flat_path.hm.copy(), feature_size=5, scale=8))"
   ]
  },
  {
   "cell_type": "code",
   "execution_count": null,
   "metadata": {
    "scrolled": true
   },
   "outputs": [],
   "source": [
    "for i in range(1,5):\n",
    "    center_p_simplex = Patch.from_hm(im2simplex(flat_path.hm.copy(), feature_size=10 * (i + 1), scale=8))\n",
    "#     fig, ax = center_p_simplex.plot3d(rstride=1, cstride=1)\n",
    "#     figsave(fig out_dir + '/3d/simplex{}.png'.format(i), ax)\n",
    "    fig, ax = center_p_simplex.plot3d()\n",
    "#     fig = plt.gcf()\n",
    "    figsave(fig, out_dir + '/3d/simplex{}.png'.format(i), ax)\n"
   ]
  },
  {
   "cell_type": "markdown",
   "metadata": {},
   "source": [
    "### Dropout"
   ]
  },
  {
   "cell_type": "code",
   "execution_count": null,
   "metadata": {},
   "outputs": [],
   "source": [
    "center_p.plot2d()"
   ]
  },
  {
   "cell_type": "code",
   "execution_count": null,
   "metadata": {
    "scrolled": false
   },
   "outputs": [],
   "source": [
    "# wall_p = WallPatch((100,100), size=8)()\n",
    "wall_p = center_p\n",
    "wall_p_dp = Patch.from_hm(iaa.Dropout(p=(0.05, 0.1)).augment_image(wall_p.hm))\n",
    "\n",
    "fig = wall_p_dp.plot2d()\n",
    "figsave(fig, out_dir + '/2d/center-dropout.png')"
   ]
  },
  {
   "cell_type": "markdown",
   "metadata": {},
   "source": [
    "### Croase Dropout"
   ]
  },
  {
   "cell_type": "code",
   "execution_count": null,
   "metadata": {
    "scrolled": false
   },
   "outputs": [],
   "source": [
    "# wall_p = WallPatch((100,100), size=8)()\n",
    "wall_p_dp = Patch.from_hm(iaa.CoarseDropout((0.02, 0.1),size_percent=(0.6, 0.8)).augment_image(wall_p.hm))\n",
    "\n",
    "fig = wall_p_dp.plot2d()\n",
    "plt.show()\n",
    "figsave(fig, out_dir + '/2d/center-coarse-dropout.png')"
   ]
  },
  {
   "cell_type": "code",
   "execution_count": null,
   "metadata": {
    "scrolled": true
   },
   "outputs": [],
   "source": [
    "x = Patch.from_hm(im2simplex(center_p.hm.copy(), feature_size=25, scale=8))\n",
    "fig = x.plot2d()\n",
    "plt.show()\n",
    "figsave(fig, out_dir + '/2d/center-simplex.png')"
   ]
  },
  {
   "cell_type": "code",
   "execution_count": null,
   "metadata": {},
   "outputs": [],
   "source": [
    "x = RampPatch((100,100))()\n",
    "\n",
    "fig = x.plot2d()\n",
    "figsave(fig, out_dir + '/2d/ramp.png')\n",
    "\n",
    "x = iaa.Dropout(p=(0.05, 0.1)).augment_image(x.hm)\n",
    "x = iaa.CoarseDropout((0.02, 0.1),size_percent=(0.6, 0.8)).augment_image(x)\n",
    "x = im2simplex(x.copy(), scale=8)\n",
    "\n",
    "x = Patch.from_hm(x)\n",
    "\n",
    "fig = x.plot2d()\n",
    "# x.plot3d()\n",
    "\n",
    "figsave(fig, out_dir + '/2d/ramp-aug.png')"
   ]
  },
  {
   "cell_type": "markdown",
   "metadata": {},
   "source": [
    "## Spawn"
   ]
  },
  {
   "cell_type": "code",
   "execution_count": null,
   "metadata": {},
   "outputs": [],
   "source": [
    "out_dir = '/home/francesco/Documents/Master-Thesis/papers/Thesis/img/3/spawn/'"
   ]
  },
  {
   "cell_type": "code",
   "execution_count": null,
   "metadata": {},
   "outputs": [],
   "source": [
    "from simulation.env.spawn import FlatGroundSpawnStrategy"
   ]
  },
  {
   "cell_type": "code",
   "execution_count": null,
   "metadata": {},
   "outputs": [],
   "source": [
    "spawn_strat = FlatGroundSpawnStrategy('./maps/train/bars1.png')"
   ]
  },
  {
   "cell_type": "code",
   "execution_count": null,
   "metadata": {
    "scrolled": true
   },
   "outputs": [],
   "source": [
    "flat_pos = spawn_strat.find_spawn_points(40)\n",
    "fig = spawn_strat.show_spawn_pos(flat_pos)\n",
    "figsave(fig, out_dir + '/flat-spawn-10.png')"
   ]
  },
  {
   "cell_type": "code",
   "execution_count": null,
   "metadata": {},
   "outputs": [],
   "source": [
    "spawn_pos = spawn_strat.reduce_positions_by_clustering(flat_pos, 20)\n",
    "fig = spawn_strat.show_spawn_pos(spawn_pos)\n",
    "figsave(fig, out_dir + '/spawn-10.png')"
   ]
  },
  {
   "cell_type": "code",
   "execution_count": null,
   "metadata": {},
   "outputs": [],
   "source": []
  }
 ],
 "metadata": {
  "kernelspec": {
   "display_name": "Python 3",
   "language": "python",
   "name": "python3"
  }
 },
 "nbformat": 4,
 "nbformat_minor": 2
}
