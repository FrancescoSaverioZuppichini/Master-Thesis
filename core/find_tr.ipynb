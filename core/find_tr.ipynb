{
 "cells": [
  {
   "cell_type": "markdown",
   "metadata": {},
   "source": [
    "# Find Treshold"
   ]
  },
  {
   "cell_type": "code",
   "execution_count": 12,
   "metadata": {
    "scrolled": false
   },
   "outputs": [],
   "source": [
    "%reload_ext autoreload\n",
    "%autoreload 2\n",
    "import torch\n",
    "import matplotlib.pyplot as plt\n",
    "from estimators.data import TraversabilityDataset, get_transform\n",
    "from estimators.data.TraversabilityDataset import PatchesDataset\n",
    "from estimators.utils import get_learner\n",
    "from utilities.postprocessing.utils import KrockPatchExtractStrategy\n",
    "from utilities.patches import *\n",
    "from interpretability import *\n",
    "from utilities.patches import *\n",
    "from jupyterthemes import jtplot\n",
    "from estimators.utils import load_model_from_name\n",
    "import matplotlib\n",
    "from utilities.visualisation import DataFrameVisualization\n",
    "import os\n",
    "\n",
    "from jupyterthemes import jtplot\n",
    "jtplot.reset()\n",
    "#\n",
    "plt.style.use(['science'])\n",
    "matplotlib.rcParams['figure.figsize'] = (12,10)\n",
    "get_ipython().config.get('IPKernelApp', {})['parent_appname'] = \"\""
   ]
  },
  {
   "cell_type": "code",
   "execution_count": 31,
   "metadata": {},
   "outputs": [],
   "source": [
    "TIME_WINDOW = 50\n",
    "OUT_DIR = '/home/francesco/Documents/Master-Thesis/papers/Thesis/img/3/find_tr'"
   ]
  },
  {
   "cell_type": "markdown",
   "metadata": {},
   "source": [
    "## Bumps3"
   ]
  },
  {
   "cell_type": "code",
   "execution_count": 32,
   "metadata": {},
   "outputs": [],
   "source": [
    "vis = DataFrameVisualization.from_path('/media/francesco/saetta/krock-dataset/tr/bumps/csvs/test.csv')\n",
    "vis.add_advancement(TIME_WINDOW)\n",
    "vis.plot_advancement()\n",
    "plt.gcf().savefig('{}/{}-bumps3.png'.format(OUT_DIR, TIME_WINDOW))"
   ]
  },
  {
   "cell_type": "markdown",
   "metadata": {},
   "source": [
    "## Slope_rocks1"
   ]
  },
  {
   "cell_type": "code",
   "execution_count": 33,
   "metadata": {},
   "outputs": [],
   "source": [
    "vis = DataFrameVisualization.from_path('/media/francesco/saetta/krock-dataset/tr/slope_rocks1/csvs/test.csv')\n",
    "vis.add_advancement(TIME_WINDOW)\n",
    "vis.plot_advancement()\n",
    "plt.gcf().savefig('{}/{}-slope_rocks1.png'.format(OUT_DIR, TIME_WINDOW))"
   ]
  },
  {
   "cell_type": "code",
   "execution_count": null,
   "metadata": {},
   "outputs": [],
   "source": []
  }
 ],
 "metadata": {
  "kernelspec": {
   "display_name": "Python 3",
   "language": "python",
   "name": "python3"
  },
  "language_info": {
   "codemirror_mode": {
    "name": "ipython",
    "version": 3
   },
   "file_extension": ".py",
   "mimetype": "text/x-python",
   "name": "python",
   "nbconvert_exporter": "python",
   "pygments_lexer": "ipython3",
   "version": "3.6.7"
  }
 },
 "nbformat": 4,
 "nbformat_minor": 2
}
