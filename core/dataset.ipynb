{
 "cells": [
  {
   "cell_type": "code",
   "execution_count": 1,
   "metadata": {
    "scrolled": true
   },
   "outputs": [
    {
     "name": "stderr",
     "output_type": "stream",
     "text": [
      "/home/francesco/.local/lib/python3.6/site-packages/skimage/novice/__init__.py:103: UserWarning: The `skimage.novice` module was deprecated in version 0.14. It will be removed in 0.16.\n",
      "  warnings.warn(\"The `skimage.novice` module was deprecated in version 0.14. \"\n"
     ]
    },
    {
     "name": "stdout",
     "output_type": "stream",
     "text": [
      "     Unnamed: 0             filename           map  height\n",
      "0             0   slope_rocks3-1.0-0  slope_rocks3     1.0\n",
      "1             1   slope_rocks3-1.0-1  slope_rocks3     1.0\n",
      "2             2   slope_rocks3-1.0-2  slope_rocks3     1.0\n",
      "3             3   slope_rocks3-1.0-3  slope_rocks3     1.0\n",
      "4             4   slope_rocks3-1.0-4  slope_rocks3     1.0\n",
      "5             5   slope_rocks3-1.0-5  slope_rocks3     1.0\n",
      "6             6   slope_rocks3-1.0-6  slope_rocks3     1.0\n",
      "7             7   slope_rocks3-1.0-7  slope_rocks3     1.0\n",
      "8             8   slope_rocks3-1.0-8  slope_rocks3     1.0\n",
      "9             9   slope_rocks3-1.0-9  slope_rocks3     1.0\n",
      "10           10  slope_rocks3-1.0-10  slope_rocks3     1.0\n",
      "11           11  slope_rocks3-1.0-11  slope_rocks3     1.0\n",
      "12           12  slope_rocks3-1.0-12  slope_rocks3     1.0\n",
      "13           13  slope_rocks3-1.0-13  slope_rocks3     1.0\n",
      "14           14  slope_rocks3-1.0-14  slope_rocks3     1.0\n",
      "15           15  slope_rocks3-1.0-15  slope_rocks3     1.0\n",
      "16           16  slope_rocks3-1.0-16  slope_rocks3     1.0\n",
      "17           17  slope_rocks3-1.0-17  slope_rocks3     1.0\n",
      "18           18  slope_rocks3-1.0-18  slope_rocks3     1.0\n",
      "19           19  slope_rocks3-1.0-19  slope_rocks3     1.0\n",
      "20           20  slope_rocks3-1.0-20  slope_rocks3     1.0\n",
      "21           21  slope_rocks3-1.0-21  slope_rocks3     1.0\n",
      "22           22  slope_rocks3-1.0-22  slope_rocks3     1.0\n",
      "23           23  slope_rocks3-1.0-23  slope_rocks3     1.0\n",
      "24           24  slope_rocks3-1.0-24  slope_rocks3     1.0\n",
      "25           25  slope_rocks3-1.0-25  slope_rocks3     1.0\n",
      "26           26  slope_rocks3-1.0-26  slope_rocks3     1.0\n",
      "27           27  slope_rocks3-1.0-27  slope_rocks3     1.0\n",
      "28           28  slope_rocks3-1.0-28  slope_rocks3     1.0\n",
      "29           29  slope_rocks3-1.0-29  slope_rocks3     1.0\n",
      "..          ...                  ...           ...     ...\n",
      "881         881   slope_rocks1-7.0-0  slope_rocks1     7.0\n",
      "882         882   slope_rocks1-7.0-1  slope_rocks1     7.0\n",
      "883         883   slope_rocks1-7.0-2  slope_rocks1     7.0\n",
      "884         884   slope_rocks1-7.0-3  slope_rocks1     7.0\n",
      "885         885   slope_rocks1-7.0-4  slope_rocks1     7.0\n",
      "886         886   slope_rocks1-7.0-5  slope_rocks1     7.0\n",
      "887         887   slope_rocks1-7.0-6  slope_rocks1     7.0\n",
      "888         888   slope_rocks1-7.0-7  slope_rocks1     7.0\n",
      "889         889   slope_rocks1-7.0-8  slope_rocks1     7.0\n",
      "890         890   slope_rocks1-7.0-9  slope_rocks1     7.0\n",
      "891         891  slope_rocks1-7.0-10  slope_rocks1     7.0\n",
      "892         892  slope_rocks1-7.0-11  slope_rocks1     7.0\n",
      "893         893  slope_rocks1-7.0-12  slope_rocks1     7.0\n",
      "894         894  slope_rocks1-7.0-13  slope_rocks1     7.0\n",
      "895         895  slope_rocks1-7.0-14  slope_rocks1     7.0\n",
      "896         896  slope_rocks1-7.0-15  slope_rocks1     7.0\n",
      "897         897  slope_rocks1-7.0-16  slope_rocks1     7.0\n",
      "898         898  slope_rocks1-7.0-17  slope_rocks1     7.0\n",
      "899         899  slope_rocks1-7.0-18  slope_rocks1     7.0\n",
      "900         900  slope_rocks1-7.0-19  slope_rocks1     7.0\n",
      "901         901  slope_rocks1-7.0-20  slope_rocks1     7.0\n",
      "902         902  slope_rocks1-7.0-21  slope_rocks1     7.0\n",
      "903         903  slope_rocks1-7.0-22  slope_rocks1     7.0\n",
      "904         904  slope_rocks1-7.0-23  slope_rocks1     7.0\n",
      "905         905  slope_rocks1-7.0-24  slope_rocks1     7.0\n",
      "906         906  slope_rocks1-7.0-25  slope_rocks1     7.0\n",
      "907         907  slope_rocks1-7.0-26  slope_rocks1     7.0\n",
      "908         908  slope_rocks1-7.0-27  slope_rocks1     7.0\n",
      "909         909  slope_rocks1-7.0-28  slope_rocks1     7.0\n",
      "910         910  slope_rocks1-7.0-29  slope_rocks1     7.0\n",
      "\n",
      "[911 rows x 4 columns]\n",
      "[INFO] window=100\n"
     ]
    }
   ],
   "source": [
    "from utilities.postprocessing.postprocessing import * \n",
    "from utilities.postprocessing.main import *\n",
    "\n",
    "%reload_ext autoreload\n",
    "%autoreload 2"
   ]
  },
  {
   "cell_type": "code",
   "execution_count": 2,
   "metadata": {},
   "outputs": [],
   "source": [
    "from glob import glob\n",
    "\n",
    "class TraversabilityDir():\n",
    "    def __init__(self, root, maps_dir):\n",
    "        self.root, self.maps_dir = root, maps_dir\n",
    "\n",
    "    @property\n",
    "    def meta(self):\n",
    "        return pd.read_csv(self.bags_dir + '/meta.csv')\n",
    "\n",
    "    @property\n",
    "    def bags_dir(self):\n",
    "        return path.normpath(self.root + '/bags')\n",
    "\n",
    "    @property\n",
    "    def csvs_dir(self):\n",
    "        return path.normpath(self.root + '/csvs')\n",
    "\n",
    "    @property\n",
    "    def csvs_parsed_dir(self):\n",
    "        return path.normpath(self.root + '/csvs_parsed')\n",
    "\n",
    "    @property\n",
    "    def csvs_patches_dir(self):\n",
    "        return path.normpath(self.root + '/csvs_patches')\n",
    "\n",
    "    @property\n",
    "    def patches_dir(self):\n",
    "        return path.normpath(self.root + '/patches')\n",
    "\n",
    "    def should_convert2bag(self, filename):\n",
    "        return path.exists(self.csvs + '/' + filename + '.csv')\n",
    "\n",
    "    def exist(self, filename):\n",
    "        return path.exists(self.csvs_parsed + '/' + filename + '.csv')\n",
    "    "
   ]
  },
  {
   "cell_type": "code",
   "execution_count": 3,
   "metadata": {},
   "outputs": [],
   "source": [
    "tr_dir = TraversabilityDir(root='/media/francesco/saetta/krock-dataset/val', maps_dir='./maps/val')"
   ]
  },
  {
   "cell_type": "code",
   "execution_count": 4,
   "metadata": {},
   "outputs": [
    {
     "data": {
      "text/plain": [
       "'/media/francesco/saetta/krock-dataset/val/bags'"
      ]
     },
     "execution_count": 4,
     "metadata": {},
     "output_type": "execute_result"
    }
   ],
   "source": [
    "tr_dir.bags_dir"
   ]
  },
  {
   "cell_type": "code",
   "execution_count": 14,
   "metadata": {},
   "outputs": [],
   "source": [
    "from utilities.pipeline import MultiThreadWrapper\n",
    "\n",
    "def hmread(path):\n",
    "    hm = cv2.imread(path)\n",
    "    hm = cv2.cvtColor(hm, cv2.COLOR_BGR2GRAY)\n",
    "    return hm\n",
    "\n",
    "class TraversabilityDataframe():\n",
    "    def __init__(self, df, root):\n",
    "        self.df = df\n",
    "        self.root = root \n",
    "        \n",
    "    @classmethod\n",
    "    def from_dir(cls, dir, *args, **kwargs):\n",
    "        return cls.from_meta(dir.meta, \n",
    "                             dir.csvs_patches_dir, \n",
    "                             dir.maps_dir, \n",
    "                             dir.bags_dir, \n",
    "                             dir.bags_parsed_dir,\n",
    "                             dir.csvs_parsed_dir\n",
    "                             *args, **kwargs)\n",
    "    \n",
    "        \n",
    "    @classmethod\n",
    "    def from_meta(cls, meta, \n",
    "                  df_dir, \n",
    "                  hm_dir, \n",
    "                  bags_dir=None, \n",
    "                  bags_parsed_dir=None,\n",
    "                  csvs_parsed_dir=None\n",
    "                  *args, **kwargs):\n",
    "        names = meta['filename']\n",
    "        maps = meta['map']\n",
    "#         try:\n",
    "#             df = pd.read_csv(df_dir + '/' + names[2] + '.csasdv')\n",
    "#         except FileNotFoundError:\n",
    "        hm = hmread(hm_dir + '/' + maps[2] + '.png')\n",
    "        return cls.from_bag_path(path.normpath(bags_dir + '/' + names[2] + '.bag'), hm,  *args, **kwargs)\n",
    "\n",
    "#         return MultiThreadWrapper(16, cls.from_bag, (names))\n",
    "#         return cls.from_bag_path(path.normpath(bags_dir + '/' + names[0] + '.bag'), hm,  *args, **kwargs)\n",
    "#         return cls(df, *args, **kwargs)\n",
    "\n",
    "    @classmethod\n",
    "    def from_bag_path(cls, bag_path, bags_parsed_dir, *args, **kwargs):\n",
    "        df = rosbag_pandas.bag_to_dataframe(bag_path)\n",
    "        \n",
    "#         store\n",
    "        return cls.from_bag_parsed(df, *args, **kwargs)\n",
    "    \n",
    "    @classmethod\n",
    "    def from_bag_parsed(cls, df_path, hm, *args, **kwargs):\n",
    "        df = pd.read_csv(df_path)\n",
    "        df = ParseDataframe()(df)\n",
    "        df = AddHMcoordinates(df),\n",
    "        df = CleanDataframe(lower_bound=1, offset=22)(df, hm)\n",
    "        df = drop_uselesss_columns(df)\n",
    "        # get patches from bag converted 2 df\n",
    "#         store\n",
    "        return cls(df, '/')\n",
    "    \n",
    "    @classmethod\n",
    "    def from_df(cls):\n",
    "        # get patches from\n",
    "#         store\n",
    "        pass\n"
   ]
  },
  {
   "cell_type": "code",
   "execution_count": 15,
   "metadata": {
    "scrolled": false
   },
   "outputs": [
    {
     "name": "stdout",
     "output_type": "stream",
     "text": [
      "[INFO] something exploded while converting the ros time.\n"
     ]
    },
    {
     "ename": "AttributeError",
     "evalue": "'tuple' object has no attribute 'loc'",
     "output_type": "error",
     "traceback": [
      "\u001b[0;31m---------------------------------------------------------------------------\u001b[0m",
      "\u001b[0;31mAttributeError\u001b[0m                            Traceback (most recent call last)",
      "\u001b[0;32m<ipython-input-15-15c3e91d92c6>\u001b[0m in \u001b[0;36m<module>\u001b[0;34m\u001b[0m\n\u001b[0;32m----> 1\u001b[0;31m \u001b[0mTraversabilityDataframe\u001b[0m\u001b[0;34m.\u001b[0m\u001b[0mfrom_dir\u001b[0m\u001b[0;34m(\u001b[0m\u001b[0mtr_dir\u001b[0m\u001b[0;34m,\u001b[0m \u001b[0;36m0.66\u001b[0m\u001b[0;34m,\u001b[0m \u001b[0mroot\u001b[0m\u001b[0;34m=\u001b[0m\u001b[0;34m'/'\u001b[0m\u001b[0;34m)\u001b[0m\u001b[0;34m.\u001b[0m\u001b[0mdf\u001b[0m\u001b[0;34m\u001b[0m\u001b[0;34m\u001b[0m\u001b[0m\n\u001b[0m",
      "\u001b[0;32m<ipython-input-14-33db9af46304>\u001b[0m in \u001b[0;36mfrom_dir\u001b[0;34m(cls, dir, *args, **kwargs)\u001b[0m\n\u001b[1;32m     13\u001b[0m     \u001b[0;34m@\u001b[0m\u001b[0mclassmethod\u001b[0m\u001b[0;34m\u001b[0m\u001b[0;34m\u001b[0m\u001b[0m\n\u001b[1;32m     14\u001b[0m     \u001b[0;32mdef\u001b[0m \u001b[0mfrom_dir\u001b[0m\u001b[0;34m(\u001b[0m\u001b[0mcls\u001b[0m\u001b[0;34m,\u001b[0m \u001b[0mdir\u001b[0m\u001b[0;34m,\u001b[0m \u001b[0;34m*\u001b[0m\u001b[0margs\u001b[0m\u001b[0;34m,\u001b[0m \u001b[0;34m**\u001b[0m\u001b[0mkwargs\u001b[0m\u001b[0;34m)\u001b[0m\u001b[0;34m:\u001b[0m\u001b[0;34m\u001b[0m\u001b[0;34m\u001b[0m\u001b[0m\n\u001b[0;32m---> 15\u001b[0;31m         \u001b[0;32mreturn\u001b[0m \u001b[0mcls\u001b[0m\u001b[0;34m.\u001b[0m\u001b[0mfrom_meta\u001b[0m\u001b[0;34m(\u001b[0m\u001b[0mdir\u001b[0m\u001b[0;34m.\u001b[0m\u001b[0mmeta\u001b[0m\u001b[0;34m,\u001b[0m \u001b[0mdir\u001b[0m\u001b[0;34m.\u001b[0m\u001b[0mcsvs_parsed_dir\u001b[0m\u001b[0;34m,\u001b[0m \u001b[0mdir\u001b[0m\u001b[0;34m.\u001b[0m\u001b[0mmaps_dir\u001b[0m\u001b[0;34m,\u001b[0m \u001b[0mdir\u001b[0m\u001b[0;34m.\u001b[0m\u001b[0mbags_dir\u001b[0m\u001b[0;34m,\u001b[0m  \u001b[0;34m*\u001b[0m\u001b[0margs\u001b[0m\u001b[0;34m,\u001b[0m \u001b[0;34m**\u001b[0m\u001b[0mkwargs\u001b[0m\u001b[0;34m)\u001b[0m\u001b[0;34m\u001b[0m\u001b[0;34m\u001b[0m\u001b[0m\n\u001b[0m\u001b[1;32m     16\u001b[0m \u001b[0;34m\u001b[0m\u001b[0m\n\u001b[1;32m     17\u001b[0m \u001b[0;34m\u001b[0m\u001b[0m\n",
      "\u001b[0;32m<ipython-input-14-33db9af46304>\u001b[0m in \u001b[0;36mfrom_meta\u001b[0;34m(cls, meta, df_dir, hm_dir, bags_dir, *args, **kwargs)\u001b[0m\n\u001b[1;32m     24\u001b[0m \u001b[0;31m#         except FileNotFoundError:\u001b[0m\u001b[0;34m\u001b[0m\u001b[0;34m\u001b[0m\u001b[0;34m\u001b[0m\u001b[0m\n\u001b[1;32m     25\u001b[0m         \u001b[0mhm\u001b[0m \u001b[0;34m=\u001b[0m \u001b[0mhmread\u001b[0m\u001b[0;34m(\u001b[0m\u001b[0mhm_dir\u001b[0m \u001b[0;34m+\u001b[0m \u001b[0;34m'/'\u001b[0m \u001b[0;34m+\u001b[0m \u001b[0mmaps\u001b[0m\u001b[0;34m[\u001b[0m\u001b[0;36m2\u001b[0m\u001b[0;34m]\u001b[0m \u001b[0;34m+\u001b[0m \u001b[0;34m'.png'\u001b[0m\u001b[0;34m)\u001b[0m\u001b[0;34m\u001b[0m\u001b[0;34m\u001b[0m\u001b[0m\n\u001b[0;32m---> 26\u001b[0;31m         \u001b[0;32mreturn\u001b[0m \u001b[0mcls\u001b[0m\u001b[0;34m.\u001b[0m\u001b[0mfrom_bag_path\u001b[0m\u001b[0;34m(\u001b[0m\u001b[0mpath\u001b[0m\u001b[0;34m.\u001b[0m\u001b[0mnormpath\u001b[0m\u001b[0;34m(\u001b[0m\u001b[0mbags_dir\u001b[0m \u001b[0;34m+\u001b[0m \u001b[0;34m'/'\u001b[0m \u001b[0;34m+\u001b[0m \u001b[0mnames\u001b[0m\u001b[0;34m[\u001b[0m\u001b[0;36m2\u001b[0m\u001b[0;34m]\u001b[0m \u001b[0;34m+\u001b[0m \u001b[0;34m'.bag'\u001b[0m\u001b[0;34m)\u001b[0m\u001b[0;34m,\u001b[0m \u001b[0mhm\u001b[0m\u001b[0;34m,\u001b[0m  \u001b[0;34m*\u001b[0m\u001b[0margs\u001b[0m\u001b[0;34m,\u001b[0m \u001b[0;34m**\u001b[0m\u001b[0mkwargs\u001b[0m\u001b[0;34m)\u001b[0m\u001b[0;34m\u001b[0m\u001b[0;34m\u001b[0m\u001b[0m\n\u001b[0m\u001b[1;32m     27\u001b[0m \u001b[0;34m\u001b[0m\u001b[0m\n\u001b[1;32m     28\u001b[0m \u001b[0;31m#         return MultiThreadWrapper(16, cls.from_bag, (names))\u001b[0m\u001b[0;34m\u001b[0m\u001b[0;34m\u001b[0m\u001b[0;34m\u001b[0m\u001b[0m\n",
      "\u001b[0;32m<ipython-input-14-33db9af46304>\u001b[0m in \u001b[0;36mfrom_bag_path\u001b[0;34m(cls, bag_path, *args, **kwargs)\u001b[0m\n\u001b[1;32m     34\u001b[0m         \u001b[0mdf\u001b[0m \u001b[0;34m=\u001b[0m \u001b[0mrosbag_pandas\u001b[0m\u001b[0;34m.\u001b[0m\u001b[0mbag_to_dataframe\u001b[0m\u001b[0;34m(\u001b[0m\u001b[0mbag_path\u001b[0m\u001b[0;34m)\u001b[0m\u001b[0;34m\u001b[0m\u001b[0;34m\u001b[0m\u001b[0m\n\u001b[1;32m     35\u001b[0m \u001b[0;31m#         store\u001b[0m\u001b[0;34m\u001b[0m\u001b[0;34m\u001b[0m\u001b[0;34m\u001b[0m\u001b[0m\n\u001b[0;32m---> 36\u001b[0;31m         \u001b[0;32mreturn\u001b[0m \u001b[0mcls\u001b[0m\u001b[0;34m.\u001b[0m\u001b[0mfrom_bag_parsed\u001b[0m\u001b[0;34m(\u001b[0m\u001b[0mdf\u001b[0m\u001b[0;34m,\u001b[0m \u001b[0;34m*\u001b[0m\u001b[0margs\u001b[0m\u001b[0;34m,\u001b[0m \u001b[0;34m**\u001b[0m\u001b[0mkwargs\u001b[0m\u001b[0;34m)\u001b[0m\u001b[0;34m\u001b[0m\u001b[0;34m\u001b[0m\u001b[0m\n\u001b[0m\u001b[1;32m     37\u001b[0m \u001b[0;34m\u001b[0m\u001b[0m\n\u001b[1;32m     38\u001b[0m     \u001b[0;34m@\u001b[0m\u001b[0mclassmethod\u001b[0m\u001b[0;34m\u001b[0m\u001b[0;34m\u001b[0m\u001b[0m\n",
      "\u001b[0;32m<ipython-input-14-33db9af46304>\u001b[0m in \u001b[0;36mfrom_bag_parsed\u001b[0;34m(cls, df, hm, *args, **kwargs)\u001b[0m\n\u001b[1;32m     41\u001b[0m         \u001b[0mdf\u001b[0m \u001b[0;34m=\u001b[0m \u001b[0mParseDataframe\u001b[0m\u001b[0;34m(\u001b[0m\u001b[0;34m)\u001b[0m\u001b[0;34m(\u001b[0m\u001b[0mdf\u001b[0m\u001b[0;34m)\u001b[0m\u001b[0;34m\u001b[0m\u001b[0;34m\u001b[0m\u001b[0m\n\u001b[1;32m     42\u001b[0m         \u001b[0mdf\u001b[0m \u001b[0;34m=\u001b[0m \u001b[0mAddHMcoordinates\u001b[0m\u001b[0;34m(\u001b[0m\u001b[0mdf\u001b[0m\u001b[0;34m)\u001b[0m\u001b[0;34m,\u001b[0m\u001b[0;34m\u001b[0m\u001b[0;34m\u001b[0m\u001b[0m\n\u001b[0;32m---> 43\u001b[0;31m         \u001b[0mdf\u001b[0m \u001b[0;34m=\u001b[0m \u001b[0mCleanDataframe\u001b[0m\u001b[0;34m(\u001b[0m\u001b[0mlower_bound\u001b[0m\u001b[0;34m=\u001b[0m\u001b[0;36m1\u001b[0m\u001b[0;34m,\u001b[0m \u001b[0moffset\u001b[0m\u001b[0;34m=\u001b[0m\u001b[0;36m22\u001b[0m\u001b[0;34m)\u001b[0m\u001b[0;34m(\u001b[0m\u001b[0mdf\u001b[0m\u001b[0;34m,\u001b[0m \u001b[0mhm\u001b[0m\u001b[0;34m)\u001b[0m\u001b[0;34m\u001b[0m\u001b[0;34m\u001b[0m\u001b[0m\n\u001b[0m\u001b[1;32m     44\u001b[0m         \u001b[0mdf\u001b[0m \u001b[0;34m=\u001b[0m \u001b[0mdrop_uselesss_columns\u001b[0m\u001b[0;34m(\u001b[0m\u001b[0mdf\u001b[0m\u001b[0;34m)\u001b[0m\u001b[0;34m\u001b[0m\u001b[0;34m\u001b[0m\u001b[0m\n\u001b[1;32m     45\u001b[0m         \u001b[0;31m# get patches from bag converted 2 df\u001b[0m\u001b[0;34m\u001b[0m\u001b[0;34m\u001b[0m\u001b[0;34m\u001b[0m\u001b[0m\n",
      "\u001b[0;32m~/Documents/Master-Thesis/core/utilities/postprocessing/postprocessing.py\u001b[0m in \u001b[0;36m__call__\u001b[0;34m(self, df, hm)\u001b[0m\n\u001b[1;32m    157\u001b[0m \u001b[0;34m\u001b[0m\u001b[0m\n\u001b[1;32m    158\u001b[0m         \u001b[0;31m#       drop first second (spawn time)\u001b[0m\u001b[0;34m\u001b[0m\u001b[0;34m\u001b[0m\u001b[0;34m\u001b[0m\u001b[0m\n\u001b[0;32m--> 159\u001b[0;31m         \u001b[0mdf\u001b[0m \u001b[0;34m=\u001b[0m \u001b[0mdf\u001b[0m\u001b[0;34m.\u001b[0m\u001b[0mloc\u001b[0m\u001b[0;34m[\u001b[0m\u001b[0mdf\u001b[0m\u001b[0;34m.\u001b[0m\u001b[0mindex\u001b[0m \u001b[0;34m>=\u001b[0m \u001b[0mself\u001b[0m\u001b[0;34m.\u001b[0m\u001b[0mlower_bound\u001b[0m\u001b[0;34m]\u001b[0m\u001b[0;34m\u001b[0m\u001b[0;34m\u001b[0m\u001b[0m\n\u001b[0m\u001b[1;32m    160\u001b[0m         \u001b[0;31m# robot upside down\u001b[0m\u001b[0;34m\u001b[0m\u001b[0;34m\u001b[0m\u001b[0;34m\u001b[0m\u001b[0m\n\u001b[1;32m    161\u001b[0m         \u001b[0mdf\u001b[0m \u001b[0;34m=\u001b[0m \u001b[0mdf\u001b[0m\u001b[0;34m.\u001b[0m\u001b[0mloc\u001b[0m\u001b[0;34m[\u001b[0m\u001b[0mdf\u001b[0m\u001b[0;34m[\u001b[0m\u001b[0;34m'pose__pose_e_orientation_x'\u001b[0m\u001b[0;34m]\u001b[0m \u001b[0;34m>=\u001b[0m \u001b[0;34m-\u001b[0m\u001b[0;36m2.0\u001b[0m\u001b[0;34m]\u001b[0m\u001b[0;34m.\u001b[0m\u001b[0mdropna\u001b[0m\u001b[0;34m(\u001b[0m\u001b[0;34m)\u001b[0m\u001b[0;34m\u001b[0m\u001b[0;34m\u001b[0m\u001b[0m\n",
      "\u001b[0;31mAttributeError\u001b[0m: 'tuple' object has no attribute 'loc'"
     ]
    }
   ],
   "source": [
    "TraversabilityDataframe.from_dir(tr_dir, 0.66, root='/').df"
   ]
  },
  {
   "cell_type": "code",
   "execution_count": null,
   "metadata": {},
   "outputs": [],
   "source": [
    "meta.iloc[0]"
   ]
  },
  {
   "cell_type": "code",
   "execution_count": null,
   "metadata": {},
   "outputs": [],
   "source": []
  }
 ],
 "metadata": {
  "kernelspec": {
   "display_name": "Python 3",
   "language": "python",
   "name": "python3"
  },
  "language_info": {
   "codemirror_mode": {
    "name": "ipython",
    "version": 3
   },
   "file_extension": ".py",
   "mimetype": "text/x-python",
   "name": "python",
   "nbconvert_exporter": "python",
   "pygments_lexer": "ipython3",
   "version": "3.6.7"
  }
 },
 "nbformat": 4,
 "nbformat_minor": 2
}
