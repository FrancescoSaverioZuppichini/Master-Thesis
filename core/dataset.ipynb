{
 "cells": [
  {
   "cell_type": "code",
   "execution_count": 3,
   "metadata": {
    "scrolled": true
   },
   "outputs": [],
   "source": [
    "from utilities.postprocessing.postprocessing import * \n",
    "from utilities.postprocessing.main import *"
   ]
  },
  {
   "cell_type": "code",
   "execution_count": 29,
   "metadata": {},
   "outputs": [],
   "source": [
    "from glob import glob\n",
    "\n",
    "class TraversabilityDir():\n",
    "    def __init__(self, root, maps_dir):\n",
    "        self.root, self.maps_dir = root, maps_dir\n",
    "\n",
    "    @property\n",
    "    def meta(self):\n",
    "        return pd.read_csv(self.bags_dir + '/meta.csv')\n",
    "\n",
    "    @property\n",
    "    def bags_dir(self):\n",
    "        return path.normpath(self.root + '/bags')\n",
    "\n",
    "    @property\n",
    "    def csvs_dir(self):\n",
    "        return path.normpath(self.root + '/csvs')\n",
    "\n",
    "    @property\n",
    "    def csvs_parsed_dir(self):\n",
    "        return path.normpath(self.root + '/csvs_parsed')\n",
    "\n",
    "    @property\n",
    "    def csvs_patches_dir(self):\n",
    "        return path.normpath(self.root + '/csvs_patches')\n",
    "\n",
    "    @property\n",
    "    def patches_dir(self):\n",
    "        return path.normpath(self.root + '/patches')\n",
    "\n",
    "    def should_convert2bag(self, filename):\n",
    "        return path.exists(self.csvs + '/' + filename + '.csv')\n",
    "\n",
    "    def exist(self, filename):\n",
    "        return path.exists(self.csvs_parsed + '/' + filename + '.csv')\n",
    "    "
   ]
  },
  {
   "cell_type": "code",
   "execution_count": 30,
   "metadata": {},
   "outputs": [],
   "source": [
    "tr_dir = TraversabilityDir(root='/media/francesco/saetta/krock-dataset/val', maps_dir='./maps/val')"
   ]
  },
  {
   "cell_type": "code",
   "execution_count": 31,
   "metadata": {},
   "outputs": [
    {
     "data": {
      "text/plain": [
       "'/media/francesco/saetta/krock-dataset/val/bags'"
      ]
     },
     "execution_count": 31,
     "metadata": {},
     "output_type": "execute_result"
    }
   ],
   "source": [
    "tr_dir.bags_dir"
   ]
  },
  {
   "cell_type": "code",
   "execution_count": 120,
   "metadata": {},
   "outputs": [],
   "source": [
    "from utilities.pipeline import MultiThreadWrapper\n",
    "\n",
    "def hmread(path):\n",
    "    hm = cv2.imread(path)\n",
    "    hm = cv2.cvtColor(hm, cv2.COLOR_BGR2GRAY)\n",
    "    return hm\n",
    "\n",
    "class TraversabilityDataframe():\n",
    "    def __init__(self, df, root):\n",
    "        self.df = df\n",
    "        self.root = root \n",
    "        \n",
    "    @classmethod\n",
    "    def from_dir(cls, dir, *args, **kwargs):\n",
    "        return cls.from_meta(dir.meta, dir.csvs_parsed_dir, dir.maps_dir, dir.bags_dir,  *args, **kwargs)\n",
    "    \n",
    "    \n",
    "    \n",
    "    @classmethod\n",
    "    def from_meta(cls, meta, df_dir, hm_dir, bags_dir=None, *args, **kwargs):\n",
    "        names = meta['filename']\n",
    "        maps = meta['map']\n",
    "#         try:\n",
    "#             df = pd.read_csv(df_dir + '/' + names[2] + '.csasdv')\n",
    "#         except FileNotFoundError:\n",
    "        hm = hmread(hm_dir + '/' + maps[2] + '.png')\n",
    "        return cls.from_bag_path(path.normpath(bags_dir + '/' + names[2] + '.bag'), hm,  *args, **kwargs)\n",
    "\n",
    "#         return MultiThreadWrapper(16, cls.from_bag, (names))\n",
    "#         return cls.from_bag_path(path.normpath(bags_dir + '/' + names[0] + '.bag'), hm,  *args, **kwargs)\n",
    "#         return cls(df, *args, **kwargs)\n",
    "\n",
    "    @classmethod\n",
    "    def from_bag_path(cls, bag_path, *args, **kwargs):\n",
    "        df = rosbag_pandas.bag_to_dataframe(bag_path)\n",
    "#         store\n",
    "        return cls.from_bag_parsed(df, *args, **kwargs)\n",
    "    \n",
    "    @classmethod\n",
    "    def from_bag_parsed(cls, df_path, hm, *args, **kwargs):\n",
    "        df = pd.read_csv(df_dir + '/' + names[2] + '.csasdv')\n",
    "        df = ParseDataframe()(df_path, hm)\n",
    "        # get patches from bag converted 2 df\n",
    "#         store\n",
    "        return df\n",
    "    \n",
    "    @classmethod\n",
    "    def from_df(cls):\n",
    "        # get patches from\n",
    "#         store\n",
    "        pass\n"
   ]
  },
  {
   "cell_type": "code",
   "execution_count": 121,
   "metadata": {
    "scrolled": false
   },
   "outputs": [
    {
     "ename": "TypeError",
     "evalue": "__call__() takes 2 positional arguments but 3 were given",
     "output_type": "error",
     "traceback": [
      "\u001b[0;31m---------------------------------------------------------------------------\u001b[0m",
      "\u001b[0;31mTypeError\u001b[0m                                 Traceback (most recent call last)",
      "\u001b[0;32m<ipython-input-121-3a8cfd11963b>\u001b[0m in \u001b[0;36m<module>\u001b[0;34m\u001b[0m\n\u001b[0;32m----> 1\u001b[0;31m \u001b[0mTraversabilityDataframe\u001b[0m\u001b[0;34m.\u001b[0m\u001b[0mfrom_dir\u001b[0m\u001b[0;34m(\u001b[0m\u001b[0mtr_dir\u001b[0m\u001b[0;34m,\u001b[0m \u001b[0;36m0.66\u001b[0m\u001b[0;34m,\u001b[0m \u001b[0mroot\u001b[0m\u001b[0;34m=\u001b[0m\u001b[0;34m'/'\u001b[0m\u001b[0;34m)\u001b[0m\u001b[0;34m\u001b[0m\u001b[0;34m\u001b[0m\u001b[0m\n\u001b[0m",
      "\u001b[0;32m<ipython-input-120-cc577c5febdc>\u001b[0m in \u001b[0;36mfrom_dir\u001b[0;34m(cls, dir, *args, **kwargs)\u001b[0m\n\u001b[1;32m     12\u001b[0m     \u001b[0;34m@\u001b[0m\u001b[0mclassmethod\u001b[0m\u001b[0;34m\u001b[0m\u001b[0;34m\u001b[0m\u001b[0m\n\u001b[1;32m     13\u001b[0m     \u001b[0;32mdef\u001b[0m \u001b[0mfrom_dir\u001b[0m\u001b[0;34m(\u001b[0m\u001b[0mcls\u001b[0m\u001b[0;34m,\u001b[0m \u001b[0mdir\u001b[0m\u001b[0;34m,\u001b[0m \u001b[0;34m*\u001b[0m\u001b[0margs\u001b[0m\u001b[0;34m,\u001b[0m \u001b[0;34m**\u001b[0m\u001b[0mkwargs\u001b[0m\u001b[0;34m)\u001b[0m\u001b[0;34m:\u001b[0m\u001b[0;34m\u001b[0m\u001b[0;34m\u001b[0m\u001b[0m\n\u001b[0;32m---> 14\u001b[0;31m         \u001b[0;32mreturn\u001b[0m \u001b[0mcls\u001b[0m\u001b[0;34m.\u001b[0m\u001b[0mfrom_meta\u001b[0m\u001b[0;34m(\u001b[0m\u001b[0mdir\u001b[0m\u001b[0;34m.\u001b[0m\u001b[0mmeta\u001b[0m\u001b[0;34m,\u001b[0m \u001b[0mdir\u001b[0m\u001b[0;34m.\u001b[0m\u001b[0mcsvs_parsed_dir\u001b[0m\u001b[0;34m,\u001b[0m \u001b[0mdir\u001b[0m\u001b[0;34m.\u001b[0m\u001b[0mmaps_dir\u001b[0m\u001b[0;34m,\u001b[0m \u001b[0mdir\u001b[0m\u001b[0;34m.\u001b[0m\u001b[0mbags_dir\u001b[0m\u001b[0;34m,\u001b[0m  \u001b[0;34m*\u001b[0m\u001b[0margs\u001b[0m\u001b[0;34m,\u001b[0m \u001b[0;34m**\u001b[0m\u001b[0mkwargs\u001b[0m\u001b[0;34m)\u001b[0m\u001b[0;34m\u001b[0m\u001b[0;34m\u001b[0m\u001b[0m\n\u001b[0m\u001b[1;32m     15\u001b[0m \u001b[0;34m\u001b[0m\u001b[0m\n\u001b[1;32m     16\u001b[0m \u001b[0;34m\u001b[0m\u001b[0m\n",
      "\u001b[0;32m<ipython-input-120-cc577c5febdc>\u001b[0m in \u001b[0;36mfrom_meta\u001b[0;34m(cls, meta, df_dir, hm_dir, bags_dir, *args, **kwargs)\u001b[0m\n\u001b[1;32m     24\u001b[0m \u001b[0;31m#         except FileNotFoundError:\u001b[0m\u001b[0;34m\u001b[0m\u001b[0;34m\u001b[0m\u001b[0;34m\u001b[0m\u001b[0m\n\u001b[1;32m     25\u001b[0m         \u001b[0mhm\u001b[0m \u001b[0;34m=\u001b[0m \u001b[0mhmread\u001b[0m\u001b[0;34m(\u001b[0m\u001b[0mhm_dir\u001b[0m \u001b[0;34m+\u001b[0m \u001b[0;34m'/'\u001b[0m \u001b[0;34m+\u001b[0m \u001b[0mmaps\u001b[0m\u001b[0;34m[\u001b[0m\u001b[0;36m2\u001b[0m\u001b[0;34m]\u001b[0m \u001b[0;34m+\u001b[0m \u001b[0;34m'.png'\u001b[0m\u001b[0;34m)\u001b[0m\u001b[0;34m\u001b[0m\u001b[0;34m\u001b[0m\u001b[0m\n\u001b[0;32m---> 26\u001b[0;31m         \u001b[0;32mreturn\u001b[0m \u001b[0mcls\u001b[0m\u001b[0;34m.\u001b[0m\u001b[0mfrom_bag_path\u001b[0m\u001b[0;34m(\u001b[0m\u001b[0mpath\u001b[0m\u001b[0;34m.\u001b[0m\u001b[0mnormpath\u001b[0m\u001b[0;34m(\u001b[0m\u001b[0mbags_dir\u001b[0m \u001b[0;34m+\u001b[0m \u001b[0;34m'/'\u001b[0m \u001b[0;34m+\u001b[0m \u001b[0mnames\u001b[0m\u001b[0;34m[\u001b[0m\u001b[0;36m2\u001b[0m\u001b[0;34m]\u001b[0m \u001b[0;34m+\u001b[0m \u001b[0;34m'.bag'\u001b[0m\u001b[0;34m)\u001b[0m\u001b[0;34m,\u001b[0m \u001b[0mhm\u001b[0m\u001b[0;34m,\u001b[0m  \u001b[0;34m*\u001b[0m\u001b[0margs\u001b[0m\u001b[0;34m,\u001b[0m \u001b[0;34m**\u001b[0m\u001b[0mkwargs\u001b[0m\u001b[0;34m)\u001b[0m\u001b[0;34m\u001b[0m\u001b[0;34m\u001b[0m\u001b[0m\n\u001b[0m\u001b[1;32m     27\u001b[0m \u001b[0;34m\u001b[0m\u001b[0m\n\u001b[1;32m     28\u001b[0m \u001b[0;31m#         return MultiThreadWrapper(16, cls.from_bag, (names))\u001b[0m\u001b[0;34m\u001b[0m\u001b[0;34m\u001b[0m\u001b[0;34m\u001b[0m\u001b[0m\n",
      "\u001b[0;32m<ipython-input-120-cc577c5febdc>\u001b[0m in \u001b[0;36mfrom_bag_path\u001b[0;34m(cls, bag_path, *args, **kwargs)\u001b[0m\n\u001b[1;32m     34\u001b[0m         \u001b[0mdf\u001b[0m \u001b[0;34m=\u001b[0m \u001b[0mrosbag_pandas\u001b[0m\u001b[0;34m.\u001b[0m\u001b[0mbag_to_dataframe\u001b[0m\u001b[0;34m(\u001b[0m\u001b[0mbag_path\u001b[0m\u001b[0;34m)\u001b[0m\u001b[0;34m\u001b[0m\u001b[0;34m\u001b[0m\u001b[0m\n\u001b[1;32m     35\u001b[0m \u001b[0;31m#         store\u001b[0m\u001b[0;34m\u001b[0m\u001b[0;34m\u001b[0m\u001b[0;34m\u001b[0m\u001b[0m\n\u001b[0;32m---> 36\u001b[0;31m         \u001b[0;32mreturn\u001b[0m \u001b[0mcls\u001b[0m\u001b[0;34m.\u001b[0m\u001b[0mfrom_bag_parsed\u001b[0m\u001b[0;34m(\u001b[0m\u001b[0mdf\u001b[0m\u001b[0;34m,\u001b[0m \u001b[0;34m*\u001b[0m\u001b[0margs\u001b[0m\u001b[0;34m,\u001b[0m \u001b[0;34m**\u001b[0m\u001b[0mkwargs\u001b[0m\u001b[0;34m)\u001b[0m\u001b[0;34m\u001b[0m\u001b[0;34m\u001b[0m\u001b[0m\n\u001b[0m\u001b[1;32m     37\u001b[0m \u001b[0;34m\u001b[0m\u001b[0m\n\u001b[1;32m     38\u001b[0m     \u001b[0;34m@\u001b[0m\u001b[0mclassmethod\u001b[0m\u001b[0;34m\u001b[0m\u001b[0;34m\u001b[0m\u001b[0m\n",
      "\u001b[0;32m<ipython-input-120-cc577c5febdc>\u001b[0m in \u001b[0;36mfrom_bag_parsed\u001b[0;34m(cls, df_path, hm, *args, **kwargs)\u001b[0m\n\u001b[1;32m     38\u001b[0m     \u001b[0;34m@\u001b[0m\u001b[0mclassmethod\u001b[0m\u001b[0;34m\u001b[0m\u001b[0;34m\u001b[0m\u001b[0m\n\u001b[1;32m     39\u001b[0m     \u001b[0;32mdef\u001b[0m \u001b[0mfrom_bag_parsed\u001b[0m\u001b[0;34m(\u001b[0m\u001b[0mcls\u001b[0m\u001b[0;34m,\u001b[0m \u001b[0mdf_path\u001b[0m\u001b[0;34m,\u001b[0m \u001b[0mhm\u001b[0m\u001b[0;34m,\u001b[0m \u001b[0;34m*\u001b[0m\u001b[0margs\u001b[0m\u001b[0;34m,\u001b[0m \u001b[0;34m**\u001b[0m\u001b[0mkwargs\u001b[0m\u001b[0;34m)\u001b[0m\u001b[0;34m:\u001b[0m\u001b[0;34m\u001b[0m\u001b[0;34m\u001b[0m\u001b[0m\n\u001b[0;32m---> 40\u001b[0;31m         \u001b[0mdf\u001b[0m \u001b[0;34m=\u001b[0m \u001b[0mParseDataframe\u001b[0m\u001b[0;34m(\u001b[0m\u001b[0;34m)\u001b[0m\u001b[0;34m(\u001b[0m\u001b[0mdf_path\u001b[0m\u001b[0;34m,\u001b[0m \u001b[0mhm\u001b[0m\u001b[0;34m)\u001b[0m\u001b[0;34m\u001b[0m\u001b[0;34m\u001b[0m\u001b[0m\n\u001b[0m\u001b[1;32m     41\u001b[0m         \u001b[0;31m# get patches from bag converted 2 df\u001b[0m\u001b[0;34m\u001b[0m\u001b[0;34m\u001b[0m\u001b[0;34m\u001b[0m\u001b[0m\n\u001b[1;32m     42\u001b[0m \u001b[0;31m#         store\u001b[0m\u001b[0;34m\u001b[0m\u001b[0;34m\u001b[0m\u001b[0;34m\u001b[0m\u001b[0m\n",
      "\u001b[0;31mTypeError\u001b[0m: __call__() takes 2 positional arguments but 3 were given"
     ]
    }
   ],
   "source": [
    "TraversabilityDataframe.from_dir(tr_dir, 0.66, root='/')"
   ]
  },
  {
   "cell_type": "code",
   "execution_count": 74,
   "metadata": {},
   "outputs": [
    {
     "data": {
      "text/plain": [
       "Unnamed: 0                     0\n",
       "filename      slope_rocks3-1.0-0\n",
       "map                 slope_rocks3\n",
       "height                         1\n",
       "Name: 0, dtype: object"
      ]
     },
     "execution_count": 74,
     "metadata": {},
     "output_type": "execute_result"
    }
   ],
   "source": [
    "meta.iloc[0]"
   ]
  },
  {
   "cell_type": "code",
   "execution_count": null,
   "metadata": {},
   "outputs": [],
   "source": []
  }
 ],
 "metadata": {
  "kernelspec": {
   "display_name": "Python 3",
   "language": "python",
   "name": "python3"
  },
  "language_info": {
   "codemirror_mode": {
    "name": "ipython",
    "version": 3
   },
   "file_extension": ".py",
   "mimetype": "text/x-python",
   "name": "python",
   "nbconvert_exporter": "python",
   "pygments_lexer": "ipython3",
   "version": "3.6.7"
  }
 },
 "nbformat": 4,
 "nbformat_minor": 2
}
