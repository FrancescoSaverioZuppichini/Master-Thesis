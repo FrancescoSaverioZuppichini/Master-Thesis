{
 "cells": [
  {
   "cell_type": "code",
   "execution_count": 1,
   "metadata": {},
   "outputs": [],
   "source": [
    "%reload_ext autoreload\n",
    "%autoreload 2"
   ]
  },
  {
   "cell_type": "markdown",
   "metadata": {},
   "source": [
    "\n",
    "# Quick Start\n",
    "\n",
    "To run a simulation on a terrain stored as an heightmap and store the robot's information in a bag file. Remember to throttle the `/pose` topic with\n",
    "`rosrun topic_tools throttle messages /krock/pose 50`"
   ]
  },
  {
   "cell_type": "code",
   "execution_count": 3,
   "metadata": {},
   "outputs": [
    {
     "name": "stdout",
     "output_type": "stream",
     "text": [
      "/home/francesco/Documents/Master-Thesis/core/simulation/env/webots/krock/children_no_tail\n"
     ]
    },
    {
     "name": "stderr",
     "output_type": "stream",
     "text": [
      "\r",
      "  0%|          | 0/2 [00:00<?, ?it/s]"
     ]
    },
    {
     "name": "stdout",
     "output_type": "stream",
     "text": [
      "success: 1\n"
     ]
    },
    {
     "name": "stderr",
     "output_type": "stream",
     "text": [
      "Reanimate robot:  50%|█████     | 1/2 [00:12<00:12, 12.19s/it]"
     ]
    },
    {
     "name": "stdout",
     "output_type": "stream",
     "text": [
      "success: 1\n"
     ]
    },
    {
     "name": "stderr",
     "output_type": "stream",
     "text": [
      "                                                              "
     ]
    },
    {
     "name": "stdout",
     "output_type": "stream",
     "text": [
      "[INFO] bags stored at /home/francesco/Desktop/test//bags\n"
     ]
    },
    {
     "name": "stderr",
     "output_type": "stream",
     "text": [
      "\r"
     ]
    }
   ],
   "source": [
    "from simulation import Simulation\n",
    "out_dir='/home/francesco/Desktop/test/'\n",
    "# run two simulations on the bumps0 map for 10 seconds each\n",
    "sim = Simulation(map_path='./maps/new-train/bumps0.png', max_time=10, n=2, out_dir=out_dir, height=1)\n",
    "sim()\n",
    "print('[INFO] bags stored at {}'.format(sim.agent_out_dir))"
   ]
  },
  {
   "cell_type": "markdown",
   "metadata": {},
   "source": [
    "You can also pass a `spawn_strategy` that decides how the robot will spawn on the ground. We provided a [`RandomSpawnStrategy`](https://github.com/FrancescoSaverioZuppichini/Master-Thesis/blob/master/core/simulation/env/spawn/SpawnStragety.py) and a [`FlatGroundSpawnStrategy`](https://github.com/FrancescoSaverioZuppichini/Master-Thesis/blob/master/core/simulation/env/spawn/SpawnStragety.py). The second will spawn the robot on the flat part of the terrain."
   ]
  },
  {
   "cell_type": "markdown",
   "metadata": {},
   "source": [
    "The previous snippet will run two simulations for 10 second each on the provided map. Krock will walk on the terrain until the time finish or it reach the boundaries of the terrain. The simulation information are stored in a `.csv` file at `out_dir/meta.csv`."
   ]
  },
  {
   "cell_type": "code",
   "execution_count": 4,
   "metadata": {},
   "outputs": [
    {
     "data": {
      "text/html": [
       "<div>\n",
       "<style scoped>\n",
       "    .dataframe tbody tr th:only-of-type {\n",
       "        vertical-align: middle;\n",
       "    }\n",
       "\n",
       "    .dataframe tbody tr th {\n",
       "        vertical-align: top;\n",
       "    }\n",
       "\n",
       "    .dataframe thead th {\n",
       "        text-align: right;\n",
       "    }\n",
       "</style>\n",
       "<table border=\"1\" class=\"dataframe\">\n",
       "  <thead>\n",
       "    <tr style=\"text-align: right;\">\n",
       "      <th></th>\n",
       "      <th>Unnamed: 0</th>\n",
       "      <th>filename</th>\n",
       "      <th>map</th>\n",
       "      <th>height</th>\n",
       "    </tr>\n",
       "  </thead>\n",
       "  <tbody>\n",
       "    <tr>\n",
       "      <th>0</th>\n",
       "      <td>0</td>\n",
       "      <td>bumps0-1-1563102050.8296146</td>\n",
       "      <td>bumps0</td>\n",
       "      <td>1</td>\n",
       "    </tr>\n",
       "    <tr>\n",
       "      <th>1</th>\n",
       "      <td>1</td>\n",
       "      <td>bumps0-1-1563102061.9010878</td>\n",
       "      <td>bumps0</td>\n",
       "      <td>1</td>\n",
       "    </tr>\n",
       "  </tbody>\n",
       "</table>\n",
       "</div>"
      ],
      "text/plain": [
       "   Unnamed: 0                     filename     map  height\n",
       "0           0  bumps0-1-1563102050.8296146  bumps0       1\n",
       "1           1  bumps0-1-1563102061.9010878  bumps0       1"
      ]
     },
     "execution_count": 4,
     "metadata": {},
     "output_type": "execute_result"
    }
   ],
   "source": [
    "import pandas as pd\n",
    "\n",
    "pd.read_csv( out_dir + 'meta.csv')"
   ]
  },
  {
   "cell_type": "markdown",
   "metadata": {},
   "source": [
    "The `.bag` files are stored into `tmp`"
   ]
  },
  {
   "cell_type": "code",
   "execution_count": 6,
   "metadata": {},
   "outputs": [
    {
     "name": "stdout",
     "output_type": "stream",
     "text": [
      "bumps0-1-1563102050.8296146.bag\r\n",
      "bumps0-1-1563102061.9010878.bag\r\n"
     ]
    }
   ],
   "source": [
    "!ls /home/francesco/Desktop/test/bags | grep .bag"
   ]
  },
  {
   "cell_type": "markdown",
   "metadata": {},
   "source": [
    "## Customization\n",
    "To change how the robot behaviour you can create subclass the `Simulation` class and override `step`"
   ]
  },
  {
   "cell_type": "code",
   "execution_count": 3,
   "metadata": {},
   "outputs": [
    {
     "name": "stderr",
     "output_type": "stream",
     "text": [
      "\r",
      "  0%|          | 0/2 [00:00<?, ?it/s]"
     ]
    },
    {
     "name": "stdout",
     "output_type": "stream",
     "text": [
      "success: 1\n"
     ]
    },
    {
     "name": "stderr",
     "output_type": "stream",
     "text": [
      "Reanimate robot:  50%|█████     | 1/2 [00:12<00:12, 12.20s/it]"
     ]
    },
    {
     "ename": "AttributeError",
     "evalue": "'NoneType' object has no attribute 'field'",
     "output_type": "error",
     "traceback": [
      "\u001b[0;31m---------------------------------------------------------------------------\u001b[0m",
      "\u001b[0;31mAttributeError\u001b[0m                            Traceback (most recent call last)",
      "\u001b[0;32m<ipython-input-3-b33577333cb6>\u001b[0m in \u001b[0;36m<module>\u001b[0;34m\u001b[0m\n\u001b[1;32m     10\u001b[0m \u001b[0;34m\u001b[0m\u001b[0m\n\u001b[1;32m     11\u001b[0m \u001b[0msim\u001b[0m \u001b[0;34m=\u001b[0m \u001b[0mSimulationWithRandomGait\u001b[0m\u001b[0;34m(\u001b[0m\u001b[0mmap_path\u001b[0m\u001b[0;34m=\u001b[0m\u001b[0;34m'./maps/new-train/bumps0.png'\u001b[0m\u001b[0;34m,\u001b[0m \u001b[0mmax_time\u001b[0m\u001b[0;34m=\u001b[0m\u001b[0;36m10\u001b[0m\u001b[0;34m,\u001b[0m \u001b[0mn\u001b[0m\u001b[0;34m=\u001b[0m\u001b[0;36m2\u001b[0m\u001b[0;34m,\u001b[0m \u001b[0mout_dir\u001b[0m\u001b[0;34m=\u001b[0m\u001b[0;34m'/tmp/'\u001b[0m\u001b[0;34m,\u001b[0m \u001b[0mheight\u001b[0m\u001b[0;34m=\u001b[0m\u001b[0;36m1\u001b[0m\u001b[0;34m)\u001b[0m\u001b[0;34m\u001b[0m\u001b[0;34m\u001b[0m\u001b[0m\n\u001b[0;32m---> 12\u001b[0;31m \u001b[0msim\u001b[0m\u001b[0;34m(\u001b[0m\u001b[0;34m)\u001b[0m\u001b[0;34m\u001b[0m\u001b[0;34m\u001b[0m\u001b[0m\n\u001b[0m",
      "\u001b[0;32m~/Documents/Master-Thesis/core/simulation/Simulation.py\u001b[0m in \u001b[0;36m__call__\u001b[0;34m(self)\u001b[0m\n\u001b[1;32m     52\u001b[0m             \u001b[0;32mif\u001b[0m \u001b[0mi\u001b[0m \u001b[0;34m>\u001b[0m \u001b[0mlen\u001b[0m\u001b[0;34m(\u001b[0m\u001b[0mspawn_points\u001b[0m\u001b[0;34m)\u001b[0m\u001b[0;34m:\u001b[0m \u001b[0mspawn_point\u001b[0m \u001b[0;34m=\u001b[0m \u001b[0mrandom\u001b[0m\u001b[0;34m.\u001b[0m\u001b[0mchoice\u001b[0m\u001b[0;34m(\u001b[0m\u001b[0mspawn_points\u001b[0m\u001b[0;34m)\u001b[0m\u001b[0;34m\u001b[0m\u001b[0;34m\u001b[0m\u001b[0m\n\u001b[1;32m     53\u001b[0m             \u001b[0;31m# we have to convert the spawn points coordinate to webots\u001b[0m\u001b[0;34m\u001b[0m\u001b[0;34m\u001b[0m\u001b[0;34m\u001b[0m\u001b[0m\n\u001b[0;32m---> 54\u001b[0;31m             \u001b[0mpose\u001b[0m \u001b[0;34m=\u001b[0m \u001b[0mspawn_points2webots_pose\u001b[0m\u001b[0;34m(\u001b[0m\u001b[0mspawn_point\u001b[0m\u001b[0;34m,\u001b[0m \u001b[0mself\u001b[0m\u001b[0;34m.\u001b[0m\u001b[0menv\u001b[0m\u001b[0;34m)\u001b[0m\u001b[0;34m\u001b[0m\u001b[0;34m\u001b[0m\u001b[0m\n\u001b[0m\u001b[1;32m     55\u001b[0m             \u001b[0mself\u001b[0m\u001b[0;34m.\u001b[0m\u001b[0menv\u001b[0m\u001b[0;34m.\u001b[0m\u001b[0mreset\u001b[0m\u001b[0;34m(\u001b[0m\u001b[0mpose\u001b[0m\u001b[0;34m=\u001b[0m\u001b[0mpose\u001b[0m\u001b[0;34m)\u001b[0m\u001b[0;34m\u001b[0m\u001b[0;34m\u001b[0m\u001b[0m\n\u001b[1;32m     56\u001b[0m             \u001b[0;31m# one in a while we recreate the robot to be sure it is not damaged\u001b[0m\u001b[0;34m\u001b[0m\u001b[0;34m\u001b[0m\u001b[0;34m\u001b[0m\u001b[0m\n",
      "\u001b[0;32m~/Documents/Master-Thesis/core/simulation/env/spawn/__init__.py\u001b[0m in \u001b[0;36mspawn_points2webots_pose\u001b[0;34m(spawn_point, env, tr, orientation, z_offset)\u001b[0m\n\u001b[1;32m      2\u001b[0m \u001b[0;34m\u001b[0m\u001b[0m\n\u001b[1;32m      3\u001b[0m \u001b[0;32mdef\u001b[0m \u001b[0mspawn_points2webots_pose\u001b[0m\u001b[0;34m(\u001b[0m\u001b[0mspawn_point\u001b[0m\u001b[0;34m,\u001b[0m \u001b[0menv\u001b[0m\u001b[0;34m,\u001b[0m \u001b[0mtr\u001b[0m\u001b[0;34m=\u001b[0m\u001b[0;34m[\u001b[0m\u001b[0;36m5\u001b[0m\u001b[0;34m,\u001b[0m\u001b[0;36m5\u001b[0m\u001b[0;34m]\u001b[0m\u001b[0;34m,\u001b[0m \u001b[0morientation\u001b[0m\u001b[0;34m=\u001b[0m\u001b[0;32mNone\u001b[0m\u001b[0;34m,\u001b[0m \u001b[0mz_offset\u001b[0m\u001b[0;34m=\u001b[0m\u001b[0;36m0.5\u001b[0m\u001b[0;34m)\u001b[0m\u001b[0;34m:\u001b[0m\u001b[0;34m\u001b[0m\u001b[0;34m\u001b[0m\u001b[0m\n\u001b[0;32m----> 4\u001b[0;31m     \u001b[0morientation\u001b[0m \u001b[0;34m=\u001b[0m \u001b[0menv\u001b[0m\u001b[0;34m.\u001b[0m\u001b[0mrandom_position\u001b[0m\u001b[0;34m[\u001b[0m\u001b[0;36m1\u001b[0m\u001b[0;34m]\u001b[0m \u001b[0;32mif\u001b[0m \u001b[0morientation\u001b[0m \u001b[0;32mis\u001b[0m \u001b[0;32mNone\u001b[0m \u001b[0;32melse\u001b[0m \u001b[0morientation\u001b[0m\u001b[0;34m\u001b[0m\u001b[0;34m\u001b[0m\u001b[0m\n\u001b[0m\u001b[1;32m      5\u001b[0m     \u001b[0mx\u001b[0m\u001b[0;34m,\u001b[0m\u001b[0my\u001b[0m \u001b[0;34m=\u001b[0m \u001b[0mspawn_point\u001b[0m\u001b[0;34m\u001b[0m\u001b[0;34m\u001b[0m\u001b[0m\n\u001b[1;32m      6\u001b[0m     \u001b[0mz\u001b[0m \u001b[0;34m=\u001b[0m \u001b[0menv\u001b[0m\u001b[0;34m.\u001b[0m\u001b[0mget_height\u001b[0m\u001b[0;34m(\u001b[0m\u001b[0mx\u001b[0m\u001b[0;34m,\u001b[0m \u001b[0my\u001b[0m\u001b[0;34m)\u001b[0m\u001b[0;34m\u001b[0m\u001b[0;34m\u001b[0m\u001b[0m\n",
      "\u001b[0;32m~/Documents/Master-Thesis/core/simulation/env/webots/WebotsEnv.py\u001b[0m in \u001b[0;36mrandom_position\u001b[0;34m(self)\u001b[0m\n\u001b[1;32m     85\u001b[0m         \u001b[0mrandom_pose\u001b[0m\u001b[0;34m.\u001b[0m\u001b[0mposition\u001b[0m\u001b[0;34m.\u001b[0m\u001b[0mx\u001b[0m \u001b[0;34m=\u001b[0m \u001b[0mrx\u001b[0m\u001b[0;34m\u001b[0m\u001b[0;34m\u001b[0m\u001b[0m\n\u001b[1;32m     86\u001b[0m         \u001b[0mrandom_pose\u001b[0m\u001b[0;34m.\u001b[0m\u001b[0mposition\u001b[0m\u001b[0;34m.\u001b[0m\u001b[0my\u001b[0m \u001b[0;34m=\u001b[0m \u001b[0mry\u001b[0m\u001b[0;34m\u001b[0m\u001b[0;34m\u001b[0m\u001b[0m\n\u001b[0;32m---> 87\u001b[0;31m         \u001b[0mh\u001b[0m \u001b[0;34m=\u001b[0m \u001b[0mself\u001b[0m\u001b[0;34m.\u001b[0m\u001b[0mget_height\u001b[0m\u001b[0;34m(\u001b[0m\u001b[0mrx\u001b[0m\u001b[0;34m,\u001b[0m \u001b[0mry\u001b[0m\u001b[0;34m)\u001b[0m\u001b[0;34m\u001b[0m\u001b[0;34m\u001b[0m\u001b[0m\n\u001b[0m\u001b[1;32m     88\u001b[0m \u001b[0;34m\u001b[0m\u001b[0m\n\u001b[1;32m     89\u001b[0m         \u001b[0mrandom_pose\u001b[0m\u001b[0;34m.\u001b[0m\u001b[0mposition\u001b[0m\u001b[0;34m.\u001b[0m\u001b[0mz\u001b[0m \u001b[0;34m=\u001b[0m \u001b[0mh\u001b[0m \u001b[0;34m+\u001b[0m \u001b[0;36m0.5\u001b[0m\u001b[0;34m\u001b[0m\u001b[0;34m\u001b[0m\u001b[0m\n",
      "\u001b[0;32m~/Documents/Master-Thesis/core/simulation/env/webots/WebotsEnv.py\u001b[0m in \u001b[0;36mget_height\u001b[0;34m(self, x, y)\u001b[0m\n\u001b[1;32m     73\u001b[0m     \u001b[0;32mdef\u001b[0m \u001b[0mget_height\u001b[0m\u001b[0;34m(\u001b[0m\u001b[0mself\u001b[0m\u001b[0;34m,\u001b[0m \u001b[0mx\u001b[0m\u001b[0;34m,\u001b[0m \u001b[0my\u001b[0m\u001b[0;34m)\u001b[0m\u001b[0;34m:\u001b[0m\u001b[0;34m\u001b[0m\u001b[0;34m\u001b[0m\u001b[0m\n\u001b[1;32m     74\u001b[0m         \u001b[0midx\u001b[0m \u001b[0;34m=\u001b[0m \u001b[0mint\u001b[0m\u001b[0;34m(\u001b[0m\u001b[0mx\u001b[0m \u001b[0;34m+\u001b[0m \u001b[0;34m(\u001b[0m\u001b[0mself\u001b[0m\u001b[0;34m.\u001b[0m\u001b[0mx_dim\u001b[0m \u001b[0;34m*\u001b[0m \u001b[0my\u001b[0m\u001b[0;34m)\u001b[0m\u001b[0;34m)\u001b[0m\u001b[0;34m\u001b[0m\u001b[0;34m\u001b[0m\u001b[0m\n\u001b[0;32m---> 75\u001b[0;31m         \u001b[0mh\u001b[0m \u001b[0;34m=\u001b[0m \u001b[0mself\u001b[0m\u001b[0;34m.\u001b[0m\u001b[0mgrid\u001b[0m\u001b[0;34m[\u001b[0m\u001b[0;34m'height'\u001b[0m\u001b[0;34m]\u001b[0m\u001b[0;34m[\u001b[0m\u001b[0midx\u001b[0m\u001b[0;34m]\u001b[0m\u001b[0;34m.\u001b[0m\u001b[0mvalue\u001b[0m\u001b[0;34m\u001b[0m\u001b[0;34m\u001b[0m\u001b[0m\n\u001b[0m\u001b[1;32m     76\u001b[0m \u001b[0;34m\u001b[0m\u001b[0m\n\u001b[1;32m     77\u001b[0m         \u001b[0;32mreturn\u001b[0m \u001b[0mh\u001b[0m\u001b[0;34m\u001b[0m\u001b[0;34m\u001b[0m\u001b[0m\n",
      "\u001b[0;32m~/Documents/Master-Thesis/core/utilities/webots2ros/Supervisor.py\u001b[0m in \u001b[0;36m__getitem__\u001b[0;34m(self, key)\u001b[0m\n\u001b[1;32m    265\u001b[0m         \u001b[0;31m# wb_field = req(self.node.node, key)\u001b[0m\u001b[0;34m\u001b[0m\u001b[0;34m\u001b[0m\u001b[0;34m\u001b[0m\u001b[0m\n\u001b[1;32m    266\u001b[0m \u001b[0;34m\u001b[0m\u001b[0m\n\u001b[0;32m--> 267\u001b[0;31m         \u001b[0mfield\u001b[0m \u001b[0;34m=\u001b[0m \u001b[0mField\u001b[0m\u001b[0;34m(\u001b[0m\u001b[0mwb_field\u001b[0m\u001b[0;34m,\u001b[0m \u001b[0mself\u001b[0m\u001b[0;34m)\u001b[0m\u001b[0;34m\u001b[0m\u001b[0;34m\u001b[0m\u001b[0m\n\u001b[0m\u001b[1;32m    268\u001b[0m         \u001b[0mfield\u001b[0m\u001b[0;34m.\u001b[0m\u001b[0mname\u001b[0m \u001b[0;34m=\u001b[0m \u001b[0mself\u001b[0m\u001b[0;34m.\u001b[0m\u001b[0mname\u001b[0m\u001b[0;34m\u001b[0m\u001b[0;34m\u001b[0m\u001b[0m\n\u001b[1;32m    269\u001b[0m \u001b[0;34m\u001b[0m\u001b[0m\n",
      "\u001b[0;32m~/Documents/Master-Thesis/core/utilities/webots2ros/Supervisor.py\u001b[0m in \u001b[0;36m__init__\u001b[0;34m(self, field, node)\u001b[0m\n\u001b[1;32m    214\u001b[0m     \u001b[0;32mdef\u001b[0m \u001b[0m__init__\u001b[0m\u001b[0;34m(\u001b[0m\u001b[0mself\u001b[0m\u001b[0;34m,\u001b[0m \u001b[0mfield\u001b[0m\u001b[0;34m,\u001b[0m \u001b[0mnode\u001b[0m\u001b[0;34m)\u001b[0m\u001b[0;34m:\u001b[0m\u001b[0;34m\u001b[0m\u001b[0;34m\u001b[0m\u001b[0m\n\u001b[1;32m    215\u001b[0m         \u001b[0msuper\u001b[0m\u001b[0;34m(\u001b[0m\u001b[0;34m)\u001b[0m\u001b[0;34m.\u001b[0m\u001b[0m__init__\u001b[0m\u001b[0;34m(\u001b[0m\u001b[0;34m)\u001b[0m\u001b[0;34m\u001b[0m\u001b[0;34m\u001b[0m\u001b[0m\n\u001b[0;32m--> 216\u001b[0;31m         \u001b[0mself\u001b[0m\u001b[0;34m.\u001b[0m\u001b[0mid\u001b[0m \u001b[0;34m=\u001b[0m \u001b[0mfield\u001b[0m\u001b[0;34m.\u001b[0m\u001b[0mfield\u001b[0m\u001b[0;34m\u001b[0m\u001b[0;34m\u001b[0m\u001b[0m\n\u001b[0m\u001b[1;32m    217\u001b[0m         \u001b[0mself\u001b[0m\u001b[0;34m.\u001b[0m\u001b[0mfield\u001b[0m \u001b[0;34m=\u001b[0m \u001b[0mfield\u001b[0m\u001b[0;34m\u001b[0m\u001b[0;34m\u001b[0m\u001b[0m\n\u001b[1;32m    218\u001b[0m         \u001b[0mself\u001b[0m\u001b[0;34m.\u001b[0m\u001b[0mnode\u001b[0m \u001b[0;34m=\u001b[0m \u001b[0mnode\u001b[0m\u001b[0;34m\u001b[0m\u001b[0;34m\u001b[0m\u001b[0m\n",
      "\u001b[0;31mAttributeError\u001b[0m: 'NoneType' object has no attribute 'field'"
     ]
    }
   ],
   "source": [
    "from random import randint\n",
    "\n",
    "class SimulationWithRandomGait(Simulation):\n",
    "    def step(self):\n",
    "        return self.env.step({\n",
    "        'frontal_freq': 1,\n",
    "        'lateral_freq': 0,\n",
    "        'gait': randint(1,3) # this will select a different gait at each step\n",
    "    })\n",
    "    \n",
    "sim = SimulationWithRandomGait(map_path='./maps/new-train/bumps0.png', max_time=10, n=2, out_dir='/tmp/', height=1)\n",
    "sim()"
   ]
  },
  {
   "cell_type": "markdown",
   "metadata": {},
   "source": [
    "To understand why and how this work please read the following sections."
   ]
  },
  {
   "cell_type": "markdown",
   "metadata": {},
   "source": [
    "# API\n",
    "\n",
    "This packages provide a clean API to create and run a robotic simulation. In our work, we used Webots as engine and a robot called Krock. "
   ]
  },
  {
   "cell_type": "markdown",
   "metadata": {},
   "source": [
    "## Webots + Krock\n",
    "![alt text](https://raw.githubusercontent.com/FrancescoSaverioZuppichini/Master-Thesis/master/resources/images/krock.jpg)\n",
    "\n",
    "In order to run the Krock robot using Webots we provide a [gym](https://gym.openai.com/) env called `KrockWebotsEnv`. If you know gym, then you are good to go. It follows a **basic example** where we let Krock walk forward"
   ]
  },
  {
   "cell_type": "code",
   "execution_count": 35,
   "metadata": {},
   "outputs": [
    {
     "name": "stdout",
     "output_type": "stream",
     "text": [
      "success: 1\n",
      "Initial observations:\n",
      "{'sensors': {'front_cam': None,\n",
      "             'orientation': {'w': 0.1856268810151021,\n",
      "                             'x': 0.018228798012318075,\n",
      "                             'y': 0.06653953354160076,\n",
      "                             'z': -0.9801953185175379},\n",
      "             'position': {'x': 0.2315982956667584,\n",
      "                          'y': -0.1937481574050184,\n",
      "                          'z': -0.5933946612326868}}}\n",
      "{'sensors': {'front_cam': None,\n",
      "             'orientation': {'w': 0.1856268810151021,\n",
      "                             'x': 0.018228798012318075,\n",
      "                             'y': 0.06653953354160076,\n",
      "                             'z': -0.9801953185175379},\n",
      "             'position': {'x': 0.2315982956667584,\n",
      "                          'y': -0.1937481574050184,\n",
      "                          'z': -0.5933946612326868}}}\n",
      "{'sensors': {'front_cam': None,\n",
      "             'orientation': {'w': 0.1856268810151021,\n",
      "                             'x': 0.018228798012318075,\n",
      "                             'y': 0.06653953354160076,\n",
      "                             'z': -0.9801953185175379},\n",
      "             'position': {'x': 0.2315982956667584,\n",
      "                          'y': -0.1937481574050184,\n",
      "                          'z': -0.5933946612326868}}}\n",
      "{'sensors': {'front_cam': None,\n",
      "             'orientation': {'w': 0.1856268810151021,\n",
      "                             'x': 0.018228798012318075,\n",
      "                             'y': 0.06653953354160076,\n",
      "                             'z': -0.9801953185175379},\n",
      "             'position': {'x': 0.2315982956667584,\n",
      "                          'y': -0.1937481574050184,\n",
      "                          'z': -0.5933946612326868}}}\n",
      "{'sensors': {'front_cam': None,\n",
      "             'orientation': {'w': 0.1856268810151021,\n",
      "                             'x': 0.018228798012318075,\n",
      "                             'y': 0.06653953354160076,\n",
      "                             'z': -0.9801953185175379},\n",
      "             'position': {'x': 0.2315982956667584,\n",
      "                          'y': -0.1937481574050184,\n",
      "                          'z': -0.5933946612326868}}}\n"
     ]
    },
    {
     "data": {
      "text/plain": [
       "({'sensors': {'position': {'x': 0.2315982956667584,\n",
       "    'y': -0.1937481574050184,\n",
       "    'z': -0.5933946612326868},\n",
       "   'orientation': {'x': 0.018228798012318075,\n",
       "    'y': 0.06653953354160076,\n",
       "    'z': -0.9801953185175379,\n",
       "    'w': 0.1856268810151021},\n",
       "   'front_cam': None}},\n",
       " 0,\n",
       " False,\n",
       " {})"
      ]
     },
     "execution_count": 35,
     "metadata": {},
     "output_type": "execute_result"
    }
   ],
   "source": [
    "import rospy\n",
    "import pprint\n",
    "\n",
    "from simulation.env.webots.krock import Krock, KrockWebotsEnv\n",
    "# load a world file\n",
    "WORLD_PATH = '/home/francesco/Documents/Master-Thesis/core/env/webots/krock/krock2_ros/worlds/holes2.wbt'\n",
    "N_STEPS = 4\n",
    "\n",
    "rospy.init_node(\"traversability_simulation\")\n",
    "# create our env\n",
    "env = KrockWebotsEnv.from_file(WORLD_PATH)\n",
    "# spawn the robot at random pose\n",
    "init_obs = env.reset(pose=env.random_position)\n",
    "\n",
    "print('Initial observations:')\n",
    "pprint.pprint(init_obs)\n",
    "\n",
    "for _ in range(N_STEPS):\n",
    "#   go forward for a while\n",
    "    obs, r, done, _ = env.step(env.GO_FORWARD)\n",
    "    pprint.pprint(obs)\n",
    "    if done: break\n",
    "        \n",
    "env.step(env.STOP)"
   ]
  },
  {
   "cell_type": "markdown",
   "metadata": {},
   "source": [
    "### Actions"
   ]
  },
  {
   "cell_type": "markdown",
   "metadata": {},
   "source": [
    "`KrockWebotsEnv` implements `WebotsEnv` that is a generic env for Webots. Thanks to to gym interface we can explore the action space and the observation space easily\n",
    "\n"
   ]
  },
  {
   "cell_type": "code",
   "execution_count": 26,
   "metadata": {},
   "outputs": [
    {
     "name": "stdout",
     "output_type": "stream",
     "text": [
      "Dict(frontal_freq:Box(), gait:Discrete(2), lateral_freq:Box())\n",
      "Dict(sensors:Dict(front_cam:Tuple(Box(600, 800, 3), Box(600, 800, 3)), orientation:Dict(w:Box(1,), x:Box(1,), y:Box(1,), z:Box(1,)), position:Dict(x:Box(1,), y:Box(1,), z:Box(1,))))\n"
     ]
    }
   ],
   "source": [
    "print(env.action_space)\n",
    "print(env.observation_space)"
   ]
  },
  {
   "cell_type": "markdown",
   "metadata": {},
   "source": [
    "Select a random action is even esier\n"
   ]
  },
  {
   "cell_type": "code",
   "execution_count": 43,
   "metadata": {},
   "outputs": [
    {
     "data": {
      "text/plain": [
       "({'sensors': {'position': {'x': -1.403106178441482,\n",
       "    'y': -4.495554941675828,\n",
       "    'z': -0.6178344141800893},\n",
       "   'orientation': {'x': -0.0903590497756354,\n",
       "    'y': 0.024031471713933404,\n",
       "    'z': 0.8236676444897191,\n",
       "    'w': 0.5593114891647272},\n",
       "   'front_cam': None}},\n",
       " 0,\n",
       " False,\n",
       " {})"
      ]
     },
     "execution_count": 43,
     "metadata": {},
     "output_type": "execute_result"
    }
   ],
   "source": [
    "obs, r, done, _ = env.step(env.action_space.sample())\n",
    "env.step(env.STOP)"
   ]
  },
  {
   "cell_type": "markdown",
   "metadata": {},
   "source": [
    "We can easily **change the gait** by passing the correct action\n",
    "![alt text](https://raw.githubusercontent.com/FrancescoSaverioZuppichini/Master-Thesis/master/resources/images/krock-gait.jpg)\n"
   ]
  },
  {
   "cell_type": "code",
   "execution_count": 57,
   "metadata": {},
   "outputs": [
    {
     "name": "stdout",
     "output_type": "stream",
     "text": [
      "shutdown request: new node registered with same name\n"
     ]
    }
   ],
   "source": [
    "import time\n",
    "# init_obs = env.reset(pose=env.random_position)\n",
    "obs, r, done, _ = env.step({\n",
    "        'frontal_freq': 1,\n",
    "        'lateral_freq': 0,\n",
    "        'gait': 2 # change gait to 2\n",
    "    })\n",
    "time.sleep(2)\n",
    "obs, r, done, _ = env.step(env.STOP) # stop will also reset the gait to 1"
   ]
  },
  {
   "cell_type": "markdown",
   "metadata": {},
   "source": [
    "# Under the hood\n",
    "\n",
    "To create the final enviroment we had to first.\n",
    "\n",
    "## Define the Enviroment\n",
    "Under the hood `KrockWebotsEnv` implements [`WebotsEnv`](https://github.com/FrancescoSaverioZuppichini/Master-Thesis/blob/master/core/simulation/env/webots/WebotsEnv.py). `WebotsEnv` creates the enviroment by from an image (heightmap)/ numpy array or a webots worl file. Check the `classmethod`. It also allows to get the height in a point and to spawn the robot in the terrain. "
   ]
  },
  {
   "cell_type": "markdown",
   "metadata": {},
   "source": [
    "## Define the Robot\n",
    "\n",
    "### Agent API\n",
    "The base class to create a robot is `Agent`"
   ]
  },
  {
   "cell_type": "code",
   "execution_count": 66,
   "metadata": {},
   "outputs": [
    {
     "name": "stdout",
     "output_type": "stream",
     "text": [
      "I am alive!\n",
      "I am moving!\n",
      "bye bye\n"
     ]
    }
   ],
   "source": [
    "from simulation.agent import Agent\n",
    "\n",
    "class DummyAgent(Agent):\n",
    "    def __call__(self, *args, **kwargs):\n",
    "        print('I am alive!')\n",
    "    def act(self, env, *args, **kwargs):\n",
    "        print('I am moving!')\n",
    "    def die(self, *args, **kwargs):\n",
    "        print('bye bye')\n",
    "    \n",
    "a = DummyAgent()\n",
    "env = None\n",
    "a() # init\n",
    "a.act(env) # do something\n",
    "a.die(env) # RIP, clean up (e.g store stuff empty the state)"
   ]
  },
  {
   "cell_type": "markdown",
   "metadata": {},
   "source": [
    "### ROS\n",
    "A `Rospy` agent is already implemented and can be found at `agent.RospyAgent`. It adds two methods to the basic `Agent`: `init_publishers` and `init_subscribers`. They must be overrided to initialise the subscribers and listeners. "
   ]
  },
  {
   "cell_type": "code",
   "execution_count": 68,
   "metadata": {},
   "outputs": [
    {
     "name": "stdout",
     "output_type": "stream",
     "text": [
      "{'pose': <rospy.topics.Subscriber object at 0x7fe8a9e37438>}\n",
      "{'joy': <rospy.topics.Publisher object at 0x7fe80c5168d0>}\n"
     ]
    }
   ],
   "source": [
    "from simulation.agent import RospyAgent\n",
    "from geometry_msgs.msg import PoseStamped\n",
    "from sensor_msgs.msg import Joy\n",
    "\n",
    "class MyRospyAgent(RospyAgent):\n",
    "    def init_publishers(self):\n",
    "        return {\n",
    "            'joy': rospy.Publisher('/joy', Joy, queue_size=1),\n",
    "        }\n",
    "\n",
    "    def init_subscribers(self):\n",
    "        return { 'pose': \n",
    "                rospy.Subscriber('/pose', PoseStamped, self.callback_pose)\n",
    "               }\n",
    "\n",
    "    def callback_pose(self, data):\n",
    "        # this will triggers the `on_state_change` method in all callbacks\n",
    "        self.state['pose'] = data\n",
    "\n",
    "a = MyRospyAgent()\n",
    "a()\n",
    "print(a.subscribers)\n",
    "print(a.publishers)\n"
   ]
  },
  {
   "cell_type": "markdown",
   "metadata": {},
   "source": [
    "### Callbacks\n",
    "`Agent` implements the protocol `Callbackable` protocol. A callback can be\n",
    "added by calling the `add_callback` or `add_callbacks`. "
   ]
  },
  {
   "cell_type": "code",
   "execution_count": 69,
   "metadata": {},
   "outputs": [],
   "source": [
    "from simulation.agent.callbacks import AgentCallback\n",
    "\n",
    "class MyCallback(AgentCallback):\n",
    "    def on_state_change(self, agent, key, value):\n",
    "        print(key, value)"
   ]
  },
  {
   "cell_type": "markdown",
   "metadata": {},
   "source": [
    "Each `Agent` has a `state` that is just a `dict` . Every time it is changed it triggers the `on_state_change` event. This is usefull\n",
    "to record stuff."
   ]
  },
  {
   "cell_type": "code",
   "execution_count": 70,
   "metadata": {},
   "outputs": [
    {
     "name": "stdout",
     "output_type": "stream",
     "text": [
      "I am alive!\n",
      "foo foo\n"
     ]
    }
   ],
   "source": [
    "a = DummyAgent()\n",
    "a.add_callback(MyCallback())\n",
    "a()\n",
    "\n",
    "a.state['foo'] = 'foo'"
   ]
  },
  {
   "cell_type": "markdown",
   "metadata": {},
   "source": [
    "#### RosBagSaver\n",
    "\n",
    "A callback to store the topics of an agent into bags file is implemented"
   ]
  },
  {
   "cell_type": "code",
   "execution_count": 71,
   "metadata": {},
   "outputs": [],
   "source": [
    "from simulation.agent.callbacks import RosBagSaver\n",
    "\n",
    "a = MyRospyAgent()\n",
    "a.add_callbacks([RosBagSaver(save_dir='/temp/data', topics=['pose'])])\n",
    "a()"
   ]
  },
  {
   "cell_type": "markdown",
   "metadata": {},
   "source": [
    "The files will be stored everytime `agent.die()` il called. A new thread is always spawned to avoid blocking"
   ]
  },
  {
   "cell_type": "markdown",
   "metadata": {},
   "source": [
    "## Krock\n",
    "[`Krock`](https://github.com/FrancescoSaverioZuppichini/Master-Thesis/blob/master/core/simulation/env/webots/krock/Krock.py) is just a `RospyAgent` that has already all the subscribers and listeners."
   ]
  },
  {
   "cell_type": "code",
   "execution_count": null,
   "metadata": {},
   "outputs": [],
   "source": []
  }
 ],
 "metadata": {
  "kernelspec": {
   "display_name": "Python 3",
   "language": "python",
   "name": "python3"
  },
  "language_info": {
   "codemirror_mode": {
    "name": "ipython",
    "version": 3
   },
   "file_extension": ".py",
   "mimetype": "text/x-python",
   "name": "python",
   "nbconvert_exporter": "python",
   "pygments_lexer": "ipython3",
   "version": "3.6.7"
  }
 },
 "nbformat": 4,
 "nbformat_minor": 2
}
