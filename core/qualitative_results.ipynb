{
 "cells": [
  {
   "cell_type": "code",
   "execution_count": 1,
   "metadata": {},
   "outputs": [],
   "source": [
    "%reload_ext autoreload\n",
    "%autoreload 2\n",
    "\n",
    "import cv2\n",
    "import matplotlib\n",
    "import pandas as pd\n",
    "import matplotlib.pyplot as plt\n",
    "import seaborn as sns\n",
    "import glob\n",
    "\n",
    "from os import path\n",
    "from utilities.patches import *\n",
    "\n",
    "from jupyterthemes import jtplot\n",
    "jtplot.reset()\n",
    "\n",
    "plt.style.use(['science'])\n",
    "matplotlib.rcParams['figure.figsize'] = (8,6)\n",
    "get_ipython().config.get('IPKernelApp', {})['parent_appname'] = \"\"\n"
   ]
  },
  {
   "cell_type": "code",
   "execution_count": 4,
   "metadata": {},
   "outputs": [],
   "source": [
    "from utilities.postprocessing.handlers.functional import read_image\n",
    "\n",
    "mask  = read_image('/home/francesco/Documents/Master-Thesis/resources/assets/textures/0.2-0.66/querry-big-10-270.png') / 255"
   ]
  },
  {
   "cell_type": "code",
   "execution_count": 14,
   "metadata": {},
   "outputs": [
    {
     "data": {
      "text/plain": [
       "<mayavi.core.scene.Scene at 0x7fdc221f73b8>"
      ]
     },
     "execution_count": 14,
     "metadata": {},
     "output_type": "execute_result"
    }
   ],
   "source": [
    "quarry = TraversabilityPatch.from_path('./maps/test/querry-big-10.png')\n",
    "quarry.hm *= 10\n",
    "quarry.plot3d_traversability(0.02,  mask=mask, size=(2000,2000), \n",
    "                                          azimuth=45, elevation=45, distance=85, save_path='/home/francesco/Desktop/test.png')"
   ]
  },
  {
   "cell_type": "code",
   "execution_count": 13,
   "metadata": {},
   "outputs": [
    {
     "ename": "SyntaxError",
     "evalue": "invalid syntax (<ipython-input-13-690bc44e3c5d>, line 4)",
     "output_type": "error",
     "traceback": [
      "\u001b[0;36m  File \u001b[0;32m\"<ipython-input-13-690bc44e3c5d>\"\u001b[0;36m, line \u001b[0;32m4\u001b[0m\n\u001b[0;31m    texture_path='/home/francesco/Documents/Master-Thesis/resources/assets/textures/0.2-0.66/querry-big-10-270.png')\u001b[0m\n\u001b[0m               ^\u001b[0m\n\u001b[0;31mSyntaxError\u001b[0m\u001b[0;31m:\u001b[0m invalid syntax\n"
     ]
    }
   ],
   "source": [
    "quarry.plot3d_mayavi(0.02,\n",
    "                     size=(2000,2000), \n",
    "                     azimuth=45, elevation=45, distance=85, save_path='/home/francesco/Desktop/test.png', color=(1,1,1)\n",
    "                     texture_path='/home/francesco/Documents/Master-Thesis/resources/assets/textures/0.2-0.66/querry-big-10-270.png')"
   ]
  },
  {
   "cell_type": "code",
   "execution_count": 21,
   "metadata": {},
   "outputs": [],
   "source": [
    "def visualizeTerrain2(terrain, pixelsize, mask, fig=None):\n",
    "    \"\"\"Draws a surface colored according to mask using a custom colormap\n",
    "    Inspired by http://gael-varoquaux.info/programming/mayavi-representing-an-additional-scalar-on-surfaces.html \"\"\"\n",
    "    \n",
    "    if(fig is None):\n",
    "        fig = mlab.figure()\n",
    "    \n",
    "    fig.scene.background = (1,1,1)\n",
    "    \n",
    "    y, x = np.meshgrid(np.arange(terrain.shape[0])*pixelsize,np.arange(terrain.shape[1])*pixelsize)\n",
    "    s = mlab.mesh(x, y, terrain, scalars=mask, colormap='viridis', vmin=0, vmax=1) # We use a mesh, not a surf. Note: it's less efficient\n",
    "    \n",
    "#     # http://docs.enthought.com/mayavi/mayavi/auto/example_custom_colormap.html\n",
    "#     colormap=np.tile(np.array([180,180,180,255]),[256,1]) # all gray\n",
    "#     colormap = np.linspace(180,220,256) # scale green channel\n",
    "# #     colormap[:,1]=np.linspace(180,220,256) # scale green channel\n",
    "\n",
    "#     s.module_manager.scalar_lut_manager.lut.table = colormap\n",
    "#     s.module_manager.scalar_lut_manager.lut.range=np.array([0.0,1.0])\n",
    "    s.actor.property.interpolation = 'phong'\n",
    "    s.actor.property.specular = 0.0\n",
    "    s.actor.property.specular_power = 10\n",
    "    s.actor.property.ambient_color = (1, 1, 1)\n",
    "    s.actor.property.diffuse_color = (0.7, 0.7, 0.7)\n",
    "    s.actor.property.color = (0.7, 0.7, 0.7)\n",
    "    s.actor.property.ambient = 0.05\n",
    "\n",
    "    \n",
    "    mlab.savefig('/home/francesco/Desktop/test.png')\n",
    "    mlab.close(fig)\n",
    "    \n"
   ]
  },
  {
   "cell_type": "code",
   "execution_count": 22,
   "metadata": {},
   "outputs": [],
   "source": [
    "# mlab.options.offscreen = False\n",
    "fig=mlab.figure(size=(1000,1000))\n",
    "\n",
    "visualizeTerrain2(quarry.hm, 0.02, mask=mask / 255, fig=fig)"
   ]
  },
  {
   "cell_type": "code",
   "execution_count": 14,
   "metadata": {},
   "outputs": [],
   "source": [
    "?? mlab.mesh"
   ]
  },
  {
   "cell_type": "code",
   "execution_count": null,
   "metadata": {},
   "outputs": [],
   "source": [
    "rgb_mask = "
   ]
  }
 ],
 "metadata": {
  "kernelspec": {
   "display_name": "Python 3",
   "language": "python",
   "name": "python3"
  },
  "language_info": {
   "codemirror_mode": {
    "name": "ipython",
    "version": 3
   },
   "file_extension": ".py",
   "mimetype": "text/x-python",
   "name": "python",
   "nbconvert_exporter": "python",
   "pygments_lexer": "ipython3",
   "version": "3.6.7"
  }
 },
 "nbformat": 4,
 "nbformat_minor": 2
}
