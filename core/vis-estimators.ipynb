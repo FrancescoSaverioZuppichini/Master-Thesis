{
 "cells": [
  {
   "cell_type": "code",
   "execution_count": 1,
   "metadata": {},
   "outputs": [],
   "source": [
    "%load_ext autoreload\n",
    "%autoreload 2\n",
    "%matplotlib notebook"
   ]
  },
  {
   "cell_type": "code",
   "execution_count": 2,
   "metadata": {},
   "outputs": [
    {
     "name": "stderr",
     "output_type": "stream",
     "text": [
      "/home/francesco/.local/lib/python3.6/site-packages/skimage/novice/__init__.py:103: UserWarning: The `skimage.novice` module was deprecated in version 0.14. It will be removed in 0.16.\n",
      "  warnings.warn(\"The `skimage.novice` module was deprecated in version 0.14. \"\n"
     ]
    }
   ],
   "source": [
    "import tqdm\n",
    "import os\n",
    "import glob\n",
    "import torch\n",
    "import matplotlib.pyplot as plt\n",
    "import pandas as pd\n",
    "import cv2\n",
    "\n",
    "from mirror.visualisations.core import GradCam\n",
    "from estimators.models import *\n",
    "from estimators.utils import get_learner, get_probs_and_labels_from_preds, get_patches_form_df, load_model_from_name, device\n",
    "from estimators.datasets.TraversabilityDataset import TraversabilityDataset, get_transform\n",
    "\n",
    "from os import path\n",
    "from Config import Config\n",
    "from utilities.patches import *\n",
    "\n",
    "\n",
    "class StorePredictions():\n",
    "    def __init__(self, model_name, model_dir, store_dir):\n",
    "        self.model_name = model_name\n",
    "        self.model_dir = model_dir\n",
    "        self.dfs = []\n",
    "        self.df_path2df = {}\n",
    "        self.store_dir = store_dir\n",
    "\n",
    "    def handle_dataset(self, dataset):\n",
    "        df = dataset.df\n",
    "        learner, _ = get_learner(self.model_name, self.model_dir, callbacks=[], dataset=dataset)\n",
    "        preds = learner.get_preds(learner.data.test_dl)\n",
    "        probs, labels = get_probs_and_labels_from_preds(preds)\n",
    "\n",
    "        df['out_0'] = probs[:, 0]\n",
    "        df['out_1'] = probs[:, 1]\n",
    "        df['prediction'] = labels.cpu().tolist()\n",
    "\n",
    "        return df\n",
    "\n",
    "    def store(self):\n",
    "        for df_path, df in tqdm.tqdm(self.df_path2df.items()):\n",
    "            file_name = path.basename(df_path)\n",
    "            map_name = path.basename(path.split(df_path)[0])\n",
    "            out_path = path.normpath('{}/{}/'.format(self.store_dir, map_name))\n",
    "            os.makedirs(out_path, exist_ok=True)\n",
    "            out_path = path.normpath('{}/{}'.format(out_path, file_name))\n",
    "            df.to_csv(out_path)\n",
    "\n",
    "    def restore(self):\n",
    "        dfs_path = glob.glob(self.store_dir + '/**/*.csv')\n",
    "\n",
    "        for df_path in tqdm.tqdm(dfs_path):\n",
    "            df = pd.read_csv(df_path)\n",
    "            self.df_path2df[df_path] = df\n",
    "            self.dfs.append(df)\n",
    "\n",
    "    def __call__(self, datasets):\n",
    "        bar = tqdm.tqdm(datasets)\n",
    "        for dataset in bar:\n",
    "            if type(dataset) is not TraversabilityDataset: raise ValueError('inputs must be of type TraversabilityDataset')\n",
    "            bar.set_description('[INFO] Reading {}'.format(dataset.df_path))\n",
    "            if len(dataset) > 0:\n",
    "                df = self.handle_dataset(dataset)\n",
    "                self.dfs.append(df)\n",
    "                self.df_path2df[dataset.df_path] = self.dfs[-1]\n",
    "\n",
    "        return self.dfs\n",
    "\n",
    "\n",
    "\n",
    "\n"
   ]
  },
  {
   "cell_type": "code",
   "execution_count": null,
   "metadata": {
    "scrolled": false
   },
   "outputs": [],
   "source": [
    "concat = TraversabilityDataset.from_paths(Config.DATA_ROOT, [Config.DATA_DIR], tr=0.45, transform=get_transform(scale=10))\n",
    "store = StorePredictions(Config.BEST_MODEL_NAME, Config.BEST_MODEL_DIR, '/home/francesco/Desktop/store-test/')\n",
    "dfs = store(concat.datasets)\n",
    "# store.restore()"
   ]
  },
  {
   "cell_type": "code",
   "execution_count": null,
   "metadata": {},
   "outputs": [],
   "source": [
    "class Best():\n",
    "    name = 'best'\n",
    "    def __call__(self, df):\n",
    "        df = df.loc[df['label'] == 1]\n",
    "        return df.sort_values(['out_1'], ascending=False)\n",
    "\n",
    "class Worst():\n",
    "    name = 'worst'\n",
    "    def __call__(self, df):\n",
    "        df = df.loc[df['label'] == 0]\n",
    "        return df.sort_values(['out_0'], ascending=False)\n",
    "\n",
    "class FalseNegative():\n",
    "    name = 'false_negative'\n",
    "    def __call__(self, df):\n",
    "        return false_something(df, 0)\n",
    "\n",
    "class FalsePositive():\n",
    "    name = 'false_positive'\n",
    "    def __call__(self, df):\n",
    "        return false_something(df, 1)\n",
    "\n",
    "\n",
    "def false_something(df, something):\n",
    "    neg = df.loc[df['label'] == something]\n",
    "    return neg.loc[neg['prediction'] != something]\n",
    "\n"
   ]
  },
  {
   "cell_type": "code",
   "execution_count": null,
   "metadata": {},
   "outputs": [],
   "source": [
    "class FilterPatches():\n",
    "    def __init__(self, transform=None):\n",
    "        self.df = None\n",
    "        self.transform = transform\n",
    "    \n",
    "    def transform_patches(self, patches):\n",
    "        \n",
    "        return [self.transform(patch) for patch in patches]\n",
    "    \n",
    "    def filter_patches(self, df, image_dir):\n",
    "        return self.transform_patches(get_patches_form_df(df, image_dir))\n",
    "\n",
    "    def __call__(self, df, image_dir, filter_fn, n=2):\n",
    "        filtered_df = filter_fn(df)\n",
    "        filtered_df = filtered_df.head(n)\n",
    "        return filtered_df, self.filter_patches(filtered_df, image_dir),\n",
    "\n",
    "class Convert2Patches():\n",
    "    def __call__(self, data):\n",
    "        df, patches = data\n",
    "        return df, Patch.from_tensors(patches)\n",
    "    \n",
    "class GradCamVisualization():\n",
    "\n",
    "    def __init__(self, model, device):\n",
    "        self.model = model\n",
    "        self.device = device\n",
    "        self.grad_cam = GradCam(model.to(self.device), self.device)\n",
    "    \n",
    "    def get_grad_cam(self, patch):\n",
    "        img = patch.unsqueeze(0).to(self.device)\n",
    "\n",
    "        _, info = self.grad_cam(img, None, target_class=None)\n",
    "\n",
    "        cam = info['cam'].cpu().numpy()\n",
    "        cam = cv2.resize(cam, (patch.shape[1], patch.shape[2]))\n",
    "        cam = (cam - cam.min()) / (cam.max() - cam.min())\n",
    "        \n",
    "        return cam\n",
    "    \n",
    "    def __call__(self, data):\n",
    "        df, patches = data\n",
    "        \n",
    "        grad_cams = [self.get_grad_cam(patch) for patch in patches]\n",
    "        \n",
    "        return df, patches, grad_cams"
   ]
  },
  {
   "cell_type": "code",
   "execution_count": null,
   "metadata": {},
   "outputs": [],
   "source": [
    "def get_all_interesting_patches(transform, df, image_dir):\n",
    "    filters = [Best(), Worst(), FalseNegative(), FalsePositive()]\n",
    "    result = {}\n",
    "    \n",
    "    f_patch = FilterPatches(transform=transform)\n",
    "    c_patch = Convert2Patches()\n",
    "    \n",
    "    for f in filters:\n",
    "        result[f.name] = c_patch(f_patch(df, image_dir, f))\n",
    "        \n",
    "    return result\n",
    "    "
   ]
  },
  {
   "cell_type": "code",
   "execution_count": null,
   "metadata": {},
   "outputs": [],
   "source": [
    "class PlotInterestingPatches():\n",
    "    def plot_all(self, patches, title):\n",
    "        for patch in patches:\n",
    "            patch.plot3d(title)\n",
    "            \n",
    "    def make_title(self, metric, row):\n",
    "        return 'advancement={:.2f} prediction = {} ground truth = {}'.format(row['advancement'], row['prediction'], row['label'])\n",
    "    \n",
    "    def __call__(self, data):\n",
    "        for metric, (df, patches) in data.items():\n",
    "            print(metric)\n",
    "            for (idx, row), patch in zip(df.iterrows(), patches):\n",
    "                    patch.plot3d(self.make_title(metric, row))\n",
    "            \n",
    "        "
   ]
  },
  {
   "cell_type": "code",
   "execution_count": null,
   "metadata": {},
   "outputs": [],
   "source": [
    "data = get_all_interesting_patches(get_transform(scale=10), store.dfs[0], Config.DATA_ROOT)"
   ]
  },
  {
   "cell_type": "code",
   "execution_count": null,
   "metadata": {
    "scrolled": true
   },
   "outputs": [],
   "source": [
    "plot_patches = PlotInterestingPatches()\n",
    "plot_patches(data)"
   ]
  },
  {
   "cell_type": "code",
   "execution_count": null,
   "metadata": {},
   "outputs": [],
   "source": [
    "df, patches = data['worst']\n"
   ]
  },
  {
   "cell_type": "code",
   "execution_count": null,
   "metadata": {},
   "outputs": [],
   "source": [
    "model = load_model_from_name(Config.BEST_MODEL_DIR + '/roc_auc.pth', Config.BEST_MODEL_NAME)"
   ]
  },
  {
   "cell_type": "code",
   "execution_count": null,
   "metadata": {
    "scrolled": true
   },
   "outputs": [],
   "source": [
    "grad_cam_vis = GradCamVisualization(model, device)\n",
    "\n",
    "df, patches, grad_cam = grad_cam_vis(data['worst'])"
   ]
  },
  {
   "cell_type": "code",
   "execution_count": null,
   "metadata": {},
   "outputs": [],
   "source": [
    "patches = Patch.from_tensors(patches)\n",
    "grad_cam = Patch.from_hms(grad_cam)"
   ]
  },
  {
   "cell_type": "code",
   "execution_count": null,
   "metadata": {
    "scrolled": false
   },
   "outputs": [],
   "source": [
    "f, (ax1, ax2) = plt.subplots(1, 2, sharey=True)\n",
    "\n",
    "for (idx, row), patch in zip(df.iterrows(), patches):\n",
    "    patch.plot3d()\n",
    "#     grad.plot3d()\n",
    "    plt.title('advancement={:.2f} prediction = {} ground truth = {}'.format(row['advancement'], row['prediction'], row['label']))\n"
   ]
  },
  {
   "cell_type": "code",
   "execution_count": null,
   "metadata": {
    "scrolled": true
   },
   "outputs": [],
   "source": [
    "patches[0].plot2d()"
   ]
  },
  {
   "cell_type": "code",
   "execution_count": null,
   "metadata": {},
   "outputs": [],
   "source": [
    "p = Patch.from_tensor(patches[0])"
   ]
  },
  {
   "cell_type": "code",
   "execution_count": null,
   "metadata": {},
   "outputs": [],
   "source": [
    "hm = cv2.imread('/home/francesco/Documents/Master-Thesis/core/maps/test/querry-big-10.png')\n",
    "hm = cv2.cvtColor(hm, cv2.COLOR_BGR2GRAY)"
   ]
  },
  {
   "cell_type": "code",
   "execution_count": null,
   "metadata": {},
   "outputs": [],
   "source": [
    "import matplotlib.patches as mpatches\n"
   ]
  },
  {
   "cell_type": "code",
   "execution_count": null,
   "metadata": {},
   "outputs": [],
   "source": [
    " def plot_box_on_hm(row, hm, patch_size):\n",
    "        fig = plt.figure()\n",
    "        ax = plt.gca()\n",
    "        x, y, ang, ad = row[\"hm_x\"], \\\n",
    "                        row[\"hm_y\"], \\\n",
    "                        row[\"pose__pose_e_orientation_z\"], \\\n",
    "                        row[\"advancement\"]\n",
    "\n",
    "        sns.heatmap(hm / 255, vmin=0, vmax=1, ax=ax)\n",
    "\n",
    "        rect = mpatches.Rectangle((x - patch_size // 2, y - patch_size // 2), patch_size,\n",
    "                                  patch_size, linewidth=1, edgecolor='r', facecolor='none')\n",
    "        ax.add_patch(rect)\n",
    "        plt.show()"
   ]
  },
  {
   "cell_type": "code",
   "execution_count": null,
   "metadata": {},
   "outputs": [],
   "source": [
    "plot_box_on_hm(df.iloc[10], hm, 88)"
   ]
  },
  {
   "cell_type": "code",
   "execution_count": null,
   "metadata": {
    "scrolled": false
   },
   "outputs": [],
   "source": [
    "p.plot2d()\n",
    "plt.title(df.iloc[10]['advancement'])"
   ]
  },
  {
   "cell_type": "code",
   "execution_count": null,
   "metadata": {},
   "outputs": [],
   "source": [
    "p.plot3d()"
   ]
  },
  {
   "cell_type": "code",
   "execution_count": null,
   "metadata": {},
   "outputs": [],
   "source": [
    "%matplotlib notebook"
   ]
  },
  {
   "cell_type": "code",
   "execution_count": 9,
   "metadata": {
    "scrolled": true
   },
   "outputs": [
    {
     "data": {
      "text/plain": [
       "MicroResnet(\n",
       "  (encoder): Encoder3x3(\n",
       "    (gate): Sequential(\n",
       "      (0): Conv2d(1, 16, kernel_size=(3, 3), stride=(1, 1), padding=(1, 1), bias=False)\n",
       "      (1): BatchNorm2d(16, eps=1e-05, momentum=0.1, affine=True, track_running_stats=True)\n",
       "      (2): LeakyReLU(negative_slope=0.01, inplace)\n",
       "      (3): MaxPool2d(kernel_size=2, stride=2, padding=0, dilation=1, ceil_mode=False)\n",
       "    )\n",
       "    (layers): ModuleList(\n",
       "      (0): ResNetLayer(\n",
       "        (layer): Sequential(\n",
       "          (0): BasicBlockSE(\n",
       "            (convs): Sequential(\n",
       "              (0): Sequential(\n",
       "                (0): BatchNorm2d(16, eps=1e-05, momentum=0.1, affine=True, track_running_stats=True)\n",
       "                (1): LeakyReLU(negative_slope=0.01)\n",
       "                (2): Conv2d(16, 32, kernel_size=(3, 3), stride=(2, 2), padding=(1, 1), bias=False)\n",
       "              )\n",
       "              (1): Sequential(\n",
       "                (0): BatchNorm2d(32, eps=1e-05, momentum=0.1, affine=True, track_running_stats=True)\n",
       "                (1): LeakyReLU(negative_slope=0.01)\n",
       "                (2): Conv2d(32, 32, kernel_size=(3, 3), stride=(1, 1), padding=(1, 1), bias=False)\n",
       "              )\n",
       "            )\n",
       "            (shortcut): Sequential(\n",
       "              (0): Conv2d(16, 32, kernel_size=(1, 1), stride=(2, 2), bias=False)\n",
       "              (1): BatchNorm2d(32, eps=1e-05, momentum=0.1, affine=True, track_running_stats=True)\n",
       "            )\n",
       "            (se): SEModule(\n",
       "              (avg_pool): AdaptiveAvgPool2d(output_size=1)\n",
       "              (se): Sequential(\n",
       "                (0): Linear(in_features=32, out_features=2, bias=True)\n",
       "                (1): ReLU(inplace)\n",
       "                (2): Linear(in_features=2, out_features=32, bias=True)\n",
       "                (3): Sigmoid()\n",
       "              )\n",
       "            )\n",
       "          )\n",
       "        )\n",
       "      )\n",
       "      (1): ResNetLayer(\n",
       "        (layer): Sequential(\n",
       "          (0): BasicBlockSE(\n",
       "            (convs): Sequential(\n",
       "              (0): Sequential(\n",
       "                (0): BatchNorm2d(32, eps=1e-05, momentum=0.1, affine=True, track_running_stats=True)\n",
       "                (1): LeakyReLU(negative_slope=0.01)\n",
       "                (2): Conv2d(32, 64, kernel_size=(3, 3), stride=(2, 2), padding=(1, 1), bias=False)\n",
       "              )\n",
       "              (1): Sequential(\n",
       "                (0): BatchNorm2d(64, eps=1e-05, momentum=0.1, affine=True, track_running_stats=True)\n",
       "                (1): LeakyReLU(negative_slope=0.01)\n",
       "                (2): Conv2d(64, 64, kernel_size=(3, 3), stride=(1, 1), padding=(1, 1), bias=False)\n",
       "              )\n",
       "            )\n",
       "            (shortcut): Sequential(\n",
       "              (0): Conv2d(32, 64, kernel_size=(1, 1), stride=(2, 2), bias=False)\n",
       "              (1): BatchNorm2d(64, eps=1e-05, momentum=0.1, affine=True, track_running_stats=True)\n",
       "            )\n",
       "            (se): SEModule(\n",
       "              (avg_pool): AdaptiveAvgPool2d(output_size=1)\n",
       "              (se): Sequential(\n",
       "                (0): Linear(in_features=64, out_features=4, bias=True)\n",
       "                (1): ReLU(inplace)\n",
       "                (2): Linear(in_features=4, out_features=64, bias=True)\n",
       "                (3): Sigmoid()\n",
       "              )\n",
       "            )\n",
       "          )\n",
       "        )\n",
       "      )\n",
       "      (2): ResNetLayer(\n",
       "        (layer): Sequential(\n",
       "          (0): BasicBlockSE(\n",
       "            (convs): Sequential(\n",
       "              (0): Sequential(\n",
       "                (0): BatchNorm2d(64, eps=1e-05, momentum=0.1, affine=True, track_running_stats=True)\n",
       "                (1): LeakyReLU(negative_slope=0.01)\n",
       "                (2): Conv2d(64, 128, kernel_size=(3, 3), stride=(2, 2), padding=(1, 1), bias=False)\n",
       "              )\n",
       "              (1): Sequential(\n",
       "                (0): BatchNorm2d(128, eps=1e-05, momentum=0.1, affine=True, track_running_stats=True)\n",
       "                (1): LeakyReLU(negative_slope=0.01)\n",
       "                (2): Conv2d(128, 128, kernel_size=(3, 3), stride=(1, 1), padding=(1, 1), bias=False)\n",
       "              )\n",
       "            )\n",
       "            (shortcut): Sequential(\n",
       "              (0): Conv2d(64, 128, kernel_size=(1, 1), stride=(2, 2), bias=False)\n",
       "              (1): BatchNorm2d(128, eps=1e-05, momentum=0.1, affine=True, track_running_stats=True)\n",
       "            )\n",
       "            (se): SEModule(\n",
       "              (avg_pool): AdaptiveAvgPool2d(output_size=1)\n",
       "              (se): Sequential(\n",
       "                (0): Linear(in_features=128, out_features=8, bias=True)\n",
       "                (1): ReLU(inplace)\n",
       "                (2): Linear(in_features=8, out_features=128, bias=True)\n",
       "                (3): Sigmoid()\n",
       "              )\n",
       "            )\n",
       "          )\n",
       "        )\n",
       "      )\n",
       "    )\n",
       "  )\n",
       "  (decoder): ResnetDecoder(\n",
       "    (avg): AdaptiveAvgPool2d(output_size=(1, 1))\n",
       "    (decoder): Linear(in_features=128, out_features=2, bias=True)\n",
       "  )\n",
       ")"
      ]
     },
     "execution_count": 9,
     "metadata": {},
     "output_type": "execute_result"
    }
   ],
   "source": [
    "MODEL = '/home/francesco/Desktop/carino/vaevictis/data/microresnet#4-gate=3x3-n=1-se=True-no-shift-0.001-88-1556121325.3923125/roc_auc.pth'\n",
    "model = load_model_from_name(MODEL, 'microresnet#4-gate=3x3-n=1-se=True')\n",
    "model.eval()"
   ]
  },
  {
   "cell_type": "code",
   "execution_count": null,
   "metadata": {},
   "outputs": [],
   "source": [
    "np.linspace(0,1, 5)"
   ]
  },
  {
   "cell_type": "code",
   "execution_count": null,
   "metadata": {},
   "outputs": [],
   "source": [
    "class TrueRampPatch(Patch):\n",
    "    def __init__(self, shape, strenght=1, direction='up'):\n",
    "        super().__init__(shape)\n",
    "        self.strenght = strenght\n",
    "        self.direction = direction\n",
    "        \n",
    "    def make(self):\n",
    "        factors = np.linspace(0, self.strenght, self.hm.shape[0])\n",
    "        if self.direction == 'down': factors *= -1\n",
    "\n",
    "        self.hm = self.hm + factors\n",
    "        return self.hm\n"
   ]
  },
  {
   "cell_type": "code",
   "execution_count": 11,
   "metadata": {
    "scrolled": false
   },
   "outputs": [
    {
     "data": {
      "image/png": "[encoded data removed]",
      "text/plain": [
       "<Figure size 432x288 with 2 Axes>"
      ]
     },
     "metadata": {
      "needs_background": "dark"
     },
     "output_type": "display_data"
    },
    {
     "name": "stdout",
     "output_type": "stream",
     "text": [
      "tensor([[ 0.1073, -0.1768]], grad_fn=<AddmmBackward>)\n"
     ]
    },
    {
     "data": {
      "text/plain": [
       "(tensor([[0.5706, 0.4294]], grad_fn=<SoftmaxBackward>), tensor([0]))"
      ]
     },
     "execution_count": 11,
     "metadata": {},
     "output_type": "execute_result"
    }
   ],
   "source": [
    "p = RampPatch((88,88), direction='down')\n",
    "p()\n",
    "tr = get_transform(scale=0.99)\n",
    "x = tr(p.hm)\n",
    "p.hm = x.squeeze().numpy()\n",
    "p.plot3d()\n",
    "\n",
    "pred = model(x.unsqueeze(0))\n",
    "print(pred)\n",
    "get_probs_and_labels_from_preds((pred,None))"
   ]
  },
  {
   "cell_type": "code",
   "execution_count": 34,
   "metadata": {},
   "outputs": [
    {
     "data": {
      "image/png": "[encoded data removed]",
      "text/plain": [
       "<Figure size 432x288 with 2 Axes>"
      ]
     },
     "metadata": {
      "needs_background": "dark"
     },
     "output_type": "display_data"
    },
    {
     "name": "stdout",
     "output_type": "stream",
     "text": [
      "tensor([[ 0.2568, -0.2757]], grad_fn=<AddmmBackward>)\n"
     ]
    },
    {
     "data": {
      "text/plain": [
       "(tensor([[0.6301, 0.3699]], grad_fn=<SoftmaxBackward>), tensor([0]))"
      ]
     },
     "execution_count": 34,
     "metadata": {},
     "output_type": "execute_result"
    }
   ],
   "source": [
    "from utilities.postprocessing.utils import read_image\n",
    "\n",
    "im = read_image('/media/francesco/saetta/krock-dataset/querry-down-hill/patches/1-120.png')\n",
    "im = im.astype(np.float32)\n",
    "im /= 255\n",
    "\n",
    "tr = get_transform(scale=10)\n",
    "x = tr(im)\n",
    "p = Patch((88,88))\n",
    "p.hm = x.squeeze().numpy()\n",
    "\n",
    "p.plot2d()\n",
    "\n",
    "pred = model(x.unsqueeze(0))\n",
    "print(pred)\n",
    "get_probs_and_labels_from_preds((pred,None))"
   ]
  },
  {
   "cell_type": "code",
   "execution_count": null,
   "metadata": {},
   "outputs": [],
   "source": [
    "pred = model(x.unsqueeze(0))\n",
    "print(pred)\n",
    "get_probs_and_labels_from_preds((pred,None))"
   ]
  }
 ],
 "metadata": {
  "kernelspec": {
   "display_name": "Python 3",
   "language": "python",
   "name": "python3"
  },
  "language_info": {
   "codemirror_mode": {
    "name": "ipython",
    "version": 3
   },
   "file_extension": ".py",
   "mimetype": "text/x-python",
   "name": "python",
   "nbconvert_exporter": "python",
   "pygments_lexer": "ipython3",
   "version": "3.6.7"
  }
 },
 "nbformat": 4,
 "nbformat_minor": 2
}
