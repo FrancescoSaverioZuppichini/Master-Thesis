{
 "cells": [
  {
   "cell_type": "code",
   "execution_count": 28,
   "metadata": {},
   "outputs": [],
   "source": [
    "import pandas as pd\n",
    "import numpy as np\n",
    "import cv2\n",
    "import seaborn as sns\n",
    "import matplotlib.pyplot as plt\n",
    "import glob \n",
    "\n",
    "from skimage.util.shape import view_as_windows\n",
    "from ipywidgets import interact, interactive, fixed, interact_manual"
   ]
  },
  {
   "cell_type": "code",
   "execution_count": 2,
   "metadata": {},
   "outputs": [],
   "source": [
    "from sklearn.cluster import KMeans\n",
    "from sklearn import datasets"
   ]
  },
  {
   "cell_type": "code",
   "execution_count": null,
   "metadata": {},
   "outputs": [],
   "source": [
    "%%html\n",
    "<style>\n",
    "\n",
    "div.output_scroll {\n",
    "    height : auto;\n",
    "}\n",
    "</style>"
   ]
  },
  {
   "cell_type": "code",
   "execution_count": 3,
   "metadata": {},
   "outputs": [],
   "source": [
    "%matplotlib notebook"
   ]
  },
  {
   "cell_type": "code",
   "execution_count": 39,
   "metadata": {},
   "outputs": [],
   "source": [
    "class FlatGroundSpawnStrategy():\n",
    "    def __init__(self, hm_path):\n",
    "        self.hm = cv2.imread(hm_path)\n",
    "        self.hm = cv2.cvtColor(self.hm, cv2.COLOR_BGR2GRAY)\n",
    "        \n",
    "    def center_patch(self, patch):\n",
    "        w,h = patch.shape\n",
    "        patch = patch.astype(np.float32)\n",
    "        center = patch[w // 2, h // 2]\n",
    "        patch -= center\n",
    "\n",
    "        return patch   \n",
    "    \n",
    "    \n",
    "    def show_spawn_pos(self, positions, size):\n",
    "        fig = plt.figure()\n",
    "        ax = plt.subplot(1, 1, 1)\n",
    "        sns.heatmap(self.hm, ax=ax)\n",
    "\n",
    "        for pos in positions:\n",
    "            x,y = pos\n",
    "            ax.plot(x + size // 2, y  + size //2, marker='o', color='r', ls='', label='finish')\n",
    "    \n",
    "    def find_spawn_points(self, size=40, step=2, tol=1e-3):\n",
    "        positions = []\n",
    "        patches =  view_as_windows(self.hm, (size,size), step)\n",
    "        y = 0\n",
    "        for row in patches:\n",
    "            x = 0\n",
    "            for patch in row:\n",
    "                patch = self.center_patch(patch)\n",
    "                if np.abs(patch.mean()) < tol:  positions.append((x,y))\n",
    "\n",
    "                x += step\n",
    "            y += step\n",
    "\n",
    "        return positions\n",
    "    \n",
    "    def reduce_positions_by_clustering(self, positions, k=100):\n",
    "        k = len(positions) if len(positions) < k else k\n",
    "        X = np.array(positions)\n",
    "        self.estimator = KMeans(n_clusters=k)\n",
    "        self.estimator.fit(X)\n",
    "\n",
    "        clusters2points = {i: X[np.where(self.estimator.labels_ == i)] for i in range(self.estimator.n_clusters)}\n",
    "        new_positions = [clusters2points[key][len(item) // 2] for key, item in clusters2points.items()]\n",
    "        \n",
    "        return new_positions\n",
    "    \n",
    "    def __call__(self, k=100, size=40, *args, **kwargs):\n",
    "        positions = self.find_spawn_points(size=size, *args, **kwargs)\n",
    "        print(len(positions))\n",
    "#         self.show_spawn_pos(positions, size)\n",
    "        new_positions = self.reduce_positions_by_clustering(positions, k=k)\n",
    "        self.show_spawn_pos(new_positions,size)\n",
    "        \n",
    "        return new_positions\n",
    "        "
   ]
  },
  {
   "cell_type": "code",
   "execution_count": 40,
   "metadata": {},
   "outputs": [
    {
     "data": {
      "application/vnd.jupyter.widget-view+json": {
       "model_id": "846821f8cd814847ad0406905a25323d",
       "version_major": 2,
       "version_minor": 0
      },
      "text/plain": [
       "interactive(children=(Dropdown(description='hm_path', options=('/home/francesco/Documents/Master-Thesis/core/m…"
      ]
     },
     "metadata": {},
     "output_type": "display_data"
    },
    {
     "data": {
      "text/plain": [
       "<function __main__.interact2strategy(hm_path)>"
      ]
     },
     "execution_count": 40,
     "metadata": {},
     "output_type": "execute_result"
    }
   ],
   "source": [
    "def interact2strategy(hm_path):\n",
    "    strat = FlatGroundSpawnStrategy(hm_path)\n",
    "    strat(k=100, tol=1e-1)\n",
    "\n",
    "interact(interact2strategy, hm_path=glob.glob('/home/francesco/Documents/Master-Thesis/core/maps/train/*.png'))"
   ]
  },
  {
   "cell_type": "code",
   "execution_count": null,
   "metadata": {},
   "outputs": [],
   "source": []
  }
 ],
 "metadata": {
  "kernelspec": {
   "display_name": "Python 3",
   "language": "python",
   "name": "python3"
  },
  "language_info": {
   "codemirror_mode": {
    "name": "ipython",
    "version": 3
   },
   "file_extension": ".py",
   "mimetype": "text/x-python",
   "name": "python",
   "nbconvert_exporter": "python",
   "pygments_lexer": "ipython3",
   "version": "3.6.7"
  }
 },
 "nbformat": 4,
 "nbformat_minor": 2
}
