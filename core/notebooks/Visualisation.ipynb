{
 "cells": [
  {
   "cell_type": "code",
   "execution_count": 1,
   "metadata": {},
   "outputs": [],
   "source": [
    "import os\n",
    "import glob\n",
    "import rosbag\n",
    "import rosbag_pandas\n",
    "import numpy as np\n",
    "import pandas as pd\n",
    "import timeit\n",
    "import cv2\n",
    "\n",
    "from cv_bridge import CvBridge, CvBridgeError\n",
    "from pypeln import thread as th\n"
   ]
  },
  {
   "cell_type": "code",
   "execution_count": 2,
   "metadata": {},
   "outputs": [],
   "source": [
    "BAG_FOLDER = '/home/francesco/Desktop/carino/vaevictis/data/'"
   ]
  },
  {
   "cell_type": "code",
   "execution_count": 3,
   "metadata": {},
   "outputs": [
    {
     "data": {
      "text/plain": [
       "['/home/francesco/Desktop/carino/vaevictis/data/1541798386.662942.bag',\n",
       " '/home/francesco/Desktop/carino/vaevictis/data/1541798392.5324583.bag',\n",
       " '/home/francesco/Desktop/carino/vaevictis/data/1541798399.9435205.bag',\n",
       " '/home/francesco/Desktop/carino/vaevictis/data/1541798403.1551304.bag']"
      ]
     },
     "execution_count": 3,
     "metadata": {},
     "output_type": "execute_result"
    }
   ],
   "source": [
    "files = glob.glob(BAG_FOLDER + '/*.bag')\n",
    "files"
   ]
  },
  {
   "cell_type": "code",
   "execution_count": 4,
   "metadata": {},
   "outputs": [
    {
     "data": {
      "text/html": [
       "<div>\n",
       "<style scoped>\n",
       "    .dataframe tbody tr th:only-of-type {\n",
       "        vertical-align: middle;\n",
       "    }\n",
       "\n",
       "    .dataframe tbody tr th {\n",
       "        vertical-align: top;\n",
       "    }\n",
       "\n",
       "    .dataframe thead th {\n",
       "        text-align: right;\n",
       "    }\n",
       "</style>\n",
       "<table border=\"1\" class=\"dataframe\">\n",
       "  <thead>\n",
       "    <tr style=\"text-align: right;\">\n",
       "      <th></th>\n",
       "      <th>Unnamed: 0</th>\n",
       "      <th>filename</th>\n",
       "      <th>map</th>\n",
       "    </tr>\n",
       "  </thead>\n",
       "  <tbody>\n",
       "    <tr>\n",
       "      <th>0</th>\n",
       "      <td>0</td>\n",
       "      <td>/home/francesco/Desktop/carino/vaevictis/data/...</td>\n",
       "      <td>/home/francesco/Documents/Master-Thesis/core/w...</td>\n",
       "    </tr>\n",
       "    <tr>\n",
       "      <th>1</th>\n",
       "      <td>1</td>\n",
       "      <td>/home/francesco/Desktop/carino/vaevictis/data/...</td>\n",
       "      <td>/home/francesco/Documents/Master-Thesis/core/w...</td>\n",
       "    </tr>\n",
       "    <tr>\n",
       "      <th>2</th>\n",
       "      <td>2</td>\n",
       "      <td>/home/francesco/Desktop/carino/vaevictis/data/...</td>\n",
       "      <td>/home/francesco/Documents/Master-Thesis/core/w...</td>\n",
       "    </tr>\n",
       "    <tr>\n",
       "      <th>3</th>\n",
       "      <td>3</td>\n",
       "      <td>/home/francesco/Desktop/carino/vaevictis/data/...</td>\n",
       "      <td>/home/francesco/Documents/Master-Thesis/core/w...</td>\n",
       "    </tr>\n",
       "  </tbody>\n",
       "</table>\n",
       "</div>"
      ],
      "text/plain": [
       "   Unnamed: 0                                           filename  \\\n",
       "0           0  /home/francesco/Desktop/carino/vaevictis/data/...   \n",
       "1           1  /home/francesco/Desktop/carino/vaevictis/data/...   \n",
       "2           2  /home/francesco/Desktop/carino/vaevictis/data/...   \n",
       "3           3  /home/francesco/Desktop/carino/vaevictis/data/...   \n",
       "\n",
       "                                                 map  \n",
       "0  /home/francesco/Documents/Master-Thesis/core/w...  \n",
       "1  /home/francesco/Documents/Master-Thesis/core/w...  \n",
       "2  /home/francesco/Documents/Master-Thesis/core/w...  \n",
       "3  /home/francesco/Documents/Master-Thesis/core/w...  "
      ]
     },
     "execution_count": 4,
     "metadata": {},
     "output_type": "execute_result"
    }
   ],
   "source": [
    "filename2map = pd.read_csv('/home/francesco/Documents/Master-Thesis/core/filename2map.csv')\n",
    "filename2map"
   ]
  },
  {
   "cell_type": "code",
   "execution_count": 5,
   "metadata": {},
   "outputs": [
    {
     "data": {
      "text/plain": [
       "'/home/francesco/Documents/Master-Thesis/core/webots/krock/krock2_ros/worlds/holes3.wbt'"
      ]
     },
     "execution_count": 5,
     "metadata": {},
     "output_type": "execute_result"
    }
   ],
   "source": [
    "filename2map[filename2map.filename == files[0]].map[0]"
   ]
  },
  {
   "cell_type": "code",
   "execution_count": 6,
   "metadata": {},
   "outputs": [],
   "source": [
    "def bag2df(file_name):\n",
    "    df = None\n",
    "    try:\n",
    "        df = rosbag_pandas.bag_to_dataframe(file_name) \n",
    "    except TypeError:\n",
    "        print(file_name)\n",
    "    return { 'map' : filename2map[filename2map.filename == files[0]].map[0], 'df' : df } "
   ]
  },
  {
   "cell_type": "code",
   "execution_count": 7,
   "metadata": {
    "scrolled": true
   },
   "outputs": [],
   "source": [
    "stage = th.map(bag2df, files, workers = 14)\n",
    "\n",
    "data = list(stage)"
   ]
  },
  {
   "cell_type": "code",
   "execution_count": 8,
   "metadata": {
    "scrolled": true
   },
   "outputs": [],
   "source": [
    "# df = pd.concat(data)"
   ]
  },
  {
   "cell_type": "code",
   "execution_count": null,
   "metadata": {
    "scrolled": true
   },
   "outputs": [
    {
     "name": "stdout",
     "output_type": "stream",
     "text": [
      "(600, 800, 3)\n",
      "(600, 800, 3)\n",
      "(600, 800, 3)\n",
      "(600, 800, 3)\n",
      "(600, 800, 3)\n",
      "(600, 800, 3)\n",
      "(600, 800, 3)\n",
      "(600, 800, 3)\n",
      "(600, 800, 3)\n",
      "(600, 800, 3)\n",
      "(600, 800, 3)\n",
      "(600, 800, 3)\n",
      "(600, 800, 3)\n",
      "(600, 800, 3)\n",
      "(600, 800, 3)\n",
      "(600, 800, 3)\n",
      "(600, 800, 3)\n",
      "(600, 800, 3)\n",
      "(600, 800, 3)\n",
      "(600, 800, 3)\n",
      "(600, 800, 3)\n",
      "(600, 800, 3)\n",
      "(600, 800, 3)\n",
      "(600, 800, 3)\n",
      "(600, 800, 3)\n",
      "(600, 800, 3)\n",
      "(600, 800, 3)\n",
      "(600, 800, 3)\n"
     ]
    }
   ],
   "source": [
    "bag = rosbag.Bag(files[2])\n",
    "bridge = CvBridge()\n",
    "\n",
    "for topic, msg, t in bag.read_messages(topics=['frontal_camera']):\n",
    "    img = bridge.imgmsg_to_cv2(msg, \"bgr8\")\n",
    "    cv2.imshow('img', img)\n",
    "    print(img.shape)\n",
    "    cv2.waitKey(0)\n",
    "    cv2.destroyAllWindows()\n",
    "    \n",
    "bag.close()"
   ]
  },
  {
   "cell_type": "code",
   "execution_count": 10,
   "metadata": {},
   "outputs": [
    {
     "ename": "NameError",
     "evalue": "name 'camera_data' is not defined",
     "output_type": "error",
     "traceback": [
      "\u001b[0;31m---------------------------------------------------------------------------\u001b[0m",
      "\u001b[0;31mNameError\u001b[0m                                 Traceback (most recent call last)",
      "\u001b[0;32m<ipython-input-10-3e55bba41b2a>\u001b[0m in \u001b[0;36m<module>\u001b[0;34m\u001b[0m\n\u001b[0;32m----> 1\u001b[0;31m \u001b[0;32mfor\u001b[0m \u001b[0mdata\u001b[0m \u001b[0;32min\u001b[0m \u001b[0mcamera_data\u001b[0m\u001b[0;34m:\u001b[0m\u001b[0;34m\u001b[0m\u001b[0m\n\u001b[0m\u001b[1;32m      2\u001b[0m     \u001b[0mbridge\u001b[0m\u001b[0;34m.\u001b[0m\u001b[0mimgmsg_to_cv2\u001b[0m\u001b[0;34m(\u001b[0m\u001b[0mdata\u001b[0m\u001b[0;34m,\u001b[0m \u001b[0;34m\"bgr8\"\u001b[0m\u001b[0;34m)\u001b[0m\u001b[0;34m\u001b[0m\u001b[0m\n",
      "\u001b[0;31mNameError\u001b[0m: name 'camera_data' is not defined"
     ]
    }
   ],
   "source": [
    "for data in camera_data:\n",
    "    bridge.imgmsg_to_cv2(data, \"bgr8\")"
   ]
  },
  {
   "cell_type": "code",
   "execution_count": null,
   "metadata": {},
   "outputs": [],
   "source": [
    "filename2map = pd.read_csv('/home/francesco/Documents/Master-Thesis/core/filename2map.csv')\n",
    "filename2map.head(1)"
   ]
  },
  {
   "cell_type": "code",
   "execution_count": null,
   "metadata": {},
   "outputs": [],
   "source": [
    "import ipympl\n",
    "import matplotlib.pyplot as plt\n",
    "from mpl_toolkits import mplot3d\n",
    "\n",
    "x = df.pose__pose_position_x\n",
    "y = df.pose__pose_position_y\n",
    "z = df.pose__pose_position_z"
   ]
  },
  {
   "cell_type": "code",
   "execution_count": null,
   "metadata": {},
   "outputs": [],
   "source": [
    "%matplotlib notebook"
   ]
  },
  {
   "cell_type": "code",
   "execution_count": null,
   "metadata": {},
   "outputs": [],
   "source": [
    "X = np.arange(-5, 5, 0.5)\n",
    "Y = np.arange(-5, 5, 0.5)\n",
    "print(X.shape)"
   ]
  },
  {
   "cell_type": "code",
   "execution_count": null,
   "metadata": {},
   "outputs": [],
   "source": [
    "world = np.zeros((X.shape[0], Y.shape[0]))\n",
    "fig = plt.figure()\n",
    "\n",
    "plt.rcParams['figure.figsize'] = [8, 5]\n",
    "\n",
    "for x_, y_ in zip(x,y):\n",
    "    xi = np.digitize(x_, X) - 1\n",
    "    yi = np.digitize(y_, Y) - 1\n",
    "    world[xi, yi] += 1    \n",
    "    \n",
    "world /= len(x)\n",
    "world = world.T\n",
    "plt.imshow(world * 255)\n",
    "plt.show()"
   ]
  },
  {
   "cell_type": "code",
   "execution_count": null,
   "metadata": {},
   "outputs": [],
   "source": [
    "Xm, Ym = np.meshgrid(X, Y)\n",
    "Z = cv2.imread('/home/francesco/Documents/Master-Thesis/core/maps/holes3.png')\n",
    "Z = cv2.cvtColor(Z, cv2.COLOR_BGR2GRAY)\n",
    "Z = cv2.resize(Z, Xm.shape, cv2.INTER_CUBIC) "
   ]
  },
  {
   "cell_type": "code",
   "execution_count": null,
   "metadata": {},
   "outputs": [],
   "source": [
    "print(Xm.shape)"
   ]
  },
  {
   "cell_type": "code",
   "execution_count": null,
   "metadata": {},
   "outputs": [],
   "source": [
    "world.shape, Xm.shape, Ym.shape"
   ]
  },
  {
   "cell_type": "code",
   "execution_count": null,
   "metadata": {},
   "outputs": [],
   "source": [
    "from mpl_toolkits.mplot3d import Axes3D\n",
    "from matplotlib import cm\n",
    "import matplotlib.colors as mcolors\n",
    "import matplotlib"
   ]
  },
  {
   "cell_type": "code",
   "execution_count": null,
   "metadata": {},
   "outputs": [],
   "source": [
    "# fourth dimention - colormap\n",
    "# create colormap according to x-value (can use any 50x50 array)\n",
    "color_dimension = world # change to desired fourth dimension\n",
    "minn, maxx = color_dimension.min(), color_dimension.max()\n",
    "norm = matplotlib.colors.Normalize(minn, maxx)\n",
    "m = plt.cm.ScalarMappable(norm=norm)\n",
    "m.set_array([])\n",
    "fcolors = m.to_rgba(color_dimension)"
   ]
  },
  {
   "cell_type": "code",
   "execution_count": null,
   "metadata": {},
   "outputs": [],
   "source": [
    "fig = plt.figure()\n",
    "ax = Axes3D(fig)\n",
    "ax.plot_surface(Xm, Ym, Z,  facecolors=fcolors, linewidth=0.1)\n",
    "plt.show()"
   ]
  },
  {
   "cell_type": "code",
   "execution_count": null,
   "metadata": {},
   "outputs": [],
   "source": [
    "querry = '/home/francesco/Documents/krock-sim/krock/krock2_ros/map_generation/querry.npy'"
   ]
  },
  {
   "cell_type": "code",
   "execution_count": null,
   "metadata": {},
   "outputs": [],
   "source": []
  },
  {
   "cell_type": "code",
   "execution_count": null,
   "metadata": {},
   "outputs": [],
   "source": []
  }
 ],
 "metadata": {
  "kernelspec": {
   "display_name": "Python 3",
   "language": "python",
   "name": "python3"
  },
  "language_info": {
   "codemirror_mode": {
    "name": "ipython",
    "version": 3
   },
   "file_extension": ".py",
   "mimetype": "text/x-python",
   "name": "python",
   "nbconvert_exporter": "python",
   "pygments_lexer": "ipython3",
   "version": "3.6.6"
  }
 },
 "nbformat": 4,
 "nbformat_minor": 2
}
