{
 "cells": [
  {
   "cell_type": "markdown",
   "metadata": {},
   "source": [
    "# Traversability Estimation\n",
    "Francesco Saverio Zuppichini\n",
    "## Overview\n",
    "![image](https://raw.githubusercontent.com/FrancescoSaverioZuppichini/Master-Thesis/master/resources/images/method.png)\n",
    "### Synthetic Ground\n",
    "We used Simplex noise to generate the terrain. We used most of the terrains used in the previous work but we included new Ramps and Bumps. The generation process was done in this [notebook](https://github.com/FrancescoSaverioZuppichini/Master-Thesis/blob/master/core/ground%20generation.ipynb).\n",
    "### Simulation\n",
    "Please refer to the [`simulation`](https://github.com/FrancescoSaverioZuppichini/Master-Thesis/tree/master/core/simulation) package to a deep tour of the API. "
   ]
  },
  {
   "cell_type": "code",
   "execution_count": null,
   "metadata": {},
   "outputs": [],
   "source": [
    "##"
   ]
  }
 ],
 "metadata": {
  "kernelspec": {
   "display_name": "Python 3",
   "language": "python",
   "name": "python3"
  },
  "language_info": {
   "codemirror_mode": {
    "name": "ipython",
    "version": 3
   },
   "file_extension": ".py",
   "mimetype": "text/x-python",
   "name": "python",
   "nbconvert_exporter": "python",
   "pygments_lexer": "ipython3",
   "version": "3.6.7"
  }
 },
 "nbformat": 4,
 "nbformat_minor": 2
}
