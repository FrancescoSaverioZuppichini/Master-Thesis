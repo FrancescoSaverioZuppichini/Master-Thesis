{
 "cells": [
  {
   "cell_type": "code",
   "execution_count": 1,
   "metadata": {},
   "outputs": [],
   "source": [
    "import numpy as np\n",
    "from skimage.io import imread, imshow, imsave"
   ]
  },
  {
   "cell_type": "code",
   "execution_count": 9,
   "metadata": {},
   "outputs": [],
   "source": [
    "# generic world where the custom map will be inserted\n",
    "input_file_name = \"generic_krock.wbt\"\n",
    "output_file_name = \"white.wbt\"\n",
    "# parameters for map generation\n",
    "SIZE = 513\n",
    "RESOLUTION = 0.02 # m per pixel\n",
    "HEIGHT_FACTOR = 1.0 # multiplied for the values in the image reults on the real height"
   ]
  },
  {
   "cell_type": "code",
   "execution_count": 40,
   "metadata": {},
   "outputs": [
    {
     "name": "stdout",
     "output_type": "stream",
     "text": [
      "1574\n",
      "1561 1573\n"
     ]
    }
   ],
   "source": [
    "data = list()\n",
    "l1 = l2 = -1\n",
    "with open(input_file_name) as f:\n",
    "    for i, line in enumerate(f):\n",
    "        data.append(line)\n",
    "        if line.find('      geometry DEF EL_GRID ElevationGrid {') != -1:\n",
    "            l1 = i +1\n",
    "        if line.find('name \"terrain\"'):\n",
    "            l2 = i\n",
    "    #data = f.read()\n",
    "\n",
    "print (len(data))\n",
    "    \n",
    "if l1!=-1 and l2!=-1:\n",
    "    print (l1, l2)\n",
    "    l1+=1\n",
    "else:\n",
    "    print ('ERROR while reading the generic map')"
   ]
  },
  {
   "cell_type": "code",
   "execution_count": 41,
   "metadata": {},
   "outputs": [
    {
     "name": "stdout",
     "output_type": "stream",
     "text": [
      "org image type:  uint16  max val:  61088  shape (1600, 1600)\n",
      "mod image type:  float64  height factor:  20  max val (m):  18.642578125  shape (1600, 1600)\n"
     ]
    }
   ],
   "source": [
    "# read the terrain from an image (like for gazebo or vrep)\n",
    "#terrain_file_name = \"slope_rocks2.png\"\n",
    "#output_file_name = \"slope_rocks.wbt\"\n",
    "#HEIGHT_FACTOR = 1\n",
    "\n",
    "terrain_file_name = \"quarry_cropped4_scaled2cm.png\"\n",
    "output_file_name = \"quarry.wbt\"\n",
    "HEIGHT_FACTOR = 20\n",
    "\n",
    "terrain = imread(terrain_file_name)\n",
    "print ('org image type: ', terrain.dtype, ' max val: ', np.amax(terrain), ' shape', terrain.shape)\n",
    "if terrain.dtype == 'uint8':\n",
    "    terrain = terrain/256.\n",
    "if terrain.dtype == 'uint16':\n",
    "    terrain = terrain/65536.\n",
    "if terrain.dtype == 'uint32':\n",
    "    terrani = terrain/4294967296.\n",
    "\n",
    "terrain = terrain * HEIGHT_FACTOR\n",
    "print ('mod image type: ', terrain.dtype, ' height factor: ', HEIGHT_FACTOR,' max val (m): ', np.amax(terrain), ' shape', terrain.shape)\n",
    "\n",
    "input_size_x = terrain.shape[0]\n",
    "input_size_y = terrain.shape[1]\n",
    "\n",
    "SIZE = input_size_x"
   ]
  },
  {
   "cell_type": "code",
   "execution_count": null,
   "metadata": {},
   "outputs": [],
   "source": [
    "# read or generate custom terrain\n",
    "\n",
    "terrain = np.zeros((SIZE,SIZE))\n",
    "input_size_x = terrain.shape[0]\n",
    "input_size_y = terrain.shape[1]\n"
   ]
  },
  {
   "cell_type": "code",
   "execution_count": 42,
   "metadata": {},
   "outputs": [
    {
     "name": "stdout",
     "output_type": "stream",
     "text": [
      "1574 1600 1600\n",
      "['        xSpacing 0.02\\n', '        zDimension 500\\n', '        zSpacing 0.02\\n', '      }\\n', '    }\\n', '  ]\\n', '  name \"terrain\"\\n', '  boundingObject USE EL_GRID\\n', '}\\n']\n",
      "['        ]\\n', '        xDimension 1600\\n', '        xSpacing 0.02\\n', '        zDimension 1600\\n', '        zSpacing 0.02\\n } \\n', '    }\\n', '  ]\\n', '  name \"terrain\"\\n', '  boundingObject USE EL_GRID\\n', '}\\n']\n",
      "['        xDimension 1600\\n', '        xSpacing 0.02\\n', '        zDimension 1600\\n', '        zSpacing 0.02\\n } \\n', '    }\\n', '  ]\\n', '  name \"terrain\"\\n', '  boundingObject USE EL_GRID\\n', '}\\n']\n",
      "1573\n"
     ]
    }
   ],
   "source": [
    "# add the terrain to the webots world file\n",
    "\n",
    "str_terrain = ''\n",
    "np.set_printoptions(threshold = np.prod(terrain.shape))\n",
    "for i in range(0, input_size_x):\n",
    "    str_terrain +=np.array_str(terrain[i,:])[1:-1]\n",
    "str_terrain += '\\n'\n",
    "np.set_printoptions(threshold = 1000) # default\n",
    "\n",
    "print(len(data), input_size_x, input_size_y)\n",
    "\n",
    "print(data[l2-8:])\n",
    "# replace terrain (and its parameters) in the corresponding fields of the world\n",
    "\n",
    "data[l2-9] = '        ]\\n'\n",
    "data[l2-8] = '        xDimension ' + str(SIZE) + '\\n'\n",
    "data[l2-7] = '        xSpacing ' + str(RESOLUTION) + '\\n'\n",
    "data[l2-6] = '        zDimension ' + str(SIZE) + '\\n'\n",
    "data[l2-5] = '        zSpacing ' + str(RESOLUTION) + '\\n } \\n'\n",
    "\n",
    "print(data[l2-9:])\n",
    "\n",
    "#custom_data = data[0:l1] + terrain.tolist() + data[l2-8:]\n",
    "\n",
    "custom_data = data[0:l1] + [str_terrain] + data[l2-9:]\n",
    "    \n",
    "print (custom_data[l2-9:])\n",
    "print(len(custom_data))\n"
   ]
  },
  {
   "cell_type": "code",
   "execution_count": 43,
   "metadata": {},
   "outputs": [],
   "source": [
    "with open(output_file_name,'w') as of:\n",
    "    for line in custom_data:\n",
    "        of.write(line)"
   ]
  },
  {
   "cell_type": "code",
   "execution_count": 111,
   "metadata": {},
   "outputs": [
    {
     "name": "stdout",
     "output_type": "stream",
     "text": [
      "[ 0.  1.  2.  3.  0.  0.  0.  0.  0.  0.]\n",
      "[0.0, 1.0, 2.0, 3.0, 0.0, 0.0, 0.0, 0.0, 0.0, 0.0]\n",
      "0.0, 1.0, 2.0, 3.0, 0.0, 0.0, 0.0, 0.0, 0.0, 0.0\n",
      "[[ 0.  1.  2.  3.  0.  0.  0.  0.  0.  0.]\n",
      " [ 0.  0.  0.  0.  0.  0.  0.  0.  0.  0.]\n",
      " [ 0.  0.  0.  0.  0.  0.  0.  0.  0.  0.]\n",
      " [ 0.  0.  0.  0.  0.  0.  0.  0.  0.  0.]\n",
      " [ 0.  0.  0.  0.  0.  0.  0.  0.  0.  0.]\n",
      " [ 0.  0.  0.  0.  0.  0.  0.  0.  0.  0.]\n",
      " [ 0.  0.  0.  0.  0.  0.  0.  0.  0.  0.]\n",
      " [ 0.  0.  0.  0.  0.  0.  0.  0.  0.  0.]\n",
      " [ 0.  0.  0.  0.  0.  0.  0.  0.  0.  0.]\n",
      " [ 0.  0.  0.  0.  0.  0.  0.  0.  0.  0.]]\n",
      "[0.0, 1.0, 2.0, 3.0, 0.0, 0.0, 0.0, 0.0, 0.0, 0.0]\n",
      "[0.0, 0.0, 0.0, 0.0, 0.0, 0.0, 0.0, 0.0, 0.0, 0.0]\n",
      "[0.0, 0.0, 0.0, 0.0, 0.0, 0.0, 0.0, 0.0, 0.0, 0.0]\n",
      "[0.0, 0.0, 0.0, 0.0, 0.0, 0.0, 0.0, 0.0, 0.0, 0.0]\n",
      "[0.0, 0.0, 0.0, 0.0, 0.0, 0.0, 0.0, 0.0, 0.0, 0.0]\n",
      "[0.0, 0.0, 0.0, 0.0, 0.0, 0.0, 0.0, 0.0, 0.0, 0.0]\n",
      "[0.0, 0.0, 0.0, 0.0, 0.0, 0.0, 0.0, 0.0, 0.0, 0.0]\n",
      "[0.0, 0.0, 0.0, 0.0, 0.0, 0.0, 0.0, 0.0, 0.0, 0.0]\n",
      "[0.0, 0.0, 0.0, 0.0, 0.0, 0.0, 0.0, 0.0, 0.0, 0.0]\n",
      "[0.0, 0.0, 0.0, 0.0, 0.0, 0.0, 0.0, 0.0, 0.0, 0.0]\n"
     ]
    }
   ],
   "source": [
    "blank = np.zeros((10,10))\n",
    "blank [0,1] = 1\n",
    "blank [0,2] = 2\n",
    "blank [0,3] = 3\n",
    "print (blank[0,:])\n",
    "print (blank[0,:].tolist())\n",
    "print (str(blank[0,:].tolist())[1:-1])\n",
    "#print (str(blank.tolist()))\n",
    "print(blank[:,])\n",
    "for li in blank[:,]:\n",
    "    print(li.tolist())"
   ]
  }
 ],
 "metadata": {
  "kernelspec": {
   "display_name": "Python 3",
   "language": "python",
   "name": "python3"
  },
  "language_info": {
   "codemirror_mode": {
    "name": "ipython",
    "version": 3
   },
   "file_extension": ".py",
   "mimetype": "text/x-python",
   "name": "python",
   "nbconvert_exporter": "python",
   "pygments_lexer": "ipython3",
   "version": "3.5.4"
  }
 },
 "nbformat": 4,
 "nbformat_minor": 2
}
