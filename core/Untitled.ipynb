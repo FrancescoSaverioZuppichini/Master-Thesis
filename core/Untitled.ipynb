{
 "cells": [
  {
   "cell_type": "code",
   "execution_count": 86,
   "metadata": {},
   "outputs": [],
   "source": [
    "import numpy as np\n",
    "import cv2\n",
    "import matplotlib.pyplot as plt\n",
    "import pandas as pd"
   ]
  },
  {
   "cell_type": "code",
   "execution_count": 87,
   "metadata": {},
   "outputs": [],
   "source": [
    "import rosbag_pandas\n",
    "import dateutil\n"
   ]
  },
  {
   "cell_type": "code",
   "execution_count": 107,
   "metadata": {},
   "outputs": [],
   "source": [
    "df = rosbag_pandas.bag_to_dataframe('/home/francesco/Desktop/1555683631.4240751.bag')"
   ]
  },
  {
   "cell_type": "code",
   "execution_count": 108,
   "metadata": {},
   "outputs": [],
   "source": [
    "df['ros_time'] = df.index"
   ]
  },
  {
   "cell_type": "code",
   "execution_count": 109,
   "metadata": {},
   "outputs": [],
   "source": [
    "df['timestamp'] = df['ros_time'].apply(lambda x: dateutil.parser.parse(str(x)).timestamp())\n",
    "df['timestamp'] -= df['timestamp'][0]\n",
    "df = df.set_index(df['timestamp'])  # reset back the index to the time\n"
   ]
  },
  {
   "cell_type": "code",
   "execution_count": 128,
   "metadata": {},
   "outputs": [
    {
     "data": {
      "text/plain": [
       "(500, 9)"
      ]
     },
     "execution_count": 128,
     "metadata": {},
     "output_type": "execute_result"
    }
   ],
   "source": [
    "df['timestamp'] = df['timestamp'].apply(lambda x: int(x))\n",
    "\n",
    "df[df['timestamp'] == 6].shape"
   ]
  },
  {
   "cell_type": "code",
   "execution_count": 110,
   "metadata": {},
   "outputs": [
    {
     "data": {
      "text/plain": [
       "timestamp\n",
       "0.000000    -3.882511\n",
       "0.004058    -3.882954\n",
       "0.008462    -3.883393\n",
       "0.013473    -3.883830\n",
       "0.018139    -3.884264\n",
       "0.021074    -3.884695\n",
       "0.024184    -3.885125\n",
       "0.028718    -3.885553\n",
       "0.032800    -3.885979\n",
       "0.037324    -3.886403\n",
       "0.041767    -3.886826\n",
       "0.044949    -3.887147\n",
       "0.049205    -3.887430\n",
       "0.053359    -3.887702\n",
       "0.053359    -3.887702\n",
       "0.057304    -3.887982\n",
       "0.057304    -3.887982\n",
       "0.060469    -3.888277\n",
       "0.060469    -3.888277\n",
       "0.064789    -3.888594\n",
       "0.064789    -3.888594\n",
       "0.069684    -3.888936\n",
       "0.069684    -3.888936\n",
       "0.072927    -3.889302\n",
       "0.072927    -3.889302\n",
       "0.076974    -3.889693\n",
       "0.076974    -3.889693\n",
       "0.080649    -3.890108\n",
       "0.080649    -3.890108\n",
       "0.084598    -3.890532\n",
       "               ...   \n",
       "10.151819   -4.124501\n",
       "10.157944   -4.124637\n",
       "10.162042   -4.124769\n",
       "10.165201   -4.124896\n",
       "10.169270   -4.125012\n",
       "10.172249   -4.125126\n",
       "10.174690   -4.125237\n",
       "10.178114   -4.125348\n",
       "10.182640   -4.125458\n",
       "10.188586   -4.125561\n",
       "10.194842   -4.125665\n",
       "10.198454   -4.125771\n",
       "10.201940   -4.125881\n",
       "10.204320   -4.125995\n",
       "10.206650   -4.126105\n",
       "10.210356   -4.126221\n",
       "10.214971   -4.126345\n",
       "10.220399   -4.126476\n",
       "10.226073   -4.126617\n",
       "10.230867   -4.126759\n",
       "10.234606   -4.126913\n",
       "10.237318   -4.127079\n",
       "10.243160   -4.127260\n",
       "10.247194   -4.127457\n",
       "10.249629   -4.127632\n",
       "10.252113   -4.127717\n",
       "10.255660   -4.127761\n",
       "10.260073   -4.127786\n",
       "10.265979   -4.127796\n",
       "10.271801   -4.127790\n",
       "Name: pose__pose_position_x, Length: 5085, dtype: float64"
      ]
     },
     "execution_count": 110,
     "metadata": {},
     "output_type": "execute_result"
    }
   ],
   "source": [
    "df['pose__pose_position_x']"
   ]
  },
  {
   "cell_type": "code",
   "execution_count": 54,
   "metadata": {},
   "outputs": [],
   "source": [
    "def reduce_to_rate(df, rate):\n",
    "    number_of_samples = df[df['timestamp'] < 1].shape[0]\n",
    "    skip = number_of_samples // rate \n",
    "    return df.iloc[::skip]"
   ]
  },
  {
   "cell_type": "code",
   "execution_count": 80,
   "metadata": {},
   "outputs": [],
   "source": [
    "from utilities.postprocessing.postprocessing import DataFrameHandler, PostProcessingConfig, PatchesHandler\n",
    "from utilities.postprocessing.utils import *"
   ]
  },
  {
   "cell_type": "code",
   "execution_count": 76,
   "metadata": {},
   "outputs": [],
   "source": [
    "config = PostProcessingConfig(base_dir='./test/',\n",
    "                              maps_folder='/home/francesco/Documents/Master-Thesis/core/maps/test/',\n",
    "                              # csv_dir='/home/francesco/Desktop/carino/vaevictis/data/train_no_tail#2/csv/',\n",
    "                              out_dir='./test/',\n",
    "                              patch_size=88,\n",
    "                              advancement_th=0.45,\n",
    "                              skip_every=12,\n",
    "                              translation=[5, 5],\n",
    "                              time_window=500,\n",
    "                              name='test')\n",
    "handle1 = DataFrameHandler(config=config)\n",
    "handle = PatchesHandler(config=config)"
   ]
  },
  {
   "cell_type": "code",
   "execution_count": 93,
   "metadata": {},
   "outputs": [
    {
     "data": {
      "text/plain": [
       "449"
      ]
     },
     "execution_count": 93,
     "metadata": {},
     "output_type": "execute_result"
    }
   ],
   "source": [
    "len(df)"
   ]
  },
  {
   "cell_type": "code",
   "execution_count": 105,
   "metadata": {},
   "outputs": [
    {
     "data": {
      "text/plain": [
       "0.24672347006033274"
      ]
     },
     "execution_count": 105,
     "metadata": {},
     "output_type": "execute_result"
    }
   ],
   "source": [
    "x = df_convert_quaterion2euler(df)\n",
    "x = handle1.extract_cos_sin(df)\n",
    "x = handle.df_add_advancement(df, 400)\n",
    "\n",
    "x['advancement'].mean()"
   ]
  },
  {
   "cell_type": "code",
   "execution_count": 106,
   "metadata": {},
   "outputs": [
    {
     "data": {
      "text/plain": [
       "0.24878075666201602"
      ]
     },
     "execution_count": 106,
     "metadata": {},
     "output_type": "execute_result"
    }
   ],
   "source": [
    "reduced_df = reduce_to_rate(df, 10)\n",
    "reduced_df[reduced_df['timestamp'] < 1].shape[0]\n",
    "\n",
    "x = df_convert_quaterion2euler(reduced_df)\n",
    "x = handle1.extract_cos_sin(reduced_df)\n",
    "x = handle.df_add_advancement(reduced_df, 10)\n",
    "\n",
    "x['advancement'].mean()"
   ]
  },
  {
   "cell_type": "code",
   "execution_count": 94,
   "metadata": {},
   "outputs": [
    {
     "data": {
      "text/html": [
       "<div>\n",
       "<style scoped>\n",
       "    .dataframe tbody tr th:only-of-type {\n",
       "        vertical-align: middle;\n",
       "    }\n",
       "\n",
       "    .dataframe tbody tr th {\n",
       "        vertical-align: top;\n",
       "    }\n",
       "\n",
       "    .dataframe thead th {\n",
       "        text-align: right;\n",
       "    }\n",
       "</style>\n",
       "<table border=\"1\" class=\"dataframe\">\n",
       "  <thead>\n",
       "    <tr style=\"text-align: right;\">\n",
       "      <th></th>\n",
       "      <th>timestamp</th>\n",
       "      <th>ros_time</th>\n",
       "    </tr>\n",
       "    <tr>\n",
       "      <th>timestamp</th>\n",
       "      <th></th>\n",
       "      <th></th>\n",
       "    </tr>\n",
       "  </thead>\n",
       "  <tbody>\n",
       "    <tr>\n",
       "      <th>0.000000</th>\n",
       "      <td>0.000000</td>\n",
       "      <td>2019-04-19 13:06:20.297591296</td>\n",
       "    </tr>\n",
       "    <tr>\n",
       "      <th>0.002903</th>\n",
       "      <td>0.002903</td>\n",
       "      <td>2019-04-19 13:06:20.300494848</td>\n",
       "    </tr>\n",
       "    <tr>\n",
       "      <th>0.007023</th>\n",
       "      <td>0.007023</td>\n",
       "      <td>2019-04-19 13:06:20.304614912</td>\n",
       "    </tr>\n",
       "    <tr>\n",
       "      <th>0.011807</th>\n",
       "      <td>0.011807</td>\n",
       "      <td>2019-04-19 13:06:20.309398528</td>\n",
       "    </tr>\n",
       "    <tr>\n",
       "      <th>0.011807</th>\n",
       "      <td>0.011807</td>\n",
       "      <td>2019-04-19 13:06:20.309398528</td>\n",
       "    </tr>\n",
       "    <tr>\n",
       "      <th>0.021283</th>\n",
       "      <td>0.021283</td>\n",
       "      <td>2019-04-19 13:06:20.318874112</td>\n",
       "    </tr>\n",
       "    <tr>\n",
       "      <th>0.021283</th>\n",
       "      <td>0.021283</td>\n",
       "      <td>2019-04-19 13:06:20.318874112</td>\n",
       "    </tr>\n",
       "    <tr>\n",
       "      <th>0.025258</th>\n",
       "      <td>0.025258</td>\n",
       "      <td>2019-04-19 13:06:20.322849536</td>\n",
       "    </tr>\n",
       "    <tr>\n",
       "      <th>0.025258</th>\n",
       "      <td>0.025258</td>\n",
       "      <td>2019-04-19 13:06:20.322849536</td>\n",
       "    </tr>\n",
       "    <tr>\n",
       "      <th>0.027771</th>\n",
       "      <td>0.027771</td>\n",
       "      <td>2019-04-19 13:06:20.325362944</td>\n",
       "    </tr>\n",
       "    <tr>\n",
       "      <th>0.027771</th>\n",
       "      <td>0.027771</td>\n",
       "      <td>2019-04-19 13:06:20.325362944</td>\n",
       "    </tr>\n",
       "    <tr>\n",
       "      <th>0.030275</th>\n",
       "      <td>0.030275</td>\n",
       "      <td>2019-04-19 13:06:20.327866112</td>\n",
       "    </tr>\n",
       "    <tr>\n",
       "      <th>0.030275</th>\n",
       "      <td>0.030275</td>\n",
       "      <td>2019-04-19 13:06:20.327866112</td>\n",
       "    </tr>\n",
       "    <tr>\n",
       "      <th>0.032767</th>\n",
       "      <td>0.032767</td>\n",
       "      <td>2019-04-19 13:06:20.330358016</td>\n",
       "    </tr>\n",
       "    <tr>\n",
       "      <th>0.032767</th>\n",
       "      <td>0.032767</td>\n",
       "      <td>2019-04-19 13:06:20.330358016</td>\n",
       "    </tr>\n",
       "    <tr>\n",
       "      <th>0.035869</th>\n",
       "      <td>0.035869</td>\n",
       "      <td>2019-04-19 13:06:20.333460736</td>\n",
       "    </tr>\n",
       "    <tr>\n",
       "      <th>0.035869</th>\n",
       "      <td>0.035869</td>\n",
       "      <td>2019-04-19 13:06:20.333460736</td>\n",
       "    </tr>\n",
       "    <tr>\n",
       "      <th>0.041201</th>\n",
       "      <td>0.041201</td>\n",
       "      <td>2019-04-19 13:06:20.338792960</td>\n",
       "    </tr>\n",
       "    <tr>\n",
       "      <th>0.041201</th>\n",
       "      <td>0.041201</td>\n",
       "      <td>2019-04-19 13:06:20.338792960</td>\n",
       "    </tr>\n",
       "    <tr>\n",
       "      <th>0.046662</th>\n",
       "      <td>0.046662</td>\n",
       "      <td>2019-04-19 13:06:20.344253952</td>\n",
       "    </tr>\n",
       "    <tr>\n",
       "      <th>0.046662</th>\n",
       "      <td>0.046662</td>\n",
       "      <td>2019-04-19 13:06:20.344253952</td>\n",
       "    </tr>\n",
       "    <tr>\n",
       "      <th>0.052568</th>\n",
       "      <td>0.052568</td>\n",
       "      <td>2019-04-19 13:06:20.350159872</td>\n",
       "    </tr>\n",
       "    <tr>\n",
       "      <th>0.052568</th>\n",
       "      <td>0.052568</td>\n",
       "      <td>2019-04-19 13:06:20.350159872</td>\n",
       "    </tr>\n",
       "    <tr>\n",
       "      <th>0.057520</th>\n",
       "      <td>0.057520</td>\n",
       "      <td>2019-04-19 13:06:20.355111680</td>\n",
       "    </tr>\n",
       "    <tr>\n",
       "      <th>0.057520</th>\n",
       "      <td>0.057520</td>\n",
       "      <td>2019-04-19 13:06:20.355111680</td>\n",
       "    </tr>\n",
       "    <tr>\n",
       "      <th>0.060608</th>\n",
       "      <td>0.060608</td>\n",
       "      <td>2019-04-19 13:06:20.358199296</td>\n",
       "    </tr>\n",
       "    <tr>\n",
       "      <th>0.060608</th>\n",
       "      <td>0.060608</td>\n",
       "      <td>2019-04-19 13:06:20.358199296</td>\n",
       "    </tr>\n",
       "    <tr>\n",
       "      <th>0.063616</th>\n",
       "      <td>0.063616</td>\n",
       "      <td>2019-04-19 13:06:20.361207296</td>\n",
       "    </tr>\n",
       "    <tr>\n",
       "      <th>0.063616</th>\n",
       "      <td>0.063616</td>\n",
       "      <td>2019-04-19 13:06:20.361207296</td>\n",
       "    </tr>\n",
       "    <tr>\n",
       "      <th>0.066757</th>\n",
       "      <td>0.066757</td>\n",
       "      <td>2019-04-19 13:06:20.364348672</td>\n",
       "    </tr>\n",
       "    <tr>\n",
       "      <th>...</th>\n",
       "      <td>...</td>\n",
       "      <td>...</td>\n",
       "    </tr>\n",
       "    <tr>\n",
       "      <th>1.001309</th>\n",
       "      <td>1.001309</td>\n",
       "      <td>2019-04-19 13:06:21.298900224</td>\n",
       "    </tr>\n",
       "    <tr>\n",
       "      <th>1.001309</th>\n",
       "      <td>1.001309</td>\n",
       "      <td>2019-04-19 13:06:21.298900224</td>\n",
       "    </tr>\n",
       "    <tr>\n",
       "      <th>1.011129</th>\n",
       "      <td>1.011129</td>\n",
       "      <td>2019-04-19 13:06:21.308720896</td>\n",
       "    </tr>\n",
       "    <tr>\n",
       "      <th>1.011129</th>\n",
       "      <td>1.011129</td>\n",
       "      <td>2019-04-19 13:06:21.308720896</td>\n",
       "    </tr>\n",
       "    <tr>\n",
       "      <th>1.013553</th>\n",
       "      <td>1.013553</td>\n",
       "      <td>2019-04-19 13:06:21.311144448</td>\n",
       "    </tr>\n",
       "    <tr>\n",
       "      <th>1.013553</th>\n",
       "      <td>1.013553</td>\n",
       "      <td>2019-04-19 13:06:21.311144448</td>\n",
       "    </tr>\n",
       "    <tr>\n",
       "      <th>1.015981</th>\n",
       "      <td>1.015981</td>\n",
       "      <td>2019-04-19 13:06:21.313572608</td>\n",
       "    </tr>\n",
       "    <tr>\n",
       "      <th>1.015981</th>\n",
       "      <td>1.015981</td>\n",
       "      <td>2019-04-19 13:06:21.313572608</td>\n",
       "    </tr>\n",
       "    <tr>\n",
       "      <th>1.020065</th>\n",
       "      <td>1.020065</td>\n",
       "      <td>2019-04-19 13:06:21.317656064</td>\n",
       "    </tr>\n",
       "    <tr>\n",
       "      <th>1.020065</th>\n",
       "      <td>1.020065</td>\n",
       "      <td>2019-04-19 13:06:21.317656064</td>\n",
       "    </tr>\n",
       "    <tr>\n",
       "      <th>1.022468</th>\n",
       "      <td>1.022468</td>\n",
       "      <td>2019-04-19 13:06:21.320059648</td>\n",
       "    </tr>\n",
       "    <tr>\n",
       "      <th>1.022468</th>\n",
       "      <td>1.022468</td>\n",
       "      <td>2019-04-19 13:06:21.320059648</td>\n",
       "    </tr>\n",
       "    <tr>\n",
       "      <th>1.026333</th>\n",
       "      <td>1.026333</td>\n",
       "      <td>2019-04-19 13:06:21.323924736</td>\n",
       "    </tr>\n",
       "    <tr>\n",
       "      <th>1.026333</th>\n",
       "      <td>1.026333</td>\n",
       "      <td>2019-04-19 13:06:21.323924736</td>\n",
       "    </tr>\n",
       "    <tr>\n",
       "      <th>1.031295</th>\n",
       "      <td>1.031295</td>\n",
       "      <td>2019-04-19 13:06:21.328886528</td>\n",
       "    </tr>\n",
       "    <tr>\n",
       "      <th>1.031295</th>\n",
       "      <td>1.031295</td>\n",
       "      <td>2019-04-19 13:06:21.328886528</td>\n",
       "    </tr>\n",
       "    <tr>\n",
       "      <th>1.034716</th>\n",
       "      <td>1.034716</td>\n",
       "      <td>2019-04-19 13:06:21.332307456</td>\n",
       "    </tr>\n",
       "    <tr>\n",
       "      <th>1.034716</th>\n",
       "      <td>1.034716</td>\n",
       "      <td>2019-04-19 13:06:21.332307456</td>\n",
       "    </tr>\n",
       "    <tr>\n",
       "      <th>1.043389</th>\n",
       "      <td>1.043389</td>\n",
       "      <td>2019-04-19 13:06:21.340980480</td>\n",
       "    </tr>\n",
       "    <tr>\n",
       "      <th>1.043389</th>\n",
       "      <td>1.043389</td>\n",
       "      <td>2019-04-19 13:06:21.340980480</td>\n",
       "    </tr>\n",
       "    <tr>\n",
       "      <th>1.047386</th>\n",
       "      <td>1.047386</td>\n",
       "      <td>2019-04-19 13:06:21.344977664</td>\n",
       "    </tr>\n",
       "    <tr>\n",
       "      <th>1.047386</th>\n",
       "      <td>1.047386</td>\n",
       "      <td>2019-04-19 13:06:21.344977664</td>\n",
       "    </tr>\n",
       "    <tr>\n",
       "      <th>1.052404</th>\n",
       "      <td>1.052404</td>\n",
       "      <td>2019-04-19 13:06:21.349995008</td>\n",
       "    </tr>\n",
       "    <tr>\n",
       "      <th>1.052404</th>\n",
       "      <td>1.052404</td>\n",
       "      <td>2019-04-19 13:06:21.349995008</td>\n",
       "    </tr>\n",
       "    <tr>\n",
       "      <th>1.056194</th>\n",
       "      <td>1.056194</td>\n",
       "      <td>2019-04-19 13:06:21.353785344</td>\n",
       "    </tr>\n",
       "    <tr>\n",
       "      <th>1.059094</th>\n",
       "      <td>1.059094</td>\n",
       "      <td>2019-04-19 13:06:21.356685824</td>\n",
       "    </tr>\n",
       "    <tr>\n",
       "      <th>1.062908</th>\n",
       "      <td>1.062908</td>\n",
       "      <td>2019-04-19 13:06:21.360499200</td>\n",
       "    </tr>\n",
       "    <tr>\n",
       "      <th>1.067659</th>\n",
       "      <td>1.067659</td>\n",
       "      <td>2019-04-19 13:06:21.365250304</td>\n",
       "    </tr>\n",
       "    <tr>\n",
       "      <th>1.071332</th>\n",
       "      <td>1.071332</td>\n",
       "      <td>2019-04-19 13:06:21.368923392</td>\n",
       "    </tr>\n",
       "    <tr>\n",
       "      <th>1.075982</th>\n",
       "      <td>1.075982</td>\n",
       "      <td>2019-04-19 13:06:21.373573632</td>\n",
       "    </tr>\n",
       "  </tbody>\n",
       "</table>\n",
       "<p>449 rows × 2 columns</p>\n",
       "</div>"
      ],
      "text/plain": [
       "           timestamp                      ros_time\n",
       "timestamp                                         \n",
       "0.000000    0.000000 2019-04-19 13:06:20.297591296\n",
       "0.002903    0.002903 2019-04-19 13:06:20.300494848\n",
       "0.007023    0.007023 2019-04-19 13:06:20.304614912\n",
       "0.011807    0.011807 2019-04-19 13:06:20.309398528\n",
       "0.011807    0.011807 2019-04-19 13:06:20.309398528\n",
       "0.021283    0.021283 2019-04-19 13:06:20.318874112\n",
       "0.021283    0.021283 2019-04-19 13:06:20.318874112\n",
       "0.025258    0.025258 2019-04-19 13:06:20.322849536\n",
       "0.025258    0.025258 2019-04-19 13:06:20.322849536\n",
       "0.027771    0.027771 2019-04-19 13:06:20.325362944\n",
       "0.027771    0.027771 2019-04-19 13:06:20.325362944\n",
       "0.030275    0.030275 2019-04-19 13:06:20.327866112\n",
       "0.030275    0.030275 2019-04-19 13:06:20.327866112\n",
       "0.032767    0.032767 2019-04-19 13:06:20.330358016\n",
       "0.032767    0.032767 2019-04-19 13:06:20.330358016\n",
       "0.035869    0.035869 2019-04-19 13:06:20.333460736\n",
       "0.035869    0.035869 2019-04-19 13:06:20.333460736\n",
       "0.041201    0.041201 2019-04-19 13:06:20.338792960\n",
       "0.041201    0.041201 2019-04-19 13:06:20.338792960\n",
       "0.046662    0.046662 2019-04-19 13:06:20.344253952\n",
       "0.046662    0.046662 2019-04-19 13:06:20.344253952\n",
       "0.052568    0.052568 2019-04-19 13:06:20.350159872\n",
       "0.052568    0.052568 2019-04-19 13:06:20.350159872\n",
       "0.057520    0.057520 2019-04-19 13:06:20.355111680\n",
       "0.057520    0.057520 2019-04-19 13:06:20.355111680\n",
       "0.060608    0.060608 2019-04-19 13:06:20.358199296\n",
       "0.060608    0.060608 2019-04-19 13:06:20.358199296\n",
       "0.063616    0.063616 2019-04-19 13:06:20.361207296\n",
       "0.063616    0.063616 2019-04-19 13:06:20.361207296\n",
       "0.066757    0.066757 2019-04-19 13:06:20.364348672\n",
       "...              ...                           ...\n",
       "1.001309    1.001309 2019-04-19 13:06:21.298900224\n",
       "1.001309    1.001309 2019-04-19 13:06:21.298900224\n",
       "1.011129    1.011129 2019-04-19 13:06:21.308720896\n",
       "1.011129    1.011129 2019-04-19 13:06:21.308720896\n",
       "1.013553    1.013553 2019-04-19 13:06:21.311144448\n",
       "1.013553    1.013553 2019-04-19 13:06:21.311144448\n",
       "1.015981    1.015981 2019-04-19 13:06:21.313572608\n",
       "1.015981    1.015981 2019-04-19 13:06:21.313572608\n",
       "1.020065    1.020065 2019-04-19 13:06:21.317656064\n",
       "1.020065    1.020065 2019-04-19 13:06:21.317656064\n",
       "1.022468    1.022468 2019-04-19 13:06:21.320059648\n",
       "1.022468    1.022468 2019-04-19 13:06:21.320059648\n",
       "1.026333    1.026333 2019-04-19 13:06:21.323924736\n",
       "1.026333    1.026333 2019-04-19 13:06:21.323924736\n",
       "1.031295    1.031295 2019-04-19 13:06:21.328886528\n",
       "1.031295    1.031295 2019-04-19 13:06:21.328886528\n",
       "1.034716    1.034716 2019-04-19 13:06:21.332307456\n",
       "1.034716    1.034716 2019-04-19 13:06:21.332307456\n",
       "1.043389    1.043389 2019-04-19 13:06:21.340980480\n",
       "1.043389    1.043389 2019-04-19 13:06:21.340980480\n",
       "1.047386    1.047386 2019-04-19 13:06:21.344977664\n",
       "1.047386    1.047386 2019-04-19 13:06:21.344977664\n",
       "1.052404    1.052404 2019-04-19 13:06:21.349995008\n",
       "1.052404    1.052404 2019-04-19 13:06:21.349995008\n",
       "1.056194    1.056194 2019-04-19 13:06:21.353785344\n",
       "1.059094    1.059094 2019-04-19 13:06:21.356685824\n",
       "1.062908    1.062908 2019-04-19 13:06:21.360499200\n",
       "1.067659    1.067659 2019-04-19 13:06:21.365250304\n",
       "1.071332    1.071332 2019-04-19 13:06:21.368923392\n",
       "1.075982    1.075982 2019-04-19 13:06:21.373573632\n",
       "\n",
       "[449 rows x 2 columns]"
      ]
     },
     "execution_count": 94,
     "metadata": {},
     "output_type": "execute_result"
    }
   ],
   "source": [
    "df[['timestamp', 'ros_time']]"
   ]
  },
  {
   "cell_type": "code",
   "execution_count": 5,
   "metadata": {},
   "outputs": [
    {
     "data": {
      "text/plain": [
       "(526, 16)"
      ]
     },
     "execution_count": 5,
     "metadata": {},
     "output_type": "execute_result"
    }
   ],
   "source": [
    "df = pd.read_csv('/media/francesco/saetta/krock-dataset/92/train/csvs/bars1/1550616906.6299658-complete.csv')\n",
    "df[df['index'] < 2].shape"
   ]
  },
  {
   "cell_type": "code",
   "execution_count": 5,
   "metadata": {},
   "outputs": [],
   "source": [
    "hm = np.zeros((200,200))\n",
    "\n",
    "offset = 42\n",
    "xc, yc = hm.shape[0] //2, hm.shape[1]//2"
   ]
  },
  {
   "cell_type": "code",
   "execution_count": 6,
   "metadata": {},
   "outputs": [
    {
     "data": {
      "image/png": "[encoded data removed]",
      "text/plain": [
       "<Figure size 432x288 with 1 Axes>"
      ]
     },
     "metadata": {
      "needs_background": "light"
     },
     "output_type": "display_data"
    }
   ],
   "source": [
    "hm[xc - offset: xc + offset , yc - offset: yc + offset] = 255\n",
    "# hm[:,65:65 + 20] = 255\n",
    "plt.imshow(hm.squeeze())\n",
    "plt.show()"
   ]
  },
  {
   "cell_type": "code",
   "execution_count": 7,
   "metadata": {},
   "outputs": [
    {
     "data": {
      "text/plain": [
       "True"
      ]
     },
     "execution_count": 7,
     "metadata": {},
     "output_type": "execute_result"
    }
   ],
   "source": [
    "cv2.imwrite('/home/francesco/Desktop/center.png', hm)"
   ]
  },
  {
   "cell_type": "code",
   "execution_count": null,
   "metadata": {},
   "outputs": [],
   "source": []
  }
 ],
 "metadata": {
  "kernelspec": {
   "display_name": "Python 3",
   "language": "python",
   "name": "python3"
  },
  "language_info": {
   "codemirror_mode": {
    "name": "ipython",
    "version": 3
   },
   "file_extension": ".py",
   "mimetype": "text/x-python",
   "name": "python",
   "nbconvert_exporter": "python",
   "pygments_lexer": "ipython3",
   "version": "3.6.7"
  }
 },
 "nbformat": 4,
 "nbformat_minor": 2
}
