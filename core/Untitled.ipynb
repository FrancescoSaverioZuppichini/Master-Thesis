{
 "cells": [
  {
   "cell_type": "code",
   "execution_count": 38,
   "metadata": {},
   "outputs": [],
   "source": [
    "import torch\n",
    "from torch.utils.data import Dataset\n",
    "from utils.postprocessing.utils import files2dfs_maps\n",
    "\n",
    "import glob\n",
    "\n",
    "import matplotlib.pyplot as plt\n",
    "\n",
    "import sklearn.pipeline\n",
    "import sklearn.dummy\n",
    "import sklearn.preprocessing\n",
    "import sklearn.metrics.regression\n",
    "from sklearn.metrics import auc, roc_curve\n",
    "import skimage.transform\n"
   ]
  },
  {
   "cell_type": "code",
   "execution_count": 22,
   "metadata": {},
   "outputs": [],
   "source": [
    "DATASET_FOLDER = '/home/francesco/Desktop/carino/vaevictis/data/dataset/'\n",
    "MAPS_FOLDER = '/home/francesco/Desktop/carino/vaevictis/data/maps/'\n",
    "\n",
    "csv_paths = glob.glob(DATASET_FOLDER + '/*/**.csv')"
   ]
  },
  {
   "cell_type": "code",
   "execution_count": 31,
   "metadata": {},
   "outputs": [],
   "source": [
    "import torch\n",
    "from torch.utils.data import Dataset\n",
    "from utils.postprocessing.utils import files2dfs_maps\n",
    "import numpy as np\n",
    "import glob\n",
    "\n",
    "import sklearn.pipeline\n",
    "import sklearn.dummy\n",
    "import sklearn.preprocessing\n",
    "import sklearn.metrics.regression\n",
    "from sklearn.metrics import auc, roc_curve\n",
    "import skimage.transform\n",
    "\n",
    "\n",
    "class TraversabilityDataset(Dataset):\n",
    "    def __init__(self, data, patch_size=80):\n",
    "        self.data = data\n",
    "        self.patch_size = patch_size\n",
    "        self.inputs = []\n",
    "        self.targets = []\n",
    "\n",
    "        for df, hm in self.data:\n",
    "            if len(df) == 0: continue\n",
    "            im, l = self.sample(df, hm, patch_size)\n",
    "            self.inputs.append(im[:, :, np.newaxis])\n",
    "            self.targets.append(l)\n",
    "\n",
    "        self.inputs = np.array( self.inputs).astype('float32')\n",
    "        self.targets = np.array(self.targets).astype('int')\n",
    "\n",
    "    def sample(self, df, hm, sz):\n",
    "        d = df.sample(1)\n",
    "        l = d[\"label\"].iloc[0]\n",
    "        # hm = hms[d[\"hm\"].iloc[0]]\n",
    "        patch = self.hmpatch(hm, d[\"hm_x\"].iloc[0], d[\"hm_y\"].iloc[0], np.rad2deg(d[\"pose__pose_e_orientation_z\"].iloc[0]),\n",
    "                     self.patch_size, scale=1)[0]\n",
    "        patch = self.transform_patch(patch, sz)\n",
    "        return patch, l\n",
    "\n",
    "    def hmpatch(self, hm, x, y, alpha, edge, scale=1):\n",
    "        # Cutout a patch from the image, centered on (x,y), rotated by alpha\n",
    "        # degrees (0 means bottom in hm remains bottom in patch, 90 means bottom in hm becomes right in patch),\n",
    "        # with a specified edge size (in pixels) and scale (relative).\n",
    "        tf1 = skimage.transform.SimilarityTransform(translation=[-x, -y])\n",
    "        tf2 = skimage.transform.SimilarityTransform(rotation=np.deg2rad(alpha))\n",
    "        tf3 = skimage.transform.SimilarityTransform(scale=scale)\n",
    "        tf4 = skimage.transform.SimilarityTransform(translation=[+edge / 2, +edge / 2])\n",
    "        tf = (tf1 + (tf2 + (tf3 + tf4))).inverse\n",
    "        # corners=tf(np.array([[0,0],[1,0],[1,1],[0,1]])*edge)\n",
    "        corners = tf(np.array([[0, 0], [1, 0], [1, 1], [0, 1], [0.5, 0.5]]) * edge)\n",
    "        patch = skimage.transform.warp(hm, tf, output_shape=(edge, edge), mode=\"edge\")\n",
    "        return patch, corners\n",
    "\n",
    "    def transform_patch(self, patch, sz):\n",
    "        t_patch = patch - patch[patch.shape[0] // 2, patch.shape[1] // 2]\n",
    "        t_patch = skimage.transform.resize(t_patch, (self.patch_size, self.patch_size), mode='constant')\n",
    "        return t_patch\n",
    "\n",
    "    def __getitem__(self, item):\n",
    "\n",
    "        return self.inputs[item], self.targets[item]\n",
    "\n",
    "    def __len__(self):\n",
    "        return len(self.targets)\n",
    "\n",
    "DATASET_FOLDER = '/home/francesco/Desktop/carino/vaevictis/data/dataset/'\n",
    "MAPS_FOLDER = '/home/francesco/Desktop/carino/vaevictis/data/maps/'\n",
    "\n",
    "csv_paths = glob.glob(DATASET_FOLDER + '/*/**.csv')\n"
   ]
  },
  {
   "cell_type": "code",
   "execution_count": 29,
   "metadata": {},
   "outputs": [
    {
     "name": "stdout",
     "output_type": "stream",
     "text": [
      "145\n"
     ]
    }
   ],
   "source": [
    "dfs_maps = dfs_maps = files2dfs_maps(csv_paths)"
   ]
  },
  {
   "cell_type": "code",
   "execution_count": 32,
   "metadata": {},
   "outputs": [
    {
     "name": "stdout",
     "output_type": "stream",
     "text": [
      "145\n"
     ]
    }
   ],
   "source": [
    "ds = TraversabilityDataset(dfs_maps)\n",
    "print(len(ds))"
   ]
  },
  {
   "cell_type": "code",
   "execution_count": 40,
   "metadata": {},
   "outputs": [
    {
     "data": {
      "image/png": "[encoded data removed]",
      "text/plain": [
       "<Figure size 432x288 with 1 Axes>"
      ]
     },
     "metadata": {
      "needs_background": "light"
     },
     "output_type": "display_data"
    },
    {
     "name": "stdout",
     "output_type": "stream",
     "text": [
      "(80, 80, 1) 0\n"
     ]
    }
   ],
   "source": [
    "x, y = ds[0]\n",
    "\n",
    "plt.imshow(x.squeeze())\n",
    "plt.show()\n",
    "print(x.shape, y)\n"
   ]
  },
  {
   "cell_type": "code",
   "execution_count": null,
   "metadata": {},
   "outputs": [],
   "source": []
  }
 ],
 "metadata": {
  "kernelspec": {
   "display_name": "Python 3",
   "language": "python",
   "name": "python3"
  },
  "language_info": {
   "codemirror_mode": {
    "name": "ipython",
    "version": 3
   },
   "file_extension": ".py",
   "mimetype": "text/x-python",
   "name": "python",
   "nbconvert_exporter": "python",
   "pygments_lexer": "ipython3",
   "version": "3.6.7"
  }
 },
 "nbformat": 4,
 "nbformat_minor": 2
}
