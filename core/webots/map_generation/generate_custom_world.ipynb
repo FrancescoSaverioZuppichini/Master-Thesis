{
 "cells": [
  {
   "cell_type": "code",
   "execution_count": 52,
   "metadata": {},
   "outputs": [],
   "source": [
    "import numpy as np\n",
    "# from skimage.io import imread, imshow, imsave\n",
    "from PIL import Image\n",
    "from matplotlib.pyplot import imshow\n",
    "import matplotlib.pyplot as plt\n",
    "import cv2\n",
    "import time\n"
   ]
  },
  {
   "cell_type": "code",
   "execution_count": 2,
   "metadata": {},
   "outputs": [],
   "source": [
    "# generic world where the custom map will be inserted\n",
    "input_file_name = \"./krock2_camera.wbt\"\n",
    "output_file_name = \"white.wbt\"\n",
    "# parameters for map generation\n",
    "SIZE = 513\n",
    "RESOLUTION = 0.02 # m per pixel\n",
    "HEIGHT_FACTOR = 1.0 # multiplied for the values in the image reults on the real height"
   ]
  },
  {
   "cell_type": "code",
   "execution_count": 3,
   "metadata": {},
   "outputs": [
    {
     "name": "stdout",
     "output_type": "stream",
     "text": [
      "1664\n",
      "1651 1663\n"
     ]
    }
   ],
   "source": [
    "data = list()\n",
    "l1 = l2 = -1\n",
    "with open(input_file_name) as f:\n",
    "    for i, line in enumerate(f):\n",
    "        data.append(line)\n",
    "        if line.find('      geometry DEF EL_GRID ElevationGrid {') != -1:\n",
    "            l1 = i +1\n",
    "        if line.find('name \"terrain\"'):\n",
    "            l2 = i\n",
    "#     data = f.read()\n",
    "\n",
    "print (len(data))\n",
    "    \n",
    "if l1!=-1 and l2!=-1:\n",
    "    print (l1, l2)\n",
    "    l1+=1\n",
    "else:\n",
    "    print ('ERROR while reading the generic map')"
   ]
  },
  {
   "cell_type": "code",
   "execution_count": 4,
   "metadata": {},
   "outputs": [
    {
     "ename": "NameError",
     "evalue": "name 'imread' is not defined",
     "output_type": "error",
     "traceback": [
      "\u001b[0;31m---------------------------------------------------------------------------\u001b[0m",
      "\u001b[0;31mNameError\u001b[0m                                 Traceback (most recent call last)",
      "\u001b[0;32m<ipython-input-4-f4480d95a9e4>\u001b[0m in \u001b[0;36m<module>\u001b[0;34m()\u001b[0m\n\u001b[1;32m      8\u001b[0m \u001b[0mHEIGHT_FACTOR\u001b[0m \u001b[0;34m=\u001b[0m \u001b[0;36m20\u001b[0m\u001b[0;34m\u001b[0m\u001b[0m\n\u001b[1;32m      9\u001b[0m \u001b[0;34m\u001b[0m\u001b[0m\n\u001b[0;32m---> 10\u001b[0;31m \u001b[0mterrain\u001b[0m \u001b[0;34m=\u001b[0m \u001b[0mimread\u001b[0m\u001b[0;34m(\u001b[0m\u001b[0mterrain_file_name\u001b[0m\u001b[0;34m)\u001b[0m\u001b[0;34m\u001b[0m\u001b[0m\n\u001b[0m\u001b[1;32m     11\u001b[0m \u001b[0mprint\u001b[0m \u001b[0;34m(\u001b[0m\u001b[0;34m'org image type: '\u001b[0m\u001b[0;34m,\u001b[0m \u001b[0mterrain\u001b[0m\u001b[0;34m.\u001b[0m\u001b[0mdtype\u001b[0m\u001b[0;34m,\u001b[0m \u001b[0;34m' max val: '\u001b[0m\u001b[0;34m,\u001b[0m \u001b[0mnp\u001b[0m\u001b[0;34m.\u001b[0m\u001b[0mamax\u001b[0m\u001b[0;34m(\u001b[0m\u001b[0mterrain\u001b[0m\u001b[0;34m)\u001b[0m\u001b[0;34m,\u001b[0m \u001b[0;34m' shape'\u001b[0m\u001b[0;34m,\u001b[0m \u001b[0mterrain\u001b[0m\u001b[0;34m.\u001b[0m\u001b[0mshape\u001b[0m\u001b[0;34m)\u001b[0m\u001b[0;34m\u001b[0m\u001b[0m\n\u001b[1;32m     12\u001b[0m \u001b[0;32mif\u001b[0m \u001b[0mterrain\u001b[0m\u001b[0;34m.\u001b[0m\u001b[0mdtype\u001b[0m \u001b[0;34m==\u001b[0m \u001b[0;34m'uint8'\u001b[0m\u001b[0;34m:\u001b[0m\u001b[0;34m\u001b[0m\u001b[0m\n",
      "\u001b[0;31mNameError\u001b[0m: name 'imread' is not defined"
     ]
    }
   ],
   "source": [
    "# read the terrain from an image (like for gazebo or vrep)\n",
    "#terrain_file_name = \"slope_rocks2.png\"\n",
    "#output_file_name = \"slope_rocks.wbt\"\n",
    "#HEIGHT_FACTOR = 1\n",
    "\n",
    "terrain_file_name = \"quarry_cropped4_scaled2cm.png\"\n",
    "output_file_name = \"quarry.wbt\"\n",
    "HEIGHT_FACTOR = 20\n",
    "\n",
    "terrain = imread(terrain_file_name)\n",
    "print ('org image type: ', terrain.dtype, ' max val: ', np.amax(terrain), ' shape', terrain.shape)\n",
    "if terrain.dtype == 'uint8':\n",
    "    terrain = terrain/256.\n",
    "if terrain.dtype == 'uint16':\n",
    "    terrain = terrain/65536.\n",
    "if terrain.dtype == 'uint32':\n",
    "    terrani = terrain/4294967296.\n",
    "\n",
    "terrain = terrain * HEIGHT_FACTOR\n",
    "print ('mod image type: ', terrain.dtype, ' height factor: ', HEIGHT_FACTOR,' max val (m): ', np.amax(terrain), ' shape', terrain.shape)\n",
    "\n",
    "input_size_x = terrain.shape[0]\n",
    "input_size_y = terrain.shape[1]\n",
    "\n",
    "SIZE = input_size_x"
   ]
  },
  {
   "cell_type": "code",
   "execution_count": null,
   "metadata": {},
   "outputs": [],
   "source": [
    "# read or generate custom terrain\n",
    "\n",
    "terrain = np.zeros((SIZE,SIZE))\n",
    "input_size_x = terrain.shape[0]\n",
    "input_size_y = terrain.shape[1]\n"
   ]
  },
  {
   "cell_type": "code",
   "execution_count": null,
   "metadata": {
    "scrolled": true
   },
   "outputs": [],
   "source": [
    "# add the terrain to the webots world file\n",
    "\n",
    "str_terrain = ''\n",
    "np.set_printoptions(threshold = np.prod(terrain.shape))\n",
    "for i in range(0, input_size_x):\n",
    "    str_terrain += np.array_str(terrain[i,:])[1:-1]\n",
    "str_terrain += '\\n'\n",
    "np.set_printoptions(threshold = 1000) # default\n",
    "\n",
    "print(len(data), input_size_x, input_size_y)\n",
    "\n",
    "print(data[l2-8:])\n",
    "# replace terrain (and its parameters) in the corresponding fields of the world\n",
    "\n",
    "data[l2-9] = '        ]\\n'\n",
    "data[l2-8] = '        xDimension ' + str(SIZE) + '\\n'\n",
    "data[l2-7] = '        xSpacing ' + str(RESOLUTION) + '\\n'\n",
    "data[l2-6] = '        zDimension ' + str(SIZE) + '\\n'\n",
    "data[l2-5] = '        zSpacing ' + str(RESOLUTION) + '\\n } \\n'\n",
    "\n",
    "print(data[l2-9:])\n",
    "\n",
    "#custom_data = data[0:l1] + terrain.tolist() + data[l2-8:]\n",
    "\n",
    "custom_data = data[0:l1] + [str_terrain] + data[l2-9:]\n",
    "    \n",
    "print (custom_data[l2-9:])\n",
    "print(len(custom_data))\n"
   ]
  },
  {
   "cell_type": "code",
   "execution_count": null,
   "metadata": {
    "scrolled": true
   },
   "outputs": [],
   "source": [
    "terrain.shape"
   ]
  },
  {
   "cell_type": "code",
   "execution_count": null,
   "metadata": {},
   "outputs": [],
   "source": [
    "imshow(terrain)"
   ]
  },
  {
   "cell_type": "code",
   "execution_count": null,
   "metadata": {},
   "outputs": [],
   "source": [
    "np.save('querry.npy', terrain)"
   ]
  },
  {
   "cell_type": "code",
   "execution_count": null,
   "metadata": {
    "scrolled": false
   },
   "outputs": [],
   "source": [
    "import time\n",
    "with open(output_file_name,'w') as of:\n",
    "    for line in custom_data:\n",
    "#         print(line)\n",
    "#         time.sleep(0.2)\n",
    "        of.write(line)"
   ]
  },
  {
   "cell_type": "code",
   "execution_count": null,
   "metadata": {},
   "outputs": [],
   "source": [
    "blank = np.zeros((10,10))\n",
    "blank [0,1] = 1\n",
    "blank [0,2] = 2\n",
    "blank [0,3] = 3\n",
    "print (blank[0,:])\n",
    "print (blank[0,:].tolist())\n",
    "print (str(blank[0,:].tolist())[1:-1])\n",
    "#print (str(blank.tolist()))\n",
    "print(blank[:,])\n",
    "for li in blank[:,]:\n",
    "    print(li.tolist())"
   ]
  },
  {
   "cell_type": "code",
   "execution_count": 53,
   "metadata": {},
   "outputs": [],
   "source": [
    "def plot_terrain(terrain):\n",
    "    imgplot = imshow(terrain )\n",
    "    plt.colorbar()\n",
    "    plt.show()"
   ]
  },
  {
   "cell_type": "code",
   "execution_count": 75,
   "metadata": {},
   "outputs": [],
   "source": [
    "from tempfile import NamedTemporaryFile\n",
    "f = NamedTemporaryFile()"
   ]
  },
  {
   "cell_type": "code",
   "execution_count": 98,
   "metadata": {},
   "outputs": [],
   "source": [
    "class Image2Webots:\n",
    "    verbose = True\n",
    "    \n",
    "    def __call__(self, image, src_world, output_path, config):\n",
    "\n",
    "        if image.dtype == 'uint8':\n",
    "            image = image/256.\n",
    "        if image.dtype == 'uint16':\n",
    "            image = image/65536.\n",
    "        if image.dtype == 'uint32':\n",
    "            image = image/4294967296.\n",
    "\n",
    "        height = config['height']\n",
    "\n",
    "        terrain = image * height\n",
    "\n",
    "        if self.verbose: print ('mod image type: ', terrain.dtype, ' height factor: ', HEIGHT_FACTOR,' max val (m): ', np.amax(terrain), ' shape', terrain.shape)\n",
    "\n",
    "        if self.verbose: plot_terrain(terrain)\n",
    "\n",
    "        data = []\n",
    "        l1 = l2 = -1\n",
    "        with open(input_file_name) as f:\n",
    "            for i, line in enumerate(f):\n",
    "                data.append(line)\n",
    "                if line.find('      geometry DEF EL_GRID ElevationGrid {') != -1:\n",
    "                    l1 = i +1\n",
    "                if line.find('name \"terrain\"'):\n",
    "                    l2 = i\n",
    "\n",
    "        terrain_flatted = terrain.reshape((-1))\n",
    "        np.set_printoptions(threshold = terrain.shape[0] * terrain.shape[1]) # default\n",
    "\n",
    "        data[l2-9] = '        ]\\n'\n",
    "        data[l2-8] = '        xDimension ' + str(terrain.shape[0]) + '\\n'\n",
    "        data[l2-7] = '        xSpacing ' + str(RESOLUTION) + '\\n'\n",
    "        data[l2-6] = '        zDimension ' + str(terrain.shape[1]) + '\\n'\n",
    "        data[l2-5] = '        zSpacing ' + str(RESOLUTION) + '\\n } \\n'\n",
    "\n",
    "        start = time.time()\n",
    "        \n",
    "        f = NamedTemporaryFile(mode='w')\n",
    "        with open(f.name, 'w') as f:\n",
    "            for line in data[0:l1]: \n",
    "                f.write(line)\n",
    "            f.write(        'height [')\n",
    "        #       use .tofile since it is super fast!\n",
    "            terrain_flatted.tofile(f, sep=' ')\n",
    "\n",
    "            for line in data[l2-9:]: \n",
    "                f.write(line)\n",
    "\n",
    "        end = time.time()\n",
    "\n",
    "        if self.verbose: print('Wrote new world in {:.2f}s'.format((end - start)))\n",
    "\n",
    "        return f"
   ]
  },
  {
   "cell_type": "code",
   "execution_count": 101,
   "metadata": {
    "scrolled": false
   },
   "outputs": [
    {
     "name": "stdout",
     "output_type": "stream",
     "text": [
      "mod image type:  float64  height factor:  20  max val (m):  18.59375  shape (1600, 1600)\n"
     ]
    },
    {
     "data": {
      "image/png": "[encoded data removed]",
      "text/plain": [
       "<matplotlib.figure.Figure at 0x10ff6dcf8>"
      ]
     },
     "metadata": {},
     "output_type": "display_data"
    },
    {
     "name": "stdout",
     "output_type": "stream",
     "text": [
      "Wrote new world in 1.67s\n"
     ]
    },
    {
     "ename": "FileNotFoundError",
     "evalue": "[Errno 2] No such file or directory: '/var/folders/l3/rnv6k9b97bs5qbdrs5wvrpch0000gn/T/tmp1obcu4lp'",
     "output_type": "error",
     "traceback": [
      "\u001b[0;31m---------------------------------------------------------------------------\u001b[0m",
      "\u001b[0;31mFileNotFoundError\u001b[0m                         Traceback (most recent call last)",
      "\u001b[0;32m<ipython-input-101-e0b5b8087709>\u001b[0m in \u001b[0;36m<module>\u001b[0;34m()\u001b[0m\n\u001b[1;32m     11\u001b[0m \u001b[0mworld\u001b[0m \u001b[0;34m=\u001b[0m \u001b[0mimage2webots\u001b[0m\u001b[0;34m(\u001b[0m\u001b[0mimage\u001b[0m\u001b[0;34m,\u001b[0m \u001b[0mWORLD_PATH\u001b[0m\u001b[0;34m,\u001b[0m \u001b[0moutput_path\u001b[0m\u001b[0;34m,\u001b[0m \u001b[0mconfig\u001b[0m\u001b[0;34m)\u001b[0m\u001b[0;34m\u001b[0m\u001b[0m\n\u001b[1;32m     12\u001b[0m \u001b[0;34m\u001b[0m\u001b[0m\n\u001b[0;32m---> 13\u001b[0;31m \u001b[0;32mwith\u001b[0m \u001b[0mopen\u001b[0m\u001b[0;34m(\u001b[0m\u001b[0mworld\u001b[0m\u001b[0;34m.\u001b[0m\u001b[0mname\u001b[0m\u001b[0;34m,\u001b[0m \u001b[0;34m'r'\u001b[0m\u001b[0;34m)\u001b[0m \u001b[0;32mas\u001b[0m \u001b[0mf\u001b[0m\u001b[0;34m:\u001b[0m\u001b[0;34m\u001b[0m\u001b[0m\n\u001b[0m\u001b[1;32m     14\u001b[0m     \u001b[0mprint\u001b[0m\u001b[0;34m(\u001b[0m\u001b[0mf\u001b[0m\u001b[0;34m[\u001b[0m\u001b[0;36m0\u001b[0m\u001b[0;34m]\u001b[0m\u001b[0;34m)\u001b[0m\u001b[0;34m\u001b[0m\u001b[0m\n",
      "\u001b[0;31mFileNotFoundError\u001b[0m: [Errno 2] No such file or directory: '/var/folders/l3/rnv6k9b97bs5qbdrs5wvrpch0000gn/T/tmp1obcu4lp'"
     ]
    }
   ],
   "source": [
    "QUERRY_PATH = 'quarry_cropped4_scaled2cm.png'\n",
    "WORLD_PATH = \"./krock2_camera.wbt\"\n",
    "\n",
    "output_path = './test.wbt'\n",
    "config = { 'height' : 20 , 'resize': 2}\n",
    "\n",
    "image = cv2.imread(QUERRY_PATH)\n",
    "image = cv2.cvtColor(image, cv2.COLOR_BGR2GRAY)\n",
    "    \n",
    "image2webots = Image2Webots()\n",
    "world = image2webots(image, WORLD_PATH, output_path, config)\n",
    "\n",
    "with open(world.name, 'r') as f:\n",
    "    print(f[0])"
   ]
  },
  {
   "cell_type": "code",
   "execution_count": null,
   "metadata": {},
   "outputs": [],
   "source": []
  },
  {
   "cell_type": "code",
   "execution_count": null,
   "metadata": {},
   "outputs": [],
   "source": []
  }
 ],
 "metadata": {
  "kernelspec": {
   "display_name": "Python 3",
   "language": "python",
   "name": "python3"
  },
  "language_info": {
   "codemirror_mode": {
    "name": "ipython",
    "version": 3
   },
   "file_extension": ".py",
   "mimetype": "text/x-python",
   "name": "python",
   "nbconvert_exporter": "python",
   "pygments_lexer": "ipython3",
   "version": "3.6.6"
  }
 },
 "nbformat": 4,
 "nbformat_minor": 2
}
