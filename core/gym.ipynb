{
 "cells": [
  {
   "cell_type": "code",
   "execution_count": 42,
   "metadata": {},
   "outputs": [],
   "source": [
    "import rospy\n",
    "import time \n",
    "import numpy as np\n",
    "import gym\n",
    "\n",
    "from sensor_msgs.msg import Joy, Image\n",
    "from webots import WebotsWorld\n",
    "from webots.krock import Krock\n",
    "from os import path\n",
    "from gym import spaces"
   ]
  },
  {
   "cell_type": "code",
   "execution_count": 2,
   "metadata": {},
   "outputs": [],
   "source": [
    "rospy.init_node(\"traversability_simulation\")"
   ]
  },
  {
   "cell_type": "code",
   "execution_count": 3,
   "metadata": {},
   "outputs": [
    {
     "name": "stdout",
     "output_type": "stream",
     "text": [
      "/home/francesco/Documents/Master-Thesis/core/webots/krock/krock2_ros/worlds/krock2_camera.wbt\n"
     ]
    },
    {
     "name": "stderr",
     "output_type": "stream",
     "text": [
      "[WARN] [1541795353.079798]: /krock/supervisor/get_self transport error completing service call: unable to receive data from sender, check sender's logs for details\n"
     ]
    }
   ],
   "source": [
    "w = WebotsWorld.from_file(path.abspath('/home/francesco/Documents/Master-Thesis/core/webots/krock/krock2_ros/worlds/krock2_camera.wbt'))\n",
    "\n",
    "w()"
   ]
  },
  {
   "cell_type": "code",
   "execution_count": 4,
   "metadata": {},
   "outputs": [],
   "source": [
    "k = Krock(rate=rospy.Rate(hz=10))"
   ]
  },
  {
   "cell_type": "code",
   "execution_count": 5,
   "metadata": {
    "scrolled": true
   },
   "outputs": [],
   "source": [
    "k(w)"
   ]
  },
  {
   "cell_type": "code",
   "execution_count": 51,
   "metadata": {},
   "outputs": [
    {
     "name": "stdout",
     "output_type": "stream",
     "text": [
      "Dict(frontal_freq:Box(), lateral_freq:Box())\n"
     ]
    },
    {
     "data": {
      "text/plain": [
       "OrderedDict([('frontal_freq', array(0.20552675)),\n",
       "             ('lateral_freq', array(0.08976637))])"
      ]
     },
     "execution_count": 51,
     "metadata": {},
     "output_type": "execute_result"
    }
   ],
   "source": [
    "actions = spaces.Dict({ \n",
    "    'frontal_freq': spaces.Box(low=-1.0, high=1.0, shape=(), dtype=np.float),\n",
    "    'lateral_freq': spaces.Box(low=-1.0, high=1.0, shape=(), dtype=np.float) \n",
    "})\n",
    "\n",
    "actions.sample()"
   ]
  },
  {
   "cell_type": "code",
   "execution_count": 60,
   "metadata": {},
   "outputs": [
    {
     "name": "stdout",
     "output_type": "stream",
     "text": [
      "\u001b[33mWARN: gym.spaces.Box autodetected dtype as <class 'numpy.float32'>. Please provide explicit dtype.\u001b[0m\n",
      "\u001b[33mWARN: gym.spaces.Box autodetected dtype as <class 'numpy.float32'>. Please provide explicit dtype.\u001b[0m\n",
      "\u001b[33mWARN: gym.spaces.Box autodetected dtype as <class 'numpy.float32'>. Please provide explicit dtype.\u001b[0m\n",
      "\u001b[33mWARN: gym.spaces.Box autodetected dtype as <class 'numpy.float32'>. Please provide explicit dtype.\u001b[0m\n"
     ]
    },
    {
     "data": {
      "text/plain": [
       "Dict(sensors:Dict(front_cam:Tuple(Box(600, 800, 3), Box(600, 800, 3)), position:Box(3,), velocity:Box(3,)))"
      ]
     },
     "execution_count": 60,
     "metadata": {},
     "output_type": "execute_result"
    }
   ],
   "source": [
    "observation_space = spaces.Dict({\n",
    "     'sensors':  spaces.Dict({\n",
    "            'position': spaces.Box(low=-5, high=5, shape=(3,)),\n",
    "            'velocity': spaces.Box(low=-1, high=1, shape=(3,)),\n",
    "            'front_cam': spaces.Tuple((\n",
    "                spaces.Box(low=0, high=1, shape=(600, 800, 3)),\n",
    "                spaces.Box(low=0, high=1, shape=(600, 800, 3))\n",
    "            )),\n",
    "    })\n",
    "})\n",
    "\n",
    "observation_space"
   ]
  },
  {
   "cell_type": "code",
   "execution_count": 39,
   "metadata": {},
   "outputs": [],
   "source": [
    "k.move(gait=1,\n",
    "                  frontal_freq=-2,\n",
    "                  lateral_freq=0,\n",
    "                  manual_mode=True)"
   ]
  },
  {
   "cell_type": "code",
   "execution_count": 55,
   "metadata": {},
   "outputs": [
    {
     "name": "stdout",
     "output_type": "stream",
     "text": [
      "shutdown request: new node registered with same name\n"
     ]
    }
   ],
   "source": [
    "k.stop()"
   ]
  },
  {
   "cell_type": "code",
   "execution_count": 54,
   "metadata": {},
   "outputs": [],
   "source": [
    "for _ in range(100):\n",
    "    random_actions = actions.sample()\n",
    "    k.move(gait=1,\n",
    "           frontal_freq=random_actions['frontal_freq'], \n",
    "           lateral_freq=random_actions['lateral_freq'], \n",
    "           manual_mode=True)\n",
    "    k.sleep()"
   ]
  },
  {
   "cell_type": "code",
   "execution_count": null,
   "metadata": {
    "scrolled": false
   },
   "outputs": [],
   "source": [
    "d = np.zeros(3)\n",
    "\n",
    "p = k.state['pose'].pose.position\n",
    "\n",
    "d += [p.x, p.y, p.z]\n",
    "\n",
    "for i in range(100):\n",
    "    k.move(1,1,0)\n",
    "    k.sleep()\n",
    "    k.stop()\n",
    "    \n",
    "    p = k.state['pose'].pose.position\n",
    "\n",
    "d = [p.x, p.y, p.z] - d\n",
    "    \n",
    "print(d)"
   ]
  },
  {
   "cell_type": "code",
   "execution_count": null,
   "metadata": {},
   "outputs": [],
   "source": []
  }
 ],
 "metadata": {
  "kernelspec": {
   "display_name": "Python 3",
   "language": "python",
   "name": "python3"
  },
  "language_info": {
   "codemirror_mode": {
    "name": "ipython",
    "version": 3
   },
   "file_extension": ".py",
   "mimetype": "text/x-python",
   "name": "python",
   "nbconvert_exporter": "python",
   "pygments_lexer": "ipython3",
   "version": "3.6.6"
  }
 },
 "nbformat": 4,
 "nbformat_minor": 2
}
