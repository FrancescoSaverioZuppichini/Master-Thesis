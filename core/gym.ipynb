{
 "cells": [
  {
   "cell_type": "code",
   "execution_count": 1,
   "metadata": {},
   "outputs": [],
   "source": [
    "import rospy\n",
    "import time \n",
    "import numpy as np\n",
    "import gym\n",
    "\n",
    "from sensor_msgs.msg import Joy, Image\n",
    "from webots import WebotsWorld\n",
    "from webots.krock import Krock\n",
    "from os import path\n",
    "from gym import spaces"
   ]
  },
  {
   "cell_type": "code",
   "execution_count": 52,
   "metadata": {},
   "outputs": [],
   "source": [
    "h = np.array([])"
   ]
  },
  {
   "cell_type": "code",
   "execution_count": 56,
   "metadata": {
    "scrolled": true
   },
   "outputs": [
    {
     "data": {
      "text/plain": [
       "2.0"
      ]
     },
     "execution_count": 56,
     "metadata": {},
     "output_type": "execute_result"
    }
   ],
   "source": [
    "h = np.append(h, np.array([[1,2]]))\n",
    "h = np.append(h, np.array([[1,2]]))\n",
    "\n",
    "h[-1]"
   ]
  },
  {
   "cell_type": "code",
   "execution_count": 11,
   "metadata": {},
   "outputs": [],
   "source": [
    "h = np.array([[2.9,3,3,3.01,3.01,3.01], [2.9,3,3,3.01,3.01,3.01]])"
   ]
  },
  {
   "cell_type": "code",
   "execution_count": 61,
   "metadata": {},
   "outputs": [
    {
     "data": {
      "text/plain": [
       "False"
      ]
     },
     "execution_count": 61,
     "metadata": {},
     "output_type": "execute_result"
    }
   ],
   "source": [
    "(np.array([1,2]) <= 0).any()"
   ]
  },
  {
   "cell_type": "code",
   "execution_count": 63,
   "metadata": {},
   "outputs": [
    {
     "ename": "AttributeError",
     "evalue": "'numpy.ndarray' object has no attribute 'diff'",
     "output_type": "error",
     "traceback": [
      "\u001b[0;31m---------------------------------------------------------------------------\u001b[0m",
      "\u001b[0;31mAttributeError\u001b[0m                            Traceback (most recent call last)",
      "\u001b[0;32m<ipython-input-63-e9c6ddc09a65>\u001b[0m in \u001b[0;36m<module>\u001b[0;34m\u001b[0m\n\u001b[0;32m----> 1\u001b[0;31m \u001b[0mh\u001b[0m\u001b[0;34m.\u001b[0m\u001b[0mdiff\u001b[0m\u001b[0;34m(\u001b[0m\u001b[0;34m)\u001b[0m\u001b[0;34m\u001b[0m\u001b[0m\n\u001b[0m",
      "\u001b[0;31mAttributeError\u001b[0m: 'numpy.ndarray' object has no attribute 'diff'"
     ]
    }
   ],
   "source": [
    "h.diff()"
   ]
  },
  {
   "cell_type": "code",
   "execution_count": 2,
   "metadata": {},
   "outputs": [],
   "source": [
    "rospy.init_node(\"traversability_simulation\")"
   ]
  },
  {
   "cell_type": "code",
   "execution_count": 3,
   "metadata": {
    "scrolled": true
   },
   "outputs": [
    {
     "name": "stdout",
     "output_type": "stream",
     "text": [
      "/home/francesco/Documents/Master-Thesis/core/webots/krock/krock2_ros/worlds/krock2_camera.wbt\n"
     ]
    },
    {
     "name": "stderr",
     "output_type": "stream",
     "text": [
      "[WARN] [1541926682.046950]: /krock/supervisor/get_self transport error completing service call: unable to receive data from sender, check sender's logs for details\n"
     ]
    }
   ],
   "source": [
    "w = WebotsWorld.from_file(path.abspath('/home/francesco/Documents/Master-Thesis/core/webots/krock/krock2_ros/worlds/krock2_camera.wbt'))\n",
    "\n",
    "w()"
   ]
  },
  {
   "cell_type": "code",
   "execution_count": 4,
   "metadata": {},
   "outputs": [],
   "source": [
    "k = Krock(rate=rospy.Rate(hz=10))"
   ]
  },
  {
   "cell_type": "code",
   "execution_count": 5,
   "metadata": {
    "scrolled": true
   },
   "outputs": [],
   "source": [
    "k(w)"
   ]
  },
  {
   "cell_type": "code",
   "execution_count": 6,
   "metadata": {},
   "outputs": [
    {
     "data": {
      "text/plain": [
       "OrderedDict([('frontal_freq', array(0.09762701)),\n",
       "             ('lateral_freq', array(0.43037873))])"
      ]
     },
     "execution_count": 6,
     "metadata": {},
     "output_type": "execute_result"
    }
   ],
   "source": [
    "actions = spaces.Dict({ \n",
    "    'frontal_freq': spaces.Box(low=-1.0, high=1.0, shape=(), dtype=np.float),\n",
    "    'lateral_freq': spaces.Box(low=-1.0, high=1.0, shape=(), dtype=np.float) \n",
    "})\n",
    "\n",
    "actions.sample()"
   ]
  },
  {
   "cell_type": "code",
   "execution_count": 7,
   "metadata": {},
   "outputs": [
    {
     "name": "stdout",
     "output_type": "stream",
     "text": [
      "\u001b[33mWARN: gym.spaces.Box autodetected dtype as <class 'numpy.float32'>. Please provide explicit dtype.\u001b[0m\n",
      "\u001b[33mWARN: gym.spaces.Box autodetected dtype as <class 'numpy.float32'>. Please provide explicit dtype.\u001b[0m\n",
      "\u001b[33mWARN: gym.spaces.Box autodetected dtype as <class 'numpy.float32'>. Please provide explicit dtype.\u001b[0m\n",
      "\u001b[33mWARN: gym.spaces.Box autodetected dtype as <class 'numpy.float32'>. Please provide explicit dtype.\u001b[0m\n"
     ]
    },
    {
     "data": {
      "text/plain": [
       "Dict(sensors:Dict(front_cam:Tuple(Box(600, 800, 3), Box(600, 800, 3)), position:Box(3,), velocity:Box(3,)))"
      ]
     },
     "execution_count": 7,
     "metadata": {},
     "output_type": "execute_result"
    }
   ],
   "source": [
    "observation_space = spaces.Dict({\n",
    "     'sensors':  spaces.Dict({\n",
    "            'position': spaces.Box(low=-5, high=5, shape=(3,)),\n",
    "            'velocity': spaces.Box(low=-1, high=1, shape=(3,)),\n",
    "            'front_cam': spaces.Tuple((\n",
    "                spaces.Box(low=0, high=1, shape=(600, 800, 3)),\n",
    "                spaces.Box(low=0, high=1, shape=(600, 800, 3))\n",
    "            )),\n",
    "    })\n",
    "})\n",
    "\n",
    "observation_space"
   ]
  },
  {
   "cell_type": "code",
   "execution_count": 9,
   "metadata": {},
   "outputs": [],
   "source": [
    "k.move(gait=1,\n",
    "                  frontal_freq=-2,\n",
    "                  lateral_freq=0,\n",
    "                  manual_mode=True)"
   ]
  },
  {
   "cell_type": "code",
   "execution_count": 10,
   "metadata": {},
   "outputs": [],
   "source": [
    "k.stop()"
   ]
  },
  {
   "cell_type": "code",
   "execution_count": 10,
   "metadata": {},
   "outputs": [],
   "source": [
    "for _ in range(100):\n",
    "    random_actions = actions.sample()\n",
    "    k.move(gait=1,\n",
    "           frontal_freq=random_actions['frontal_freq'], \n",
    "           lateral_freq=random_actions['lateral_freq'], \n",
    "           manual_mode=True)\n",
    "    k.sleep()"
   ]
  },
  {
   "cell_type": "code",
   "execution_count": 12,
   "metadata": {
    "scrolled": false
   },
   "outputs": [
    {
     "name": "stdout",
     "output_type": "stream",
     "text": [
      "[0.90564576 0.81774042 0.03148299]\n"
     ]
    }
   ],
   "source": [
    "d = np.zeros(3)\n",
    "\n",
    "p = k.state['pose'].pose.position\n",
    "\n",
    "d += [p.x, p.y, p.z]\n",
    "\n",
    "for i in range(100):\n",
    "    k.move(1,1,0)\n",
    "    k.sleep()\n",
    "    k.stop()\n",
    "    \n",
    "    p = k.state['pose'].pose.position\n",
    "\n",
    "d = [p.x, p.y, p.z] - d\n",
    "    \n",
    "print(d)"
   ]
  },
  {
   "cell_type": "code",
   "execution_count": null,
   "metadata": {},
   "outputs": [],
   "source": [
    "from webots import WebotsWorld"
   ]
  },
  {
   "cell_type": "code",
   "execution_count": 11,
   "metadata": {},
   "outputs": [
    {
     "ename": "SyntaxError",
     "evalue": "unexpected EOF while parsing (<ipython-input-11-277914b62380>, line 11)",
     "output_type": "error",
     "traceback": [
      "\u001b[0;36m  File \u001b[0;32m\"<ipython-input-11-277914b62380>\"\u001b[0;36m, line \u001b[0;32m11\u001b[0m\n\u001b[0;31m    \u001b[0m\n\u001b[0m    ^\u001b[0m\n\u001b[0;31mSyntaxError\u001b[0m\u001b[0;31m:\u001b[0m unexpected EOF while parsing\n"
     ]
    },
    {
     "name": "stdout",
     "output_type": "stream",
     "text": [
      "shutdown request: new node registered with same name\n"
     ]
    }
   ],
   "source": [
    "class KrockWebotsEnv(gym.Env):\n",
    "    def __init__(self):\n",
    "        self.w = WebotsWorld()\n",
    "        self.krock = Krock()\n",
    "        self.actions =  = spaces.Dict({ \n",
    "            'frontal_freq': spaces.Box(low=-1.0, high=1.0, shape=(), dtype=np.float),\n",
    "            'lateral_freq': spaces.Box(low=-1.0, high=1.0, shape=(), dtype=np.float) \n",
    "            })\n",
    "        self.observation_space = spaces.Dict({\n",
    "                 'sensors':  spaces.Dict({\n",
    "                        'position': spaces.Box(low=-5, high=5, shape=(3,)),\n",
    "                        'velocity': spaces.Box(low=-1, high=1, shape=(3,)),\n",
    "                        'front_cam': spaces.Tuple((\n",
    "                            spaces.Box(low=0, high=1, shape=(600, 800, 3)),\n",
    "                            spaces.Box(low=0, high=1, shape=(600, 800, 3))\n",
    "                        )),\n",
    "                })\n",
    "            })\n",
    "\n",
    "    def reset(self):\n",
    "        self.w()\n",
    "        self.krock()\n",
    "        \n",
    "    def step(self, action):\n",
    "        k.move(gait=1,\n",
    "           frontal_freq=action['frontal_freq'], \n",
    "           lateral_freq=action['lateral_freq'], \n",
    "           manual_mode=True)\n",
    "        k.sleep()\n",
    "        k.stop()\n",
    "        \n",
    "        pose = k.state['pose'].pose.position\n",
    "        front_cam = k.state['frontal_camera']"
   ]
  },
  {
   "cell_type": "code",
   "execution_count": null,
   "metadata": {},
   "outputs": [],
   "source": []
  }
 ],
 "metadata": {
  "kernelspec": {
   "display_name": "Python 3",
   "language": "python",
   "name": "python3"
  },
  "language_info": {
   "codemirror_mode": {
    "name": "ipython",
    "version": 3
   },
   "file_extension": ".py",
   "mimetype": "text/x-python",
   "name": "python",
   "nbconvert_exporter": "python",
   "pygments_lexer": "ipython3",
   "version": "3.6.6"
  }
 },
 "nbformat": 4,
 "nbformat_minor": 2
}
