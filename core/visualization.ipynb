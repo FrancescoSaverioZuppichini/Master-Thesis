{
 "cells": [
  {
   "cell_type": "code",
   "execution_count": 38,
   "metadata": {},
   "outputs": [],
   "source": [
    "import numpy as np\n",
    "import pandas as pd\n",
    "import ipywidgets as widgets\n",
    "\n",
    "from ipywidgets import interact, interactive, fixed, interact_manual\n",
    "from utilities.visualisation import *"
   ]
  },
  {
   "cell_type": "code",
   "execution_count": 39,
   "metadata": {
    "scrolled": false
   },
   "outputs": [
    {
     "name": "stdout",
     "output_type": "stream",
     "text": [
      "The autoreload extension is already loaded. To reload it, use:\n",
      "  %reload_ext autoreload\n"
     ]
    },
    {
     "name": "stderr",
     "output_type": "stream",
     "text": [
      "Traceback (most recent call last):\n",
      "  File \"/home/francesco/.local/lib/python3.6/site-packages/matplotlib/cbook/__init__.py\", line 215, in process\n",
      "    func(*args, **kwargs)\n",
      "  File \"/home/francesco/.local/lib/python3.6/site-packages/matplotlib/backends/backend_nbagg.py\", line 236, in <lambda>\n",
      "    canvas.mpl_connect('close_event', lambda event: Gcf.destroy(num))\n",
      "  File \"/home/francesco/.local/lib/python3.6/site-packages/matplotlib/_pylab_helpers.py\", line 54, in destroy\n",
      "    cls._activeQue.remove(manager)\n",
      "ValueError: list.remove(x): x not in list\n",
      "Traceback (most recent call last):\n",
      "  File \"/home/francesco/.local/lib/python3.6/site-packages/matplotlib/cbook/__init__.py\", line 215, in process\n",
      "    func(*args, **kwargs)\n",
      "  File \"/home/francesco/.local/lib/python3.6/site-packages/matplotlib/backends/backend_nbagg.py\", line 236, in <lambda>\n",
      "    canvas.mpl_connect('close_event', lambda event: Gcf.destroy(num))\n",
      "  File \"/home/francesco/.local/lib/python3.6/site-packages/matplotlib/_pylab_helpers.py\", line 54, in destroy\n",
      "    cls._activeQue.remove(manager)\n",
      "ValueError: list.remove(x): x not in list\n",
      "Traceback (most recent call last):\n",
      "  File \"/home/francesco/.local/lib/python3.6/site-packages/matplotlib/cbook/__init__.py\", line 215, in process\n",
      "    func(*args, **kwargs)\n",
      "  File \"/home/francesco/.local/lib/python3.6/site-packages/matplotlib/backends/backend_nbagg.py\", line 236, in <lambda>\n",
      "    canvas.mpl_connect('close_event', lambda event: Gcf.destroy(num))\n",
      "  File \"/home/francesco/.local/lib/python3.6/site-packages/matplotlib/_pylab_helpers.py\", line 54, in destroy\n",
      "    cls._activeQue.remove(manager)\n",
      "ValueError: list.remove(x): x not in list\n",
      "Traceback (most recent call last):\n",
      "  File \"/home/francesco/.local/lib/python3.6/site-packages/matplotlib/cbook/__init__.py\", line 215, in process\n",
      "    func(*args, **kwargs)\n",
      "  File \"/home/francesco/.local/lib/python3.6/site-packages/matplotlib/backends/backend_nbagg.py\", line 236, in <lambda>\n",
      "    canvas.mpl_connect('close_event', lambda event: Gcf.destroy(num))\n",
      "  File \"/home/francesco/.local/lib/python3.6/site-packages/matplotlib/_pylab_helpers.py\", line 54, in destroy\n",
      "    cls._activeQue.remove(manager)\n",
      "ValueError: list.remove(x): x not in list\n",
      "Traceback (most recent call last):\n",
      "  File \"/home/francesco/.local/lib/python3.6/site-packages/matplotlib/cbook/__init__.py\", line 215, in process\n",
      "    func(*args, **kwargs)\n",
      "  File \"/home/francesco/.local/lib/python3.6/site-packages/matplotlib/backends/backend_nbagg.py\", line 236, in <lambda>\n",
      "    canvas.mpl_connect('close_event', lambda event: Gcf.destroy(num))\n",
      "  File \"/home/francesco/.local/lib/python3.6/site-packages/matplotlib/_pylab_helpers.py\", line 54, in destroy\n",
      "    cls._activeQue.remove(manager)\n",
      "ValueError: list.remove(x): x not in list\n",
      "Traceback (most recent call last):\n",
      "  File \"/home/francesco/.local/lib/python3.6/site-packages/matplotlib/cbook/__init__.py\", line 215, in process\n",
      "    func(*args, **kwargs)\n",
      "  File \"/home/francesco/.local/lib/python3.6/site-packages/matplotlib/backends/backend_nbagg.py\", line 236, in <lambda>\n",
      "    canvas.mpl_connect('close_event', lambda event: Gcf.destroy(num))\n",
      "  File \"/home/francesco/.local/lib/python3.6/site-packages/matplotlib/_pylab_helpers.py\", line 54, in destroy\n",
      "    cls._activeQue.remove(manager)\n",
      "ValueError: list.remove(x): x not in list\n",
      "Traceback (most recent call last):\n",
      "  File \"/home/francesco/.local/lib/python3.6/site-packages/matplotlib/cbook/__init__.py\", line 215, in process\n",
      "    func(*args, **kwargs)\n",
      "  File \"/home/francesco/.local/lib/python3.6/site-packages/matplotlib/backends/backend_nbagg.py\", line 236, in <lambda>\n",
      "    canvas.mpl_connect('close_event', lambda event: Gcf.destroy(num))\n",
      "  File \"/home/francesco/.local/lib/python3.6/site-packages/matplotlib/_pylab_helpers.py\", line 54, in destroy\n",
      "    cls._activeQue.remove(manager)\n",
      "ValueError: list.remove(x): x not in list\n",
      "Traceback (most recent call last):\n",
      "  File \"/home/francesco/.local/lib/python3.6/site-packages/matplotlib/cbook/__init__.py\", line 215, in process\n",
      "    func(*args, **kwargs)\n",
      "  File \"/home/francesco/.local/lib/python3.6/site-packages/matplotlib/backends/backend_nbagg.py\", line 236, in <lambda>\n",
      "    canvas.mpl_connect('close_event', lambda event: Gcf.destroy(num))\n",
      "  File \"/home/francesco/.local/lib/python3.6/site-packages/matplotlib/_pylab_helpers.py\", line 54, in destroy\n",
      "    cls._activeQue.remove(manager)\n",
      "ValueError: list.remove(x): x not in list\n",
      "Traceback (most recent call last):\n",
      "  File \"/home/francesco/.local/lib/python3.6/site-packages/matplotlib/cbook/__init__.py\", line 215, in process\n",
      "    func(*args, **kwargs)\n",
      "  File \"/home/francesco/.local/lib/python3.6/site-packages/matplotlib/backends/backend_nbagg.py\", line 236, in <lambda>\n",
      "    canvas.mpl_connect('close_event', lambda event: Gcf.destroy(num))\n",
      "  File \"/home/francesco/.local/lib/python3.6/site-packages/matplotlib/_pylab_helpers.py\", line 54, in destroy\n",
      "    cls._activeQue.remove(manager)\n",
      "ValueError: list.remove(x): x not in list\n"
     ]
    }
   ],
   "source": [
    "%matplotlib notebook\n",
    "%load_ext autoreload\n",
    "%autoreload 2"
   ]
  },
  {
   "cell_type": "code",
   "execution_count": 40,
   "metadata": {
    "scrolled": true
   },
   "outputs": [
    {
     "data": {
      "text/html": [
       "<style>\n",
       "\n",
       "div.output_scroll {\n",
       "    height : auto;\n",
       "}\n",
       "</style>\n"
      ],
      "text/plain": [
       "<IPython.core.display.HTML object>"
      ]
     },
     "metadata": {},
     "output_type": "display_data"
    }
   ],
   "source": [
    "%%html\n",
    "<style>\n",
    "\n",
    "div.output_scroll {\n",
    "    height : auto;\n",
    "}\n",
    "</style>"
   ]
  },
  {
   "cell_type": "code",
   "execution_count": null,
   "metadata": {},
   "outputs": [],
   "source": [
    "trs = [0.2, 0.3, 0.4, 0.5]\n",
    "ts = [100,150]"
   ]
  },
  {
   "cell_type": "markdown",
   "metadata": {},
   "source": [
    "# Select threshold\n",
    "## Ramps"
   ]
  },
  {
   "cell_type": "code",
   "execution_count": 13,
   "metadata": {},
   "outputs": [],
   "source": [
    "out_dir = '/home/francesco/Documents/Master-Thesis/papers/Thesis/img/select-tr'\n",
    "from jupyterthemes import jtplot\n",
    "jtplot.reset()\n",
    "\n",
    "plt.style.use(['science', 'ieee'])\n",
    "# get_ipython().config.get('IPKernelApp', {})['parent_appname'] = \"\""
   ]
  },
  {
   "cell_type": "code",
   "execution_count": null,
   "metadata": {},
   "outputs": [],
   "source": [
    "??DataFrameVisualization"
   ]
  },
  {
   "cell_type": "code",
   "execution_count": null,
   "metadata": {
    "scrolled": true
   },
   "outputs": [],
   "source": [
    "def vis_int(t):\n",
    "    vis = DataFrameVisualization.from_path('/media/francesco/saetta/krock-dataset/slope/csvs/test.csv', time_window=t)\n",
    "    fig = vis.plot_advancement_box()\n",
    "    plt.show()\n",
    "#     plt.gcf().savefig(out_dir + '/slope-box{}.png'.format(t))\n",
    "interact(vis_int, t=ts)"
   ]
  },
  {
   "cell_type": "markdown",
   "metadata": {},
   "source": [
    "## Bumps"
   ]
  },
  {
   "cell_type": "code",
   "execution_count": null,
   "metadata": {},
   "outputs": [],
   "source": [
    "def vis_int(t):\n",
    "    vis = DataFrameVisualization.from_path('/media/francesco/saetta/krock-dataset/tr/csvs/test.csv', time_window=t)\n",
    "    fig = vis.plot_advancement_box()\n",
    "    plt.gcf().savefig(out_dir + '/bumps-box{}.png'.format(t))\n",
    "\n",
    "interact(vis_int, t=ts)"
   ]
  },
  {
   "cell_type": "markdown",
   "metadata": {},
   "source": [
    "# Datasets\n",
    "## Statistics"
   ]
  },
  {
   "cell_type": "code",
   "execution_count": null,
   "metadata": {},
   "outputs": [],
   "source": [
    "visualizations = {\n",
    "    'train': DataFrameVisualization.from_root('/media/francesco/saetta/krock-dataset/train/csvs/'),\n",
    "    'val': DataFrameVisualization.from_root('/media/francesco/saetta/krock-dataset/val/csvs/'),\n",
    "#     'test': DataFrameVisualization.from_root('/media/francesco/saetta/krock-dataset/test/csvs/'),\n",
    "    'new-test-random': DataFrameVisualization.from_root('/media/francesco/saetta/krock-dataset/new-test-random/csvs/'),\n",
    "   'train-with-rock': DataFrameVisualization.from_root('/media/francesco/saetta/krock-dataset/train-with-rocks'),\n",
    "#     'new-val': DataFrameVisualization.from_root('/media/francesco/saetta/krock-dataset/new-val/csvs/'),\n",
    "\n",
    "\n",
    "\n",
    "}"
   ]
  },
  {
   "cell_type": "code",
   "execution_count": null,
   "metadata": {},
   "outputs": [],
   "source": [
    "def vis_dataset(name, tr, t):\n",
    "    vis = visualizations[name]\n",
    "    vis.add_advancement(t)\n",
    "#     vis.df = vis.df[vis.df['advancement'] >= -0.35]\n",
    "    vis.df = vis.df[vis.df['advancement'] < 0.75]\n",
    "    fig = vis.show_classes(tr)\n",
    "    plt.show()\n",
    "interact(vis_dataset, name=visualizations.keys(), tr=trs, t=ts)"
   ]
  },
  {
   "cell_type": "markdown",
   "metadata": {},
   "source": [
    "## Different maps\n",
    "We can explore the advancament on different training maps"
   ]
  },
  {
   "cell_type": "markdown",
   "metadata": {},
   "source": [
    "### Mean advancement for each map"
   ]
  },
  {
   "cell_type": "code",
   "execution_count": 41,
   "metadata": {},
   "outputs": [],
   "source": [
    "%matplotlib notebook\n",
    "from jupyterthemes import jtplot\n",
    "jtplot.reset()"
   ]
  },
  {
   "cell_type": "code",
   "execution_count": 42,
   "metadata": {},
   "outputs": [],
   "source": [
    "# merge all the dataframes in each map\n",
    "clusters = meta2clusters('/media/francesco/saetta/krock-dataset/train/meta.csv', '/media/francesco/saetta/krock-dataset/train/csvs_patches/')"
   ]
  },
  {
   "cell_type": "code",
   "execution_count": 51,
   "metadata": {},
   "outputs": [],
   "source": [
    "adv_for_each_map = { k: df['advancement'] for k, df in clusters.items()}"
   ]
  },
  {
   "cell_type": "code",
   "execution_count": 52,
   "metadata": {},
   "outputs": [],
   "source": [
    "adv_for_each_map = sorted(adv_for_each_map.items(), key=lambda kv: kv[1].mean(), reverse=False)\n",
    "\n",
    "import collections\n",
    "\n",
    "adv_for_each_map = collections.OrderedDict(adv_for_each_map)"
   ]
  },
  {
   "cell_type": "code",
   "execution_count": 55,
   "metadata": {
    "scrolled": false
   },
   "outputs": [],
   "source": [
    "mean_adv_df = pd.DataFrame(data = adv_for_each_map)\n",
    "mean_adv_df.dropna()\n",
    "mean_adv_df = mean_adv_df[mean_adv_df >= -0.71]\n",
    "mean_adv_df=  mean_adv_df[mean_adv_df < 0.71]\n",
    "\n",
    "# mean_adv_df.plot.bar(x='maps', y='means')\n",
    "fig = plt.figure(dpi=800, figsize=(16,8))\n",
    "_ = mean_adv_df.boxplot(rot=90)\n",
    "fig.savefig('/home/francesco/Documents/Master-Thesis/papers/Thesis/img/datasets/box_for_each_map.png', bbox_inches='tight', transparent=True)\n",
    "# plt.show()\n"
   ]
  },
  {
   "cell_type": "code",
   "execution_count": null,
   "metadata": {},
   "outputs": [],
   "source": [
    "list(mean_adv_df.columns)"
   ]
  },
  {
   "cell_type": "code",
   "execution_count": null,
   "metadata": {
    "scrolled": false
   },
   "outputs": [],
   "source": [
    "def vis_clusters(name, tr, t):\n",
    "    vis = DataFrameVisualization(clusters[name], time_window=t)\n",
    "    vis.df = vis.df[vis.df['advancement'] >= 0]\n",
    "    vis.df = vis.df[vis.df['advancement'] < 1]\n",
    "\n",
    "    vis.plot_advancement_box()\n",
    "    vis.show_classes(tr)\n",
    "\n",
    "interact(vis_clusters, name=clusters.keys(), tr=trs, t=ts)"
   ]
  },
  {
   "cell_type": "code",
   "execution_count": null,
   "metadata": {
    "scrolled": true
   },
   "outputs": [],
   "source": [
    "def vis_dataset(name, tr, t):\n",
    "    vis = DataFrameVisualization.from_root('/media/francesco/saetta/krock-dataset/{}/csvs/'.format(name), time_window=t)\n",
    "    vis.df = vis.df[vis.df['advancement'] >= 0]\n",
    "    vis.df = vis.df[vis.df['advancement'] < 1]\n",
    "\n",
    "    vis.plot_advancement_box()\n",
    "    vis.show_classes(tr)\n",
    "\n",
    "interact(vis_dataset, name=visualizations.keys(), tr=trs, t=ts)"
   ]
  },
  {
   "cell_type": "markdown",
   "metadata": {},
   "source": [
    "# Maximum advancement on flat ground"
   ]
  },
  {
   "cell_type": "code",
   "execution_count": null,
   "metadata": {},
   "outputs": [],
   "source": [
    "def vis_dataset(t):\n",
    "    vis = DataFrameVisualization.from_root('/media/francesco/saetta/flat/csvs_patches/',  time_window=t)\n",
    "    print(max(vis.df['advancement']))\n",
    "    vis.plot_advancement_box()\n",
    "\n",
    "\n",
    "interact(vis_dataset, t=ts)"
   ]
  },
  {
   "cell_type": "markdown",
   "metadata": {},
   "source": [
    "# Temp\n",
    "use to visualize on the fly some dataset"
   ]
  },
  {
   "cell_type": "code",
   "execution_count": null,
   "metadata": {},
   "outputs": [],
   "source": [
    "vis = DataFrameVisualization.from_root('/media/francesco/saetta/krock-dataset/new-val/csvs', time_window=100)\n",
    "# vis(0.3)\n",
    "vis.df['label'] = vis.df['advancement'] > 0.3\n",
    "vis.df = vis.df[vis.df['label'] == False]\n",
    "\n",
    "vis(0.3)"
   ]
  },
  {
   "cell_type": "code",
   "execution_count": null,
   "metadata": {},
   "outputs": [],
   "source": [
    "\n",
    "vis = PatchesAndDataframeVisualization.from_df_path_and_hm_path('/media/francesco/saetta/krock-dataset/new-val/csvs/arc_rocks-1-1558626838.6769319.csv', \n",
    "                                                 './maps/val/arc_rocks.png',\n",
    "                                                 max_advancement=0.71,\n",
    "                                                 time_window=100)\n",
    "vis.show_traces([vis.df])\n",
    "vis(0.2)"
   ]
  },
  {
   "cell_type": "code",
   "execution_count": null,
   "metadata": {},
   "outputs": [],
   "source": [
    "    vis = DataFrameVisualization.from_root('/media/francesco/saetta/krock-dataset/new-val/csvs/', time_window=100)\n",
    "    vis(0.2)\n"
   ]
  },
  {
   "cell_type": "code",
   "execution_count": null,
   "metadata": {},
   "outputs": [],
   "source": [
    "import seaborn as sns\n",
    "import matplotlib.pyplot as plt\n",
    "from utilities.postprocessing.handlers.functional import read_image"
   ]
  },
  {
   "cell_type": "code",
   "execution_count": null,
   "metadata": {
    "scrolled": true
   },
   "outputs": [],
   "source": [
    "fig = plt.figure()\n",
    "hm = read_image('/media/francesco/saetta/krock-dataset/new-test-random/patches/0.71/querry-big-10-10-1558293308.877082-13.png')\n",
    "sns.heatmap(hm)"
   ]
  },
  {
   "cell_type": "code",
   "execution_count": null,
   "metadata": {
    "scrolled": true
   },
   "outputs": [],
   "source": [
    "from utilities.patches import *\n",
    "import cv2 \n",
    "\n",
    "fig = plt.figure()\n",
    "hm = read_image('/media/francesco/saetta/krock-dataset/train/patches/0.71/bumps0-2-1558007105.485-277.png')\n",
    "sns.heatmap(hm)"
   ]
  },
  {
   "cell_type": "code",
   "execution_count": null,
   "metadata": {
    "scrolled": false
   },
   "outputs": [],
   "source": [
    "fig = plt.figure()\n",
    "hm = read_image('/media/francesco/saetta/krock-dataset/train/patches/0.71/bars1-1-1558017877.997997-92.png')\n",
    "# hm = cv2.resize(hm, (8,8))\n",
    "print(hm.shape)\n",
    "# hm = cv2.resize(hm, (76,76))\n",
    "sns.heatmap(hm)"
   ]
  }
 ],
 "metadata": {
  "kernelspec": {
   "display_name": "Python 3",
   "language": "python",
   "name": "python3"
  },
  "language_info": {
   "codemirror_mode": {
    "name": "ipython",
    "version": 3
   },
   "file_extension": ".py",
   "mimetype": "text/x-python",
   "name": "python",
   "nbconvert_exporter": "python",
   "pygments_lexer": "ipython3",
   "version": "3.6.7"
  }
 },
 "nbformat": 4,
 "nbformat_minor": 2
}
