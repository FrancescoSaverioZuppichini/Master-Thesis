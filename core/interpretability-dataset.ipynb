{
 "cells": [
  {
   "cell_type": "code",
   "execution_count": 5,
   "metadata": {},
   "outputs": [],
   "source": [
    "%reload_ext autoreload\n",
    "%autoreload 2\n"
   ]
  },
  {
   "cell_type": "code",
   "execution_count": 6,
   "metadata": {},
   "outputs": [],
   "source": [
    "import torch\n",
    "import matplotlib.pyplot as plt\n",
    "from estimators.data import TraversabilityDataset, get_transform\n",
    "from estimators.data.TraversabilityDataset import PatchesDataset\n",
    "from estimators.utils import get_learner\n",
    "from utilities.postprocessing.utils import KrockPatchExtractStrategy\n",
    "from utilities.patches import *\n",
    "from interpretability import *\n",
    "from utilities.patches import *\n",
    "from jupyterthemes import jtplot\n",
    "from estimators.utils import load_model_from_name\n",
    "import matplotlib\n",
    "import os\n"
   ]
  },
  {
   "cell_type": "code",
   "execution_count": 7,
   "metadata": {
    "scrolled": true
   },
   "outputs": [],
   "source": [
    "from jupyterthemes import jtplot\n",
    "jtplot.reset()\n",
    "#\n",
    "plt.style.use(['science'])\n",
    "matplotlib.rcParams['figure.figsize'] = (12,12)\n",
    "get_ipython().config.get('IPKernelApp', {})['parent_appname'] = \"\""
   ]
  },
  {
   "cell_type": "markdown",
   "metadata": {},
   "source": [
    "# Parameters"
   ]
  },
  {
   "cell_type": "code",
   "execution_count": 8,
   "metadata": {},
   "outputs": [
    {
     "data": {
      "text/plain": [
       "device(type='cuda')"
      ]
     },
     "execution_count": 8,
     "metadata": {},
     "output_type": "execute_result"
    }
   ],
   "source": [
    "model_name = 'microresnet#3-gate=7x7-n=1-se=True'\n",
    "model_dir = '/media/francesco/Carino/vaevictis/data/1558825182.753924'\n",
    "# model_dir = '/media/francesco/Carino/vaevictis/data/1559690958.4176426'\n",
    "\n",
    "BASE_DIR = '/media/francesco/saetta/krock-dataset/test/'\n",
    "TEST_META = BASE_DIR + '/meta.csv'\n",
    "\n",
    "TEST_ROOT = '/media/francesco/saetta/krock-dataset/new-test-random/csvs_patches'\n",
    "PATCHES_DIR = '/media/francesco/saetta/krock-dataset/new-test-random/patches/0.71/'\n",
    "\n",
    "device = torch.device('cuda' if torch.cuda.is_available() else 'cpu')\n",
    "module = load_model_from_name(model_dir + '/roc_auc.pth', model_name )\n",
    "module = module.eval().to(device)\n",
    "\n",
    "MAX_ADVANCEMENT = 0.70\n",
    "seconds = 4\n",
    "time_window = 100\n",
    "device"
   ]
  },
  {
   "cell_type": "markdown",
   "metadata": {},
   "source": [
    "# Analize Quarry Test Set\n",
    "We are going to use the test set created from simulations run on the Quarry map to understand the model behaviour. We will try to answer different questions, such as \"Which are the easiest traversable patches?\" or \"Are they any ground feature that can misslead the model?\"."
   ]
  },
  {
   "cell_type": "code",
   "execution_count": null,
   "metadata": {
    "scrolled": true
   },
   "outputs": [],
   "source": [
    "ds = TraversabilityDataset.from_root(TEST_ROOT, patches_dir=PATCHES_DIR, time_window = 50*2, patch_size=0.71, tr=0.2, transform=get_transform(debug=False))\n",
    "learner, _ = get_learner(model_name, model_dir, [], dataset=ds)\n",
    "explain = ExplainModel.from_leaner(learner, ds)"
   ]
  },
  {
   "cell_type": "code",
   "execution_count": null,
   "metadata": {
    "scrolled": false
   },
   "outputs": [],
   "source": [
    "explain.by_looking_at().tell(ClassificationAnswer.from_explain).plot_confusion_matrix()"
   ]
  },
  {
   "cell_type": "markdown",
   "metadata": {},
   "source": [
    "## Visualize the best and worst patches sorted by advancement"
   ]
  },
  {
   "cell_type": "code",
   "execution_count": null,
   "metadata": {
    "scrolled": true
   },
   "outputs": [],
   "source": [
    "explanations = explain.by_looking_at([ Best(), Worst()],how_many=10, every=250)\n",
    "base_dir = '/home/francesco/Documents/Master-Thesis/papers/Thesis/img/5/quarry/all/'\n",
    "\n",
    "for name, explanation in explanations.items():\n",
    "        explanation.df = explanation.df.sort_values('advancement')\n",
    "        print(explanation.df['advancement'])\n",
    "        answers = explanation.tell(PatchAnswer.from_explain) \n",
    "        save_dir = '{}/{}'.format(base_dir, name)\n",
    "        os.makedirs(save_dir, exist_ok=True)\n",
    "        for i, answer in enumerate(answers):\n",
    "            answer.plot3d_mayavi(0.02, size=(513,513), distance=3.5, save_path='{}/{:02d}-patch-3d-majavi-colormap-{}.png'.format(save_dir, int(explanation.df['advancement'].iloc[i] * 100), i), azimuth=0, elevation=35, mesh=True, colormap='viridis', vmax=1)\n"
   ]
  },
  {
   "cell_type": "markdown",
   "metadata": {},
   "source": [
    "## Most traversable patches\n",
    "We expect the esiest traversable patches to be mostly flat. The following figure shows five patches sorted by the *traversable* class probability from the test set."
   ]
  },
  {
   "cell_type": "code",
   "execution_count": null,
   "metadata": {},
   "outputs": [],
   "source": [
    "explanations = explain.by_looking_at([\n",
    "                                      Shuffle(FalsePositive()),\n",
    "                                      Shuffle(FalseNegative()),\n",
    "                                      Shuffle(Worst()),\n",
    "                                      Shuffle(Best()),\n",
    "                                     ], how_many=5)"
   ]
  },
  {
   "cell_type": "code",
   "execution_count": null,
   "metadata": {
    "scrolled": false
   },
   "outputs": [],
   "source": [
    "explanations['best'].tell(PatchAnswer.from_explain)[0].plot3d_mayavi(0.02, size=(513,513), distance=3.5, save_path='/home/francesco/Desktop/diocane.png', azimuth=0, elevation=35, mesh=True, colormap='viridis', vmax=1)"
   ]
  },
  {
   "cell_type": "code",
   "execution_count": null,
   "metadata": {
    "scrolled": true
   },
   "outputs": [],
   "source": [
    "import os\n",
    "plt.style.use(['science', 'ieee'])\n",
    "module = module.eval()\n",
    "class MyExplanationsSaver():\n",
    "    def __init__(self, base_dir):\n",
    "        self.base_dir = base_dir\n",
    "            \n",
    "    def __call__(self, explanations):\n",
    "        for name, explanation in explanations.items():\n",
    "            answers = explanation.tell(PatchAnswer.from_explain)\n",
    "            save_dir = '{}/{}'.format(self.base_dir, name)\n",
    "            os.makedirs(save_dir, exist_ok=True)\n",
    "            print(answers)\n",
    "            for i, answer in enumerate(answers):\n",
    "                answer.plot2d().savefig('{}/patch-2d-{}'|.format(save_dir,i), bbox_inches='tight', transparent=True)\n",
    "                answer.grad_cam(module.eval(), device, target_class=0).plot2d().savefig('{}/grad-cam-2d-{}'.format(save_dir,i), bbox_inches='tight', transparent=True)\n",
    "                answer.heatmap((8,8)).plot2d().savefig('{}/heatmap-2d-{}'.format(save_dir,i), bbox_inches='tight', transparent=True)\n",
    "                answer.plot3d(title='', rstride=1, cstride=1,)[0].savefig('{}/patch-3d-{}'.format(save_dir,i), bbox_inches='tight', transparent=True)\n",
    "                answer.plot3d_mayavi(0.02, size=(513,513), distance=3.5, save_path='{}/patch-3d-majavi-colormap-{}.png'.format(save_dir,i), azimuth=0, elevation=35, mesh=True, colormap='viridis', vmax=1)\n",
    "                plt.close(\"all\")\n",
    "                \n",
    "MyExplanationsSaver('/home/francesco/Documents/Master-Thesis/papers/Thesis/img/5/quarry/')(explanations)"
   ]
  },
  {
   "cell_type": "code",
   "execution_count": null,
   "metadata": {},
   "outputs": [],
   "source": [
    "def plot_answer(answer):\n",
    "    answer.plot2d()\n",
    "    answer.grad_cam(module, device).plot2d()\n",
    "    answer.heatmap((8,8)).plot2d()\n",
    "#     _ = answer.plot3d()[0]"
   ]
  },
  {
   "cell_type": "markdown",
   "metadata": {},
   "source": [
    "Clearly, most of the patches are flat. The first patch is entirery flat, looking at the heights we can see that every value is zero. Interesting, the grad cam thinks highlights the middle of the patch. Grad cam creates a circle in the middle where the maximum activation point is exactly at the Krock's head position, 36 pixels from the left. Interesting, the highligthed region corespond to the Krock position while walking in flat ground. Correctly the full Krock footprint is highligthed while the corners are not taken into account since the robot won't ever reach them. So, our model is looking at the head position, at the robot footprint and at the future possible reachable region."
   ]
  },
  {
   "cell_type": "code",
   "execution_count": null,
   "metadata": {
    "scrolled": true
   },
   "outputs": [],
   "source": [
    "answers = explanations['best'].tell(PatchAnswer.from_explain)\n",
    "\n",
    "plot_answer(answers[0])"
   ]
  },
  {
   "cell_type": "code",
   "execution_count": null,
   "metadata": {
    "scrolled": false
   },
   "outputs": [],
   "source": [
    "for answers in explanations.values():\n",
    "    for answer in answers:\n",
    "        answers[idx].plot2d()\n",
    "        answers[idx].grad_cam(module, device).plot2d()\n",
    "        answers[idx].heatmap((8,8)).plot2d()\n",
    "        _ = answers[idx].plot3d()[0]\n",
    "# answers[idx].add_advancement_using_simulator(3, 100).plot2d()"
   ]
  },
  {
   "cell_type": "code",
   "execution_count": null,
   "metadata": {
    "scrolled": false
   },
   "outputs": [],
   "source": [
    "Patch.plot_all_2d(answers)"
   ]
  },
  {
   "cell_type": "code",
   "execution_count": null,
   "metadata": {
    "scrolled": true
   },
   "outputs": [],
   "source": [
    "import gc\n",
    "\n",
    "gc.collect()"
   ]
  },
  {
   "cell_type": "markdown",
   "metadata": {},
   "source": [
    "# Custom Patches\n"
   ]
  },
  {
   "cell_type": "markdown",
   "metadata": {},
   "source": [
    "We can test the robustness of the model by creating custom patches with trivial geometric shapes, walls/bumps, and test the model by comparing its prediction to the real robot in the simulator."
   ]
  },
  {
   "cell_type": "code",
   "execution_count": 12,
   "metadata": {},
   "outputs": [],
   "source": [
    "\n",
    "def get_distance(offsets):\n",
    "    return ((patch_shape[1] - offsets - 44 - size)) *res * 100\n",
    "\n",
    "def get_answers_from_patches(patches):\n",
    "    walls_ds = PatchesDataset(patches=patches, transform=get_transform())\n",
    "    learner, _ = get_learner(model_name, model_dir, [], dataset=walls_ds)\n",
    "    learner.model = learner.model.eval()\n",
    "    explain = ExplainModel.from_leaner(learner, walls_ds)\n",
    "    answer = explain.tell(answer=CustomPatchAnswer.from_explain)\n",
    "    return answer, explain\n",
    "\n",
    "def store_figures(figures, out_path):\n",
    "    for i, fig in enumerate(figures):\n",
    "        fig[0].savefig('{}{}.png'.format(out_path,i), bbox_inches='tight', transparent=True)\n",
    "        \n",
    "def save2d_and_2d(p, out_dir, n):\n",
    "    p.plot2d().savefig(out_dir + '/{}-2d.png'.format(n))\n",
    "    p.plot3d_mayavi(0.02, size=(513,513), distance=3.5, save_path=out_dir + '/{}-3d.png'.format(n), azimuth=0, elevation=35, mesh=True, colormap='viridis', vmax=1)"
   ]
  },
  {
   "cell_type": "markdown",
   "metadata": {},
   "source": [
    "## Walls at different positions in front of Krock\n",
    "The most trival way to correctly test the model is to place different walls in front of krock at an increasing distance. The wall is 1 meter high, so it is not traversable, but we had a treshold of 20cm, meaning that, even if the wall is not traversable, when it is at more than 20cm from krock on flat ground the model should yield true. We are going to test the model with different patches starting with a wall placed exactly in front of the robot, then we will move the wall one cm at the time till the end of the patch."
   ]
  },
  {
   "cell_type": "code",
   "execution_count": 61,
   "metadata": {},
   "outputs": [],
   "source": [
    "out_dir = '/home/francesco/Documents/Master-Thesis/papers/Thesis/img/5/custom_patches/walls_front'"
   ]
  },
  {
   "cell_type": "code",
   "execution_count": 62,
   "metadata": {},
   "outputs": [],
   "source": [
    "patch_shape = KrockPatchExtractStrategy.patch_shape(MAX_ADVANCEMENT)\n",
    "size = 8\n",
    "res = 0.02\n",
    "krock_body = 0.85 // res\n",
    "surely_in_front_of_krock = int(krock_body) + 9  # head is at 14cm (7px) from the krock's pose\n",
    "\n",
    "steps = np.arange(1, patch_shape[0] - surely_in_front_of_krock)\n",
    "offsets = steps + surely_in_front_of_krock\n",
    "offsets = patch_shape[1] - offsets # offset are defined from the rigth side\n",
    "offsets = np.linspace(offsets[-1], offsets[0], len(offsets) * 2)\n",
    "\n",
    "offsets = np.unique(offsets.astype(np.int))"
   ]
  },
  {
   "cell_type": "code",
   "execution_count": 63,
   "metadata": {},
   "outputs": [
    {
     "data": {
      "text/plain": [
       "array([ 1,  2,  3,  4,  5,  6,  7,  8,  9, 10, 11, 12, 13, 14, 15, 16, 17, 18, 19, 20, 21, 22, 23, 24, 25, 26])"
      ]
     },
     "execution_count": 63,
     "metadata": {},
     "output_type": "execute_result"
    }
   ],
   "source": [
    "offsets"
   ]
  },
  {
   "cell_type": "code",
   "execution_count": 64,
   "metadata": {
    "scrolled": false
   },
   "outputs": [
    {
     "name": "stdout",
     "output_type": "stream",
     "text": [
      "26\n"
     ]
    }
   ],
   "source": [
    "walls = [WallPatch(KrockPatchExtractStrategy.patch_shape(MAX_ADVANCEMENT), strength=1, back=False, offset=int(offset), size=size)() for offset in offsets]\n",
    "\n",
    "answer, explanation = get_answers_from_patches(walls)"
   ]
  },
  {
   "cell_type": "code",
   "execution_count": 67,
   "metadata": {
    "scrolled": false
   },
   "outputs": [
    {
     "data": {
      "text/html": [
       "<div>\n",
       "<style scoped>\n",
       "    .dataframe tbody tr th:only-of-type {\n",
       "        vertical-align: middle;\n",
       "    }\n",
       "\n",
       "    .dataframe tbody tr th {\n",
       "        vertical-align: top;\n",
       "    }\n",
       "\n",
       "    .dataframe thead th {\n",
       "        text-align: right;\n",
       "    }\n",
       "</style>\n",
       "<table border=\"1\" class=\"dataframe\">\n",
       "  <thead>\n",
       "    <tr style=\"text-align: right;\">\n",
       "      <th></th>\n",
       "      <th>out_0</th>\n",
       "      <th>out_1</th>\n",
       "      <th>prediction</th>\n",
       "      <th>distance</th>\n",
       "    </tr>\n",
       "  </thead>\n",
       "  <tbody>\n",
       "    <tr>\n",
       "      <th>0</th>\n",
       "      <td>2.198216e-25</td>\n",
       "      <td>1.000000</td>\n",
       "      <td>1</td>\n",
       "      <td>50.0</td>\n",
       "    </tr>\n",
       "    <tr>\n",
       "      <th>1</th>\n",
       "      <td>1.184476e-21</td>\n",
       "      <td>1.000000</td>\n",
       "      <td>1</td>\n",
       "      <td>48.0</td>\n",
       "    </tr>\n",
       "    <tr>\n",
       "      <th>2</th>\n",
       "      <td>1.724052e-08</td>\n",
       "      <td>1.000000</td>\n",
       "      <td>1</td>\n",
       "      <td>46.0</td>\n",
       "    </tr>\n",
       "    <tr>\n",
       "      <th>3</th>\n",
       "      <td>0.000000e+00</td>\n",
       "      <td>1.000000</td>\n",
       "      <td>1</td>\n",
       "      <td>44.0</td>\n",
       "    </tr>\n",
       "    <tr>\n",
       "      <th>4</th>\n",
       "      <td>5.225295e-22</td>\n",
       "      <td>1.000000</td>\n",
       "      <td>1</td>\n",
       "      <td>42.0</td>\n",
       "    </tr>\n",
       "    <tr>\n",
       "      <th>5</th>\n",
       "      <td>1.645591e-24</td>\n",
       "      <td>1.000000</td>\n",
       "      <td>1</td>\n",
       "      <td>40.0</td>\n",
       "    </tr>\n",
       "    <tr>\n",
       "      <th>6</th>\n",
       "      <td>0.000000e+00</td>\n",
       "      <td>1.000000</td>\n",
       "      <td>1</td>\n",
       "      <td>38.0</td>\n",
       "    </tr>\n",
       "    <tr>\n",
       "      <th>7</th>\n",
       "      <td>0.000000e+00</td>\n",
       "      <td>1.000000</td>\n",
       "      <td>1</td>\n",
       "      <td>36.0</td>\n",
       "    </tr>\n",
       "    <tr>\n",
       "      <th>8</th>\n",
       "      <td>0.000000e+00</td>\n",
       "      <td>1.000000</td>\n",
       "      <td>1</td>\n",
       "      <td>34.0</td>\n",
       "    </tr>\n",
       "    <tr>\n",
       "      <th>9</th>\n",
       "      <td>0.000000e+00</td>\n",
       "      <td>1.000000</td>\n",
       "      <td>1</td>\n",
       "      <td>32.0</td>\n",
       "    </tr>\n",
       "    <tr>\n",
       "      <th>10</th>\n",
       "      <td>0.000000e+00</td>\n",
       "      <td>1.000000</td>\n",
       "      <td>1</td>\n",
       "      <td>30.0</td>\n",
       "    </tr>\n",
       "    <tr>\n",
       "      <th>11</th>\n",
       "      <td>0.000000e+00</td>\n",
       "      <td>1.000000</td>\n",
       "      <td>1</td>\n",
       "      <td>28.0</td>\n",
       "    </tr>\n",
       "    <tr>\n",
       "      <th>12</th>\n",
       "      <td>0.000000e+00</td>\n",
       "      <td>1.000000</td>\n",
       "      <td>1</td>\n",
       "      <td>26.0</td>\n",
       "    </tr>\n",
       "    <tr>\n",
       "      <th>13</th>\n",
       "      <td>0.000000e+00</td>\n",
       "      <td>1.000000</td>\n",
       "      <td>1</td>\n",
       "      <td>24.0</td>\n",
       "    </tr>\n",
       "    <tr>\n",
       "      <th>14</th>\n",
       "      <td>2.516594e-03</td>\n",
       "      <td>0.997483</td>\n",
       "      <td>1</td>\n",
       "      <td>22.0</td>\n",
       "    </tr>\n",
       "    <tr>\n",
       "      <th>15</th>\n",
       "      <td>1.000000e+00</td>\n",
       "      <td>0.000000</td>\n",
       "      <td>0</td>\n",
       "      <td>20.0</td>\n",
       "    </tr>\n",
       "    <tr>\n",
       "      <th>16</th>\n",
       "      <td>1.000000e+00</td>\n",
       "      <td>0.000000</td>\n",
       "      <td>0</td>\n",
       "      <td>18.0</td>\n",
       "    </tr>\n",
       "    <tr>\n",
       "      <th>17</th>\n",
       "      <td>1.000000e+00</td>\n",
       "      <td>0.000000</td>\n",
       "      <td>0</td>\n",
       "      <td>16.0</td>\n",
       "    </tr>\n",
       "    <tr>\n",
       "      <th>18</th>\n",
       "      <td>1.000000e+00</td>\n",
       "      <td>0.000000</td>\n",
       "      <td>0</td>\n",
       "      <td>14.0</td>\n",
       "    </tr>\n",
       "    <tr>\n",
       "      <th>19</th>\n",
       "      <td>1.000000e+00</td>\n",
       "      <td>0.000000</td>\n",
       "      <td>0</td>\n",
       "      <td>12.0</td>\n",
       "    </tr>\n",
       "    <tr>\n",
       "      <th>20</th>\n",
       "      <td>1.000000e+00</td>\n",
       "      <td>0.000000</td>\n",
       "      <td>0</td>\n",
       "      <td>10.0</td>\n",
       "    </tr>\n",
       "    <tr>\n",
       "      <th>21</th>\n",
       "      <td>1.000000e+00</td>\n",
       "      <td>0.000000</td>\n",
       "      <td>0</td>\n",
       "      <td>8.0</td>\n",
       "    </tr>\n",
       "    <tr>\n",
       "      <th>22</th>\n",
       "      <td>1.000000e+00</td>\n",
       "      <td>0.000000</td>\n",
       "      <td>0</td>\n",
       "      <td>6.0</td>\n",
       "    </tr>\n",
       "    <tr>\n",
       "      <th>23</th>\n",
       "      <td>1.000000e+00</td>\n",
       "      <td>0.000000</td>\n",
       "      <td>0</td>\n",
       "      <td>4.0</td>\n",
       "    </tr>\n",
       "    <tr>\n",
       "      <th>24</th>\n",
       "      <td>1.000000e+00</td>\n",
       "      <td>0.000000</td>\n",
       "      <td>0</td>\n",
       "      <td>2.0</td>\n",
       "    </tr>\n",
       "    <tr>\n",
       "      <th>25</th>\n",
       "      <td>1.000000e+00</td>\n",
       "      <td>0.000000</td>\n",
       "      <td>0</td>\n",
       "      <td>0.0</td>\n",
       "    </tr>\n",
       "  </tbody>\n",
       "</table>\n",
       "</div>"
      ],
      "text/plain": [
       "           out_0     out_1  prediction  distance\n",
       "0   2.198216e-25  1.000000           1      50.0\n",
       "1   1.184476e-21  1.000000           1      48.0\n",
       "2   1.724052e-08  1.000000           1      46.0\n",
       "3   0.000000e+00  1.000000           1      44.0\n",
       "4   5.225295e-22  1.000000           1      42.0\n",
       "5   1.645591e-24  1.000000           1      40.0\n",
       "6   0.000000e+00  1.000000           1      38.0\n",
       "7   0.000000e+00  1.000000           1      36.0\n",
       "8   0.000000e+00  1.000000           1      34.0\n",
       "9   0.000000e+00  1.000000           1      32.0\n",
       "10  0.000000e+00  1.000000           1      30.0\n",
       "11  0.000000e+00  1.000000           1      28.0\n",
       "12  0.000000e+00  1.000000           1      26.0\n",
       "13  0.000000e+00  1.000000           1      24.0\n",
       "14  2.516594e-03  0.997483           1      22.0\n",
       "15  1.000000e+00  0.000000           0      20.0\n",
       "16  1.000000e+00  0.000000           0      18.0\n",
       "17  1.000000e+00  0.000000           0      16.0\n",
       "18  1.000000e+00  0.000000           0      14.0\n",
       "19  1.000000e+00  0.000000           0      12.0\n",
       "20  1.000000e+00  0.000000           0      10.0\n",
       "21  1.000000e+00  0.000000           0       8.0\n",
       "22  1.000000e+00  0.000000           0       6.0\n",
       "23  1.000000e+00  0.000000           0       4.0\n",
       "24  1.000000e+00  0.000000           0       2.0\n",
       "25  1.000000e+00  0.000000           0       0.0"
      ]
     },
     "execution_count": 67,
     "metadata": {},
     "output_type": "execute_result"
    }
   ],
   "source": [
    "explanation.df['distance'] = get_distance(offsets) # convert back to cm and to 'in front of krock coordinates'\n",
    "explanation.df.to_csv(out_dir + 'walls_front.csv')\n",
    "explanation.df"
   ]
  },
  {
   "cell_type": "markdown",
   "metadata": {},
   "source": [
    "We can say that the model classifies all the wall between 0cm to 19cm from krock's head as no traversable and the ones more than 20cm far away traversable, as expected. Let's use the simulator to get the real advancement of the robot on this ground. We will test the last non traversable and the first traversable"
   ]
  },
  {
   "cell_type": "code",
   "execution_count": 84,
   "metadata": {},
   "outputs": [
    {
     "data": {
      "text/plain": [
       "array([ 0.,  2.,  4.,  6.,  8., 10., 12., 14., 16., 18., 20., 22., 24., 26., 28., 30., 32., 34., 36., 38., 40., 42.,\n",
       "       44., 46., 48., 50.])"
      ]
     },
     "execution_count": 84,
     "metadata": {},
     "output_type": "execute_result"
    }
   ],
   "source": [
    "explanation.df = explanation.df[::-1]\n",
    "explanation.df = explanation.df.reset_index(drop=True)\n",
    "distance = explanation.df['distance'].values\n",
    "distance"
   ]
  },
  {
   "cell_type": "code",
   "execution_count": 89,
   "metadata": {},
   "outputs": [
    {
     "data": {
      "text/plain": [
       "array([ 0.,  2.,  4.,  6.,  8., 10., 12., 14., 16., 18., 20., 22., 24., 26., 28., 30., 32., 34., 36., 38., 40., 42.,\n",
       "       44., 46., 48., 50.])"
      ]
     },
     "execution_count": 89,
     "metadata": {},
     "output_type": "execute_result"
    }
   ],
   "source": [
    "distance"
   ]
  },
  {
   "cell_type": "code",
   "execution_count": 108,
   "metadata": {
    "scrolled": false
   },
   "outputs": [
    {
     "data": {
      "image/png": "[encoded data removed]",
      "text/plain": [
       "<Figure size 1600x1400 with 1 Axes>"
      ]
     },
     "metadata": {},
     "output_type": "display_data"
    }
   ],
   "source": [
    "fig = plt.figure()\n",
    "plt.plot(explanation.df['out_1'], label='Traversable Probability ')\n",
    "plt.plot(explanation.df['out_0'], label='Not Traversable Probability')\n",
    "ax = plt.gca()\n",
    "\n",
    "ax.set_xticks(np.arange(len(distance)))\n",
    "ax.set_xticklabels(['{:.1f}'.format(d) for d in distance], rotation=0)\n",
    "ax.set_xlabel('Distance from Krock\\'s head (cm)',  fontsize=18)\n",
    "plt.legend()\n",
    "plt.show()\n",
    "fig.savefig(out_dir + '/predictions.png')"
   ]
  },
  {
   "cell_type": "code",
   "execution_count": 101,
   "metadata": {
    "scrolled": true
   },
   "outputs": [
    {
     "name": "stdout",
     "output_type": "stream",
     "text": [
      "36 39\n",
      "success: 1\n"
     ]
    },
    {
     "data": {
      "text/plain": [
       "Shape = (78, 78)"
      ]
     },
     "execution_count": 101,
     "metadata": {},
     "output_type": "execute_result"
    }
   ],
   "source": [
    "answer[15].add_advancement_using_simulator(seconds, time_window)\n"
   ]
  },
  {
   "cell_type": "code",
   "execution_count": null,
   "metadata": {},
   "outputs": [],
   "source": [
    "answer[15].info['advancement'].iloc[25]"
   ]
  },
  {
   "cell_type": "code",
   "execution_count": 35,
   "metadata": {},
   "outputs": [],
   "source": [
    "# store all the walls for the thesis\n",
    "for n, p in enumerate(answer[0:2]):\n",
    "    p.plot3d_mayavi(0.02, size=(513,513), distance=3.5, save_path=out_dir + '/all/{:02d}-3d.png'.format(n), azimuth=0, color=(0,0.5,0), elevation=35, mesh=True, vmax=1)"
   ]
  },
  {
   "cell_type": "code",
   "execution_count": 36,
   "metadata": {},
   "outputs": [
    {
     "name": "stderr",
     "output_type": "stream",
     "text": [
      "/home/francesco/.local/lib/python3.6/site-packages/matplotlib/font_manager.py:1241: UserWarning: findfont: Font family ['serif'] not found. Falling back to DejaVu Sans.\n",
      "  (prop.get_family(), self.defaultFamily[fontext]))\n"
     ]
    }
   ],
   "source": [
    "save2d_and_2d(answer[14], out_dir, 1)\n",
    "save2d_and_2d(answer[15], out_dir, 2)"
   ]
  },
  {
   "cell_type": "markdown",
   "metadata": {},
   "source": [
    "Correctly the advancement in the last traversable is slighty less than 20cm and the one in the first no traversable is more than 20cm. "
   ]
  },
  {
   "cell_type": "markdown",
   "metadata": {},
   "source": [
    "### Increase the wall height\n",
    "We can scale up the first traversable patch to 10meter in order to see if the model still look at the distance and not at the pixel value"
   ]
  },
  {
   "cell_type": "code",
   "execution_count": null,
   "metadata": {},
   "outputs": [],
   "source": [
    "big_walls = [Patch.from_hm(walls[32].hm * 10), Patch.from_hm(walls[32].hm * 100)]\n",
    "\n",
    "ans, _ = get_answers_from_patches(big_walls)"
   ]
  },
  {
   "cell_type": "code",
   "execution_count": null,
   "metadata": {
    "scrolled": false
   },
   "outputs": [],
   "source": [
    "ans[0].plot2d().savefig(out_dir + '/big-1-2d.png')\n",
    "ans[1].plot2d().savefig(out_dir + '/big-2-2d.png')"
   ]
  },
  {
   "cell_type": "markdown",
   "metadata": {},
   "source": [
    "Correctly, the model was not confused by the enourmous height of the wall."
   ]
  },
  {
   "cell_type": "markdown",
   "metadata": {},
   "source": [
    "## Walls in front of krock of different height"
   ]
  },
  {
   "cell_type": "markdown",
   "metadata": {},
   "source": [
    "What is the minimum height for a wall in front of Krock to be traversable? We can asnwer to this question by creating 10 walls from 1cm to 20cm and place them in front of the robot and the comparing the model's output with the advancement getted from the simulator."
   ]
  },
  {
   "cell_type": "code",
   "execution_count": 112,
   "metadata": {},
   "outputs": [],
   "source": [
    "out_dir = '/home/francesco/Documents/Master-Thesis/papers/Thesis/img/5/custom_patches/walls_increasing'\n",
    "\n",
    "heights = np.arange(0, 20) / 100\n",
    "\n",
    "walls = [WallPatch(KrockPatchExtractStrategy.patch_shape(MAX_ADVANCEMENT), strength=s, back=False, offset=offsets[-1])() \n",
    "         for s in heights ]"
   ]
  },
  {
   "cell_type": "code",
   "execution_count": 113,
   "metadata": {
    "scrolled": false
   },
   "outputs": [
    {
     "name": "stdout",
     "output_type": "stream",
     "text": [
      "20\n"
     ]
    }
   ],
   "source": [
    "answer, explanation = get_answers_from_patches(walls)"
   ]
  },
  {
   "cell_type": "code",
   "execution_count": 114,
   "metadata": {
    "scrolled": false
   },
   "outputs": [
    {
     "data": {
      "text/html": [
       "<div>\n",
       "<style scoped>\n",
       "    .dataframe tbody tr th:only-of-type {\n",
       "        vertical-align: middle;\n",
       "    }\n",
       "\n",
       "    .dataframe tbody tr th {\n",
       "        vertical-align: top;\n",
       "    }\n",
       "\n",
       "    .dataframe thead th {\n",
       "        text-align: right;\n",
       "    }\n",
       "</style>\n",
       "<table border=\"1\" class=\"dataframe\">\n",
       "  <thead>\n",
       "    <tr style=\"text-align: right;\">\n",
       "      <th></th>\n",
       "      <th>out_0</th>\n",
       "      <th>out_1</th>\n",
       "      <th>prediction</th>\n",
       "      <th>height</th>\n",
       "    </tr>\n",
       "  </thead>\n",
       "  <tbody>\n",
       "    <tr>\n",
       "      <th>0</th>\n",
       "      <td>5.084239e-05</td>\n",
       "      <td>9.999491e-01</td>\n",
       "      <td>1</td>\n",
       "      <td>0.00</td>\n",
       "    </tr>\n",
       "    <tr>\n",
       "      <th>1</th>\n",
       "      <td>5.470491e-06</td>\n",
       "      <td>9.999945e-01</td>\n",
       "      <td>1</td>\n",
       "      <td>0.01</td>\n",
       "    </tr>\n",
       "    <tr>\n",
       "      <th>2</th>\n",
       "      <td>6.792667e-08</td>\n",
       "      <td>9.999999e-01</td>\n",
       "      <td>1</td>\n",
       "      <td>0.02</td>\n",
       "    </tr>\n",
       "    <tr>\n",
       "      <th>3</th>\n",
       "      <td>6.622769e-13</td>\n",
       "      <td>1.000000e+00</td>\n",
       "      <td>1</td>\n",
       "      <td>0.03</td>\n",
       "    </tr>\n",
       "    <tr>\n",
       "      <th>4</th>\n",
       "      <td>2.838425e-11</td>\n",
       "      <td>1.000000e+00</td>\n",
       "      <td>1</td>\n",
       "      <td>0.04</td>\n",
       "    </tr>\n",
       "    <tr>\n",
       "      <th>5</th>\n",
       "      <td>2.891063e-08</td>\n",
       "      <td>1.000000e+00</td>\n",
       "      <td>1</td>\n",
       "      <td>0.05</td>\n",
       "    </tr>\n",
       "    <tr>\n",
       "      <th>6</th>\n",
       "      <td>6.953000e-05</td>\n",
       "      <td>9.999305e-01</td>\n",
       "      <td>1</td>\n",
       "      <td>0.06</td>\n",
       "    </tr>\n",
       "    <tr>\n",
       "      <th>7</th>\n",
       "      <td>5.856362e-03</td>\n",
       "      <td>9.941437e-01</td>\n",
       "      <td>1</td>\n",
       "      <td>0.07</td>\n",
       "    </tr>\n",
       "    <tr>\n",
       "      <th>8</th>\n",
       "      <td>5.713927e-02</td>\n",
       "      <td>9.428607e-01</td>\n",
       "      <td>1</td>\n",
       "      <td>0.08</td>\n",
       "    </tr>\n",
       "    <tr>\n",
       "      <th>9</th>\n",
       "      <td>2.226433e-01</td>\n",
       "      <td>7.773567e-01</td>\n",
       "      <td>1</td>\n",
       "      <td>0.09</td>\n",
       "    </tr>\n",
       "    <tr>\n",
       "      <th>10</th>\n",
       "      <td>4.527788e-01</td>\n",
       "      <td>5.472211e-01</td>\n",
       "      <td>1</td>\n",
       "      <td>0.10</td>\n",
       "    </tr>\n",
       "    <tr>\n",
       "      <th>11</th>\n",
       "      <td>7.126506e-01</td>\n",
       "      <td>2.873494e-01</td>\n",
       "      <td>0</td>\n",
       "      <td>0.11</td>\n",
       "    </tr>\n",
       "    <tr>\n",
       "      <th>12</th>\n",
       "      <td>8.972325e-01</td>\n",
       "      <td>1.027675e-01</td>\n",
       "      <td>0</td>\n",
       "      <td>0.12</td>\n",
       "    </tr>\n",
       "    <tr>\n",
       "      <th>13</th>\n",
       "      <td>9.883510e-01</td>\n",
       "      <td>1.164891e-02</td>\n",
       "      <td>0</td>\n",
       "      <td>0.13</td>\n",
       "    </tr>\n",
       "    <tr>\n",
       "      <th>14</th>\n",
       "      <td>9.997304e-01</td>\n",
       "      <td>2.695778e-04</td>\n",
       "      <td>0</td>\n",
       "      <td>0.14</td>\n",
       "    </tr>\n",
       "    <tr>\n",
       "      <th>15</th>\n",
       "      <td>9.999989e-01</td>\n",
       "      <td>1.078473e-06</td>\n",
       "      <td>0</td>\n",
       "      <td>0.15</td>\n",
       "    </tr>\n",
       "    <tr>\n",
       "      <th>16</th>\n",
       "      <td>1.000000e+00</td>\n",
       "      <td>4.112545e-10</td>\n",
       "      <td>0</td>\n",
       "      <td>0.16</td>\n",
       "    </tr>\n",
       "    <tr>\n",
       "      <th>17</th>\n",
       "      <td>1.000000e+00</td>\n",
       "      <td>4.700785e-15</td>\n",
       "      <td>0</td>\n",
       "      <td>0.17</td>\n",
       "    </tr>\n",
       "    <tr>\n",
       "      <th>18</th>\n",
       "      <td>1.000000e+00</td>\n",
       "      <td>1.072210e-21</td>\n",
       "      <td>0</td>\n",
       "      <td>0.18</td>\n",
       "    </tr>\n",
       "    <tr>\n",
       "      <th>19</th>\n",
       "      <td>1.000000e+00</td>\n",
       "      <td>1.237991e-29</td>\n",
       "      <td>0</td>\n",
       "      <td>0.19</td>\n",
       "    </tr>\n",
       "  </tbody>\n",
       "</table>\n",
       "</div>"
      ],
      "text/plain": [
       "           out_0         out_1  prediction  height\n",
       "0   5.084239e-05  9.999491e-01           1    0.00\n",
       "1   5.470491e-06  9.999945e-01           1    0.01\n",
       "2   6.792667e-08  9.999999e-01           1    0.02\n",
       "3   6.622769e-13  1.000000e+00           1    0.03\n",
       "4   2.838425e-11  1.000000e+00           1    0.04\n",
       "5   2.891063e-08  1.000000e+00           1    0.05\n",
       "6   6.953000e-05  9.999305e-01           1    0.06\n",
       "7   5.856362e-03  9.941437e-01           1    0.07\n",
       "8   5.713927e-02  9.428607e-01           1    0.08\n",
       "9   2.226433e-01  7.773567e-01           1    0.09\n",
       "10  4.527788e-01  5.472211e-01           1    0.10\n",
       "11  7.126506e-01  2.873494e-01           0    0.11\n",
       "12  8.972325e-01  1.027675e-01           0    0.12\n",
       "13  9.883510e-01  1.164891e-02           0    0.13\n",
       "14  9.997304e-01  2.695778e-04           0    0.14\n",
       "15  9.999989e-01  1.078473e-06           0    0.15\n",
       "16  1.000000e+00  4.112545e-10           0    0.16\n",
       "17  1.000000e+00  4.700785e-15           0    0.17\n",
       "18  1.000000e+00  1.072210e-21           0    0.18\n",
       "19  1.000000e+00  1.237991e-29           0    0.19"
      ]
     },
     "execution_count": 114,
     "metadata": {},
     "output_type": "execute_result"
    }
   ],
   "source": [
    "explanation.df['height'] = heights\n",
    "explanation.df.to_csv('/home/francesco/Documents/Master-Thesis/papers/Thesis/img/5/custom_patches/walls_increasing/prediction.csv')\n",
    "explanation.df"
   ]
  },
  {
   "cell_type": "code",
   "execution_count": 115,
   "metadata": {},
   "outputs": [
    {
     "data": {
      "image/png": "[encoded data removed]",
      "text/plain": [
       "<Figure size 1600x1400 with 1 Axes>"
      ]
     },
     "metadata": {},
     "output_type": "display_data"
    },
    {
     "name": "stdout",
     "output_type": "stream",
     "text": [
      "shutdown request: new node registered with same name\n"
     ]
    }
   ],
   "source": [
    "fig = plt.figure()\n",
    "plt.plot(explanation.df['out_1'], label='Traversable Probability ')\n",
    "plt.plot(explanation.df['out_0'], label='Not Traversable Probability')\n",
    "ax = plt.gca()\n",
    "\n",
    "ax.set_xticks(np.arange(len(heights)))\n",
    "ax.set_xticklabels(['{:.1f}'.format(d) for d in heights * 100], rotation=0)\n",
    "ax.set_xlabel('Height (cm)',  fontsize=18)\n",
    "plt.legend()\n",
    "plt.show()\n",
    "fig.savefig(out_dir + '/predictions.png')"
   ]
  },
  {
   "cell_type": "code",
   "execution_count": null,
   "metadata": {},
   "outputs": [],
   "source": [
    "# store all the walls for the thesis\n",
    "for n, p in enumerate(answer):\n",
    "    p.plot3d_mayavi(0.02, size=(513,513), distance=3.5, save_path=out_dir + '/all/{:02d}-3d.png'.format(n), azimuth=0, color=(0,0.5,0), elevation=35, mesh=True, vmax=1)"
   ]
  },
  {
   "cell_type": "code",
   "execution_count": null,
   "metadata": {},
   "outputs": [],
   "source": [
    "seconds = 5\n",
    "time_window = 100\n",
    "answer[10].add_advancement_using_simulator(seconds, time_window)\n",
    "answer[10].plot2d().savefig(out_dir + '/wall-height-1-2d.png')\n",
    "# answer[11].add_advancement_using_simulator(seconds, time_window)\n",
    "# answer[11].plot2d().savefig(out_dir + '/wall-height-2-2d.png')\n"
   ]
  },
  {
   "cell_type": "code",
   "execution_count": null,
   "metadata": {},
   "outputs": [],
   "source": [
    "answer[19].plot3d_mayavi(0.02, size=(513,513), distance=3.5, save_path=out_dir + '/wall-height-1-3d.png', azimuth=0, color=(0,0.5,0), elevation=35, colormap='viridis', mesh=True, vmax=1)\n",
    "answer[20].plot3d_mayavi(0.02, size=(513,513), distance=3.5, save_path=out_dir + '/wall-height-2-3d.png', azimuth=0, color=(0,0.5,0), elevation=35, colormap='viridis', mesh=True, vmax=1)"
   ]
  },
  {
   "cell_type": "markdown",
   "metadata": {},
   "source": [
    "# Height/Distance walls\n",
    "Let's create different walls with different heights at different distances"
   ]
  },
  {
   "cell_type": "code",
   "execution_count": 15,
   "metadata": {},
   "outputs": [],
   "source": [
    "out_dir = '/home/francesco/Documents/Master-Thesis/papers/Thesis/img/5/custom_patches/walls_heights/'\n"
   ]
  },
  {
   "cell_type": "code",
   "execution_count": 20,
   "metadata": {},
   "outputs": [],
   "source": [
    "heights = np.arange(5, 20) / 100 # 5cm to 20cm\n",
    "heights = heights[::-1]\n",
    "offsets_rev = offsets[10:][::-1] # from 0 to 30 cm from Krock\n",
    "combinations = [(h,o) for h in heights for o in offsets_rev]\n",
    "\n",
    "patches = [WallPatch(patch_shape, strength=h, back=False, offset=o, size=size)() \n",
    "         for (h,o) in combinations]"
   ]
  },
  {
   "cell_type": "code",
   "execution_count": 21,
   "metadata": {},
   "outputs": [
    {
     "name": "stdout",
     "output_type": "stream",
     "text": [
      "240\n"
     ]
    }
   ],
   "source": [
    "answer, explanation = get_answers_from_patches(patches)\n",
    "explanation.df['height'] = [h for (h,o) in combinations]\n",
    "explanation.df['offset'] = [o for (h,o) in combinations]\n",
    "distance =  get_distance(offsets_rev)\n",
    "\n",
    "explanation.df.to_csv(out_dir + '/predictions.csv')"
   ]
  },
  {
   "cell_type": "code",
   "execution_count": null,
   "metadata": {
    "scrolled": false
   },
   "outputs": [],
   "source": [
    "for a in answer:\n",
    "    a.add_advancement_using_simulator(4, 100)\n",
    "    a.advacement = a.info['advancement'].iloc[25]\n",
    "    del a.info\n",
    "    del a.df\n",
    "    gc.collect()"
   ]
  },
  {
   "cell_type": "markdown",
   "metadata": {},
   "source": [
    "### Heatmap"
   ]
  },
  {
   "cell_type": "code",
   "execution_count": 29,
   "metadata": {
    "scrolled": false
   },
   "outputs": [
    {
     "name": "stderr",
     "output_type": "stream",
     "text": [
      "/home/francesco/.local/lib/python3.6/site-packages/matplotlib/font_manager.py:1241: UserWarning: findfont: Font family ['serif'] not found. Falling back to DejaVu Sans.\n",
      "  (prop.get_family(), self.defaultFamily[fontext]))\n"
     ]
    },
    {
     "data": {
      "image/png": "[encoded data removed]",
      "text/plain": [
       "<Figure size 1600x1400 with 2 Axes>"
      ]
     },
     "metadata": {},
     "output_type": "display_data"
    }
   ],
   "source": [
    "pred_reshape = explanation.df['out_1'].values.reshape(len(heights), len(offsets_rev))\n",
    "matplotlib.rcParams['figure.figsize'] = (16,14)\n",
    "\n",
    "fig = plt.figure()\n",
    "ax = sns.heatmap(pred_reshape, annot=explanation.df['out_1'].values.reshape(len(heights), len(offsets_rev)), \n",
    "                 cmap='viridis',\n",
    "                 fmt='.2f', \n",
    "                 )\n",
    "ax.set_yticklabels(['{:.1f}'.format(h * 100) for h in heights], rotation=0)\n",
    "ax.set_xticklabels([int(d) for d in  distance],  rotation=0)\n",
    "ax.set_ylabel('Height (cm)',  fontsize=18)\n",
    "ax.set_xlabel('Distance from Krock\\'s head (cm)',  fontsize=18)\n",
    "\n",
    "plt.show()\n",
    "fig.savefig(out_dir + '/walls_heights.png', transparent=True)"
   ]
  },
  {
   "cell_type": "code",
   "execution_count": 162,
   "metadata": {},
   "outputs": [
    {
     "name": "stdout",
     "output_type": "stream",
     "text": [
      "1\n"
     ]
    },
    {
     "data": {
      "text/html": [
       "<div>\n",
       "<style scoped>\n",
       "    .dataframe tbody tr th:only-of-type {\n",
       "        vertical-align: middle;\n",
       "    }\n",
       "\n",
       "    .dataframe tbody tr th {\n",
       "        vertical-align: top;\n",
       "    }\n",
       "\n",
       "    .dataframe thead th {\n",
       "        text-align: right;\n",
       "    }\n",
       "</style>\n",
       "<table border=\"1\" class=\"dataframe\">\n",
       "  <thead>\n",
       "    <tr style=\"text-align: right;\">\n",
       "      <th></th>\n",
       "      <th>out_0</th>\n",
       "      <th>out_1</th>\n",
       "      <th>prediction</th>\n",
       "    </tr>\n",
       "  </thead>\n",
       "  <tbody>\n",
       "    <tr>\n",
       "      <th>0</th>\n",
       "      <td>0.861333</td>\n",
       "      <td>0.138667</td>\n",
       "      <td>0</td>\n",
       "    </tr>\n",
       "  </tbody>\n",
       "</table>\n",
       "</div>"
      ],
      "text/plain": [
       "      out_0     out_1  prediction\n",
       "0  0.861333  0.138667           0"
      ]
     },
     "execution_count": 162,
     "metadata": {},
     "output_type": "execute_result"
    }
   ],
   "source": [
    "answer, explanation = get_answers_from_patches([WallPatch(patch_shape, back=False, offset=21, strength=0.10, size=size)()])\n",
    "explanation.df\n"
   ]
  },
  {
   "cell_type": "code",
   "execution_count": 163,
   "metadata": {},
   "outputs": [
    {
     "name": "stdout",
     "output_type": "stream",
     "text": [
      "36 39\n",
      "success: 1\n"
     ]
    },
    {
     "data": {
      "text/plain": [
       "0.1849855798811447"
      ]
     },
     "execution_count": 163,
     "metadata": {},
     "output_type": "execute_result"
    }
   ],
   "source": [
    "answer[0].add_advancement_using_simulator(3, 100)\n",
    "answer[0].info['advancement'].iloc[25]"
   ]
  },
  {
   "cell_type": "code",
   "execution_count": 161,
   "metadata": {},
   "outputs": [
    {
     "data": {
      "image/png": "[encoded data removed]",
      "text/plain": [
       "<Figure size 1600x1400 with 2 Axes>"
      ]
     },
     "execution_count": 161,
     "metadata": {},
     "output_type": "execute_result"
    }
   ],
   "source": [
    "answer[0].grad_cam(module, device, target_class=1).plot2d()"
   ]
  },
  {
   "cell_type": "code",
   "execution_count": 108,
   "metadata": {},
   "outputs": [
    {
     "name": "stdout",
     "output_type": "stream",
     "text": [
      "36 39\n",
      "success: 1\n"
     ]
    },
    {
     "data": {
      "text/plain": [
       "0.15227638537950877"
      ]
     },
     "execution_count": 108,
     "metadata": {},
     "output_type": "execute_result"
    }
   ],
   "source": [
    "answer[0].add_advancement_using_simulator(3, 100)\n",
    "answer[0].info['advancement'].iloc[25]"
   ]
  },
  {
   "cell_type": "markdown",
   "metadata": {},
   "source": [
    "## Wall under Krock"
   ]
  },
  {
   "cell_type": "markdown",
   "metadata": {},
   "source": [
    "## Ramps\n",
    "We can test the model against ramps with increasing hegihts"
   ]
  },
  {
   "cell_type": "code",
   "execution_count": 118,
   "metadata": {},
   "outputs": [
    {
     "name": "stdout",
     "output_type": "stream",
     "text": [
      "40\n"
     ]
    },
    {
     "data": {
      "text/html": [
       "<div>\n",
       "<style scoped>\n",
       "    .dataframe tbody tr th:only-of-type {\n",
       "        vertical-align: middle;\n",
       "    }\n",
       "\n",
       "    .dataframe tbody tr th {\n",
       "        vertical-align: top;\n",
       "    }\n",
       "\n",
       "    .dataframe thead th {\n",
       "        text-align: right;\n",
       "    }\n",
       "</style>\n",
       "<table border=\"1\" class=\"dataframe\">\n",
       "  <thead>\n",
       "    <tr style=\"text-align: right;\">\n",
       "      <th></th>\n",
       "      <th>out_0</th>\n",
       "      <th>out_1</th>\n",
       "      <th>prediction</th>\n",
       "      <th>height</th>\n",
       "    </tr>\n",
       "  </thead>\n",
       "  <tbody>\n",
       "    <tr>\n",
       "      <th>0</th>\n",
       "      <td>0.000051</td>\n",
       "      <td>9.999491e-01</td>\n",
       "      <td>1</td>\n",
       "      <td>0.000000</td>\n",
       "    </tr>\n",
       "    <tr>\n",
       "      <th>1</th>\n",
       "      <td>0.000199</td>\n",
       "      <td>9.998015e-01</td>\n",
       "      <td>1</td>\n",
       "      <td>0.005128</td>\n",
       "    </tr>\n",
       "    <tr>\n",
       "      <th>2</th>\n",
       "      <td>0.000325</td>\n",
       "      <td>9.996748e-01</td>\n",
       "      <td>1</td>\n",
       "      <td>0.010256</td>\n",
       "    </tr>\n",
       "    <tr>\n",
       "      <th>3</th>\n",
       "      <td>0.000510</td>\n",
       "      <td>9.994897e-01</td>\n",
       "      <td>1</td>\n",
       "      <td>0.015385</td>\n",
       "    </tr>\n",
       "    <tr>\n",
       "      <th>4</th>\n",
       "      <td>0.000755</td>\n",
       "      <td>9.992449e-01</td>\n",
       "      <td>1</td>\n",
       "      <td>0.020513</td>\n",
       "    </tr>\n",
       "    <tr>\n",
       "      <th>5</th>\n",
       "      <td>0.000419</td>\n",
       "      <td>9.995808e-01</td>\n",
       "      <td>1</td>\n",
       "      <td>0.025641</td>\n",
       "    </tr>\n",
       "    <tr>\n",
       "      <th>6</th>\n",
       "      <td>0.000267</td>\n",
       "      <td>9.997330e-01</td>\n",
       "      <td>1</td>\n",
       "      <td>0.030769</td>\n",
       "    </tr>\n",
       "    <tr>\n",
       "      <th>7</th>\n",
       "      <td>0.000320</td>\n",
       "      <td>9.996797e-01</td>\n",
       "      <td>1</td>\n",
       "      <td>0.035897</td>\n",
       "    </tr>\n",
       "    <tr>\n",
       "      <th>8</th>\n",
       "      <td>0.000855</td>\n",
       "      <td>9.991454e-01</td>\n",
       "      <td>1</td>\n",
       "      <td>0.041026</td>\n",
       "    </tr>\n",
       "    <tr>\n",
       "      <th>9</th>\n",
       "      <td>0.008182</td>\n",
       "      <td>9.918180e-01</td>\n",
       "      <td>1</td>\n",
       "      <td>0.046154</td>\n",
       "    </tr>\n",
       "    <tr>\n",
       "      <th>10</th>\n",
       "      <td>0.062633</td>\n",
       "      <td>9.373674e-01</td>\n",
       "      <td>1</td>\n",
       "      <td>0.051282</td>\n",
       "    </tr>\n",
       "    <tr>\n",
       "      <th>11</th>\n",
       "      <td>0.244429</td>\n",
       "      <td>7.555710e-01</td>\n",
       "      <td>1</td>\n",
       "      <td>0.056410</td>\n",
       "    </tr>\n",
       "    <tr>\n",
       "      <th>12</th>\n",
       "      <td>0.546434</td>\n",
       "      <td>4.535662e-01</td>\n",
       "      <td>0</td>\n",
       "      <td>0.061538</td>\n",
       "    </tr>\n",
       "    <tr>\n",
       "      <th>13</th>\n",
       "      <td>0.855140</td>\n",
       "      <td>1.448601e-01</td>\n",
       "      <td>0</td>\n",
       "      <td>0.066667</td>\n",
       "    </tr>\n",
       "    <tr>\n",
       "      <th>14</th>\n",
       "      <td>0.988430</td>\n",
       "      <td>1.157035e-02</td>\n",
       "      <td>0</td>\n",
       "      <td>0.071795</td>\n",
       "    </tr>\n",
       "    <tr>\n",
       "      <th>15</th>\n",
       "      <td>0.999796</td>\n",
       "      <td>2.040221e-04</td>\n",
       "      <td>0</td>\n",
       "      <td>0.076923</td>\n",
       "    </tr>\n",
       "    <tr>\n",
       "      <th>16</th>\n",
       "      <td>1.000000</td>\n",
       "      <td>1.762272e-07</td>\n",
       "      <td>0</td>\n",
       "      <td>0.082051</td>\n",
       "    </tr>\n",
       "    <tr>\n",
       "      <th>17</th>\n",
       "      <td>1.000000</td>\n",
       "      <td>2.101867e-12</td>\n",
       "      <td>0</td>\n",
       "      <td>0.087179</td>\n",
       "    </tr>\n",
       "    <tr>\n",
       "      <th>18</th>\n",
       "      <td>1.000000</td>\n",
       "      <td>6.595802e-21</td>\n",
       "      <td>0</td>\n",
       "      <td>0.092308</td>\n",
       "    </tr>\n",
       "    <tr>\n",
       "      <th>19</th>\n",
       "      <td>1.000000</td>\n",
       "      <td>6.106805e-35</td>\n",
       "      <td>0</td>\n",
       "      <td>0.097436</td>\n",
       "    </tr>\n",
       "    <tr>\n",
       "      <th>20</th>\n",
       "      <td>1.000000</td>\n",
       "      <td>0.000000e+00</td>\n",
       "      <td>0</td>\n",
       "      <td>0.102564</td>\n",
       "    </tr>\n",
       "    <tr>\n",
       "      <th>21</th>\n",
       "      <td>1.000000</td>\n",
       "      <td>0.000000e+00</td>\n",
       "      <td>0</td>\n",
       "      <td>0.107692</td>\n",
       "    </tr>\n",
       "    <tr>\n",
       "      <th>22</th>\n",
       "      <td>1.000000</td>\n",
       "      <td>0.000000e+00</td>\n",
       "      <td>0</td>\n",
       "      <td>0.112821</td>\n",
       "    </tr>\n",
       "    <tr>\n",
       "      <th>23</th>\n",
       "      <td>1.000000</td>\n",
       "      <td>0.000000e+00</td>\n",
       "      <td>0</td>\n",
       "      <td>0.117949</td>\n",
       "    </tr>\n",
       "    <tr>\n",
       "      <th>24</th>\n",
       "      <td>1.000000</td>\n",
       "      <td>0.000000e+00</td>\n",
       "      <td>0</td>\n",
       "      <td>0.123077</td>\n",
       "    </tr>\n",
       "    <tr>\n",
       "      <th>25</th>\n",
       "      <td>1.000000</td>\n",
       "      <td>0.000000e+00</td>\n",
       "      <td>0</td>\n",
       "      <td>0.128205</td>\n",
       "    </tr>\n",
       "    <tr>\n",
       "      <th>26</th>\n",
       "      <td>1.000000</td>\n",
       "      <td>0.000000e+00</td>\n",
       "      <td>0</td>\n",
       "      <td>0.133333</td>\n",
       "    </tr>\n",
       "    <tr>\n",
       "      <th>27</th>\n",
       "      <td>1.000000</td>\n",
       "      <td>0.000000e+00</td>\n",
       "      <td>0</td>\n",
       "      <td>0.138462</td>\n",
       "    </tr>\n",
       "    <tr>\n",
       "      <th>28</th>\n",
       "      <td>1.000000</td>\n",
       "      <td>0.000000e+00</td>\n",
       "      <td>0</td>\n",
       "      <td>0.143590</td>\n",
       "    </tr>\n",
       "    <tr>\n",
       "      <th>29</th>\n",
       "      <td>1.000000</td>\n",
       "      <td>0.000000e+00</td>\n",
       "      <td>0</td>\n",
       "      <td>0.148718</td>\n",
       "    </tr>\n",
       "    <tr>\n",
       "      <th>30</th>\n",
       "      <td>1.000000</td>\n",
       "      <td>0.000000e+00</td>\n",
       "      <td>0</td>\n",
       "      <td>0.153846</td>\n",
       "    </tr>\n",
       "    <tr>\n",
       "      <th>31</th>\n",
       "      <td>1.000000</td>\n",
       "      <td>0.000000e+00</td>\n",
       "      <td>0</td>\n",
       "      <td>0.158974</td>\n",
       "    </tr>\n",
       "    <tr>\n",
       "      <th>32</th>\n",
       "      <td>1.000000</td>\n",
       "      <td>0.000000e+00</td>\n",
       "      <td>0</td>\n",
       "      <td>0.164103</td>\n",
       "    </tr>\n",
       "    <tr>\n",
       "      <th>33</th>\n",
       "      <td>1.000000</td>\n",
       "      <td>0.000000e+00</td>\n",
       "      <td>0</td>\n",
       "      <td>0.169231</td>\n",
       "    </tr>\n",
       "    <tr>\n",
       "      <th>34</th>\n",
       "      <td>1.000000</td>\n",
       "      <td>0.000000e+00</td>\n",
       "      <td>0</td>\n",
       "      <td>0.174359</td>\n",
       "    </tr>\n",
       "    <tr>\n",
       "      <th>35</th>\n",
       "      <td>1.000000</td>\n",
       "      <td>0.000000e+00</td>\n",
       "      <td>0</td>\n",
       "      <td>0.179487</td>\n",
       "    </tr>\n",
       "    <tr>\n",
       "      <th>36</th>\n",
       "      <td>1.000000</td>\n",
       "      <td>0.000000e+00</td>\n",
       "      <td>0</td>\n",
       "      <td>0.184615</td>\n",
       "    </tr>\n",
       "    <tr>\n",
       "      <th>37</th>\n",
       "      <td>1.000000</td>\n",
       "      <td>0.000000e+00</td>\n",
       "      <td>0</td>\n",
       "      <td>0.189744</td>\n",
       "    </tr>\n",
       "    <tr>\n",
       "      <th>38</th>\n",
       "      <td>1.000000</td>\n",
       "      <td>0.000000e+00</td>\n",
       "      <td>0</td>\n",
       "      <td>0.194872</td>\n",
       "    </tr>\n",
       "    <tr>\n",
       "      <th>39</th>\n",
       "      <td>1.000000</td>\n",
       "      <td>0.000000e+00</td>\n",
       "      <td>0</td>\n",
       "      <td>0.200000</td>\n",
       "    </tr>\n",
       "  </tbody>\n",
       "</table>\n",
       "</div>"
      ],
      "text/plain": [
       "       out_0         out_1  prediction    height\n",
       "0   0.000051  9.999491e-01           1  0.000000\n",
       "1   0.000199  9.998015e-01           1  0.005128\n",
       "2   0.000325  9.996748e-01           1  0.010256\n",
       "3   0.000510  9.994897e-01           1  0.015385\n",
       "4   0.000755  9.992449e-01           1  0.020513\n",
       "5   0.000419  9.995808e-01           1  0.025641\n",
       "6   0.000267  9.997330e-01           1  0.030769\n",
       "7   0.000320  9.996797e-01           1  0.035897\n",
       "8   0.000855  9.991454e-01           1  0.041026\n",
       "9   0.008182  9.918180e-01           1  0.046154\n",
       "10  0.062633  9.373674e-01           1  0.051282\n",
       "11  0.244429  7.555710e-01           1  0.056410\n",
       "12  0.546434  4.535662e-01           0  0.061538\n",
       "13  0.855140  1.448601e-01           0  0.066667\n",
       "14  0.988430  1.157035e-02           0  0.071795\n",
       "15  0.999796  2.040221e-04           0  0.076923\n",
       "16  1.000000  1.762272e-07           0  0.082051\n",
       "17  1.000000  2.101867e-12           0  0.087179\n",
       "18  1.000000  6.595802e-21           0  0.092308\n",
       "19  1.000000  6.106805e-35           0  0.097436\n",
       "20  1.000000  0.000000e+00           0  0.102564\n",
       "21  1.000000  0.000000e+00           0  0.107692\n",
       "22  1.000000  0.000000e+00           0  0.112821\n",
       "23  1.000000  0.000000e+00           0  0.117949\n",
       "24  1.000000  0.000000e+00           0  0.123077\n",
       "25  1.000000  0.000000e+00           0  0.128205\n",
       "26  1.000000  0.000000e+00           0  0.133333\n",
       "27  1.000000  0.000000e+00           0  0.138462\n",
       "28  1.000000  0.000000e+00           0  0.143590\n",
       "29  1.000000  0.000000e+00           0  0.148718\n",
       "30  1.000000  0.000000e+00           0  0.153846\n",
       "31  1.000000  0.000000e+00           0  0.158974\n",
       "32  1.000000  0.000000e+00           0  0.164103\n",
       "33  1.000000  0.000000e+00           0  0.169231\n",
       "34  1.000000  0.000000e+00           0  0.174359\n",
       "35  1.000000  0.000000e+00           0  0.179487\n",
       "36  1.000000  0.000000e+00           0  0.184615\n",
       "37  1.000000  0.000000e+00           0  0.189744\n",
       "38  1.000000  0.000000e+00           0  0.194872\n",
       "39  1.000000  0.000000e+00           0  0.200000"
      ]
     },
     "execution_count": 118,
     "metadata": {},
     "output_type": "execute_result"
    }
   ],
   "source": [
    "out_dir = '/home/francesco/Documents/Master-Thesis/papers/Thesis/img/5/custom_patches/ramp'\n",
    "\n",
    "heights = np.linspace(0, 0.2, 40) # from 1 to 20 cm (remember the res of 0.02cm/px) Krock height from ground is 4cm\n",
    "\n",
    "walls = [WallPatch(KrockPatchExtractStrategy.patch_shape(0.7), strength=s, back=False, offset=53, size=4)() \n",
    "         for s in heights ]\n",
    "\n",
    "answer, explanation = get_answers_from_patches(walls)\n",
    "\n",
    "explanation.df['height'] = heights\n",
    "explanation.df.to_csv(out_dir + '/prediction.csv')\n",
    "explanation.df"
   ]
  },
  {
   "cell_type": "code",
   "execution_count": 120,
   "metadata": {},
   "outputs": [
    {
     "data": {
      "image/png": "[encoded data removed]",
      "text/plain": [
       "<Figure size 1600x1400 with 1 Axes>"
      ]
     },
     "metadata": {},
     "output_type": "display_data"
    }
   ],
   "source": [
    "fig = plt.figure()\n",
    "plt.plot(explanation.df['out_1'], label='Traversable Probability ')\n",
    "plt.plot(explanation.df['out_0'], label='Not Traversable Probability')\n",
    "ax = plt.gca()\n",
    "\n",
    "ax.set_xticks(np.arange(len(heights)))\n",
    "ax.set_xticklabels(['{:.1f}'.format(d) for d in heights * 100], rotation=0)\n",
    "ax.set_xlabel('Maximum height (cm)',  fontsize=18)\n",
    "plt.legend()\n",
    "plt.show()\n",
    "fig.savefig(out_dir + '/predictions.png')"
   ]
  },
  {
   "cell_type": "code",
   "execution_count": null,
   "metadata": {
    "scrolled": false
   },
   "outputs": [],
   "source": [
    "out_dir = '/home/francesco/Documents/Master-Thesis/papers/Thesis/img/5/custom_patches/wall_under'\n",
    "\n",
    "heights = np.linspace(0, 0.2, 40) # from 1 to 20 cm (remember the res of 0.02cm/px) Krock height from ground is 4cm\n",
    "\n",
    "walls = [WallPatch(KrockPatchExtractStrategy.patch_shape(0.71), strength=s, back=False, offset=53, size=4)() \n",
    "         for s in heights ]\n",
    "\n",
    "answer, explanation = get_answers_from_patches(walls)\n",
    "\n",
    "explanation.df['height'] = heights\n",
    "explanation.df.to_csv(out_dir + '/prediction.csv')\n",
    "explanation.df"
   ]
  },
  {
   "cell_type": "code",
   "execution_count": null,
   "metadata": {},
   "outputs": [],
   "source": [
    "seconds = 4\n",
    "time_window = 100\n",
    "answer[12].add_advancement_using_simulator(seconds, time_window)\n",
    "answer[12].plot2d().savefig(out_dir + '/wall-1-2d.png')\n",
    "answer[13].add_advancement_using_simulator(seconds, time_window)\n",
    "answer[13].plot2d().savefig(out_dir + '/wall-2-2d.png')"
   ]
  },
  {
   "cell_type": "markdown",
   "metadata": {},
   "source": [
    "## Tunnel"
   ]
  },
  {
   "cell_type": "code",
   "execution_count": null,
   "metadata": {},
   "outputs": [],
   "source": [
    "out_dir = '/home/francesco/Documents/Master-Thesis/papers/Thesis/img/5/custom_patches/tunnel'\n",
    "\n",
    "offsets = np.linspace(1, 25, 25) # from 1 to 20 cm (remember the res of 0.02cm/px)\n",
    "\n",
    "walls = [BarPatch(KrockPatchExtractStrategy.patch_shape(0.71), strength=1, offset=int(o))() \n",
    "         for o in offsets ]"
   ]
  },
  {
   "cell_type": "code",
   "execution_count": null,
   "metadata": {},
   "outputs": [],
   "source": [
    "answer, explanation = get_answers_from_patches(walls)\n",
    "\n",
    "explanation.df['offset'] = offsets\n",
    "explanation.df.to_csv(out_dir + 'prediction.csv')\n",
    "explanation.df"
   ]
  },
  {
   "cell_type": "code",
   "execution_count": null,
   "metadata": {},
   "outputs": [],
   "source": [
    "seconds = 4\n",
    "time_window = 100\n",
    "answer[23].add_advancement_using_simulator(seconds, time_window)\n",
    "answer[23].plot2d().savefig(out_dir + '/wall-1-2d.png')\n",
    "# answer[13].add_advancement_using_simulator(seconds, time_window)\n",
    "# answer[13].plot2d().savefig(out_dir + '/wall-2-2d.png')"
   ]
  },
  {
   "cell_type": "markdown",
   "metadata": {},
   "source": [
    "## Ramps"
   ]
  },
  {
   "cell_type": "code",
   "execution_count": null,
   "metadata": {},
   "outputs": [],
   "source": [
    "walls[0].plot2d()"
   ]
  },
  {
   "cell_type": "code",
   "execution_count": null,
   "metadata": {
    "scrolled": true
   },
   "outputs": [],
   "source": [
    "out_dir = '/home/francesco/Documents/Master-Thesis/papers/Thesis/img/5/custom_patches/ramp/'\n",
    "\n",
    "strenght = np.linspace(0.5, 2, 20) # from 1 to 20 cm (remember the res of 0.02cm/px)\n",
    "\n",
    "ramps = [RampPatch(KrockPatchExtractStrategy.patch_shape(0.71), strenght=s, factors_func=lambda x : x**2)() \n",
    "         for s in strenght ]\n",
    "\n",
    "answer, explanation = get_answers_from_patches(ramps)\n",
    "\n",
    "explanation.df['strenght'] = strenght\n",
    "explanation.df['factors'] = max_factors = list(map(lambda x: x.factors[-1], ramps))\n",
    "explanation.df.to_csv(out_dir + 'prediction.csv')\n",
    "explanation.df"
   ]
  },
  {
   "cell_type": "code",
   "execution_count": null,
   "metadata": {},
   "outputs": [],
   "source": [
    "def store_patch(patch, out_dir, name):\n",
    "    fig = patch.plot2d()\n",
    "    plt.show()\n",
    "    fig.savefig(out_dir + '/{}-2d.png'.format(name))\n",
    "    patch.plot3d_mayavi(0.02, size=(513,513), distance=3.5, save_path=out_dir + '/{}-3d.png'.format(name), azimuth=0, color=(0,0.5,0), elevation=35, colormap='viridis', mesh=True, vmax=1)"
   ]
  },
  {
   "cell_type": "code",
   "execution_count": null,
   "metadata": {},
   "outputs": [],
   "source": [
    "answer[7].add_advancement_using_simulator(5, 100)"
   ]
  },
  {
   "cell_type": "code",
   "execution_count": null,
   "metadata": {
    "scrolled": false
   },
   "outputs": [],
   "source": [
    "store_patch(answer[7], out_dir, 'ramp-7')"
   ]
  },
  {
   "cell_type": "code",
   "execution_count": null,
   "metadata": {},
   "outputs": [],
   "source": [
    "# store all the walls for the thesis\n",
    "for n, p in enumerate(answer):\n",
    "    p.plot3d_mayavi(0.02, size=(513,513), distance=3.5, save_path=out_dir + '/all/{:02d}-3d.png'.format(n), azimuth=0, color=(0,0.5,0), elevation=35, mesh=True, vmax=1)"
   ]
  },
  {
   "cell_type": "code",
   "execution_count": null,
   "metadata": {},
   "outputs": [],
   "source": []
  }
 ],
 "metadata": {
  "kernelspec": {
   "display_name": "Python 3",
   "language": "python",
   "name": "python3"
  },
  "language_info": {
   "codemirror_mode": {
    "name": "ipython",
    "version": 3
   },
   "file_extension": ".py",
   "mimetype": "text/x-python",
   "name": "python",
   "nbconvert_exporter": "python",
   "pygments_lexer": "ipython3",
   "version": "3.6.7"
  }
 },
 "nbformat": 4,
 "nbformat_minor": 2
}
