{
 "cells": [
  {
   "cell_type": "code",
   "execution_count": 1,
   "metadata": {},
   "outputs": [
    {
     "name": "stderr",
     "output_type": "stream",
     "text": [
      "/home/francesco/.local/lib/python3.6/site-packages/requests/__init__.py:91: RequestsDependencyWarning: urllib3 (1.25.2) or chardet (3.0.4) doesn't match a supported version!\n",
      "  RequestsDependencyWarning)\n"
     ]
    }
   ],
   "source": [
    "%reload_ext autoreload\n",
    "%autoreload 2\n",
    "\n",
    "import torch\n",
    "import matplotlib\n",
    "import os\n",
    "import matplotlib.pyplot as plt\n",
    "from estimators.data import TraversabilityDataset, get_transform\n",
    "from estimators.data.TraversabilityDataset import PatchesDataset\n",
    "from estimators.utils import get_learner\n",
    "from utilities.postprocessing.utils import KrockPatchExtractStrategy\n",
    "from utilities.patches import *\n",
    "from interpretability import *\n",
    "from utilities.patches import *\n",
    "from jupyterthemes import jtplot\n",
    "from estimators.utils import load_model_from_name\n",
    "\n",
    "from torch.nn.functional import softmax, relu\n",
    "from torch.nn.functional import adaptive_avg_pool2d\n",
    "from torch.utils.data import DataLoader\n",
    "import functools\n",
    "import operator\n",
    "from matplotlib.offsetbox import OffsetImage, AnnotationBbox\n"
   ]
  },
  {
   "cell_type": "code",
   "execution_count": 2,
   "metadata": {},
   "outputs": [],
   "source": [
    "from jupyterthemes import jtplot\n",
    "jtplot.reset()\n",
    "#\n",
    "# plt.style.use(['science', 'ieee'])\n",
    "\n",
    "plt.style.use(['science'])\n",
    "\n",
    "matplotlib.rcParams['figure.figsize'] = (15, 15)\n",
    "get_ipython().config.get('IPKernelApp', {})['parent_appname'] = \"\""
   ]
  },
  {
   "cell_type": "markdown",
   "metadata": {},
   "source": [
    "# Parameters"
   ]
  },
  {
   "cell_type": "code",
   "execution_count": 6,
   "metadata": {},
   "outputs": [
    {
     "data": {
      "text/plain": [
       "device(type='cuda')"
      ]
     },
     "execution_count": 6,
     "metadata": {},
     "output_type": "execute_result"
    }
   ],
   "source": [
    "model_name = 'microresnet#3-gate=7x7-n=1-se=True'\n",
    "model_dir = '/media/francesco/Carino/vaevictis/data/1558825182.753924'\n",
    "# model_dir = '/media/francesco/Carino/vaevictis/data/1559690958.4176426'\n",
    "\n",
    "BASE_DIR = '/media/francesco/saetta/krock-dataset/test/'\n",
    "TEST_META = BASE_DIR + '/meta.csv'\n",
    "\n",
    "TEST_ROOT = '/media/francesco/saetta/krock-dataset/new-test-random/csvs_patches'\n",
    "PATCHES_DIR = '/media/francesco/saetta/krock-dataset/new-test-random/patches/0.71/'\n",
    "\n",
    "device = torch.device('cuda' if torch.cuda.is_available() else 'cpu')\n",
    "module = load_model_from_name(model_dir + '/roc_auc.pth', model_name ).to(device)\n",
    "# module = module.eval().to(device)\n",
    "\n",
    "MAX_ADVANCEMENT = 0.70\n",
    "seconds = 4\n",
    "time_window = 100\n",
    "device"
   ]
  },
  {
   "cell_type": "code",
   "execution_count": 7,
   "metadata": {},
   "outputs": [],
   "source": [
    "ds = TraversabilityDataset.from_root('/media/francesco/saetta/krock-dataset/new-test-random/100/', \n",
    "                                      patches_dir='/media/francesco/saetta/krock-dataset/new-test-random/100/patches/', \n",
    "                                     time_window = 50*2, patch_size=0.7, tr=0.2, transform=get_transform(debug=False), return_info=True)\n",
    "\n",
    "# ds = TraversabilityDataset.from_root('/media/francesco/saetta/krock-dataset/train/100/', \n",
    "#                                      patches_dir='/media/francesco/saetta/krock-dataset/train/100/patches/', \n",
    "#                                      time_window = 50*2, patch_size=0.7, tr=0.2, transform=get_transform(debug=False), return_info=True)\n",
    "\n",
    "import torch\n",
    "torch.manual_seed(0)\n",
    "torch.backends.cudnn.deterministic = True\n",
    "torch.backends.cudnn.benchmark = False\n",
    "np.random.seed(0)\n"
   ]
  },
  {
   "cell_type": "code",
   "execution_count": 8,
   "metadata": {
    "scrolled": true
   },
   "outputs": [],
   "source": [
    "out_dir = '/home/francesco/Documents/Master-Thesis/papers/Thesis/img/5/pca/'\n",
    "\n",
    "class Storage():\n",
    "    \"\"\"\n",
    "    This class keep an internat buffer to store the outputs of a specific layer\n",
    "    \"\"\"\n",
    "    def __init__(self):\n",
    "        self.data = None\n",
    "        \n",
    "    def __call__(self, module, input, outputs):\n",
    "        if self.data is None: self.data = outputs\n",
    "        else:\n",
    "            self.data = torch.cat([self.data, outputs])\n",
    "    def reset(self):\n",
    "        self.data = None\n",
    "        \n",
    "def run_and_stop(at=10):\n",
    "    targets = None\n",
    "    images_paths, heights = [], []\n",
    "    stop_at = 10\n",
    "    for i, batch in enumerate(dl):\n",
    "        x = batch[0].cuda()\n",
    "        images_paths.append(batch[2])\n",
    "        heights.append(batch[3].tolist())\n",
    "        if targets is None: targets =  batch[1]\n",
    "        else:\n",
    "            targets = torch.cat([targets, batch[1]])\n",
    "        out = module(x)\n",
    "        pred = torch.argmax(softmax(out), -1)\n",
    "        if i == stop_at: break\n",
    "                    \n",
    "\n",
    "    handler.remove()\n",
    "    \n",
    "    return targets, images_paths, heights\n",
    "\n",
    "def PCA(x, k=2):\n",
    "    # preprocess the data\n",
    "    X_mean = torch.mean(x,0)\n",
    "    x = x - X_mean.expand_as(x)\n",
    "    # svd\n",
    "    U,S,V = torch.svd(torch.t(x))\n",
    "    return torch.mm(x,U[:,:k])"
   ]
  },
  {
   "cell_type": "code",
   "execution_count": 9,
   "metadata": {},
   "outputs": [
    {
     "name": "stderr",
     "output_type": "stream",
     "text": [
      "/home/francesco/.local/lib/python3.6/site-packages/ipykernel_launcher.py:29: UserWarning: Implicit dimension choice for softmax has been deprecated. Change the call to include dim=X as an argument.\n"
     ]
    },
    {
     "data": {
      "text/plain": [
       "torch.Size([11264, 1152])"
      ]
     },
     "execution_count": 9,
     "metadata": {},
     "output_type": "execute_result"
    }
   ],
   "source": [
    "k = 2\n",
    "storage = Storage()\n",
    "# hook the storage to the last conv layer just before the fc\n",
    "handler =  module.encoder.layers[-1].layer[0].register_forward_hook(storage) \n",
    "dl = DataLoader(ds, batch_size=1024, num_workers=14, pin_memory=True, shuffle=True)\n",
    "module = module.to(device)\n",
    "# run the model on the dataset and get the targets\n",
    "targets, images_paths, heights = run_and_stop(10)\n",
    "targets = targets.cpu().numpy().astype(int)\n",
    "images_paths = functools.reduce(operator.concat, images_paths)\n",
    "heights = functools.reduce(operator.concat, heights)\n",
    "# average the features vector to get a [BATCH_SIZE X N_POINT X 1]\n",
    "x =  storage.data.view((storage.data.shape[0], -1))\n",
    "# run PCA on the points \n",
    "pca = PCA(x, k).cpu().detach().numpy()\n",
    "\n",
    "x.shape"
   ]
  },
  {
   "cell_type": "code",
   "execution_count": 7,
   "metadata": {},
   "outputs": [],
   "source": [
    "%matplotlib notebook"
   ]
  },
  {
   "cell_type": "code",
   "execution_count": 57,
   "metadata": {
    "scrolled": false
   },
   "outputs": [],
   "source": [
    "from mpl_toolkits.mplot3d import Axes3D\n",
    "\n",
    "def make_2d_scatter(pca, save_path, class_hightlight=None):\n",
    "    fig = plt.figure()\n",
    "    has_z = pca.shape[-1] == 3\n",
    "    if has_z: ax = fig.add_subplot(111, projection='3d')\n",
    "    for i, target_name in enumerate(['Not Traversable', 'Traversable']):\n",
    "        idx = targets == i\n",
    "        alpha = 0.7\n",
    "        if class_hightlight is not None: alpha = 0.9 if i == class_hightlight else 0.1\n",
    "        if has_z: ax.scatter(pca[idx, 0], pca[idx, 1], pca[idx, 2], s=3, label=target_name, alpha=alpha)\n",
    "        else: plt.scatter(pca[idx, 0], pca[idx, 1], s=3, label=target_name, alpha=alpha)\n",
    "    plt.legend()\n",
    "#     plt.savefig(save_path, dpi= 400, bbox_inches='tight', transparent=True)\n",
    "    plt.show()\n",
    "matplotlib.rcParams['figure.figsize'] = (14, 12)\n",
    "\n",
    "# make_2d_scatter(pca, out_dir + '/pca3d.png')\n",
    "# make_2d_scatter(pca, out_dir + '/pca3d-1.png', class_hightlight=1)\n",
    "# make_2d_scatter(pca, out_dir + '/pca3d-0.png', class_hightlight=0)"
   ]
  },
  {
   "cell_type": "code",
   "execution_count": 10,
   "metadata": {},
   "outputs": [],
   "source": [
    "df = pd.DataFrame(data = {'x' : pca[:,0], 'y' : pca[:, 1], 'height': heights, 'images': images_paths, 'targets' : targets})\n",
    "\n",
    "df.to_csv(out_dir + '/pca-test.csv')\n"
   ]
  },
  {
   "cell_type": "markdown",
   "metadata": {},
   "source": [
    "### Store the patches"
   ]
  },
  {
   "cell_type": "code",
   "execution_count": 3,
   "metadata": {
    "scrolled": true
   },
   "outputs": [],
   "source": [
    "out_dir = '/media/francesco/saetta/quarry-grad/test/collage/'\n",
    "patches_dir = '/media/francesco/saetta/krock-dataset/new-test-random/100/patches/'\n",
    "\n",
    "df = pd.read_csv('/home/francesco/Documents/Master-Thesis/papers/Thesis/img/5/pca/pca-test.csv')\n",
    "total = 2000\n",
    "skip_every = len(df) // total\n",
    "\n",
    "# to make the background transparent use\n",
    "# $ for file in *.png; do convert $file -transparent white transparent-$file; done"
   ]
  },
  {
   "cell_type": "code",
   "execution_count": 4,
   "metadata": {},
   "outputs": [],
   "source": [
    "for idx, row in df[::skip_every].iterrows():\n",
    "    p = Patch.from_path(patches_dir + row['images']) \n",
    "    p.hm *= row['height']\n",
    "    save_path = out_dir + '/{}.png'.format(os.path.splitext(row['images'])[0])\n",
    "    p.plot3d_mayavi(0.02, size=(513,513), distance=2.5 + max(1, row['height'] // 5), azimuth=0, elevation=45, mesh=True, save_path=save_path)\n",
    "#     save_path = out_dir + '/viridis-{}.png'.format(os.path.splitext(row['images'])[0])\n",
    "#     p.plot3d_mayavi(0.02, size=(513,513), distance=2.5 + max(1, row['height'] // 2), azimuth=0, elevation=45, mesh=True, colormap='viridis', save_path=save_path)\n",
    "    del p"
   ]
  },
  {
   "cell_type": "markdown",
   "metadata": {},
   "source": [
    "## Plotting patches"
   ]
  },
  {
   "cell_type": "code",
   "execution_count": 11,
   "metadata": {},
   "outputs": [
    {
     "data": {
      "text/plain": [
       "23"
      ]
     },
     "execution_count": 11,
     "metadata": {},
     "output_type": "execute_result"
    }
   ],
   "source": [
    "import gc\n",
    "\n",
    "gc.collect()"
   ]
  },
  {
   "cell_type": "code",
   "execution_count": 4,
   "metadata": {
    "scrolled": false
   },
   "outputs": [],
   "source": [
    "from matplotlib.offsetbox import OffsetImage, AnnotationBbox\n",
    "from sklearn.cluster import KMeans\n",
    "\n",
    "df = pd.read_csv('/home/francesco/Documents/Master-Thesis/papers/Thesis/img/5/pca/pca.csv')\n",
    "patches_dir = '/media/francesco/saetta/quarry-grad/collage_transparent/'\n",
    "out_dir = '/home/francesco/Documents/Master-Thesis/papers/Thesis/img/5/pca/'\n",
    "\n",
    "df =  df[::skip_every]\n",
    "coords = np.stack([df['x'].values, df['y'].values], -1)\n",
    "estimator = KMeans(n_clusters=200)\n",
    "estimator.fit(coords)\n",
    "\n",
    "clusters_dfs= [df.iloc[np.where(estimator.labels_ == i)] for i in range(estimator.n_clusters)]\n",
    "       \n",
    "# def imread(path):\n",
    "#     im = cv2.imread(path)\n",
    "#     return cv2.cvtColor(img, cv2.COLOR_BGR2RGBA)\n",
    "\n",
    "# fig, ax = plt.subplots()\n",
    "# ax.scatter(df['x'].values, df['y'].values, alpha=0)    \n",
    "\n",
    "# for idx, row in df[::500].iterrows():\n",
    "#     x,y, img_name = row[['x', 'y', 'images']]\n",
    "#     path = patches_dir + 'transparent-' + img_name\n",
    "#     ab = AnnotationBbox(OffsetImage(plt.imread(path), zoom=0.05), (x, y), frameon=False)\n",
    "# #     ab = AnnotationBbox(OffsetImage(plt.imread(path), zoom=0.05), (x, y), frameon=False)\n",
    "#     ax.add_artist(ab)\n",
    "    \n",
    "# plt.show()\n",
    "\n",
    "# fig.savefig(out_dir + '/pca-patches.png')"
   ]
  },
  {
   "cell_type": "code",
   "execution_count": 5,
   "metadata": {
    "scrolled": false
   },
   "outputs": [
    {
     "name": "stderr",
     "output_type": "stream",
     "text": [
      "/home/francesco/.local/lib/python3.6/site-packages/matplotlib/font_manager.py:1241: UserWarning: findfont: Font family ['serif'] not found. Falling back to DejaVu Sans.\n",
      "  (prop.get_family(), self.defaultFamily[fontext]))\n"
     ]
    }
   ],
   "source": [
    "       \n",
    "def imread(path):\n",
    "    im = cv2.imread(path)\n",
    "    return cv2.cvtColor(img, cv2.COLOR_BGR2RGBA)\n",
    "\n",
    "fig, ax = plt.subplots()\n",
    "ax.scatter(df['x'].values, df['y'].values, alpha=0)    \n",
    "\n",
    "for df in clusters_dfs:\n",
    "    row = df.iloc[len(df) // 2]\n",
    "\n",
    "    x,y, img_name = row[['x', 'y', 'images']]\n",
    "    path = patches_dir + 'transparent-' + img_name\n",
    "    ab = AnnotationBbox(OffsetImage(plt.imread(path), zoom=0.05), (x, y), frameon=False)\n",
    "#     ab = AnnotationBbox(OffsetImage(plt.imread(path), zoom=0.05), (x, y), frameon=False)\n",
    "    ax.add_artist(ab)\n",
    "    del ax\n",
    "\n",
    "# plt.show()\n",
    "\n",
    "fig.savefig(out_dir + '/pca-patches.png', dpi=400)"
   ]
  },
  {
   "cell_type": "markdown",
   "metadata": {},
   "source": [
    "# Analize Quarry Test Set\n",
    "We are going to use the test set created from simulations run on the Quarry map to understand the model behaviour. We will try to answer different questions, such as \"Which are the easiest traversable patches?\" or \"Are they any ground feature that can misslead the model?\"."
   ]
  },
  {
   "cell_type": "code",
   "execution_count": 12,
   "metadata": {
    "scrolled": false
   },
   "outputs": [
    {
     "name": "stdout",
     "output_type": "stream",
     "text": [
      "36128\n"
     ]
    },
    {
     "name": "stderr",
     "output_type": "stream",
     "text": [
      "/home/francesco/Documents/Master-Thesis/core/interpretability/__init__.py:35: FutureWarning: Sorting because non-concatenation axis is not aligned. A future version\n",
      "of pandas will change to not sort by default.\n",
      "\n",
      "To accept the future behavior, pass 'sort=False'.\n",
      "\n",
      "To retain the current behavior and silence the warning, pass 'sort=True'.\n",
      "\n",
      "  df = pd.concat([df, ds.df])\n"
     ]
    }
   ],
   "source": [
    "ds = TraversabilityDataset.from_root('/media/francesco/saetta/krock-dataset/new-test-random/100/', \n",
    "                                     patches_dir='/media/francesco/saetta/krock-dataset/new-test-random/100/patches/', \n",
    "                                     time_window = 50*2, patch_size=0.7, tr=0.2, transform=get_transform(debug=False))\n",
    "learner, _ = get_learner(model_name, model_dir, [], dataset=ds)\n",
    "explain = ExplainModel.from_leaner(learner, ds)"
   ]
  },
  {
   "cell_type": "code",
   "execution_count": null,
   "metadata": {
    "scrolled": true
   },
   "outputs": [],
   "source": [
    "explain.by_looking_at().tell(ClassificationAnswer.from_explain).plot_confusion_matrix()"
   ]
  },
  {
   "cell_type": "markdown",
   "metadata": {},
   "source": [
    "## Visualize the best and worst patches sorted by advancement"
   ]
  },
  {
   "cell_type": "code",
   "execution_count": 13,
   "metadata": {
    "scrolled": true
   },
   "outputs": [
    {
     "name": "stdout",
     "output_type": "stream",
     "text": [
      "35834    0.201436\n",
      "15195    0.206336\n",
      "24744    0.208517\n",
      "35839    0.209481\n",
      "15161    0.209597\n",
      "15194    0.213821\n",
      "29344    0.220460\n",
      "15094    0.222190\n",
      "13036    0.223903\n",
      "36070    0.227005\n",
      "24831    0.229527\n",
      "29294    0.231498\n",
      "13035    0.232478\n",
      "24751    0.233182\n",
      "15191    0.237794\n",
      "24814    0.240538\n",
      "4055     0.242590\n",
      "4064     0.243595\n",
      "15163    0.245010\n",
      "24806    0.245740\n",
      "29674    0.247316\n",
      "15209    0.249698\n",
      "29293    0.251704\n",
      "4058     0.254031\n",
      "15189    0.254187\n",
      "36105    0.255814\n",
      "24823    0.256072\n",
      "13032    0.256857\n",
      "24818    0.257720\n",
      "32231    0.259096\n",
      "           ...   \n",
      "32281    0.345457\n",
      "4114     0.351792\n",
      "32285    0.354307\n",
      "32286    0.356087\n",
      "4109     0.362824\n",
      "28592    0.363721\n",
      "24791    0.365308\n",
      "24790    0.367859\n",
      "28591    0.370539\n",
      "24786    0.377256\n",
      "16693    0.392899\n",
      "16696    0.398989\n",
      "36121    0.405921\n",
      "28584    0.416623\n",
      "8942     0.424088\n",
      "36123    0.444188\n",
      "16706    0.467037\n",
      "6450     0.469265\n",
      "36127    0.520480\n",
      "16724    0.583861\n",
      "4819     0.599076\n",
      "4820     0.599230\n",
      "4861     0.605019\n",
      "4860     0.605648\n",
      "4857     0.605808\n",
      "16730    0.632864\n",
      "4800     0.643435\n",
      "4801     0.646081\n",
      "4803     0.652833\n",
      "4804     0.656780\n",
      "Name: advancement, Length: 100, dtype: float64\n",
      "29972   -1.133642e-01\n",
      "29978   -1.049267e-01\n",
      "10481   -7.544410e-02\n",
      "13426   -6.928981e-02\n",
      "3599    -6.581343e-02\n",
      "3429    -6.020913e-02\n",
      "3515    -5.669381e-02\n",
      "3629    -5.483206e-02\n",
      "8423    -5.441719e-02\n",
      "3607    -4.941194e-02\n",
      "28350   -4.853353e-02\n",
      "13321   -4.742420e-02\n",
      "30149   -4.735118e-02\n",
      "3403    -4.420546e-02\n",
      "8553    -2.488402e-02\n",
      "30122   -1.284348e-02\n",
      "3478    -1.283758e-02\n",
      "17008   -1.061596e-02\n",
      "3666    -5.784181e-03\n",
      "29323   -4.550436e-03\n",
      "3620    -6.466911e-04\n",
      "13310   -4.547454e-04\n",
      "5739     4.097004e-07\n",
      "29926    1.554008e-04\n",
      "3714     5.663372e-03\n",
      "3668     8.656163e-03\n",
      "3364     8.904424e-03\n",
      "24562    1.026723e-02\n",
      "3474     1.714311e-02\n",
      "3473     1.856395e-02\n",
      "             ...     \n",
      "32109    1.114116e-01\n",
      "17919    1.159928e-01\n",
      "17945    1.217916e-01\n",
      "30531    1.245637e-01\n",
      "8560     1.249029e-01\n",
      "6089     1.266887e-01\n",
      "27765    1.284264e-01\n",
      "13213    1.295208e-01\n",
      "8026     1.330889e-01\n",
      "9347     1.362791e-01\n",
      "3325     1.385558e-01\n",
      "34325    1.485695e-01\n",
      "14835    1.570398e-01\n",
      "12980    1.636594e-01\n",
      "24063    1.680972e-01\n",
      "8391     1.716658e-01\n",
      "11916    1.721617e-01\n",
      "9355     1.724615e-01\n",
      "8637     1.776129e-01\n",
      "30488    1.792832e-01\n",
      "29355    1.808876e-01\n",
      "30455    1.826705e-01\n",
      "9122     1.826909e-01\n",
      "8004     1.843698e-01\n",
      "28069    1.872949e-01\n",
      "6137     1.904384e-01\n",
      "10653    1.931755e-01\n",
      "12768    1.939941e-01\n",
      "13828    1.950616e-01\n",
      "3745     1.984708e-01\n",
      "Name: advancement, Length: 100, dtype: float64\n",
      "35733   -3.104946e-01\n",
      "35708   -2.725701e-01\n",
      "10746   -9.437264e-02\n",
      "21526   -8.020226e-02\n",
      "35678   -7.278894e-02\n",
      "3515    -5.669381e-02\n",
      "12483   -5.332011e-02\n",
      "12477   -4.165668e-02\n",
      "35371   -4.143100e-02\n",
      "10908   -3.029171e-02\n",
      "8553    -2.488402e-02\n",
      "35636   -2.242357e-02\n",
      "12063   -2.112008e-02\n",
      "25236   -2.053434e-02\n",
      "29332   -1.845069e-02\n",
      "15310   -1.551156e-02\n",
      "25173   -1.476146e-02\n",
      "15869   -1.451855e-02\n",
      "15654   -1.279578e-02\n",
      "35427   -1.057983e-02\n",
      "12359   -8.382508e-03\n",
      "34797   -7.136418e-03\n",
      "15769   -6.076705e-03\n",
      "3666    -5.784181e-03\n",
      "29909   -4.625395e-03\n",
      "13310   -4.547454e-04\n",
      "15366   -3.057044e-04\n",
      "5739     4.097004e-07\n",
      "25421    1.092685e-05\n",
      "25064    7.233670e-04\n",
      "             ...     \n",
      "29338    8.053019e-02\n",
      "35476    8.079753e-02\n",
      "12986    8.469453e-02\n",
      "5899     8.733776e-02\n",
      "32160    8.777096e-02\n",
      "6086     9.226570e-02\n",
      "10457    9.403666e-02\n",
      "10429    9.435432e-02\n",
      "23393    9.492971e-02\n",
      "24458    9.818373e-02\n",
      "3763     1.010965e-01\n",
      "29888    1.032455e-01\n",
      "15340    1.056835e-01\n",
      "17919    1.159928e-01\n",
      "8663     1.218018e-01\n",
      "30531    1.245637e-01\n",
      "29868    1.265988e-01\n",
      "27765    1.284264e-01\n",
      "35908    1.292282e-01\n",
      "3325     1.385558e-01\n",
      "29619    1.560837e-01\n",
      "29688    1.573954e-01\n",
      "12980    1.636594e-01\n",
      "11916    1.721617e-01\n",
      "8637     1.776129e-01\n",
      "29355    1.808876e-01\n",
      "30455    1.826705e-01\n",
      "28069    1.872949e-01\n",
      "10653    1.931755e-01\n",
      "3745     1.984708e-01\n",
      "Name: advancement, Length: 100, dtype: float64\n",
      "3298     0.214310\n",
      "17977    0.236477\n",
      "28650    0.284733\n",
      "276      0.307062\n",
      "16946    0.308385\n",
      "14460    0.314813\n",
      "25889    0.339162\n",
      "32277    0.342773\n",
      "26647    0.346426\n",
      "231      0.352351\n",
      "321      0.361355\n",
      "27800    0.373949\n",
      "513      0.375747\n",
      "13523    0.383157\n",
      "8783     0.384016\n",
      "9142     0.385016\n",
      "11504    0.386650\n",
      "25877    0.397407\n",
      "26619    0.402262\n",
      "25656    0.403236\n",
      "25833    0.407608\n",
      "27949    0.411240\n",
      "3105     0.425966\n",
      "11457    0.436641\n",
      "20658    0.439673\n",
      "14518    0.446305\n",
      "9034     0.460348\n",
      "11536    0.466160\n",
      "16706    0.467037\n",
      "28946    0.473831\n",
      "           ...   \n",
      "22195    0.623371\n",
      "16808    0.627152\n",
      "17806    0.630330\n",
      "32645    0.633395\n",
      "6722     0.638026\n",
      "34117    0.639524\n",
      "6723     0.639684\n",
      "7275     0.643177\n",
      "19692    0.644160\n",
      "4761     0.644869\n",
      "2345     0.648190\n",
      "17784    0.648685\n",
      "17263    0.651564\n",
      "11122    0.658254\n",
      "20550    0.669201\n",
      "6974     0.678480\n",
      "10089    0.679137\n",
      "20346    0.679851\n",
      "11639    0.683971\n",
      "1799     0.685672\n",
      "23913    0.688863\n",
      "23288    0.698013\n",
      "18547    0.699993\n",
      "17278    0.702486\n",
      "1067     0.710336\n",
      "23677    0.713402\n",
      "19774    0.717111\n",
      "18210    0.733672\n",
      "32997    0.738049\n",
      "32993    0.738512\n",
      "Name: advancement, Length: 100, dtype: float64\n"
     ]
    }
   ],
   "source": [
    "# explanations = explain.by_looking_at([ Best(), Worst()],how_many=100, every=250)\n",
    "\n",
    "explanations = explain.by_looking_at([\n",
    "                                      Shuffle(FalsePositive()),\n",
    "                                      Shuffle(FalseNegative()),\n",
    "                                      Shuffle(Worst()),\n",
    "                                      Shuffle(Best()),\n",
    "                                     ], how_many=100)\n",
    "base_dir = '/media/francesco/saetta/quarry-grad/'\n",
    "for name, explanation in explanations.items():\n",
    "        explanation.df = explanation.df.sort_values('advancement')\n",
    "        print(explanation.df['advancement'])\n",
    "        answers = explanation.tell(PatchAnswer.from_explain) \n",
    "        save_dir = '{}/{}'.format(base_dir, name)\n",
    "        os.makedirs(save_dir, exist_ok=True)\n",
    "        for i, answer in enumerate(answers):\n",
    "            grad_cam_p = answer.grad_cam(module, device)\n",
    "#             answer.plot2d().savefig('{}/patch-2d-{}'.format(save_dir,i), bbox_inches='tight', transparent=True)\n",
    "#             answer.heatmap((8,8)).plot2d().savefig('{}/heatmap-2d-{}'.format(save_dir,i), bbox_inches='tight', transparent=True)\n",
    "\n",
    "#             fig = plt.figure()\n",
    "#             fig = grad_cam_p.plot2d()\n",
    "#             ax = fig.gca()\n",
    "#             circle=plt.Circle((36, grad_cam_p.hm.shape[0]//2),4,color='r', fill=False)\n",
    "#             ax.add_artist(circle)\n",
    "#             plt.show()\n",
    "            save_path = save_path='{}/{:02d}-patch-3d-majavi-colormap-{}.png'.format(save_dir, int(explanation.df['advancement'].iloc[i] * 100), i)\n",
    "            answer.plot3d_mayavi(0.02, size=(513,513), distance=3.5, azimuth=0, elevation=20, mesh=True, save_path=save_path, scalars=grad_cam_p.hm, colormap='viridis')\n",
    "            "
   ]
  },
  {
   "cell_type": "markdown",
   "metadata": {},
   "source": [
    "## Most traversable patches\n",
    "We expect the esiest traversable patches to be mostly flat. The following figure shows five patches sorted by the *traversable* class probability from the test set."
   ]
  },
  {
   "cell_type": "code",
   "execution_count": null,
   "metadata": {},
   "outputs": [],
   "source": [
    "explanations = explain.by_looking_at([\n",
    "                                      Shuffle(FalsePositive()),\n",
    "                                      Shuffle(FalseNegative()),\n",
    "                                      Shuffle(Worst()),\n",
    "                                      Shuffle(Best()),\n",
    "                                     ], how_many=5)"
   ]
  },
  {
   "cell_type": "code",
   "execution_count": null,
   "metadata": {
    "scrolled": false
   },
   "outputs": [],
   "source": [
    "explanations['best'].tell(PatchAnswer.from_explain)[0].plot3d_mayavi(0.02, size=(513,513), distance=3.5, save_path='/home/francesco/Desktop/diocane.png', azimuth=0, elevation=35, mesh=True, colormap='viridis', vmax=1)"
   ]
  },
  {
   "cell_type": "code",
   "execution_count": null,
   "metadata": {
    "scrolled": true
   },
   "outputs": [],
   "source": [
    "import os\n",
    "plt.style.use(['science', 'ieee'])\n",
    "module = module.eval()\n",
    "class MyExplanationsSaver():\n",
    "    def __init__(self, base_dir):\n",
    "        self.base_dir = base_dir\n",
    "            \n",
    "    def __call__(self, explanations):\n",
    "        for name, explanation in explanations.items():\n",
    "            answers = explanation.tell(PatchAnswer.from_explain)\n",
    "            save_dir = '{}/{}'.format(self.base_dir, name)\n",
    "            os.makedirs(save_dir, exist_ok=True)\n",
    "            print(answers)\n",
    "            for i, answer in enumerate(answers):\n",
    "                answer.plot2d().savefig('{}/patch-2d-{}'|.format(save_dir,i), bbox_inches='tight', transparent=True)\n",
    "                answer.grad_cam(module.eval(), device, target_class=0).plot2d().savefig('{}/grad-cam-2d-{}'.format(save_dir,i), bbox_inches='tight', transparent=True)\n",
    "                answer.heatmap((8,8)).plot2d().savefig('{}/heatmap-2d-{}'.format(save_dir,i), bbox_inches='tight', transparent=True)\n",
    "                answer.plot3d(title='', rstride=1, cstride=1,)[0].savefig('{}/patch-3d-{}'.format(save_dir,i), bbox_inches='tight', transparent=True)\n",
    "                answer.plot3d_mayavi(0.02, size=(513,513), distance=3.5, save_path='{}/patch-3d-majavi-colormap-{}.png'.format(save_dir,i), azimuth=0, elevation=35, mesh=True, colormap='viridis', vmax=1)\n",
    "                plt.close(\"all\")\n",
    "                \n",
    "MyExplanationsSaver('/home/francesco/Documents/Master-Thesis/papers/Thesis/img/5/quarry/')(explanations)"
   ]
  },
  {
   "cell_type": "code",
   "execution_count": null,
   "metadata": {},
   "outputs": [],
   "source": [
    "def plot_answer(answer):\n",
    "    answer.plot2d()\n",
    "    answer.grad_cam(module, device).plot2d()\n",
    "    answer.heatmap((8,8)).plot2d()\n",
    "#     _ = answer.plot3d()[0]"
   ]
  },
  {
   "cell_type": "markdown",
   "metadata": {},
   "source": [
    "Clearly, most of the patches are flat. The first patch is entirery flat, looking at the heights we can see that every value is zero. Interesting, the grad cam thinks highlights the middle of the patch. Grad cam creates a circle in the middle where the maximum activation point is exactly at the Krock's head position, 36 pixels from the left. Interesting, the highligthed region corespond to the Krock position while walking in flat ground. Correctly the full Krock footprint is highligthed while the corners are not taken into account since the robot won't ever reach them. So, our model is looking at the head position, at the robot footprint and at the future possible reachable region."
   ]
  },
  {
   "cell_type": "code",
   "execution_count": null,
   "metadata": {
    "scrolled": true
   },
   "outputs": [],
   "source": [
    "answers = explanations['best'].tell(PatchAnswer.from_explain)\n",
    "\n",
    "plot_answer(answers[0])"
   ]
  },
  {
   "cell_type": "code",
   "execution_count": null,
   "metadata": {
    "scrolled": false
   },
   "outputs": [],
   "source": [
    "for answers in explanations.values():\n",
    "    for answer in answers:\n",
    "        answers[idx].plot2d()\n",
    "        answers[idx].grad_cam(module, device).plot2d()\n",
    "        answers[idx].heatmap((8,8)).plot2d()\n",
    "        _ = answers[idx].plot3d()[0]\n",
    "# answers[idx].add_advancement_using_simulator(3, 100).plot2d()"
   ]
  },
  {
   "cell_type": "code",
   "execution_count": null,
   "metadata": {
    "scrolled": false
   },
   "outputs": [],
   "source": [
    "Patch.plot_all_2d(answers)"
   ]
  },
  {
   "cell_type": "code",
   "execution_count": null,
   "metadata": {
    "scrolled": true
   },
   "outputs": [],
   "source": [
    "import gc\n",
    "\n",
    "gc.collect()"
   ]
  },
  {
   "cell_type": "markdown",
   "metadata": {},
   "source": [
    "# Custom Patches\n"
   ]
  },
  {
   "cell_type": "markdown",
   "metadata": {},
   "source": [
    "We can test the robustness of the model by creating custom patches with trivial geometric shapes, walls/bumps, and test the model by comparing its prediction to the real robot in the simulator."
   ]
  },
  {
   "cell_type": "code",
   "execution_count": null,
   "metadata": {},
   "outputs": [],
   "source": [
    "\n",
    "def get_distance(offsets):\n",
    "    from_left = patch_shape[1] - offsets - size \n",
    "    return (from_left - (krock_body + 8)) * 2\n",
    "\n",
    "def get_answers_from_patches(patches):\n",
    "    walls_ds = PatchesDataset(patches=patches, transform=get_transform())\n",
    "    learner, _ = get_learner(model_name, model_dir, [], dataset=walls_ds)\n",
    "    learner.model = learner.model.eval()\n",
    "    explain = ExplainModel.from_leaner(learner, walls_ds)\n",
    "    answer = explain.tell(answer=CustomPatchAnswer.from_explain)\n",
    "    return answer, explain\n",
    "\n",
    "def store_figures(figures, out_path):\n",
    "    for i, fig in enumerate(figures):\n",
    "        fig[0].savefig('{}{}.png'.format(out_path,i), bbox_inches='tight', transparent=True)\n",
    "        \n",
    "def save2d_and_2d(p, out_dir, n):\n",
    "    p.plot2d().savefig(out_dir + '/{}-2d.png'.format(n))\n",
    "    p.plot3d_mayavi(0.02, size=(513,513), distance=3.5, save_path=out_dir + '/{}-3d.png'.format(n), azimuth=0, elevation=35, mesh=True, colormap='viridis', vmax=1)\n",
    "    \n",
    "    \n",
    "def make_heatmap(data):\n",
    "    pred_reshape = data.reshape(len(heights), len(offsets_rev))\n",
    "    matplotlib.rcParams['figure.figsize'] = (16,14)\n",
    "\n",
    "    fig = plt.figure()\n",
    "    ax = sns.heatmap(pred_reshape, annot=pred_reshape, \n",
    "                     cmap='viridis',\n",
    "                     fmt='.2f', \n",
    "                     )\n",
    "    ax.set_yticklabels(['{:.1f}'.format(h * 100) for h in heights], rotation=0)\n",
    "    ax.set_xticklabels([int(d) for d in  distance],  rotation=0)\n",
    "    ax.set_ylabel('Height (cm)',  fontsize=18)\n",
    "    ax.set_xlabel('Distance from Krock\\'s head (cm)',  fontsize=18)\n",
    "\n",
    "    return fig, ax"
   ]
  },
  {
   "cell_type": "markdown",
   "metadata": {},
   "source": [
    "## Walls at different positions in front of Krock\n",
    "The most trival way to correctly test the model is to place different walls in front of krock at an increasing distance. The wall is 1 meter high, so it is not traversable, but we had a treshold of 20cm, meaning that, even if the wall is not traversable, when it is at more than 20cm from krock on flat ground the model should yield true. We are going to test the model with different patches starting with a wall placed exactly in front of the robot, then we will move the wall one cm at the time till the end of the patch."
   ]
  },
  {
   "cell_type": "code",
   "execution_count": null,
   "metadata": {},
   "outputs": [],
   "source": [
    "out_dir = '/home/francesco/Documents/Master-Thesis/papers/Thesis/img/5/custom_patches/walls_front'\n",
    "patch_shape = KrockPatchExtractStrategy.patch_shape(MAX_ADVANCEMENT)\n",
    "size = 8\n",
    "res = 0.02\n",
    "krock_body = 36\n",
    "surely_in_front_of_krock = krock_body + 8 + size  # head is at 14cm (7px) from the krock's pose\n",
    "from_right = patch_shape[0] - surely_in_front_of_krock\n",
    "\n",
    "offsets = np.arange(0, from_right)\n",
    "offsets = np.unique(offsets.astype(np.int))"
   ]
  },
  {
   "cell_type": "code",
   "execution_count": null,
   "metadata": {},
   "outputs": [],
   "source": [
    "offsets"
   ]
  },
  {
   "cell_type": "code",
   "execution_count": null,
   "metadata": {
    "scrolled": false
   },
   "outputs": [],
   "source": [
    "walls = [WallPatch(KrockPatchExtractStrategy.patch_shape(MAX_ADVANCEMENT), strength=1, back=False, offset=int(offset), size=size)() for offset in offsets]\n",
    "\n",
    "answer, explanation = get_answers_from_patches(walls)"
   ]
  },
  {
   "cell_type": "code",
   "execution_count": null,
   "metadata": {
    "scrolled": false
   },
   "outputs": [],
   "source": [
    "distance = get_distance(offsets)\n",
    "explanation.df['distance'] = distance # convert back to cm and to 'in front of krock coordinates'\n",
    "explanation.df.to_csv(out_dir + 'walls_front.csv')\n",
    "explanation.df"
   ]
  },
  {
   "cell_type": "markdown",
   "metadata": {},
   "source": [
    "We can say that the model classifies all the wall between 0cm to 19cm from krock's head as no traversable and the ones more than 20cm far away traversable, as expected. Let's use the simulator to get the real advancement of the robot on this ground. We will test the last non traversable and the first traversable"
   ]
  },
  {
   "cell_type": "code",
   "execution_count": null,
   "metadata": {},
   "outputs": [],
   "source": [
    "explanation.df = explanation.df[::-1]\n",
    "explanation.df = explanation.df.reset_index(drop=True)\n",
    "# distance = explanation.df['distance'].values[::-1]\n",
    "# distance"
   ]
  },
  {
   "cell_type": "code",
   "execution_count": null,
   "metadata": {
    "scrolled": false
   },
   "outputs": [],
   "source": [
    "fig = plt.figure()\n",
    "plt.plot(explanation.df['out_1'], label='Traversable Probability ')\n",
    "plt.plot(explanation.df['out_0'], label='Not Traversable Probability')\n",
    "ax = plt.gca()\n",
    "matplotlib.rcParams['figure.figsize'] = (12,4)\n",
    "# plt.style.use(['science', 'ieee'])\n",
    "    plt.show()\n",
    "\n",
    "ax.set_xticks(np.arange(len(distance)))\n",
    "ax.set_xticklabels(['{:.1f}'.format(d) for d in distance], rotation=0)\n",
    "ax.set_ylabel('Traversability Probability',  fontsize=18)\n",
    "ax.set_xlabel('Distance from Krock\\'s head (cm)',  fontsize=18)\n",
    "plt.legend()\n",
    "plt.show()\n",
    "fig.savefig(out_dir + '/predictions.png')"
   ]
  },
  {
   "cell_type": "code",
   "execution_count": null,
   "metadata": {
    "scrolled": true
   },
   "outputs": [],
   "source": [
    "plt.style.use(['science', 'ieee'])\n",
    "\n",
    "answer[15].add_advancement_using_simulator(seconds, time_window)\n",
    "save2d_and_2d(answer[15], out_dir, 1)\n",
    "answer[16].add_advancement_using_simulator(seconds, time_window)\n",
    "save2d_and_2d(answer[16], out_dir, 2)"
   ]
  },
  {
   "cell_type": "code",
   "execution_count": null,
   "metadata": {},
   "outputs": [],
   "source": [
    "# store all the walls for the thesis\n",
    "for n, p in enumerate(answer[::-1]):\n",
    "    p.plot3d_mayavi(0.02, size=(513,513), distance=3.5, save_path=out_dir + '/all/{:02d}-3d.png'.format(n), azimuth=0, color=(0,0.5,0), elevation=35, mesh=True, vmax=1)"
   ]
  },
  {
   "cell_type": "markdown",
   "metadata": {},
   "source": [
    "Correctly the advancement in the last traversable is slighty less than 20cm and the one in the first no traversable is more than 20cm. "
   ]
  },
  {
   "cell_type": "markdown",
   "metadata": {},
   "source": [
    "### Increase the wall height\n",
    "We can scale up the first traversable patch to 10meter in order to see if the model still look at the distance and not at the pixel value"
   ]
  },
  {
   "cell_type": "code",
   "execution_count": null,
   "metadata": {},
   "outputs": [],
   "source": [
    "big_walls = [Patch.from_hm(walls[14].hm * 10), Patch.from_hm(walls[14].hm * 50)]\n",
    "\n",
    "ans, ex = get_answers_from_patches(big_walls)\n",
    "\n",
    "ex.df"
   ]
  },
  {
   "cell_type": "code",
   "execution_count": null,
   "metadata": {
    "scrolled": false
   },
   "outputs": [],
   "source": [
    "ans[0].plot2d().savefig(out_dir + '/big-1-2d.png')\n",
    "ans[1].plot2d().savefig(out_dir + '/big-2-2d.png')"
   ]
  },
  {
   "cell_type": "markdown",
   "metadata": {},
   "source": [
    "Correctly, the model was not confused by the enourmous height of the wall."
   ]
  },
  {
   "cell_type": "markdown",
   "metadata": {},
   "source": [
    "## Walls in front of krock of different height"
   ]
  },
  {
   "cell_type": "markdown",
   "metadata": {},
   "source": [
    "What is the minimum height for a wall in front of Krock to be traversable? We can asnwer to this question by creating 10 walls from 1cm to 20cm and place them in front of the robot and the comparing the model's output with the advancement getted from the simulator."
   ]
  },
  {
   "cell_type": "code",
   "execution_count": null,
   "metadata": {},
   "outputs": [],
   "source": [
    "out_dir = '/home/francesco/Documents/Master-Thesis/papers/Thesis/img/5/custom_patches/walls_increasing'\n",
    "\n",
    "heights = np.arange(0, 20) / 100\n",
    "walls = [WallPatch(KrockPatchExtractStrategy.patch_shape(MAX_ADVANCEMENT), strength=s, back=False, offset=offsets[-1], size=size)() \n",
    "         for s in heights ]"
   ]
  },
  {
   "cell_type": "code",
   "execution_count": null,
   "metadata": {
    "scrolled": false
   },
   "outputs": [],
   "source": [
    "answer, explanation = get_answers_from_patches(walls)"
   ]
  },
  {
   "cell_type": "code",
   "execution_count": null,
   "metadata": {
    "scrolled": false
   },
   "outputs": [],
   "source": [
    "explanation.df['height'] = heights\n",
    "explanation.df.to_csv('/home/francesco/Documents/Master-Thesis/papers/Thesis/img/5/custom_patches/walls_increasing/prediction.csv')\n",
    "explanation.df"
   ]
  },
  {
   "cell_type": "code",
   "execution_count": null,
   "metadata": {},
   "outputs": [],
   "source": [
    "fig = plt.figure()\n",
    "plt.plot(explanation.df['out_1'], label='Traversable Probability ')\n",
    "plt.plot(explanation.df['out_0'], label='Not Traversable Probability')\n",
    "ax = plt.gca()\n",
    "\n",
    "ax.set_xticks(np.arange(len(heights)))\n",
    "ax.set_xticklabels(['{:.1f}'.format(d) for d in heights * 100], rotation=0)\n",
    "matplotlib.rcParams['figure.figsize'] = (12,4)\n",
    "ax.set_xlabel('Height (cm)',  fontsize=18)\n",
    "ax.set_ylabel('Traversability Probability',  fontsize=18)\n",
    "plt.legend()\n",
    "plt.show()\n",
    "fig.savefig(out_dir + '/predictions.png')"
   ]
  },
  {
   "cell_type": "code",
   "execution_count": null,
   "metadata": {},
   "outputs": [],
   "source": [
    "# store all the walls for the thesis\n",
    "for n, p in enumerate(answer):\n",
    "    p.plot3d_mayavi(0.02, size=(513,513), distance=3.5, save_path=out_dir + '/all/{:02d}-3d.png'.format(n), azimuth=0, color=(0,0.5,0), elevation=35, mesh=True, vmax=1)"
   ]
  },
  {
   "cell_type": "code",
   "execution_count": null,
   "metadata": {},
   "outputs": [],
   "source": [
    "seconds = 5\n",
    "time_window = 100\n",
    "# matplotlib.rcParams['figure.figsize'] = (12,12)\n",
    "plt.style.use(['science', 'ieee'])\n",
    "\n",
    "answer[10].add_advancement_using_simulator(seconds, time_window)\n",
    "save2d_and_2d(answer[10], out_dir, 1)\n",
    "answer[11].add_advancement_using_simulator(seconds, time_window)\n",
    "save2d_and_2d(answer[11], out_dir, 2)\n"
   ]
  },
  {
   "cell_type": "markdown",
   "metadata": {},
   "source": [
    "# Height/Distance walls\n",
    "Let's create different walls with different heights at different distances"
   ]
  },
  {
   "cell_type": "code",
   "execution_count": null,
   "metadata": {},
   "outputs": [],
   "source": [
    "out_dir = '/home/francesco/Documents/Master-Thesis/papers/Thesis/img/5/custom_patches/walls_heights/'\n"
   ]
  },
  {
   "cell_type": "code",
   "execution_count": null,
   "metadata": {},
   "outputs": [],
   "source": [
    "heights = np.arange(5, 20) / 100 # 5cm to 20cm\n",
    "heights = heights[::-1]\n",
    "offsets_rev = offsets[11:][::-1] # from 0 to 30 cm from Krock\n",
    "combinations = [(h,o) for h in heights for o in offsets_rev]\n",
    "\n",
    "patches = [WallPatch(patch_shape, strength=h, back=False, offset=o, size=size)() \n",
    "         for (h,o) in combinations]\n",
    "\n",
    "answer, explanation = get_answers_from_patches(patches)\n",
    "explanation.df['height'] = [h for (h,o) in combinations]\n",
    "explanation.df['offset'] = [o for (h,o) in combinations]\n",
    "distance =  get_distance(offsets_rev)\n",
    "\n",
    "explanation.df.to_csv(out_dir + '/predictions.csv')"
   ]
  },
  {
   "cell_type": "markdown",
   "metadata": {},
   "source": [
    "### Heatmap"
   ]
  },
  {
   "cell_type": "code",
   "execution_count": null,
   "metadata": {},
   "outputs": [],
   "source": [
    "fig = make_heatmap(explanation.df['out_1'].values)\n",
    "fig.savefig(out_dir + '/walls_heights.png', transparent=True)"
   ]
  },
  {
   "cell_type": "markdown",
   "metadata": {},
   "source": [
    "### Ground truth \n",
    "We computed the real advancement for each patch"
   ]
  },
  {
   "cell_type": "code",
   "execution_count": null,
   "metadata": {},
   "outputs": [],
   "source": [
    "advancements_path = ['/home/francesco/Documents/Master-Thesis/papers/Thesis/img/5/custom_patches/walls_heights/advancements.csv',\n",
    "'/home/francesco/Documents/Master-Thesis/papers/Thesis/img/5/custom_patches/walls_heights/advancements=1560515304.3272243.csv',\n",
    "'/home/francesco/Documents/Master-Thesis/papers/Thesis/img/5/custom_patches/walls_heights/advancements=1560519799.785709.csv',\n",
    "'/home/francesco/Documents/Master-Thesis/papers/Thesis/img/5/custom_patches/walls_heights/advancements=1560521880.0360003.csv']\n"
   ]
  },
  {
   "cell_type": "code",
   "execution_count": null,
   "metadata": {},
   "outputs": [],
   "source": [
    "import glob\n",
    "\n",
    "advancements_path = glob.glob('/home/francesco/Documents/Master-Thesis/papers/Thesis/img/5/custom_patches/walls_heights/advancements=*.csv')\n",
    "dfs = list(map(pd.read_csv, advancements_path))\n",
    "len(dfs)"
   ]
  },
  {
   "cell_type": "code",
   "execution_count": null,
   "metadata": {},
   "outputs": [],
   "source": [
    "def extract_max(df):\n",
    "    if len(df) > 225: df = df[1:]\n",
    "#     return  df[['advancements_25', 'advancements_50']].mean(axis=1).values\n",
    "    return df['advancements_25'].values\n",
    "advs_tot = list(map(extract_max, dfs))\n",
    "advs = np.mean(advs_tot, axis=0)\n"
   ]
  },
  {
   "cell_type": "code",
   "execution_count": null,
   "metadata": {},
   "outputs": [],
   "source": [
    "traversable = advs >= 0.2\n",
    "\n",
    "(explanation.df['prediction'].values == traversable).sum() / advs.shape[0]"
   ]
  },
  {
   "cell_type": "code",
   "execution_count": null,
   "metadata": {},
   "outputs": [],
   "source": [
    "preds = explanation.df['prediction'].values.reshape(len(heights), len(offsets_rev))\n",
    "advs_res = advs.reshape(len(heights), len(offsets_rev))\n",
    "                        \n",
    "pred_traversable = preds == 1.0\n",
    "not_traversable = advs_res < 0.2\n",
    "\n",
    "false_positive = pred_traversable & not_traversable\n",
    "false_positive_idx = np.where(false_positive == 1)\n",
    "\n",
    "\n",
    "false_negative_idx = np.where((np.logical_not(pred_traversable) & np.logical_not(not_traversable)) == 1)\n"
   ]
  },
  {
   "cell_type": "code",
   "execution_count": null,
   "metadata": {},
   "outputs": [],
   "source": [
    "def hightlight_cell(ax, idx, color='red'):\n",
    "    for x, y in zip(idx[0], idx[1]):\n",
    "        ax.add_patch(Rectangle((y, x), 1, 1, fill=False, edgecolor=color, lw=3))\n",
    "    return ax"
   ]
  },
  {
   "cell_type": "code",
   "execution_count": null,
   "metadata": {
    "scrolled": true
   },
   "outputs": [],
   "source": [
    "fig, ax = make_heatmap(explanation.df['out_1'].values)\n",
    "ax = hightlight_cell(ax, false_positive_idx)\n",
    "hightlight_cell(ax, false_negative_idx, color='blue')"
   ]
  },
  {
   "cell_type": "code",
   "execution_count": null,
   "metadata": {
    "scrolled": false
   },
   "outputs": [],
   "source": [
    "from matplotlib.patches import Rectangle\n",
    "\n",
    "fig, ax = make_heatmap(advs)\n",
    "fig.savefig(out_dir + '/walls_heights_new.png', transparent=True)\n",
    "\n",
    "ax = hightlight_cell(ax, false_positive_idx)\n",
    "hightlight_cell(ax, false_negative_idx, color='blue')"
   ]
  },
  {
   "cell_type": "code",
   "execution_count": null,
   "metadata": {},
   "outputs": [],
   "source": [
    "fig, ax = make_heatmap(advs - 0.2)\n",
    "# fig.savefig(out_dir + '/walls_heights_new.png', transparent=True)\n",
    "\n",
    "ax = hightlight_cell(ax, false_positive_idx)\n",
    "hightlight_cell(ax, false_negative_idx, color='blue')"
   ]
  },
  {
   "cell_type": "code",
   "execution_count": null,
   "metadata": {},
   "outputs": [],
   "source": [
    "fig, ax = make_heatmap(advs_std)\n",
    "# fig.savefig(out_dir + '/walls_heights_new.png', transparent=True)\n",
    "\n",
    "ax = hightlight_cell(ax, false_positive_idx)\n",
    "hightlight_cell(ax, false_negative_idx, color='blue')"
   ]
  },
  {
   "cell_type": "code",
   "execution_count": null,
   "metadata": {},
   "outputs": [],
   "source": [
    "advs_std = np.concatenate(advs_tot, axis=0).reshape(len(advs_tot), 225)\n",
    "\n",
    "advs_std = np.std(advs_std, axis=0)"
   ]
  },
  {
   "cell_type": "markdown",
   "metadata": {},
   "source": [
    "## Ramps\n",
    "We can test the model against ramps with increasing hegihts"
   ]
  },
  {
   "cell_type": "code",
   "execution_count": null,
   "metadata": {},
   "outputs": [],
   "source": [
    "answer[0].grad_cam(module, device, target_class=1).plot2d()"
   ]
  },
  {
   "cell_type": "code",
   "execution_count": null,
   "metadata": {},
   "outputs": [],
   "source": [
    "answer[0].add_advancement_using_simulator(3, 100)\n",
    "answer[0].info['advancement'].iloc[25]"
   ]
  },
  {
   "cell_type": "code",
   "execution_count": null,
   "metadata": {},
   "outputs": [],
   "source": [
    "out_dir = '/home/francesco/Documents/Master-Thesis/papers/Thesis/img/5/custom_patches/ramp/'\n",
    "\n",
    "heights = np.linspace(0, 2, 20) # from 1 to 20 cm (remember the res of 0.02cm/px) Krock height from ground is 4cm\n",
    "\n",
    "walls = [RampPatch(KrockPatchExtractStrategy.patch_shape(0.7), strength=s, factors_func=lambda x: x ** 2)() \n",
    "         for s in heights ]\n",
    "\n",
    "answer, explanation = get_answers_from_patches(walls)\n",
    "\n",
    "explanation.df['height'] = heights ** 2\n",
    "explanation.df.to_csv(out_dir + '/prediction.csv')\n",
    "explanation.df"
   ]
  },
  {
   "cell_type": "code",
   "execution_count": null,
   "metadata": {},
   "outputs": [],
   "source": [
    "plt.style.use(['science', 'ieee'])\n",
    "\n",
    "# answer[9].add_advancement_using_simulator(seconds, time_window)\n",
    "# save2d_and_2d(answer[9], out_dir, 1)\n",
    "answer[10].add_advancement_using_simulator(seconds, time_window)\n",
    "save2d_and_2d(answer[10], out_dir, 2)"
   ]
  },
  {
   "cell_type": "code",
   "execution_count": null,
   "metadata": {},
   "outputs": [],
   "source": [
    "# store all the walls for the thesis\n",
    "for n, p in enumerate(answer):\n",
    "    p.plot3d_mayavi(0.02, size=(513,513), distance=6, save_path=out_dir + '/all/{:02d}-3d.png'.format(n), azimuth=0, color=(0,0.5,0), elevation=35, mesh=True, vmax=1)"
   ]
  },
  {
   "cell_type": "code",
   "execution_count": null,
   "metadata": {},
   "outputs": [],
   "source": [
    "fig = plt.figure()\n",
    "plt.plot(explanation.df['out_1'], label='Traversable Probability ')\n",
    "plt.plot(explanation.df['out_0'], label='Not Traversable Probability')\n",
    "ax = plt.gca()\n",
    "\n",
    "ax.set_xticks(np.arange(len(heights)))\n",
    "ax.set_xticklabels(['{:.1f}'.format(d) for d in heights], rotation=0)\n",
    "matplotlib.rcParams['figure.figsize'] = (12,4)\n",
    "ax.set_xlabel('Maximum height (m)',  fontsize=18)\n",
    "ax.set_ylabel('Traversability Probability',  fontsize=18)\n",
    "plt.legend()\n",
    "plt.show()\n",
    "fig.savefig(out_dir + '/predictions.png')"
   ]
  },
  {
   "cell_type": "markdown",
   "metadata": {},
   "source": [
    "## Tunnel"
   ]
  },
  {
   "cell_type": "code",
   "execution_count": null,
   "metadata": {},
   "outputs": [],
   "source": [
    "out_dir = '/home/francesco/Documents/Master-Thesis/papers/Thesis/img/5/custom_patches/tunnel/'\n",
    "\n",
    "offsets = np.arange(15, 25)\n",
    "\n",
    "tunnels = [BarPatch(KrockPatchExtractStrategy.patch_shape(0.7), strength=0.5, offset=int(o), size=size)() \n",
    "         for o in offsets ]"
   ]
  },
  {
   "cell_type": "code",
   "execution_count": null,
   "metadata": {},
   "outputs": [],
   "source": [
    "answer, explanation = get_answers_from_patches(tunnels)\n",
    "\n",
    "explanation.df['offset'] = offsets\n",
    "explanation.df.to_csv(out_dir + 'prediction.csv')\n",
    "explanation.df"
   ]
  },
  {
   "cell_type": "code",
   "execution_count": null,
   "metadata": {},
   "outputs": [],
   "source": [
    "# store all the walls for the thesis\n",
    "for n, p in enumerate(answer):\n",
    "    p.plot3d_mayavi(0.02, size=(513,513), distance=3.5, save_path=out_dir + '/all/{:02d}-3d.png'.format(n), azimuth=0, color=(0,0.5,0), elevation=35, mesh=True, vmax=1)"
   ]
  },
  {
   "cell_type": "code",
   "execution_count": null,
   "metadata": {},
   "outputs": [],
   "source": [
    "advs = []\n",
    "for a in answer:\n",
    "    a.add_advancement_using_simulator(seconds, time_window)\n",
    "    advs.append(a.info['advancement'].iloc[25])\n"
   ]
  },
  {
   "cell_type": "code",
   "execution_count": null,
   "metadata": {},
   "outputs": [],
   "source": [
    "advs"
   ]
  },
  {
   "cell_type": "code",
   "execution_count": null,
   "metadata": {},
   "outputs": [],
   "source": [
    "plt.style.use(['science', 'ieee'])\n",
    "\n",
    "answer[19].add_advancement_using_simulator(seconds, time_window)\n",
    "save2d_and_2d(answer[19], out_dir, 1)\n",
    "answer[20].add_advancement_using_simulator(seconds, time_window)\n",
    "save2d_and_2d(answer[20], out_dir, 2)"
   ]
  },
  {
   "cell_type": "code",
   "execution_count": null,
   "metadata": {},
   "outputs": [],
   "source": []
  }
 ],
 "metadata": {
  "kernelspec": {
   "display_name": "Python 3",
   "language": "python",
   "name": "python3"
  },
  "language_info": {
   "codemirror_mode": {
    "name": "ipython",
    "version": 3
   },
   "file_extension": ".py",
   "mimetype": "text/x-python",
   "name": "python",
   "nbconvert_exporter": "python",
   "pygments_lexer": "ipython3",
   "version": "3.6.7"
  }
 },
 "nbformat": 4,
 "nbformat_minor": 2
}
