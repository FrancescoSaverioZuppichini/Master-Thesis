{
 "cells": [
  {
   "cell_type": "code",
   "execution_count": 54,
   "metadata": {},
   "outputs": [],
   "source": [
    "import torch\n",
    "from torch.utils.data import Dataset\n",
    "from utils import files2dfs_maps, df_convert_date2timestamp\n",
    "from bags2csvs import bag2df, bags2dfs\n",
    "\n",
    "import numpy as np\n",
    "import glob\n",
    "import pandas as pd\n",
    "import matplotlib.pyplot as plt\n",
    "\n",
    "import sklearn.pipeline\n",
    "import sklearn.dummy\n",
    "import sklearn.preprocessing\n",
    "import sklearn.metrics.regression\n",
    "from sklearn.metrics import auc, roc_curve\n",
    "import skimage.transform\n"
   ]
  },
  {
   "cell_type": "code",
   "execution_count": 4,
   "metadata": {},
   "outputs": [
    {
     "name": "stdout",
     "output_type": "stream",
     "text": [
      "['/home/francesco/Desktop/carino/vaevictis/data/bag//flat/1542573200.115245.bag', '/home/francesco/Desktop/carino/vaevictis/data/bag//flat/1542573220.5950947.bag', '/home/francesco/Desktop/carino/vaevictis/data/bag//flat/1542573239.7535734.bag', '/home/francesco/Desktop/carino/vaevictis/data/bag//flat/1542573259.413545.bag', '/home/francesco/Desktop/carino/vaevictis/data/bag//flat/1542573279.9246588.bag', '/home/francesco/Desktop/carino/vaevictis/data/bag//flat/1542573300.419159.bag', '/home/francesco/Desktop/carino/vaevictis/data/bag//flat/1542573320.6889715.bag', '/home/francesco/Desktop/carino/vaevictis/data/bag//flat/1542573339.5792696.bag', '/home/francesco/Desktop/carino/vaevictis/data/bag//flat/1542573358.0218253.bag', '/home/francesco/Desktop/carino/vaevictis/data/bag//flat/1542573378.4530427.bag']\n"
     ]
    }
   ],
   "source": [
    "DATASET_FOLDER = '/home/francesco/Desktop/carino/vaevictis/data/bag/'\n",
    "\n",
    "csv_paths = glob.glob(DATASET_FOLDER + '/flat/*.bag')\n",
    "print(csv_paths)\n",
    "data = bags2dfs(csv_paths)[0]"
   ]
  },
  {
   "cell_type": "code",
   "execution_count": 26,
   "metadata": {},
   "outputs": [
    {
     "data": {
      "text/plain": [
       "Index(['datepose__pose_position_x', 'datepose__pose_position_y',\n",
       "       'datepose__pose_position_z', 'datepose__pose_orientation_x',\n",
       "       'datepose__pose_orientation_y', 'datepose__pose_orientation_z',\n",
       "       'datepose__pose_orientation_w'],\n",
       "      dtype='object')"
      ]
     },
     "execution_count": 26,
     "metadata": {},
     "output_type": "execute_result"
    }
   ],
   "source": [
    "df.columns[-1:] + df.columns[:-1]"
   ]
  },
  {
   "cell_type": "code",
   "execution_count": 68,
   "metadata": {
    "scrolled": false
   },
   "outputs": [
    {
     "data": {
      "text/plain": [
       "(0.0019967410100018694, 6.80115369527033e-07, 0.0012452060928795285)"
      ]
     },
     "execution_count": 68,
     "metadata": {},
     "output_type": "execute_result"
    }
   ],
   "source": [
    "DATASET_FOLDER = '/home/francesco/Desktop/carino/vaevictis/data/csv/'\n",
    "\n",
    "csv_paths = glob.glob(DATASET_FOLDER + '/flat/*.csv')\n",
    "\n",
    "df = pd.read_csv(csv_paths[0])\n",
    "\n",
    "df = df_convert_date2timestamp(df)\n",
    "\n",
    "def get_pose(row):\n",
    "    return (row['pose__pose_position_x'], row['pose__pose_position_y'])\n",
    "\n",
    "dists = []\n",
    "vels = []\n",
    "\n",
    "for i in range(1, len(df)):\n",
    "    p1 = get_pose(df.iloc[i-1])\n",
    "    p2 = get_pose(df.iloc[i])\n",
    "    \n",
    "    t1 = df.iloc[i - 1]['Unnamed: 0']\n",
    "    t2 = df.iloc[i]['Unnamed: 0']\n",
    "    \n",
    "    dist = np.sqrt((p2[0] - p1[0])**2 + (p2[1] - p1[1])**2)\n",
    "    vel = dist/ (t2 - t1)\n",
    "    \n",
    "    dists.append(dist)\n",
    "    vels.append(vel)\n",
    "\n",
    "dists.append(None)\n",
    "vels.append(None)\n",
    "\n",
    "df['distance'] = dists\n",
    "df['velocity'] = dists\n",
    "\n",
    "df['velocity'].max(), df['velocity'].min(), df['velocity'].mean()"
   ]
  },
  {
   "cell_type": "code",
   "execution_count": 133,
   "metadata": {
    "scrolled": true
   },
   "outputs": [
    {
     "data": {
      "text/plain": [
       "0.06199238645897677"
      ]
     },
     "execution_count": 133,
     "metadata": {},
     "output_type": "execute_result"
    }
   ],
   "source": [
    "tot = 0\n",
    "for df, _, _ in data:\n",
    "#     df, _, _ = data[1]\n",
    "    df\n",
    "\n",
    "    x1 = df['pose__pose_position_x'].values\n",
    "\n",
    "    x2 = np.roll(x1, -100) \n",
    "\n",
    "    x1 = np.delete(x1, x1.shape[0] - 1)\n",
    "    x2 = np.delete(x2, x1.shape[0] - 1)\n",
    "    \n",
    "    speed = (x2 - x1).mean() *100\n",
    "    tot += speed\n",
    "    \n",
    "tot / len(data)"
   ]
  },
  {
   "cell_type": "code",
   "execution_count": 87,
   "metadata": {},
   "outputs": [
    {
     "data": {
      "text/plain": [
       "(array([1, 2]), array([2, 3]))"
      ]
     },
     "execution_count": 87,
     "metadata": {},
     "output_type": "execute_result"
    }
   ],
   "source": [
    "x = np.array([1,2,3])\n",
    "\n",
    "np.delete(x, x.shape[0] - 1), np.delete(np.roll(x, -1), x.shape[0] - 1) "
   ]
  },
  {
   "cell_type": "code",
   "execution_count": 136,
   "metadata": {},
   "outputs": [],
   "source": [
    "DATASET_FOLDER = '/home/francesco/Desktop/carino/vaevictis/data/dataset/'\n",
    "MAPS_FOLDER = '/home/francesco/Desktop/carino/vaevictis/data/maps/'\n",
    "\n",
    "csv_paths = glob.glob(DATASET_FOLDER + '/*/**.csv')"
   ]
  },
  {
   "cell_type": "code",
   "execution_count": 143,
   "metadata": {},
   "outputs": [],
   "source": [
    "import torch\n",
    "from torch.utils.data import Dataset\n",
    "from utils.postprocessing.utils import files2dfs_maps\n",
    "import numpy as np\n",
    "import glob\n",
    "\n",
    "import sklearn.pipeline\n",
    "import sklearn.dummy\n",
    "import sklearn.preprocessing\n",
    "import sklearn.metrics.regression\n",
    "from sklearn.metrics import auc, roc_curve\n",
    "import skimage.transform\n",
    "\n",
    "\n",
    "class TraversabilityDataset(Dataset):\n",
    "    def __init__(self, data, patch_size=80):\n",
    "        self.data = data\n",
    "        self.patch_size = patch_size\n",
    "        self.inputs = []\n",
    "        self.targets = []\n",
    "\n",
    "        for df, hm in self.data:\n",
    "            if len(df) == 0: continue\n",
    "            im, l = self.sample(df, hm, patch_size)\n",
    "            self.inputs.append(im[:, :, np.newaxis])\n",
    "            self.targets.append(l)\n",
    "\n",
    "        self.inputs = np.array( self.inputs).astype('float32')\n",
    "        self.targets = np.array(self.targets).astype('int')\n",
    "\n",
    "    def sample(self, df, hm, sz):\n",
    "        d = df.sample(1)\n",
    "        l = d[\"label\"].iloc[0]\n",
    "        # hm = hms[d[\"hm\"].iloc[0]]\n",
    "        patch = self.hmpatch(hm, d[\"hm_x\"].iloc[0], d[\"hm_y\"].iloc[0], np.rad2deg(d[\"pose__pose_e_orientation_z\"].iloc[0]),\n",
    "                     self.patch_size, scale=1)[0]\n",
    "        patch = self.transform_patch(patch, sz)\n",
    "        return patch, l\n",
    "\n",
    "    def hmpatch(self, hm, x, y, alpha, edge, scale=1):\n",
    "        # Cutout a patch from the image, centered on (x,y), rotated by alpha\n",
    "        # degrees (0 means bottom in hm remains bottom in patch, 90 means bottom in hm becomes right in patch),\n",
    "        # with a specified edge size (in pixels) and scale (relative).\n",
    "        tf1 = skimage.transform.SimilarityTransform(translation=[-x, -y])\n",
    "        tf2 = skimage.transform.SimilarityTransform(rotation=np.deg2rad(alpha))\n",
    "        tf3 = skimage.transform.SimilarityTransform(scale=scale)\n",
    "        tf4 = skimage.transform.SimilarityTransform(translation=[+edge / 2, +edge / 2])\n",
    "        tf = (tf1 + (tf2 + (tf3 + tf4))).inverse\n",
    "        # corners=tf(np.array([[0,0],[1,0],[1,1],[0,1]])*edge)\n",
    "        corners = tf(np.array([[0, 0], [1, 0], [1, 1], [0, 1], [0.5, 0.5]]) * edge)\n",
    "        patch = skimage.transform.warp(hm, tf, output_shape=(edge, edge), mode=\"edge\")\n",
    "        return patch, corners\n",
    "\n",
    "    def transform_patch(self, patch, sz):\n",
    "        t_patch = patch - patch[patch.shape[0] // 2, patch.shape[1] // 2]\n",
    "        t_patch = skimage.transform.resize(t_patch, (self.patch_size, self.patch_size), mode='constant')\n",
    "        return t_patch\n",
    "\n",
    "    def __getitem__(self, item):\n",
    "\n",
    "        return self.inputs[item], self.targets[item]\n",
    "\n",
    "    def __len__(self):\n",
    "        return len(self.targets)\n",
    "\n",
    "DATASET_FOLDER = '/home/francesco/Desktop/carino/vaevictis/data/dataset/'\n",
    "MAPS_FOLDER = '/home/francesco/Desktop/carino/vaevictis/data/maps/'\n",
    "\n",
    "csv_paths = glob.glob(DATASET_FOLDER + '/flat/*.csv')\n"
   ]
  },
  {
   "cell_type": "code",
   "execution_count": 144,
   "metadata": {},
   "outputs": [
    {
     "data": {
      "text/plain": [
       "['/home/francesco/Desktop/carino/vaevictis/data/dataset//flat/1542573200.115245.csv',\n",
       " '/home/francesco/Desktop/carino/vaevictis/data/dataset//flat/1542573220.5950947.csv',\n",
       " '/home/francesco/Desktop/carino/vaevictis/data/dataset//flat/1542573239.7535734.csv',\n",
       " '/home/francesco/Desktop/carino/vaevictis/data/dataset//flat/1542573259.413545.csv',\n",
       " '/home/francesco/Desktop/carino/vaevictis/data/dataset//flat/1542573279.9246588.csv',\n",
       " '/home/francesco/Desktop/carino/vaevictis/data/dataset//flat/1542573300.419159.csv',\n",
       " '/home/francesco/Desktop/carino/vaevictis/data/dataset//flat/1542573320.6889715.csv',\n",
       " '/home/francesco/Desktop/carino/vaevictis/data/dataset//flat/1542573339.5792696.csv',\n",
       " '/home/francesco/Desktop/carino/vaevictis/data/dataset//flat/1542573358.0218253.csv',\n",
       " '/home/francesco/Desktop/carino/vaevictis/data/dataset//flat/1542573378.4530427.csv']"
      ]
     },
     "execution_count": 144,
     "metadata": {},
     "output_type": "execute_result"
    }
   ],
   "source": [
    "csv_paths"
   ]
  },
  {
   "cell_type": "code",
   "execution_count": 145,
   "metadata": {},
   "outputs": [
    {
     "name": "stdout",
     "output_type": "stream",
     "text": [
      "10\n"
     ]
    }
   ],
   "source": [
    "dfs_maps = files2dfs_maps(csv_paths)\n",
    "print(len(dfs_maps))"
   ]
  },
  {
   "cell_type": "code",
   "execution_count": 146,
   "metadata": {},
   "outputs": [
    {
     "name": "stdout",
     "output_type": "stream",
     "text": [
      "10\n"
     ]
    }
   ],
   "source": [
    "ds = TraversabilityDataset(dfs_maps)\n",
    "print(len(ds))"
   ]
  },
  {
   "cell_type": "code",
   "execution_count": 147,
   "metadata": {
    "scrolled": false
   },
   "outputs": [
    {
     "data": {
      "image/png": "[encoded data removed]",
      "text/plain": [
       "<Figure size 432x288 with 1 Axes>"
      ]
     },
     "metadata": {
      "needs_background": "light"
     },
     "output_type": "display_data"
    },
    {
     "data": {
      "image/png": "[encoded data removed]",
      "text/plain": [
       "<Figure size 432x288 with 1 Axes>"
      ]
     },
     "metadata": {
      "needs_background": "light"
     },
     "output_type": "display_data"
    },
    {
     "data": {
      "image/png": "[encoded data removed]",
      "text/plain": [
       "<Figure size 432x288 with 1 Axes>"
      ]
     },
     "metadata": {
      "needs_background": "light"
     },
     "output_type": "display_data"
    },
    {
     "data": {
      "image/png": "[encoded data removed]",
      "text/plain": [
       "<Figure size 432x288 with 1 Axes>"
      ]
     },
     "metadata": {
      "needs_background": "light"
     },
     "output_type": "display_data"
    },
    {
     "data": {
      "image/png": "[encoded data removed]",
      "text/plain": [
       "<Figure size 432x288 with 1 Axes>"
      ]
     },
     "metadata": {
      "needs_background": "light"
     },
     "output_type": "display_data"
    },
    {
     "data": {
      "image/png": "[encoded data removed]",
      "text/plain": [
       "<Figure size 432x288 with 1 Axes>"
      ]
     },
     "metadata": {
      "needs_background": "light"
     },
     "output_type": "display_data"
    },
    {
     "data": {
      "image/png": "[encoded data removed]",
      "text/plain": [
       "<Figure size 432x288 with 1 Axes>"
      ]
     },
     "metadata": {
      "needs_background": "light"
     },
     "output_type": "display_data"
    },
    {
     "data": {
      "image/png": "[encoded data removed]",
      "text/plain": [
       "<Figure size 432x288 with 1 Axes>"
      ]
     },
     "metadata": {
      "needs_background": "light"
     },
     "output_type": "display_data"
    },
    {
     "data": {
      "image/png": "[encoded data removed]",
      "text/plain": [
       "<Figure size 432x288 with 1 Axes>"
      ]
     },
     "metadata": {
      "needs_background": "light"
     },
     "output_type": "display_data"
    },
    {
     "data": {
      "image/png": "[encoded data removed]",
      "text/plain": [
       "<Figure size 432x288 with 1 Axes>"
      ]
     },
     "metadata": {
      "needs_background": "light"
     },
     "output_type": "display_data"
    }
   ],
   "source": [
    "\n",
    "for i in range(10):\n",
    "    x, y = ds[i]\n",
    "\n",
    "    plt.title(bool(y))\n",
    "    plt.imshow(x.squeeze())\n",
    "    plt.show()\n"
   ]
  },
  {
   "cell_type": "code",
   "execution_count": 2,
   "metadata": {},
   "outputs": [],
   "source": [
    "import pandas as pd\n",
    "import numpy as np"
   ]
  },
  {
   "cell_type": "code",
   "execution_count": 5,
   "metadata": {},
   "outputs": [],
   "source": [
    "df = pd.DataFrame({'x': np.arange(0,100), 'y': np.arange(0,100)})"
   ]
  },
  {
   "cell_type": "code",
   "execution_count": 11,
   "metadata": {},
   "outputs": [
    {
     "data": {
      "text/html": [
       "<div>\n",
       "<style scoped>\n",
       "    .dataframe tbody tr th:only-of-type {\n",
       "        vertical-align: middle;\n",
       "    }\n",
       "\n",
       "    .dataframe tbody tr th {\n",
       "        vertical-align: top;\n",
       "    }\n",
       "\n",
       "    .dataframe thead th {\n",
       "        text-align: right;\n",
       "    }\n",
       "</style>\n",
       "<table border=\"1\" class=\"dataframe\">\n",
       "  <thead>\n",
       "    <tr style=\"text-align: right;\">\n",
       "      <th></th>\n",
       "      <th>x</th>\n",
       "      <th>y</th>\n",
       "    </tr>\n",
       "  </thead>\n",
       "  <tbody>\n",
       "    <tr>\n",
       "      <th>0</th>\n",
       "      <td>2.0</td>\n",
       "      <td>2.0</td>\n",
       "    </tr>\n",
       "    <tr>\n",
       "      <th>1</th>\n",
       "      <td>3.0</td>\n",
       "      <td>3.0</td>\n",
       "    </tr>\n",
       "    <tr>\n",
       "      <th>2</th>\n",
       "      <td>4.0</td>\n",
       "      <td>4.0</td>\n",
       "    </tr>\n",
       "    <tr>\n",
       "      <th>3</th>\n",
       "      <td>5.0</td>\n",
       "      <td>5.0</td>\n",
       "    </tr>\n",
       "    <tr>\n",
       "      <th>4</th>\n",
       "      <td>6.0</td>\n",
       "      <td>6.0</td>\n",
       "    </tr>\n",
       "    <tr>\n",
       "      <th>5</th>\n",
       "      <td>7.0</td>\n",
       "      <td>7.0</td>\n",
       "    </tr>\n",
       "    <tr>\n",
       "      <th>6</th>\n",
       "      <td>8.0</td>\n",
       "      <td>8.0</td>\n",
       "    </tr>\n",
       "    <tr>\n",
       "      <th>7</th>\n",
       "      <td>9.0</td>\n",
       "      <td>9.0</td>\n",
       "    </tr>\n",
       "    <tr>\n",
       "      <th>8</th>\n",
       "      <td>10.0</td>\n",
       "      <td>10.0</td>\n",
       "    </tr>\n",
       "    <tr>\n",
       "      <th>9</th>\n",
       "      <td>11.0</td>\n",
       "      <td>11.0</td>\n",
       "    </tr>\n",
       "    <tr>\n",
       "      <th>10</th>\n",
       "      <td>12.0</td>\n",
       "      <td>12.0</td>\n",
       "    </tr>\n",
       "    <tr>\n",
       "      <th>11</th>\n",
       "      <td>13.0</td>\n",
       "      <td>13.0</td>\n",
       "    </tr>\n",
       "    <tr>\n",
       "      <th>12</th>\n",
       "      <td>14.0</td>\n",
       "      <td>14.0</td>\n",
       "    </tr>\n",
       "    <tr>\n",
       "      <th>13</th>\n",
       "      <td>15.0</td>\n",
       "      <td>15.0</td>\n",
       "    </tr>\n",
       "    <tr>\n",
       "      <th>14</th>\n",
       "      <td>16.0</td>\n",
       "      <td>16.0</td>\n",
       "    </tr>\n",
       "    <tr>\n",
       "      <th>15</th>\n",
       "      <td>17.0</td>\n",
       "      <td>17.0</td>\n",
       "    </tr>\n",
       "    <tr>\n",
       "      <th>16</th>\n",
       "      <td>18.0</td>\n",
       "      <td>18.0</td>\n",
       "    </tr>\n",
       "    <tr>\n",
       "      <th>17</th>\n",
       "      <td>19.0</td>\n",
       "      <td>19.0</td>\n",
       "    </tr>\n",
       "    <tr>\n",
       "      <th>18</th>\n",
       "      <td>20.0</td>\n",
       "      <td>20.0</td>\n",
       "    </tr>\n",
       "    <tr>\n",
       "      <th>19</th>\n",
       "      <td>21.0</td>\n",
       "      <td>21.0</td>\n",
       "    </tr>\n",
       "    <tr>\n",
       "      <th>20</th>\n",
       "      <td>22.0</td>\n",
       "      <td>22.0</td>\n",
       "    </tr>\n",
       "    <tr>\n",
       "      <th>21</th>\n",
       "      <td>23.0</td>\n",
       "      <td>23.0</td>\n",
       "    </tr>\n",
       "    <tr>\n",
       "      <th>22</th>\n",
       "      <td>24.0</td>\n",
       "      <td>24.0</td>\n",
       "    </tr>\n",
       "    <tr>\n",
       "      <th>23</th>\n",
       "      <td>25.0</td>\n",
       "      <td>25.0</td>\n",
       "    </tr>\n",
       "    <tr>\n",
       "      <th>24</th>\n",
       "      <td>26.0</td>\n",
       "      <td>26.0</td>\n",
       "    </tr>\n",
       "    <tr>\n",
       "      <th>25</th>\n",
       "      <td>27.0</td>\n",
       "      <td>27.0</td>\n",
       "    </tr>\n",
       "    <tr>\n",
       "      <th>26</th>\n",
       "      <td>28.0</td>\n",
       "      <td>28.0</td>\n",
       "    </tr>\n",
       "    <tr>\n",
       "      <th>27</th>\n",
       "      <td>29.0</td>\n",
       "      <td>29.0</td>\n",
       "    </tr>\n",
       "    <tr>\n",
       "      <th>28</th>\n",
       "      <td>30.0</td>\n",
       "      <td>30.0</td>\n",
       "    </tr>\n",
       "    <tr>\n",
       "      <th>29</th>\n",
       "      <td>31.0</td>\n",
       "      <td>31.0</td>\n",
       "    </tr>\n",
       "    <tr>\n",
       "      <th>...</th>\n",
       "      <td>...</td>\n",
       "      <td>...</td>\n",
       "    </tr>\n",
       "    <tr>\n",
       "      <th>70</th>\n",
       "      <td>72.0</td>\n",
       "      <td>72.0</td>\n",
       "    </tr>\n",
       "    <tr>\n",
       "      <th>71</th>\n",
       "      <td>73.0</td>\n",
       "      <td>73.0</td>\n",
       "    </tr>\n",
       "    <tr>\n",
       "      <th>72</th>\n",
       "      <td>74.0</td>\n",
       "      <td>74.0</td>\n",
       "    </tr>\n",
       "    <tr>\n",
       "      <th>73</th>\n",
       "      <td>75.0</td>\n",
       "      <td>75.0</td>\n",
       "    </tr>\n",
       "    <tr>\n",
       "      <th>74</th>\n",
       "      <td>76.0</td>\n",
       "      <td>76.0</td>\n",
       "    </tr>\n",
       "    <tr>\n",
       "      <th>75</th>\n",
       "      <td>77.0</td>\n",
       "      <td>77.0</td>\n",
       "    </tr>\n",
       "    <tr>\n",
       "      <th>76</th>\n",
       "      <td>78.0</td>\n",
       "      <td>78.0</td>\n",
       "    </tr>\n",
       "    <tr>\n",
       "      <th>77</th>\n",
       "      <td>79.0</td>\n",
       "      <td>79.0</td>\n",
       "    </tr>\n",
       "    <tr>\n",
       "      <th>78</th>\n",
       "      <td>80.0</td>\n",
       "      <td>80.0</td>\n",
       "    </tr>\n",
       "    <tr>\n",
       "      <th>79</th>\n",
       "      <td>81.0</td>\n",
       "      <td>81.0</td>\n",
       "    </tr>\n",
       "    <tr>\n",
       "      <th>80</th>\n",
       "      <td>82.0</td>\n",
       "      <td>82.0</td>\n",
       "    </tr>\n",
       "    <tr>\n",
       "      <th>81</th>\n",
       "      <td>83.0</td>\n",
       "      <td>83.0</td>\n",
       "    </tr>\n",
       "    <tr>\n",
       "      <th>82</th>\n",
       "      <td>84.0</td>\n",
       "      <td>84.0</td>\n",
       "    </tr>\n",
       "    <tr>\n",
       "      <th>83</th>\n",
       "      <td>85.0</td>\n",
       "      <td>85.0</td>\n",
       "    </tr>\n",
       "    <tr>\n",
       "      <th>84</th>\n",
       "      <td>86.0</td>\n",
       "      <td>86.0</td>\n",
       "    </tr>\n",
       "    <tr>\n",
       "      <th>85</th>\n",
       "      <td>87.0</td>\n",
       "      <td>87.0</td>\n",
       "    </tr>\n",
       "    <tr>\n",
       "      <th>86</th>\n",
       "      <td>88.0</td>\n",
       "      <td>88.0</td>\n",
       "    </tr>\n",
       "    <tr>\n",
       "      <th>87</th>\n",
       "      <td>89.0</td>\n",
       "      <td>89.0</td>\n",
       "    </tr>\n",
       "    <tr>\n",
       "      <th>88</th>\n",
       "      <td>90.0</td>\n",
       "      <td>90.0</td>\n",
       "    </tr>\n",
       "    <tr>\n",
       "      <th>89</th>\n",
       "      <td>91.0</td>\n",
       "      <td>91.0</td>\n",
       "    </tr>\n",
       "    <tr>\n",
       "      <th>90</th>\n",
       "      <td>92.0</td>\n",
       "      <td>92.0</td>\n",
       "    </tr>\n",
       "    <tr>\n",
       "      <th>91</th>\n",
       "      <td>93.0</td>\n",
       "      <td>93.0</td>\n",
       "    </tr>\n",
       "    <tr>\n",
       "      <th>92</th>\n",
       "      <td>94.0</td>\n",
       "      <td>94.0</td>\n",
       "    </tr>\n",
       "    <tr>\n",
       "      <th>93</th>\n",
       "      <td>95.0</td>\n",
       "      <td>95.0</td>\n",
       "    </tr>\n",
       "    <tr>\n",
       "      <th>94</th>\n",
       "      <td>96.0</td>\n",
       "      <td>96.0</td>\n",
       "    </tr>\n",
       "    <tr>\n",
       "      <th>95</th>\n",
       "      <td>97.0</td>\n",
       "      <td>97.0</td>\n",
       "    </tr>\n",
       "    <tr>\n",
       "      <th>96</th>\n",
       "      <td>98.0</td>\n",
       "      <td>98.0</td>\n",
       "    </tr>\n",
       "    <tr>\n",
       "      <th>97</th>\n",
       "      <td>99.0</td>\n",
       "      <td>99.0</td>\n",
       "    </tr>\n",
       "    <tr>\n",
       "      <th>98</th>\n",
       "      <td>NaN</td>\n",
       "      <td>NaN</td>\n",
       "    </tr>\n",
       "    <tr>\n",
       "      <th>99</th>\n",
       "      <td>NaN</td>\n",
       "      <td>NaN</td>\n",
       "    </tr>\n",
       "  </tbody>\n",
       "</table>\n",
       "<p>100 rows × 2 columns</p>\n",
       "</div>"
      ],
      "text/plain": [
       "       x     y\n",
       "0    2.0   2.0\n",
       "1    3.0   3.0\n",
       "2    4.0   4.0\n",
       "3    5.0   5.0\n",
       "4    6.0   6.0\n",
       "5    7.0   7.0\n",
       "6    8.0   8.0\n",
       "7    9.0   9.0\n",
       "8   10.0  10.0\n",
       "9   11.0  11.0\n",
       "10  12.0  12.0\n",
       "11  13.0  13.0\n",
       "12  14.0  14.0\n",
       "13  15.0  15.0\n",
       "14  16.0  16.0\n",
       "15  17.0  17.0\n",
       "16  18.0  18.0\n",
       "17  19.0  19.0\n",
       "18  20.0  20.0\n",
       "19  21.0  21.0\n",
       "20  22.0  22.0\n",
       "21  23.0  23.0\n",
       "22  24.0  24.0\n",
       "23  25.0  25.0\n",
       "24  26.0  26.0\n",
       "25  27.0  27.0\n",
       "26  28.0  28.0\n",
       "27  29.0  29.0\n",
       "28  30.0  30.0\n",
       "29  31.0  31.0\n",
       "..   ...   ...\n",
       "70  72.0  72.0\n",
       "71  73.0  73.0\n",
       "72  74.0  74.0\n",
       "73  75.0  75.0\n",
       "74  76.0  76.0\n",
       "75  77.0  77.0\n",
       "76  78.0  78.0\n",
       "77  79.0  79.0\n",
       "78  80.0  80.0\n",
       "79  81.0  81.0\n",
       "80  82.0  82.0\n",
       "81  83.0  83.0\n",
       "82  84.0  84.0\n",
       "83  85.0  85.0\n",
       "84  86.0  86.0\n",
       "85  87.0  87.0\n",
       "86  88.0  88.0\n",
       "87  89.0  89.0\n",
       "88  90.0  90.0\n",
       "89  91.0  91.0\n",
       "90  92.0  92.0\n",
       "91  93.0  93.0\n",
       "92  94.0  94.0\n",
       "93  95.0  95.0\n",
       "94  96.0  96.0\n",
       "95  97.0  97.0\n",
       "96  98.0  98.0\n",
       "97  99.0  99.0\n",
       "98   NaN   NaN\n",
       "99   NaN   NaN\n",
       "\n",
       "[100 rows x 2 columns]"
      ]
     },
     "execution_count": 11,
     "metadata": {},
     "output_type": "execute_result"
    }
   ],
   "source": [
    "df.shift(-2)"
   ]
  },
  {
   "cell_type": "code",
   "execution_count": null,
   "metadata": {},
   "outputs": [],
   "source": []
  }
 ],
 "metadata": {
  "kernelspec": {
   "display_name": "Python 3",
   "language": "python",
   "name": "python3"
  },
  "language_info": {
   "codemirror_mode": {
    "name": "ipython",
    "version": 3
   },
   "file_extension": ".py",
   "mimetype": "text/x-python",
   "name": "python",
   "nbconvert_exporter": "python",
   "pygments_lexer": "ipython3",
   "version": "3.6.7"
  }
 },
 "nbformat": 4,
 "nbformat_minor": 2
}
