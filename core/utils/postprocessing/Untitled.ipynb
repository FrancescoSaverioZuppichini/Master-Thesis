{
 "cells": [
  {
   "cell_type": "code",
   "execution_count": 1,
   "metadata": {},
   "outputs": [
    {
     "name": "stderr",
     "output_type": "stream",
     "text": [
      "/home/francesco/.local/lib/python3.6/site-packages/skimage/novice/__init__.py:103: UserWarning: The `skimage.novice` module was deprecated in version 0.14. It will be removed in 0.16.\n",
      "  warnings.warn(\"The `skimage.novice` module was deprecated in version 0.14. \"\n"
     ]
    }
   ],
   "source": [
    "import torch\n",
    "from torch.utils.data import Dataset\n",
    "from utils import files2dfs_maps, df_convert_date2timestamp\n",
    "from bags2csvs import bag2df, bags2dfs\n",
    "from pypeln.thread import map\n",
    "\n",
    "import numpy as np\n",
    "import glob\n",
    "import pandas as pd\n",
    "import matplotlib.pyplot as plt\n",
    "\n",
    "from bags2csvs import *\n",
    "from dfs2dataset import *\n",
    "from config import Config\n"
   ]
  },
  {
   "cell_type": "code",
   "execution_count": 2,
   "metadata": {
    "scrolled": false
   },
   "outputs": [],
   "source": [
    "DATASET_FOLDER = '/home/francesco/Desktop/carino/vaevictis/data/bags/'\n",
    "\n",
    "bags = glob.glob(Config.BAG_FOLDER + 'flat/*.bag')\n",
    "\n",
    "stage = bags2dfs(bags)\n",
    "stage = dfs2traversability_df(stage)\n",
    "\n",
    "dfs = list(stage)"
   ]
  },
  {
   "cell_type": "code",
   "execution_count": 40,
   "metadata": {
    "scrolled": false
   },
   "outputs": [],
   "source": [
    "def get_stats(data):\n",
    "    df, _, _ = data\n",
    "    return pd.DataFrame(data={'min': [df['advancement'].min()],  \n",
    "                              'max': [df['advancement'].max()],\n",
    "                              'mean': [df['advancement'].mean()]})                   "
   ]
  },
  {
   "cell_type": "code",
   "execution_count": 52,
   "metadata": {},
   "outputs": [],
   "source": [
    "stage = map(get_stats, dfs)\n",
    "\n",
    "stat_dfs = list(stat_dfs)\n",
    "\n",
    "stat_df = stat_dfs[0]\n",
    "\n",
    "for df in stat_dfs:\n",
    "    stat_df = pd.concat([stat_df, df])\n",
    "\n",
    "stat_df = stat_df.dropna()"
   ]
  },
  {
   "cell_type": "code",
   "execution_count": 60,
   "metadata": {},
   "outputs": [
    {
     "data": {
      "text/plain": [
       "min    -0.173398\n",
       "max     0.275782\n",
       "mean    0.107905\n",
       "dtype: float64"
      ]
     },
     "execution_count": 60,
     "metadata": {},
     "output_type": "execute_result"
    }
   ],
   "source": [
    "stat_df.mean()"
   ]
  },
  {
   "cell_type": "code",
   "execution_count": null,
   "metadata": {},
   "outputs": [],
   "source": []
  }
 ],
 "metadata": {
  "kernelspec": {
   "display_name": "Python 3",
   "language": "python",
   "name": "python3"
  },
  "language_info": {
   "codemirror_mode": {
    "name": "ipython",
    "version": 3
   },
   "file_extension": ".py",
   "mimetype": "text/x-python",
   "name": "python",
   "nbconvert_exporter": "python",
   "pygments_lexer": "ipython3",
   "version": "3.6.7"
  }
 },
 "nbformat": 4,
 "nbformat_minor": 2
}
