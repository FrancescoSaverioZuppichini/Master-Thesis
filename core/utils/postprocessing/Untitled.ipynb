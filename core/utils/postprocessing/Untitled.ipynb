{
 "cells": [
  {
   "cell_type": "code",
   "execution_count": 7,
   "metadata": {},
   "outputs": [],
   "source": [
    "from __future__ import print_function\n",
    "\n",
    "import os\n",
    "import glob\n",
    "import rosbag\n",
    "import pandas as pd\n",
    "import numpy as np\n",
    "import cv2\n",
    "import time \n",
    "\n",
    "import ipywidgets as widgets\n",
    "import seaborn as sns\n",
    "import matplotlib.pyplot as plt\n",
    "import matplotlib.lines as mlines\n",
    "import matplotlib.patches as mpatches\n",
    "\n",
    "from os import path\n",
    "from functools import reduce\n",
    "from ipywidgets import interact, interactive, fixed, interact_manual\n",
    "\n",
    "from postprocessing import *\n",
    "from matplotlib import gridspec"
   ]
  },
  {
   "cell_type": "code",
   "execution_count": 8,
   "metadata": {},
   "outputs": [],
   "source": [
    "def folder2maps(folder):\n",
    "    maps = glob.glob('/home/francesco/Documents/Master-Thesis/core/maps/{}/*.png'.format(folder))\n",
    "    return maps, list(map(lambda x : path.splitext(path.basename(x))[0], maps))\n",
    "\n",
    "\n",
    "def map2dfs(hm_path, csv_path):\n",
    "    hm = cv2.imread(hm_path)\n",
    "    hm = cv2.cvtColor(hm, cv2.COLOR_BGR2GRAY)\n",
    "    \n",
    "    csvs_dir = csv_path\n",
    "    print(csvs_dir)\n",
    "    csvs_paths = glob.glob(csvs_dir)\n",
    "    \n",
    "    csvs_paths.sort()\n",
    "    \n",
    "    dfs = csvs2dfs(csvs_paths)\n",
    "    print(len(dfs))\n",
    "    return csvs_paths, dfs, hm"
   ]
  },
  {
   "cell_type": "code",
   "execution_count": 10,
   "metadata": {},
   "outputs": [],
   "source": [
    "FOLDER = '92'\n",
    "MODE = 'train'\n",
    "MAP_NAME = 'bars1'"
   ]
  },
  {
   "cell_type": "code",
   "execution_count": 11,
   "metadata": {},
   "outputs": [
    {
     "name": "stdout",
     "output_type": "stream",
     "text": [
      "/home/francesco/Desktop/bars1-run-recorded/csvs-light/bars1/*.csv\n",
      "1\n"
     ]
    }
   ],
   "source": [
    "csvs_paths, dfs, hm  = map2dfs('/home/francesco/Documents/Master-Thesis/core/maps/{}/{}.png'.format(MODE, MAP_NAME)\n",
    "                               , '/home/francesco/Desktop/bars1-run-recorded/csvs-light/{}/*.csv'.format(MAP_NAME)\n",
    "                              )"
   ]
  },
  {
   "cell_type": "code",
   "execution_count": null,
   "metadata": {},
   "outputs": [],
   "source": []
  }
 ],
 "metadata": {
  "kernelspec": {
   "display_name": "Python 3",
   "language": "python",
   "name": "python3"
  },
  "language_info": {
   "codemirror_mode": {
    "name": "ipython",
    "version": 3
   },
   "file_extension": ".py",
   "mimetype": "text/x-python",
   "name": "python",
   "nbconvert_exporter": "python",
   "pygments_lexer": "ipython3",
   "version": "3.6.7"
  }
 },
 "nbformat": 4,
 "nbformat_minor": 2
}
