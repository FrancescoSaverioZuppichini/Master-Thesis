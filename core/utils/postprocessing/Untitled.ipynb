{
 "cells": [
  {
   "cell_type": "code",
   "execution_count": 54,
   "metadata": {},
   "outputs": [],
   "source": [
    "import torch\n",
    "from torch.utils.data import Dataset\n",
    "from utils import files2dfs_maps, df_convert_date2timestamp\n",
    "from bags2csvs import bag2df, bags2dfs\n",
    "\n",
    "import numpy as np\n",
    "import glob\n",
    "import pandas as pd\n",
    "import matplotlib.pyplot as plt\n",
    "\n",
    "import sklearn.pipeline\n",
    "import sklearn.dummy\n",
    "import sklearn.preprocessing\n",
    "import sklearn.metrics.regression\n",
    "from sklearn.metrics import auc, roc_curve\n",
    "import skimage.transform\n"
   ]
  },
  {
   "cell_type": "code",
   "execution_count": 4,
   "metadata": {},
   "outputs": [
    {
     "name": "stdout",
     "output_type": "stream",
     "text": [
      "['/home/francesco/Desktop/carino/vaevictis/data/bag//flat/1542573200.115245.bag', '/home/francesco/Desktop/carino/vaevictis/data/bag//flat/1542573220.5950947.bag', '/home/francesco/Desktop/carino/vaevictis/data/bag//flat/1542573239.7535734.bag', '/home/francesco/Desktop/carino/vaevictis/data/bag//flat/1542573259.413545.bag', '/home/francesco/Desktop/carino/vaevictis/data/bag//flat/1542573279.9246588.bag', '/home/francesco/Desktop/carino/vaevictis/data/bag//flat/1542573300.419159.bag', '/home/francesco/Desktop/carino/vaevictis/data/bag//flat/1542573320.6889715.bag', '/home/francesco/Desktop/carino/vaevictis/data/bag//flat/1542573339.5792696.bag', '/home/francesco/Desktop/carino/vaevictis/data/bag//flat/1542573358.0218253.bag', '/home/francesco/Desktop/carino/vaevictis/data/bag//flat/1542573378.4530427.bag']\n"
     ]
    }
   ],
   "source": [
    "DATASET_FOLDER = '/home/francesco/Desktop/carino/vaevictis/data/bag/'\n",
    "\n",
    "csv_paths = glob.glob(DATASET_FOLDER + '/flat/*.bag')\n",
    "print(csv_paths)\n",
    "data = bags2dfs(csv_paths)[0]"
   ]
  },
  {
   "cell_type": "code",
   "execution_count": 26,
   "metadata": {},
   "outputs": [
    {
     "data": {
      "text/plain": [
       "Index(['datepose__pose_position_x', 'datepose__pose_position_y',\n",
       "       'datepose__pose_position_z', 'datepose__pose_orientation_x',\n",
       "       'datepose__pose_orientation_y', 'datepose__pose_orientation_z',\n",
       "       'datepose__pose_orientation_w'],\n",
       "      dtype='object')"
      ]
     },
     "execution_count": 26,
     "metadata": {},
     "output_type": "execute_result"
    }
   ],
   "source": [
    "df.columns[-1:] + df.columns[:-1]"
   ]
  },
  {
   "cell_type": "code",
   "execution_count": 68,
   "metadata": {
    "scrolled": false
   },
   "outputs": [
    {
     "data": {
      "text/plain": [
       "(0.0019967410100018694, 6.80115369527033e-07, 0.0012452060928795285)"
      ]
     },
     "execution_count": 68,
     "metadata": {},
     "output_type": "execute_result"
    }
   ],
   "source": [
    "DATASET_FOLDER = '/home/francesco/Desktop/carino/vaevictis/data/csv/'\n",
    "\n",
    "csv_paths = glob.glob(DATASET_FOLDER + '/flat/*.csv')\n",
    "\n",
    "df = pd.read_csv(csv_paths[0])\n",
    "\n",
    "df = df_convert_date2timestamp(df)\n",
    "\n",
    "def get_pose(row):\n",
    "    return (row['pose__pose_position_x'], row['pose__pose_position_y'])\n",
    "\n",
    "dists = []\n",
    "vels = []\n",
    "\n",
    "for i in range(1, len(df)):\n",
    "    p1 = get_pose(df.iloc[i-1])\n",
    "    p2 = get_pose(df.iloc[i])\n",
    "    \n",
    "    t1 = df.iloc[i - 1]['Unnamed: 0']\n",
    "    t2 = df.iloc[i]['Unnamed: 0']\n",
    "    \n",
    "    dist = np.sqrt((p2[0] - p1[0])**2 + (p2[1] - p1[1])**2)\n",
    "    vel = dist/ (t2 - t1)\n",
    "    \n",
    "    dists.append(dist)\n",
    "    vels.append(vel)\n",
    "\n",
    "dists.append(None)\n",
    "vels.append(None)\n",
    "\n",
    "df['distance'] = dists\n",
    "df['velocity'] = dists\n",
    "\n",
    "df['velocity'].max(), df['velocity'].min(), df['velocity'].mean()"
   ]
  },
  {
   "cell_type": "code",
   "execution_count": 133,
   "metadata": {
    "scrolled": true
   },
   "outputs": [
    {
     "data": {
      "text/plain": [
       "0.06199238645897677"
      ]
     },
     "execution_count": 133,
     "metadata": {},
     "output_type": "execute_result"
    }
   ],
   "source": [
    "tot = 0\n",
    "for df, _, _ in data:\n",
    "#     df, _, _ = data[1]\n",
    "    df\n",
    "\n",
    "    x1 = df['pose__pose_position_x'].values\n",
    "\n",
    "    x2 = np.roll(x1, -100) \n",
    "\n",
    "    x1 = np.delete(x1, x1.shape[0] - 1)\n",
    "    x2 = np.delete(x2, x1.shape[0] - 1)\n",
    "    \n",
    "    speed = (x2 - x1).mean() *100\n",
    "    tot += speed\n",
    "    \n",
    "tot / len(data)"
   ]
  },
  {
   "cell_type": "code",
   "execution_count": 87,
   "metadata": {},
   "outputs": [
    {
     "data": {
      "text/plain": [
       "(array([1, 2]), array([2, 3]))"
      ]
     },
     "execution_count": 87,
     "metadata": {},
     "output_type": "execute_result"
    }
   ],
   "source": [
    "x = np.array([1,2,3])\n",
    "\n",
    "np.delete(x, x.shape[0] - 1), np.delete(np.roll(x, -1), x.shape[0] - 1) "
   ]
  },
  {
   "cell_type": "code",
   "execution_count": 136,
   "metadata": {},
   "outputs": [],
   "source": [
    "DATASET_FOLDER = '/home/francesco/Desktop/carino/vaevictis/data/dataset/'\n",
    "MAPS_FOLDER = '/home/francesco/Desktop/carino/vaevictis/data/maps/'\n",
    "\n",
    "csv_paths = glob.glob(DATASET_FOLDER + '/*/**.csv')"
   ]
  },
  {
   "cell_type": "code",
   "execution_count": 143,
   "metadata": {},
   "outputs": [],
   "source": [
    "import torch\n",
    "from torch.utils.data import Dataset\n",
    "from utils.postprocessing.utils import files2dfs_maps\n",
    "import numpy as np\n",
    "import glob\n",
    "\n",
    "import sklearn.pipeline\n",
    "import sklearn.dummy\n",
    "import sklearn.preprocessing\n",
    "import sklearn.metrics.regression\n",
    "from sklearn.metrics import auc, roc_curve\n",
    "import skimage.transform\n",
    "\n",
    "\n",
    "class TraversabilityDataset(Dataset):\n",
    "    def __init__(self, data, patch_size=80):\n",
    "        self.data = data\n",
    "        self.patch_size = patch_size\n",
    "        self.inputs = []\n",
    "        self.targets = []\n",
    "\n",
    "        for df, hm in self.data:\n",
    "            if len(df) == 0: continue\n",
    "            im, l = self.sample(df, hm, patch_size)\n",
    "            self.inputs.append(im[:, :, np.newaxis])\n",
    "            self.targets.append(l)\n",
    "\n",
    "        self.inputs = np.array( self.inputs).astype('float32')\n",
    "        self.targets = np.array(self.targets).astype('int')\n",
    "\n",
    "    def sample(self, df, hm, sz):\n",
    "        d = df.sample(1)\n",
    "        l = d[\"label\"].iloc[0]\n",
    "        # hm = hms[d[\"hm\"].iloc[0]]\n",
    "        patch = self.hmpatch(hm, d[\"hm_x\"].iloc[0], d[\"hm_y\"].iloc[0], np.rad2deg(d[\"pose__pose_e_orientation_z\"].iloc[0]),\n",
    "                     self.patch_size, scale=1)[0]\n",
    "        patch = self.transform_patch(patch, sz)\n",
    "        return patch, l\n",
    "\n",
    "    def hmpatch(self, hm, x, y, alpha, edge, scale=1):\n",
    "        # Cutout a patch from the image, centered on (x,y), rotated by alpha\n",
    "        # degrees (0 means bottom in hm remains bottom in patch, 90 means bottom in hm becomes right in patch),\n",
    "        # with a specified edge size (in pixels) and scale (relative).\n",
    "        tf1 = skimage.transform.SimilarityTransform(translation=[-x, -y])\n",
    "        tf2 = skimage.transform.SimilarityTransform(rotation=np.deg2rad(alpha))\n",
    "        tf3 = skimage.transform.SimilarityTransform(scale=scale)\n",
    "        tf4 = skimage.transform.SimilarityTransform(translation=[+edge / 2, +edge / 2])\n",
    "        tf = (tf1 + (tf2 + (tf3 + tf4))).inverse\n",
    "        # corners=tf(np.array([[0,0],[1,0],[1,1],[0,1]])*edge)\n",
    "        corners = tf(np.array([[0, 0], [1, 0], [1, 1], [0, 1], [0.5, 0.5]]) * edge)\n",
    "        patch = skimage.transform.warp(hm, tf, output_shape=(edge, edge), mode=\"edge\")\n",
    "        return patch, corners\n",
    "\n",
    "    def transform_patch(self, patch, sz):\n",
    "        t_patch = patch - patch[patch.shape[0] // 2, patch.shape[1] // 2]\n",
    "        t_patch = skimage.transform.resize(t_patch, (self.patch_size, self.patch_size), mode='constant')\n",
    "        return t_patch\n",
    "\n",
    "    def __getitem__(self, item):\n",
    "\n",
    "        return self.inputs[item], self.targets[item]\n",
    "\n",
    "    def __len__(self):\n",
    "        return len(self.targets)\n",
    "\n",
    "DATASET_FOLDER = '/home/francesco/Desktop/carino/vaevictis/data/dataset/'\n",
    "MAPS_FOLDER = '/home/francesco/Desktop/carino/vaevictis/data/maps/'\n",
    "\n",
    "csv_paths = glob.glob(DATASET_FOLDER + '/flat/*.csv')\n"
   ]
  },
  {
   "cell_type": "code",
   "execution_count": 144,
   "metadata": {},
   "outputs": [
    {
     "data": {
      "text/plain": [
       "['/home/francesco/Desktop/carino/vaevictis/data/dataset//flat/1542573200.115245.csv',\n",
       " '/home/francesco/Desktop/carino/vaevictis/data/dataset//flat/1542573220.5950947.csv',\n",
       " '/home/francesco/Desktop/carino/vaevictis/data/dataset//flat/1542573239.7535734.csv',\n",
       " '/home/francesco/Desktop/carino/vaevictis/data/dataset//flat/1542573259.413545.csv',\n",
       " '/home/francesco/Desktop/carino/vaevictis/data/dataset//flat/1542573279.9246588.csv',\n",
       " '/home/francesco/Desktop/carino/vaevictis/data/dataset//flat/1542573300.419159.csv',\n",
       " '/home/francesco/Desktop/carino/vaevictis/data/dataset//flat/1542573320.6889715.csv',\n",
       " '/home/francesco/Desktop/carino/vaevictis/data/dataset//flat/1542573339.5792696.csv',\n",
       " '/home/francesco/Desktop/carino/vaevictis/data/dataset//flat/1542573358.0218253.csv',\n",
       " '/home/francesco/Desktop/carino/vaevictis/data/dataset//flat/1542573378.4530427.csv']"
      ]
     },
     "execution_count": 144,
     "metadata": {},
     "output_type": "execute_result"
    }
   ],
   "source": [
    "csv_paths"
   ]
  },
  {
   "cell_type": "code",
   "execution_count": 145,
   "metadata": {},
   "outputs": [
    {
     "name": "stdout",
     "output_type": "stream",
     "text": [
      "10\n"
     ]
    }
   ],
   "source": [
    "dfs_maps = files2dfs_maps(csv_paths)\n",
    "print(len(dfs_maps))"
   ]
  },
  {
   "cell_type": "code",
   "execution_count": 146,
   "metadata": {},
   "outputs": [
    {
     "name": "stdout",
     "output_type": "stream",
     "text": [
      "10\n"
     ]
    }
   ],
   "source": [
    "ds = TraversabilityDataset(dfs_maps)\n",
    "print(len(ds))"
   ]
  },
  {
   "cell_type": "code",
   "execution_count": 147,
   "metadata": {
    "scrolled": false
   },
   "outputs": [
    {
     "data": {
      "image/png": "[encoded data removed]",
      "text/plain": [
       "<Figure size 432x288 with 1 Axes>"
      ]
     },
     "metadata": {
      "needs_background": "light"
     },
     "output_type": "display_data"
    },
    {
     "data": {
      "image/png": "[encoded data removed]",
      "text/plain": [
       "<Figure size 432x288 with 1 Axes>"
      ]
     },
     "metadata": {
      "needs_background": "light"
     },
     "output_type": "display_data"
    },
    {
     "data": {
      "image/png": "[encoded data removed]",
      "text/plain": [
       "<Figure size 432x288 with 1 Axes>"
      ]
     },
     "metadata": {
      "needs_background": "light"
     },
     "output_type": "display_data"
    },
    {
     "data": {
      "image/png": "[encoded data removed]",
      "text/plain": [
       "<Figure size 432x288 with 1 Axes>"
      ]
     },
     "metadata": {
      "needs_background": "light"
     },
     "output_type": "display_data"
    },
    {
     "data": {
      "image/png": "[encoded data removed]",
      "text/plain": [
       "<Figure size 432x288 with 1 Axes>"
      ]
     },
     "metadata": {
      "needs_background": "light"
     },
     "output_type": "display_data"
    },
    {
     "data": {
      "image/png": "[encoded data removed]",
      "text/plain": [
       "<Figure size 432x288 with 1 Axes>"
      ]
     },
     "metadata": {
      "needs_background": "light"
     },
     "output_type": "display_data"
    },
    {
     "data": {
      "image/png": "[encoded data removed]",
      "text/plain": [
       "<Figure size 432x288 with 1 Axes>"
      ]
     },
     "metadata": {
      "needs_background": "light"
     },
     "output_type": "display_data"
    },
    {
     "data": {
      "image/png": "[encoded data removed]",
      "text/plain": [
       "<Figure size 432x288 with 1 Axes>"
      ]
     },
     "metadata": {
      "needs_background": "light"
     },
     "output_type": "display_data"
    },
    {
     "data": {
      "image/png": "[encoded data removed]",
      "text/plain": [
       "<Figure size 432x288 with 1 Axes>"
      ]
     },
     "metadata": {
      "needs_background": "light"
     },
     "output_type": "display_data"
    },
    {
     "data": {
      "image/png": "[encoded data removed]",
      "text/plain": [
       "<Figure size 432x288 with 1 Axes>"
      ]
     },
     "metadata": {
      "needs_background": "light"
     },
     "output_type": "display_data"
    }
   ],
   "source": [
    "\n",
    "for i in range(10):\n",
    "    x, y = ds[i]\n",
    "\n",
    "    plt.title(bool(y))\n",
    "    plt.imshow(x.squeeze())\n",
    "    plt.show()\n"
   ]
  },
  {
   "cell_type": "code",
   "execution_count": null,
   "metadata": {},
   "outputs": [],
   "source": []
  }
 ],
 "metadata": {
  "kernelspec": {
   "display_name": "Python 3",
   "language": "python",
   "name": "python3"
  },
  "language_info": {
   "codemirror_mode": {
    "name": "ipython",
    "version": 3
   },
   "file_extension": ".py",
   "mimetype": "text/x-python",
   "name": "python",
   "nbconvert_exporter": "python",
   "pygments_lexer": "ipython3",
   "version": "3.6.7"
  }
 },
 "nbformat": 4,
 "nbformat_minor": 2
}
